{
 "cells": [
  {
   "cell_type": "code",
   "execution_count": 1,
   "metadata": {},
   "outputs": [],
   "source": [
    "import numpy as np\n",
    "import pandas as pd\n",
    "from matplotlib import pyplot as plt\n",
    "import seaborn as sns"
   ]
  },
  {
   "cell_type": "code",
   "execution_count": 2,
   "metadata": {},
   "outputs": [],
   "source": [
    "sns.set()\n",
    "\n",
    "# 支持中文\n",
    "# 就是那个文件的文件名，记得对照大小写\n",
    "plt.rcParams['font.sans-serif'] = ['SimHei']  # 用来正常显示中文标签\n",
    "plt.rcParams['axes.unicode_minus'] = False  # 用来正常显示负号\n",
    "\n",
    "%matplotlib inline"
   ]
  },
  {
   "cell_type": "markdown",
   "metadata": {},
   "source": [
    "朴素贝叶斯的原理比较简单，带入公式计算即可。"
   ]
  },
  {
   "cell_type": "markdown",
   "metadata": {},
   "source": [
    "##  连续值"
   ]
  },
  {
   "cell_type": "markdown",
   "metadata": {},
   "source": [
    "### 数据"
   ]
  },
  {
   "cell_type": "code",
   "execution_count": 3,
   "metadata": {},
   "outputs": [],
   "source": [
    "from sklearn import datasets"
   ]
  },
  {
   "cell_type": "code",
   "execution_count": 4,
   "metadata": {},
   "outputs": [],
   "source": [
    "iris = datasets.load_iris()\n",
    "data = iris.data # 只包括样本的特征，150x4\n",
    "y = iris.target # 样本的类型，[0, 1, 2]\n",
    "features = iris.feature_names  # 4个特征的名称\n",
    "targets = iris.target_names  # 3类鸢尾花的名称，跟y中的3个数字对应"
   ]
  },
  {
   "cell_type": "code",
   "execution_count": 5,
   "metadata": {},
   "outputs": [
    {
     "data": {
      "text/html": [
       "<div>\n",
       "<style scoped>\n",
       "    .dataframe tbody tr th:only-of-type {\n",
       "        vertical-align: middle;\n",
       "    }\n",
       "\n",
       "    .dataframe tbody tr th {\n",
       "        vertical-align: top;\n",
       "    }\n",
       "\n",
       "    .dataframe thead th {\n",
       "        text-align: right;\n",
       "    }\n",
       "</style>\n",
       "<table border=\"1\" class=\"dataframe\">\n",
       "  <thead>\n",
       "    <tr style=\"text-align: right;\">\n",
       "      <th></th>\n",
       "      <th>sepal_length</th>\n",
       "      <th>sepal_width</th>\n",
       "      <th>petal_length</th>\n",
       "      <th>petal_width</th>\n",
       "      <th>label</th>\n",
       "      <th>target</th>\n",
       "    </tr>\n",
       "  </thead>\n",
       "  <tbody>\n",
       "    <tr>\n",
       "      <th>0</th>\n",
       "      <td>5.1</td>\n",
       "      <td>3.5</td>\n",
       "      <td>1.4</td>\n",
       "      <td>0.2</td>\n",
       "      <td>0</td>\n",
       "      <td>setosa</td>\n",
       "    </tr>\n",
       "    <tr>\n",
       "      <th>1</th>\n",
       "      <td>4.9</td>\n",
       "      <td>3.0</td>\n",
       "      <td>1.4</td>\n",
       "      <td>0.2</td>\n",
       "      <td>0</td>\n",
       "      <td>setosa</td>\n",
       "    </tr>\n",
       "    <tr>\n",
       "      <th>2</th>\n",
       "      <td>4.7</td>\n",
       "      <td>3.2</td>\n",
       "      <td>1.3</td>\n",
       "      <td>0.2</td>\n",
       "      <td>0</td>\n",
       "      <td>setosa</td>\n",
       "    </tr>\n",
       "    <tr>\n",
       "      <th>3</th>\n",
       "      <td>4.6</td>\n",
       "      <td>3.1</td>\n",
       "      <td>1.5</td>\n",
       "      <td>0.2</td>\n",
       "      <td>0</td>\n",
       "      <td>setosa</td>\n",
       "    </tr>\n",
       "    <tr>\n",
       "      <th>4</th>\n",
       "      <td>5.0</td>\n",
       "      <td>3.6</td>\n",
       "      <td>1.4</td>\n",
       "      <td>0.2</td>\n",
       "      <td>0</td>\n",
       "      <td>setosa</td>\n",
       "    </tr>\n",
       "  </tbody>\n",
       "</table>\n",
       "</div>"
      ],
      "text/plain": [
       "   sepal_length  sepal_width  petal_length  petal_width  label  target\n",
       "0           5.1          3.5           1.4          0.2      0  setosa\n",
       "1           4.9          3.0           1.4          0.2      0  setosa\n",
       "2           4.7          3.2           1.3          0.2      0  setosa\n",
       "3           4.6          3.1           1.5          0.2      0  setosa\n",
       "4           5.0          3.6           1.4          0.2      0  setosa"
      ]
     },
     "execution_count": 5,
     "metadata": {},
     "output_type": "execute_result"
    }
   ],
   "source": [
    "df = pd.DataFrame(data, columns=[\"sepal_length\", \"sepal_width\", \"petal_length\", \"petal_width\"])\n",
    "df[\"label\"] = y\n",
    "df[\"target\"] = df[\"label\"].map(lambda x: targets[x])\n",
    "df.head()"
   ]
  },
  {
   "cell_type": "code",
   "execution_count": 6,
   "metadata": {},
   "outputs": [
    {
     "data": {
      "text/plain": [
       "setosa        50\n",
       "versicolor    50\n",
       "virginica     50\n",
       "Name: target, dtype: int64"
      ]
     },
     "execution_count": 6,
     "metadata": {},
     "output_type": "execute_result"
    }
   ],
   "source": [
    "df[\"target\"].value_counts()"
   ]
  },
  {
   "cell_type": "code",
   "execution_count": 7,
   "metadata": {},
   "outputs": [
    {
     "data": {
      "image/png": "[encoded data removed]",
      "text/plain": [
       "<Figure size 1152x720 with 4 Axes>"
      ]
     },
     "metadata": {
      "needs_background": "light"
     },
     "output_type": "display_data"
    }
   ],
   "source": [
    "# 看看所有属性的分布，明显是符合高斯分布的\n",
    "fig, axs =plt.subplots(2,2,figsize=(16,10))\n",
    "\n",
    "columns = [['sepal_length', 'sepal_width'],['petal_length', 'petal_width']]\n",
    "\n",
    "for row_index,row in enumerate(columns):\n",
    "    for col_index,col in enumerate(row):\n",
    "        ax = axs[row_index, col_index]\n",
    "        sns.distplot(df[col][df[\"target\"]==\"setosa\"], ax=ax)\n",
    "        sns.distplot(df[col][df[\"target\"]==\"versicolor\"], ax=ax)\n",
    "        sns.distplot(df[col][df[\"target\"]==\"virginica\"], ax=ax)\n",
    "        ax.legend(['setosa', 'versicolor', 'virginica'])"
   ]
  },
  {
   "cell_type": "markdown",
   "metadata": {},
   "source": [
    "### 划分train, test\n",
    "保证每次分的数据都一样。"
   ]
  },
  {
   "cell_type": "code",
   "execution_count": 8,
   "metadata": {},
   "outputs": [],
   "source": [
    "from sklearn.model_selection import train_test_split"
   ]
  },
  {
   "cell_type": "code",
   "execution_count": 9,
   "metadata": {},
   "outputs": [
    {
     "data": {
      "text/plain": [
       "(array([[6.4, 3.1, 5.5, 1.8],\n",
       "        [5.4, 3. , 4.5, 1.5],\n",
       "        [5.2, 3.5, 1.5, 0.2],\n",
       "        [6.1, 3. , 4.9, 1.8],\n",
       "        [6.4, 2.8, 5.6, 2.2]]), array([2, 1, 0, 2, 2]))"
      ]
     },
     "execution_count": 9,
     "metadata": {},
     "output_type": "execute_result"
    }
   ],
   "source": [
    "# 设置random_state，保证每次数据一样\n",
    "X_train, X_test, y_train, y_test = train_test_split(data, y, test_size=0.2, random_state=0)\n",
    "X_train[:5], y_train[:5]"
   ]
  },
  {
   "cell_type": "code",
   "execution_count": 10,
   "metadata": {},
   "outputs": [
    {
     "data": {
      "text/plain": [
       "2    44\n",
       "0    39\n",
       "1    37\n",
       "dtype: int64"
      ]
     },
     "execution_count": 10,
     "metadata": {},
     "output_type": "execute_result"
    }
   ],
   "source": [
    "pd.Series(y_train).value_counts()"
   ]
  },
  {
   "cell_type": "markdown",
   "metadata": {},
   "source": [
    "### 使用sklearn的GaussianNB"
   ]
  },
  {
   "cell_type": "code",
   "execution_count": 11,
   "metadata": {},
   "outputs": [],
   "source": [
    "from sklearn.naive_bayes import GaussianNB"
   ]
  },
  {
   "cell_type": "code",
   "execution_count": 12,
   "metadata": {},
   "outputs": [
    {
     "data": {
      "text/plain": [
       "0.9666666666666667"
      ]
     },
     "execution_count": 12,
     "metadata": {},
     "output_type": "execute_result"
    }
   ],
   "source": [
    "# 1/3 = 0.3333333333333333\n",
    "# priors先验概率，这个我们已经知道了，根据总的数据集。怕划分的测试集不均衡。\n",
    "gs_nb = GaussianNB(priors=[1/3, 1/3, 1/3])\n",
    "gs_nb.fit(X_train, y_train)\n",
    "gs_nb.score(X_test,y_test)"
   ]
  },
  {
   "cell_type": "code",
   "execution_count": 13,
   "metadata": {},
   "outputs": [
    {
     "data": {
      "text/plain": [
       "array([[1.84326961e-232, 2.60287765e-006, 9.99997397e-001],\n",
       "       [1.73274264e-082, 9.99998574e-001, 1.42633685e-006],\n",
       "       [1.00000000e+000, 7.48642430e-019, 3.23921414e-028],\n",
       "       [1.78829798e-305, 1.24447458e-006, 9.99998756e-001],\n",
       "       [1.00000000e+000, 9.05610204e-017, 3.74186718e-027]])"
      ]
     },
     "execution_count": 13,
     "metadata": {},
     "output_type": "execute_result"
    }
   ],
   "source": [
    "# 返回概率\n",
    "gs_nb.predict_proba(X_test)[0:5]"
   ]
  },
  {
   "cell_type": "code",
   "execution_count": 14,
   "metadata": {},
   "outputs": [
    {
     "data": {
      "text/plain": [
       "(array([2, 1, 0, 2, 0, 2, 0, 1, 1, 1, 1, 1, 1, 1, 1, 0, 1, 1, 0, 0, 2, 1,\n",
       "        0, 0, 2, 0, 0, 1, 1, 0], dtype=int64),\n",
       " array([2, 1, 0, 2, 0, 2, 0, 1, 1, 1, 1, 1, 1, 1, 1, 0, 1, 1, 0, 0, 2, 1,\n",
       "        0, 0, 2, 0, 0, 1, 1, 0]))"
      ]
     },
     "execution_count": 14,
     "metadata": {},
     "output_type": "execute_result"
    }
   ],
   "source": [
    "gs_nb.predict_proba(X_test).argmax(axis=1), gs_nb.predict(X_test)"
   ]
  },
  {
   "cell_type": "code",
   "execution_count": 15,
   "metadata": {},
   "outputs": [
    {
     "data": {
      "text/plain": [
       "(array([2, 1, 0, 2, 0, 2, 0, 1, 1, 1, 1, 1, 1, 1, 1, 0, 1, 1, 0, 0, 2, 1,\n",
       "        0, 0, 2, 0, 0, 1, 1, 0]),\n",
       " array([2, 1, 0, 2, 0, 2, 0, 1, 1, 1, 2, 1, 1, 1, 1, 0, 1, 1, 0, 0, 2, 1,\n",
       "        0, 0, 2, 0, 0, 1, 1, 0]))"
      ]
     },
     "execution_count": 15,
     "metadata": {},
     "output_type": "execute_result"
    }
   ],
   "source": [
    "gs_nb.predict(X_test), y_test"
   ]
  },
  {
   "cell_type": "code",
   "execution_count": 16,
   "metadata": {},
   "outputs": [
    {
     "data": {
      "text/plain": [
       "0.9666666666666667"
      ]
     },
     "execution_count": 16,
     "metadata": {},
     "output_type": "execute_result"
    }
   ],
   "source": [
    "# 随机划分的测试集概率差不多\n",
    "gs_nb = GaussianNB()\n",
    "gs_nb.fit(X_train, y_train)\n",
    "gs_nb.score(X_test,y_test)"
   ]
  },
  {
   "cell_type": "code",
   "execution_count": 17,
   "metadata": {},
   "outputs": [
    {
     "data": {
      "text/plain": [
       "1.0"
      ]
     },
     "execution_count": 17,
     "metadata": {},
     "output_type": "execute_result"
    }
   ],
   "source": [
    "# 和knn的结果一样，后两个特征更容易区分\n",
    "gs_nb = GaussianNB(priors=[1/3, 1/3, 1/3])\n",
    "gs_nb.fit(X_train[:,2:], y_train)\n",
    "gs_nb.score(X_test[:,2:],y_test)"
   ]
  },
  {
   "cell_type": "code",
   "execution_count": 18,
   "metadata": {},
   "outputs": [
    {
     "data": {
      "text/plain": [
       "1.0"
      ]
     },
     "execution_count": 18,
     "metadata": {},
     "output_type": "execute_result"
    }
   ],
   "source": [
    "gs_nb = GaussianNB()\n",
    "gs_nb.fit(X_train[:,2:], y_train)\n",
    "gs_nb.score(X_test[:,2:],y_test)"
   ]
  },
  {
   "cell_type": "code",
   "execution_count": 19,
   "metadata": {},
   "outputs": [
    {
     "data": {
      "text/plain": [
       "0.7333333333333333"
      ]
     },
     "execution_count": 19,
     "metadata": {},
     "output_type": "execute_result"
    }
   ],
   "source": [
    "# 前两个特征相对不是很重要\n",
    "gs_nb = GaussianNB()\n",
    "gs_nb.fit(X_train[:,:2], y_train)\n",
    "gs_nb.score(X_test[:,:2],y_test)"
   ]
  },
  {
   "cell_type": "markdown",
   "metadata": {},
   "source": [
    "### 手动实现"
   ]
  },
  {
   "cell_type": "markdown",
   "metadata": {},
   "source": [
    "自己根据概率公式计算一下。"
   ]
  },
  {
   "cell_type": "code",
   "execution_count": 20,
   "metadata": {},
   "outputs": [
    {
     "data": {
      "text/plain": [
       "(array([5.88083333, 3.05333333, 3.81583333, 1.23166667]),\n",
       " array([0.84688604, 0.43010335, 1.77745116, 0.7721165 ]))"
      ]
     },
     "execution_count": 20,
     "metadata": {},
     "output_type": "execute_result"
    }
   ],
   "source": [
    "# 这个求的整体的\n",
    "X_train.mean(axis=0), X_train.std(axis=0)"
   ]
  },
  {
   "cell_type": "code",
   "execution_count": 21,
   "metadata": {},
   "outputs": [],
   "source": [
    "# 分母：P(x1,x2,x3,x4)，分子：P(Y)*P(x1|Y)*P(x2|Y)*P(x3|Y)*P(x3|Y)\n",
    "# 分母一样其实求不求都行\n"
   ]
  },
  {
   "cell_type": "code",
   "execution_count": 22,
   "metadata": {},
   "outputs": [],
   "source": [
    "# 应该是需要每个类别的\n",
    "probs = []\n",
    "for i in [0,1,2]:\n",
    "    mask = y_train == i\n",
    "    X_label = X_train[mask]\n",
    "    u, r = X_label.mean(axis=0), X_label.std(axis=0)\n",
    "    \n",
    "    x_probs = 1/np.sqrt(2*np.pi)/r * (np.exp( -(X_test - u)**2/(2*r**2) ))    \n",
    "    prob = x_probs.prod(axis=1) / (3 * 3)\n",
    "    probs.append(prob.reshape(-1, 1))"
   ]
  },
  {
   "cell_type": "code",
   "execution_count": 23,
   "metadata": {},
   "outputs": [
    {
     "data": {
      "text/plain": [
       "array([[1.52566019e-234, 2.15461640e-008, 8.27781139e-003],\n",
       "       [1.61376330e-084, 9.31363035e-003, 1.32843877e-008],\n",
       "       [5.09587561e-002, 3.81498178e-020, 1.65066011e-029],\n",
       "       [2.58779766e-307, 1.80106253e-008, 1.44724603e-002],\n",
       "       [1.23335849e+000, 1.11694020e-016, 4.61505538e-027]])"
      ]
     },
     "execution_count": 23,
     "metadata": {},
     "output_type": "execute_result"
    }
   ],
   "source": [
    "np.hstack(probs)[:5]"
   ]
  },
  {
   "cell_type": "code",
   "execution_count": 24,
   "metadata": {},
   "outputs": [
    {
     "data": {
      "text/plain": [
       "(array([2, 1, 0, 2, 0, 2, 0, 1, 1, 1, 1, 1, 1, 1, 1, 0, 1, 1, 0, 0, 2, 1,\n",
       "        0, 0, 2, 0, 0, 1, 1, 0], dtype=int64),\n",
       " array([2, 1, 0, 2, 0, 2, 0, 1, 1, 1, 2, 1, 1, 1, 1, 0, 1, 1, 0, 0, 2, 1,\n",
       "        0, 0, 2, 0, 0, 1, 1, 0]))"
      ]
     },
     "execution_count": 24,
     "metadata": {},
     "output_type": "execute_result"
    }
   ],
   "source": [
    "np.hstack(probs).argmax(axis=1), y_test"
   ]
  },
  {
   "cell_type": "code",
   "execution_count": 25,
   "metadata": {},
   "outputs": [
    {
     "data": {
      "text/plain": [
       "array([ True,  True,  True,  True,  True,  True,  True,  True,  True,\n",
       "        True, False,  True,  True,  True,  True,  True,  True,  True,\n",
       "        True,  True,  True,  True,  True,  True,  True,  True,  True,\n",
       "        True,  True,  True])"
      ]
     },
     "execution_count": 25,
     "metadata": {},
     "output_type": "execute_result"
    }
   ],
   "source": [
    "np.hstack(probs).argmax(axis=1) == y_test"
   ]
  },
  {
   "cell_type": "code",
   "execution_count": 26,
   "metadata": {},
   "outputs": [
    {
     "data": {
      "text/plain": [
       "0.9666666666666667"
      ]
     },
     "execution_count": 26,
     "metadata": {},
     "output_type": "execute_result"
    }
   ],
   "source": [
    "(np.hstack(probs).argmax(axis=1) == y_test).mean()"
   ]
  },
  {
   "cell_type": "code",
   "execution_count": 27,
   "metadata": {},
   "outputs": [
    {
     "data": {
      "text/plain": [
       "array([[1.46738183e-232, 2.07231269e-006, 7.96160912e-001],\n",
       "       [2.42114554e-082, 1.39733346e+000, 1.99307023e-006],\n",
       "       [2.39109035e+002, 1.79006845e-016, 7.74523903e-026],\n",
       "       [7.71517073e-305, 5.36962573e-006, 4.31476941e+000],\n",
       "       [3.30059106e+002, 2.98904402e-014, 1.23503512e-024]])"
      ]
     },
     "execution_count": 27,
     "metadata": {},
     "output_type": "execute_result"
    }
   ],
   "source": [
    "# 概率就是这么算的，和sklearn差的比例是一样的。\n",
    "# 分母：P(x1,x2,x3,x4)，分子：P(Y)*P(x1|Y)*P(x2|Y)*P(x3|Y)*P(x3|Y)\n",
    "\n",
    "probs = []\n",
    "\n",
    "u, r = X_train.mean(axis=0), X_train.std(axis=0)\n",
    "# 特征独立假设，整体假设也是正态分布\n",
    "# 分母：P(x1,x2,x3,x4) = P(x1)*P(x2)*P(x3)*P(x4)\n",
    "p = ( 1/np.sqrt(2*np.pi)/r * (np.exp( -(X_test - u)**2/(2*r**2) )) ).prod(axis=1)\n",
    "\n",
    "for i in [0,1,2]:\n",
    "    mask = y_train == i\n",
    "    X_label = X_train[mask]\n",
    "    u, r = X_label.mean(axis=0), X_label.std(axis=0)    \n",
    "    x_probs = 1/np.sqrt(2*np.pi)/r * (np.exp( -(X_test - u)**2/(2*r**2) ))\n",
    "    prob = x_probs.prod(axis=1) / (3 * 3) / p\n",
    "    probs.append(prob.reshape(-1, 1))\n",
    "    \n",
    "probs = np.hstack(probs)\n",
    "probs[:5]"
   ]
  },
  {
   "cell_type": "markdown",
   "metadata": {},
   "source": [
    "```\n",
    "[[1.84326961e-232, 2.60287765e-006, 9.99997397e-001],\n",
    "[1.73274264e-082, 9.99998574e-001, 1.42633685e-006],\n",
    "[1.00000000e+000, 7.48642430e-019, 3.23921414e-028],\n",
    "[1.78829798e-305, 1.24447458e-006, 9.99998756e-001],\n",
    "[1.00000000e+000, 9.05610204e-017, 3.74186718e-027]]\n",
    "```"
   ]
  },
  {
   "cell_type": "code",
   "execution_count": 28,
   "metadata": {
    "code_folding": []
   },
   "outputs": [
    {
     "data": {
      "text/plain": [
       "array([[2.04785237e-233, 2.89208327e-007, 1.11110822e-001],\n",
       "       [1.92520823e-083, 1.11110953e-001, 1.58481807e-007],\n",
       "       [1.11111111e-001, 8.31823414e-020, 3.59912001e-029],\n",
       "       [1.98675768e-306, 1.38274907e-007, 1.11110973e-001],\n",
       "       [1.11111111e-001, 1.00623190e-017, 4.15762273e-028]])"
      ]
     },
     "execution_count": 28,
     "metadata": {},
     "output_type": "execute_result"
    }
   ],
   "source": [
    "# 分母：P(x1,x2,x3,x4)，分子：P(Y)*P(x1|Y)*P(x2|Y)*P(x3|Y)*P(x3|Y)\n",
    "\n",
    "probs = []\n",
    "\n",
    "ps = []\n",
    "for i in [0,1,2]:\n",
    "    mask = y_train == i\n",
    "    X_label = X_train[mask]\n",
    "    u, r = X_label.mean(axis=0), X_label.std(axis=0)\n",
    "    # 全概率公式+条件特征独立假设\n",
    "    p = ( 1/np.sqrt(2*np.pi)/r * (np.exp( -(X_test - u)**2/(2*r**2) )) ).prod(axis=1)\n",
    "    ps.append(p.reshape(-1, 1))\n",
    "\n",
    "# 全概率公式\n",
    "# 分母：P(x1,x2,x3,x4) = P(x1,x2,x3,x4|Y=0) + P(x1,x2,x3,x4|Y=1) + P(x1,x2,x3,x4|Y=2)\n",
    "p = np.hstack(ps).sum(axis=1)\n",
    "\n",
    "for i in [0,1,2]:\n",
    "    mask = y_train == i\n",
    "    X_label = X_train[mask]\n",
    "    u, r = X_label.mean(axis=0), X_label.std(axis=0)    \n",
    "    x_probs = 1/np.sqrt(2*np.pi)/r * (np.exp( -(X_test - u)**2/(2*r**2) ))\n",
    "    prob = x_probs.prod(axis=1) / (3 * 3) / p\n",
    "    probs.append(prob.reshape(-1, 1))\n",
    "    \n",
    "probs = np.hstack(probs)\n",
    "probs[:5]"
   ]
  },
  {
   "cell_type": "code",
   "execution_count": 29,
   "metadata": {},
   "outputs": [
    {
     "data": {
      "text/plain": [
       "0.9666666666666667"
      ]
     },
     "execution_count": 29,
     "metadata": {},
     "output_type": "execute_result"
    }
   ],
   "source": [
    "(probs.argmax(axis=1) == y_test).mean()"
   ]
  },
  {
   "cell_type": "markdown",
   "metadata": {},
   "source": [
    "**其实根本没必要管分母的**"
   ]
  },
  {
   "cell_type": "code",
   "execution_count": 30,
   "metadata": {},
   "outputs": [
    {
     "data": {
      "text/html": [
       "<div>\n",
       "<style scoped>\n",
       "    .dataframe tbody tr th:only-of-type {\n",
       "        vertical-align: middle;\n",
       "    }\n",
       "\n",
       "    .dataframe tbody tr th {\n",
       "        vertical-align: top;\n",
       "    }\n",
       "\n",
       "    .dataframe thead th {\n",
       "        text-align: right;\n",
       "    }\n",
       "</style>\n",
       "<table border=\"1\" class=\"dataframe\">\n",
       "  <thead>\n",
       "    <tr style=\"text-align: right;\">\n",
       "      <th></th>\n",
       "      <th>0</th>\n",
       "      <th>1</th>\n",
       "      <th>2</th>\n",
       "      <th>0_</th>\n",
       "      <th>1_</th>\n",
       "      <th>2_</th>\n",
       "      <th>y</th>\n",
       "      <th>y_</th>\n",
       "      <th>accurate</th>\n",
       "      <th>第一第二之差</th>\n",
       "    </tr>\n",
       "  </thead>\n",
       "  <tbody>\n",
       "    <tr>\n",
       "      <th>0</th>\n",
       "      <td>2.047852e-233</td>\n",
       "      <td>2.892083e-07</td>\n",
       "      <td>1.111108e-01</td>\n",
       "      <td>0.0</td>\n",
       "      <td>0.0</td>\n",
       "      <td>100.0</td>\n",
       "      <td>2</td>\n",
       "      <td>2</td>\n",
       "      <td>True</td>\n",
       "      <td>100.0</td>\n",
       "    </tr>\n",
       "    <tr>\n",
       "      <th>1</th>\n",
       "      <td>1.925208e-83</td>\n",
       "      <td>1.111110e-01</td>\n",
       "      <td>1.584818e-07</td>\n",
       "      <td>0.0</td>\n",
       "      <td>100.0</td>\n",
       "      <td>0.0</td>\n",
       "      <td>1</td>\n",
       "      <td>1</td>\n",
       "      <td>True</td>\n",
       "      <td>100.0</td>\n",
       "    </tr>\n",
       "    <tr>\n",
       "      <th>2</th>\n",
       "      <td>1.111111e-01</td>\n",
       "      <td>8.318234e-20</td>\n",
       "      <td>3.599120e-29</td>\n",
       "      <td>100.0</td>\n",
       "      <td>0.0</td>\n",
       "      <td>0.0</td>\n",
       "      <td>0</td>\n",
       "      <td>0</td>\n",
       "      <td>True</td>\n",
       "      <td>100.0</td>\n",
       "    </tr>\n",
       "    <tr>\n",
       "      <th>3</th>\n",
       "      <td>1.986758e-306</td>\n",
       "      <td>1.382749e-07</td>\n",
       "      <td>1.111110e-01</td>\n",
       "      <td>0.0</td>\n",
       "      <td>0.0</td>\n",
       "      <td>100.0</td>\n",
       "      <td>2</td>\n",
       "      <td>2</td>\n",
       "      <td>True</td>\n",
       "      <td>100.0</td>\n",
       "    </tr>\n",
       "    <tr>\n",
       "      <th>4</th>\n",
       "      <td>1.111111e-01</td>\n",
       "      <td>1.006232e-17</td>\n",
       "      <td>4.157623e-28</td>\n",
       "      <td>100.0</td>\n",
       "      <td>0.0</td>\n",
       "      <td>0.0</td>\n",
       "      <td>0</td>\n",
       "      <td>0</td>\n",
       "      <td>True</td>\n",
       "      <td>100.0</td>\n",
       "    </tr>\n",
       "    <tr>\n",
       "      <th>5</th>\n",
       "      <td>8.300303e-322</td>\n",
       "      <td>2.067209e-11</td>\n",
       "      <td>1.111111e-01</td>\n",
       "      <td>0.0</td>\n",
       "      <td>0.0</td>\n",
       "      <td>100.0</td>\n",
       "      <td>2</td>\n",
       "      <td>2</td>\n",
       "      <td>True</td>\n",
       "      <td>100.0</td>\n",
       "    </tr>\n",
       "    <tr>\n",
       "      <th>6</th>\n",
       "      <td>1.111111e-01</td>\n",
       "      <td>1.285913e-17</td>\n",
       "      <td>5.222412e-28</td>\n",
       "      <td>100.0</td>\n",
       "      <td>0.0</td>\n",
       "      <td>0.0</td>\n",
       "      <td>0</td>\n",
       "      <td>0</td>\n",
       "      <td>True</td>\n",
       "      <td>100.0</td>\n",
       "    </tr>\n",
       "    <tr>\n",
       "      <th>7</th>\n",
       "      <td>1.368055e-147</td>\n",
       "      <td>8.921265e-02</td>\n",
       "      <td>2.189846e-02</td>\n",
       "      <td>0.0</td>\n",
       "      <td>100.0</td>\n",
       "      <td>25.0</td>\n",
       "      <td>1</td>\n",
       "      <td>1</td>\n",
       "      <td>True</td>\n",
       "      <td>75.0</td>\n",
       "    </tr>\n",
       "    <tr>\n",
       "      <th>8</th>\n",
       "      <td>5.716557e-151</td>\n",
       "      <td>1.023456e-01</td>\n",
       "      <td>8.765508e-03</td>\n",
       "      <td>0.0</td>\n",
       "      <td>100.0</td>\n",
       "      <td>9.0</td>\n",
       "      <td>1</td>\n",
       "      <td>1</td>\n",
       "      <td>True</td>\n",
       "      <td>91.0</td>\n",
       "    </tr>\n",
       "    <tr>\n",
       "      <th>9</th>\n",
       "      <td>5.979561e-94</td>\n",
       "      <td>1.111001e-01</td>\n",
       "      <td>1.101528e-05</td>\n",
       "      <td>0.0</td>\n",
       "      <td>100.0</td>\n",
       "      <td>0.0</td>\n",
       "      <td>1</td>\n",
       "      <td>1</td>\n",
       "      <td>True</td>\n",
       "      <td>100.0</td>\n",
       "    </tr>\n",
       "    <tr>\n",
       "      <th>10</th>\n",
       "      <td>2.718961e-211</td>\n",
       "      <td>6.360542e-02</td>\n",
       "      <td>4.750569e-02</td>\n",
       "      <td>0.0</td>\n",
       "      <td>100.0</td>\n",
       "      <td>75.0</td>\n",
       "      <td>2</td>\n",
       "      <td>1</td>\n",
       "      <td>False</td>\n",
       "      <td>25.0</td>\n",
       "    </tr>\n",
       "    <tr>\n",
       "      <th>11</th>\n",
       "      <td>8.636844e-133</td>\n",
       "      <td>1.058092e-01</td>\n",
       "      <td>5.301942e-03</td>\n",
       "      <td>0.0</td>\n",
       "      <td>100.0</td>\n",
       "      <td>5.0</td>\n",
       "      <td>1</td>\n",
       "      <td>1</td>\n",
       "      <td>True</td>\n",
       "      <td>95.0</td>\n",
       "    </tr>\n",
       "    <tr>\n",
       "      <th>12</th>\n",
       "      <td>5.536769e-133</td>\n",
       "      <td>1.110050e-01</td>\n",
       "      <td>1.061268e-04</td>\n",
       "      <td>0.0</td>\n",
       "      <td>100.0</td>\n",
       "      <td>0.0</td>\n",
       "      <td>1</td>\n",
       "      <td>1</td>\n",
       "      <td>True</td>\n",
       "      <td>100.0</td>\n",
       "    </tr>\n",
       "    <tr>\n",
       "      <th>13</th>\n",
       "      <td>1.322853e-140</td>\n",
       "      <td>1.063866e-01</td>\n",
       "      <td>4.724496e-03</td>\n",
       "      <td>0.0</td>\n",
       "      <td>100.0</td>\n",
       "      <td>4.0</td>\n",
       "      <td>1</td>\n",
       "      <td>1</td>\n",
       "      <td>True</td>\n",
       "      <td>96.0</td>\n",
       "    </tr>\n",
       "    <tr>\n",
       "      <th>14</th>\n",
       "      <td>4.311263e-141</td>\n",
       "      <td>1.099919e-01</td>\n",
       "      <td>1.119242e-03</td>\n",
       "      <td>0.0</td>\n",
       "      <td>100.0</td>\n",
       "      <td>1.0</td>\n",
       "      <td>1</td>\n",
       "      <td>1</td>\n",
       "      <td>True</td>\n",
       "      <td>99.0</td>\n",
       "    </tr>\n",
       "    <tr>\n",
       "      <th>15</th>\n",
       "      <td>1.111111e-01</td>\n",
       "      <td>8.348530e-20</td>\n",
       "      <td>4.039475e-30</td>\n",
       "      <td>100.0</td>\n",
       "      <td>0.0</td>\n",
       "      <td>0.0</td>\n",
       "      <td>0</td>\n",
       "      <td>0</td>\n",
       "      <td>True</td>\n",
       "      <td>100.0</td>\n",
       "    </tr>\n",
       "    <tr>\n",
       "      <th>16</th>\n",
       "      <td>4.430902e-132</td>\n",
       "      <td>1.099826e-01</td>\n",
       "      <td>1.128517e-03</td>\n",
       "      <td>0.0</td>\n",
       "      <td>100.0</td>\n",
       "      <td>1.0</td>\n",
       "      <td>1</td>\n",
       "      <td>1</td>\n",
       "      <td>True</td>\n",
       "      <td>99.0</td>\n",
       "    </tr>\n",
       "    <tr>\n",
       "      <th>17</th>\n",
       "      <td>4.356429e-112</td>\n",
       "      <td>1.111057e-01</td>\n",
       "      <td>5.383430e-06</td>\n",
       "      <td>0.0</td>\n",
       "      <td>100.0</td>\n",
       "      <td>0.0</td>\n",
       "      <td>1</td>\n",
       "      <td>1</td>\n",
       "      <td>True</td>\n",
       "      <td>100.0</td>\n",
       "    </tr>\n",
       "    <tr>\n",
       "      <th>18</th>\n",
       "      <td>1.111111e-01</td>\n",
       "      <td>2.634348e-16</td>\n",
       "      <td>3.581145e-27</td>\n",
       "      <td>100.0</td>\n",
       "      <td>0.0</td>\n",
       "      <td>0.0</td>\n",
       "      <td>0</td>\n",
       "      <td>0</td>\n",
       "      <td>True</td>\n",
       "      <td>100.0</td>\n",
       "    </tr>\n",
       "    <tr>\n",
       "      <th>19</th>\n",
       "      <td>1.111111e-01</td>\n",
       "      <td>1.155652e-16</td>\n",
       "      <td>2.386828e-26</td>\n",
       "      <td>100.0</td>\n",
       "      <td>0.0</td>\n",
       "      <td>0.0</td>\n",
       "      <td>0</td>\n",
       "      <td>0</td>\n",
       "      <td>True</td>\n",
       "      <td>100.0</td>\n",
       "    </tr>\n",
       "    <tr>\n",
       "      <th>20</th>\n",
       "      <td>2.323222e-187</td>\n",
       "      <td>2.199220e-03</td>\n",
       "      <td>1.089119e-01</td>\n",
       "      <td>0.0</td>\n",
       "      <td>2.0</td>\n",
       "      <td>100.0</td>\n",
       "      <td>2</td>\n",
       "      <td>2</td>\n",
       "      <td>True</td>\n",
       "      <td>98.0</td>\n",
       "    </tr>\n",
       "    <tr>\n",
       "      <th>21</th>\n",
       "      <td>9.318834e-131</td>\n",
       "      <td>1.104336e-01</td>\n",
       "      <td>6.775039e-04</td>\n",
       "      <td>0.0</td>\n",
       "      <td>100.0</td>\n",
       "      <td>1.0</td>\n",
       "      <td>1</td>\n",
       "      <td>1</td>\n",
       "      <td>True</td>\n",
       "      <td>99.0</td>\n",
       "    </tr>\n",
       "    <tr>\n",
       "      <th>22</th>\n",
       "      <td>1.111111e-01</td>\n",
       "      <td>4.993639e-14</td>\n",
       "      <td>4.276428e-24</td>\n",
       "      <td>100.0</td>\n",
       "      <td>0.0</td>\n",
       "      <td>0.0</td>\n",
       "      <td>0</td>\n",
       "      <td>0</td>\n",
       "      <td>True</td>\n",
       "      <td>100.0</td>\n",
       "    </tr>\n",
       "    <tr>\n",
       "      <th>23</th>\n",
       "      <td>1.111111e-01</td>\n",
       "      <td>1.499634e-17</td>\n",
       "      <td>1.247880e-28</td>\n",
       "      <td>100.0</td>\n",
       "      <td>0.0</td>\n",
       "      <td>0.0</td>\n",
       "      <td>0</td>\n",
       "      <td>0</td>\n",
       "      <td>True</td>\n",
       "      <td>100.0</td>\n",
       "    </tr>\n",
       "    <tr>\n",
       "      <th>24</th>\n",
       "      <td>2.952681e-169</td>\n",
       "      <td>2.343475e-02</td>\n",
       "      <td>8.767636e-02</td>\n",
       "      <td>0.0</td>\n",
       "      <td>27.0</td>\n",
       "      <td>100.0</td>\n",
       "      <td>2</td>\n",
       "      <td>2</td>\n",
       "      <td>True</td>\n",
       "      <td>73.0</td>\n",
       "    </tr>\n",
       "    <tr>\n",
       "      <th>25</th>\n",
       "      <td>1.111111e-01</td>\n",
       "      <td>3.073519e-19</td>\n",
       "      <td>6.623819e-30</td>\n",
       "      <td>100.0</td>\n",
       "      <td>0.0</td>\n",
       "      <td>0.0</td>\n",
       "      <td>0</td>\n",
       "      <td>0</td>\n",
       "      <td>True</td>\n",
       "      <td>100.0</td>\n",
       "    </tr>\n",
       "    <tr>\n",
       "      <th>26</th>\n",
       "      <td>1.111111e-01</td>\n",
       "      <td>3.754837e-12</td>\n",
       "      <td>1.501237e-21</td>\n",
       "      <td>100.0</td>\n",
       "      <td>0.0</td>\n",
       "      <td>0.0</td>\n",
       "      <td>0</td>\n",
       "      <td>0</td>\n",
       "      <td>True</td>\n",
       "      <td>100.0</td>\n",
       "    </tr>\n",
       "    <tr>\n",
       "      <th>27</th>\n",
       "      <td>2.329410e-111</td>\n",
       "      <td>1.110449e-01</td>\n",
       "      <td>6.623101e-05</td>\n",
       "      <td>0.0</td>\n",
       "      <td>100.0</td>\n",
       "      <td>0.0</td>\n",
       "      <td>1</td>\n",
       "      <td>1</td>\n",
       "      <td>True</td>\n",
       "      <td>100.0</td>\n",
       "    </tr>\n",
       "    <tr>\n",
       "      <th>28</th>\n",
       "      <td>1.468347e-47</td>\n",
       "      <td>1.111111e-01</td>\n",
       "      <td>2.629170e-09</td>\n",
       "      <td>0.0</td>\n",
       "      <td>100.0</td>\n",
       "      <td>0.0</td>\n",
       "      <td>1</td>\n",
       "      <td>1</td>\n",
       "      <td>True</td>\n",
       "      <td>100.0</td>\n",
       "    </tr>\n",
       "    <tr>\n",
       "      <th>29</th>\n",
       "      <td>1.111111e-01</td>\n",
       "      <td>2.177720e-14</td>\n",
       "      <td>1.564266e-24</td>\n",
       "      <td>100.0</td>\n",
       "      <td>0.0</td>\n",
       "      <td>0.0</td>\n",
       "      <td>0</td>\n",
       "      <td>0</td>\n",
       "      <td>True</td>\n",
       "      <td>100.0</td>\n",
       "    </tr>\n",
       "  </tbody>\n",
       "</table>\n",
       "</div>"
      ],
      "text/plain": [
       "                0             1             2     0_     1_     2_  y  y_  \\\n",
       "0   2.047852e-233  2.892083e-07  1.111108e-01    0.0    0.0  100.0  2   2   \n",
       "1    1.925208e-83  1.111110e-01  1.584818e-07    0.0  100.0    0.0  1   1   \n",
       "2    1.111111e-01  8.318234e-20  3.599120e-29  100.0    0.0    0.0  0   0   \n",
       "3   1.986758e-306  1.382749e-07  1.111110e-01    0.0    0.0  100.0  2   2   \n",
       "4    1.111111e-01  1.006232e-17  4.157623e-28  100.0    0.0    0.0  0   0   \n",
       "5   8.300303e-322  2.067209e-11  1.111111e-01    0.0    0.0  100.0  2   2   \n",
       "6    1.111111e-01  1.285913e-17  5.222412e-28  100.0    0.0    0.0  0   0   \n",
       "7   1.368055e-147  8.921265e-02  2.189846e-02    0.0  100.0   25.0  1   1   \n",
       "8   5.716557e-151  1.023456e-01  8.765508e-03    0.0  100.0    9.0  1   1   \n",
       "9    5.979561e-94  1.111001e-01  1.101528e-05    0.0  100.0    0.0  1   1   \n",
       "10  2.718961e-211  6.360542e-02  4.750569e-02    0.0  100.0   75.0  2   1   \n",
       "11  8.636844e-133  1.058092e-01  5.301942e-03    0.0  100.0    5.0  1   1   \n",
       "12  5.536769e-133  1.110050e-01  1.061268e-04    0.0  100.0    0.0  1   1   \n",
       "13  1.322853e-140  1.063866e-01  4.724496e-03    0.0  100.0    4.0  1   1   \n",
       "14  4.311263e-141  1.099919e-01  1.119242e-03    0.0  100.0    1.0  1   1   \n",
       "15   1.111111e-01  8.348530e-20  4.039475e-30  100.0    0.0    0.0  0   0   \n",
       "16  4.430902e-132  1.099826e-01  1.128517e-03    0.0  100.0    1.0  1   1   \n",
       "17  4.356429e-112  1.111057e-01  5.383430e-06    0.0  100.0    0.0  1   1   \n",
       "18   1.111111e-01  2.634348e-16  3.581145e-27  100.0    0.0    0.0  0   0   \n",
       "19   1.111111e-01  1.155652e-16  2.386828e-26  100.0    0.0    0.0  0   0   \n",
       "20  2.323222e-187  2.199220e-03  1.089119e-01    0.0    2.0  100.0  2   2   \n",
       "21  9.318834e-131  1.104336e-01  6.775039e-04    0.0  100.0    1.0  1   1   \n",
       "22   1.111111e-01  4.993639e-14  4.276428e-24  100.0    0.0    0.0  0   0   \n",
       "23   1.111111e-01  1.499634e-17  1.247880e-28  100.0    0.0    0.0  0   0   \n",
       "24  2.952681e-169  2.343475e-02  8.767636e-02    0.0   27.0  100.0  2   2   \n",
       "25   1.111111e-01  3.073519e-19  6.623819e-30  100.0    0.0    0.0  0   0   \n",
       "26   1.111111e-01  3.754837e-12  1.501237e-21  100.0    0.0    0.0  0   0   \n",
       "27  2.329410e-111  1.110449e-01  6.623101e-05    0.0  100.0    0.0  1   1   \n",
       "28   1.468347e-47  1.111111e-01  2.629170e-09    0.0  100.0    0.0  1   1   \n",
       "29   1.111111e-01  2.177720e-14  1.564266e-24  100.0    0.0    0.0  0   0   \n",
       "\n",
       "    accurate  第一第二之差  \n",
       "0       True   100.0  \n",
       "1       True   100.0  \n",
       "2       True   100.0  \n",
       "3       True   100.0  \n",
       "4       True   100.0  \n",
       "5       True   100.0  \n",
       "6       True   100.0  \n",
       "7       True    75.0  \n",
       "8       True    91.0  \n",
       "9       True   100.0  \n",
       "10     False    25.0  \n",
       "11      True    95.0  \n",
       "12      True   100.0  \n",
       "13      True    96.0  \n",
       "14      True    99.0  \n",
       "15      True   100.0  \n",
       "16      True    99.0  \n",
       "17      True   100.0  \n",
       "18      True   100.0  \n",
       "19      True   100.0  \n",
       "20      True    98.0  \n",
       "21      True    99.0  \n",
       "22      True   100.0  \n",
       "23      True   100.0  \n",
       "24      True    73.0  \n",
       "25      True   100.0  \n",
       "26      True   100.0  \n",
       "27      True   100.0  \n",
       "28      True   100.0  \n",
       "29      True   100.0  "
      ]
     },
     "execution_count": 30,
     "metadata": {},
     "output_type": "execute_result"
    }
   ],
   "source": [
    "probs_df = pd.DataFrame(probs)\n",
    "probs_df[[\"0_\", \"1_\", \"2_\"]] = np.rint( probs_df.div(probs_df.max(axis=1), axis=0) * 100 )\n",
    "probs_df[\"y\"] = y_test\n",
    "probs_df[\"y_\"] = probs.argmax(axis=1)\n",
    "probs_df[\"accurate\"] = probs_df[\"y\"] == probs_df[\"y_\"]\n",
    "probs_df[\"第一第二之差\"] =  probs_df[[\"0_\", \"1_\", \"2_\"]].apply(\n",
    "    lambda row: row.sort_values(ascending=False)[0] - row.sort_values(ascending=False)[1], axis=1)\n",
    "probs_df"
   ]
  },
  {
   "cell_type": "code",
   "execution_count": 31,
   "metadata": {},
   "outputs": [
    {
     "data": {
      "text/html": [
       "<div>\n",
       "<style scoped>\n",
       "    .dataframe tbody tr th:only-of-type {\n",
       "        vertical-align: middle;\n",
       "    }\n",
       "\n",
       "    .dataframe tbody tr th {\n",
       "        vertical-align: top;\n",
       "    }\n",
       "\n",
       "    .dataframe thead th {\n",
       "        text-align: right;\n",
       "    }\n",
       "</style>\n",
       "<table border=\"1\" class=\"dataframe\">\n",
       "  <thead>\n",
       "    <tr style=\"text-align: right;\">\n",
       "      <th></th>\n",
       "      <th>0</th>\n",
       "      <th>1</th>\n",
       "      <th>2</th>\n",
       "      <th>0_</th>\n",
       "      <th>1_</th>\n",
       "      <th>2_</th>\n",
       "      <th>y</th>\n",
       "      <th>y_</th>\n",
       "      <th>accurate</th>\n",
       "      <th>第一第二之差</th>\n",
       "    </tr>\n",
       "  </thead>\n",
       "  <tbody>\n",
       "    <tr>\n",
       "      <th>10</th>\n",
       "      <td>2.718961e-211</td>\n",
       "      <td>6.360542e-02</td>\n",
       "      <td>4.750569e-02</td>\n",
       "      <td>0.0</td>\n",
       "      <td>100.0</td>\n",
       "      <td>75.0</td>\n",
       "      <td>2</td>\n",
       "      <td>1</td>\n",
       "      <td>False</td>\n",
       "      <td>25.0</td>\n",
       "    </tr>\n",
       "    <tr>\n",
       "      <th>24</th>\n",
       "      <td>2.952681e-169</td>\n",
       "      <td>2.343475e-02</td>\n",
       "      <td>8.767636e-02</td>\n",
       "      <td>0.0</td>\n",
       "      <td>27.0</td>\n",
       "      <td>100.0</td>\n",
       "      <td>2</td>\n",
       "      <td>2</td>\n",
       "      <td>True</td>\n",
       "      <td>73.0</td>\n",
       "    </tr>\n",
       "    <tr>\n",
       "      <th>7</th>\n",
       "      <td>1.368055e-147</td>\n",
       "      <td>8.921265e-02</td>\n",
       "      <td>2.189846e-02</td>\n",
       "      <td>0.0</td>\n",
       "      <td>100.0</td>\n",
       "      <td>25.0</td>\n",
       "      <td>1</td>\n",
       "      <td>1</td>\n",
       "      <td>True</td>\n",
       "      <td>75.0</td>\n",
       "    </tr>\n",
       "    <tr>\n",
       "      <th>8</th>\n",
       "      <td>5.716557e-151</td>\n",
       "      <td>1.023456e-01</td>\n",
       "      <td>8.765508e-03</td>\n",
       "      <td>0.0</td>\n",
       "      <td>100.0</td>\n",
       "      <td>9.0</td>\n",
       "      <td>1</td>\n",
       "      <td>1</td>\n",
       "      <td>True</td>\n",
       "      <td>91.0</td>\n",
       "    </tr>\n",
       "    <tr>\n",
       "      <th>11</th>\n",
       "      <td>8.636844e-133</td>\n",
       "      <td>1.058092e-01</td>\n",
       "      <td>5.301942e-03</td>\n",
       "      <td>0.0</td>\n",
       "      <td>100.0</td>\n",
       "      <td>5.0</td>\n",
       "      <td>1</td>\n",
       "      <td>1</td>\n",
       "      <td>True</td>\n",
       "      <td>95.0</td>\n",
       "    </tr>\n",
       "    <tr>\n",
       "      <th>13</th>\n",
       "      <td>1.322853e-140</td>\n",
       "      <td>1.063866e-01</td>\n",
       "      <td>4.724496e-03</td>\n",
       "      <td>0.0</td>\n",
       "      <td>100.0</td>\n",
       "      <td>4.0</td>\n",
       "      <td>1</td>\n",
       "      <td>1</td>\n",
       "      <td>True</td>\n",
       "      <td>96.0</td>\n",
       "    </tr>\n",
       "    <tr>\n",
       "      <th>20</th>\n",
       "      <td>2.323222e-187</td>\n",
       "      <td>2.199220e-03</td>\n",
       "      <td>1.089119e-01</td>\n",
       "      <td>0.0</td>\n",
       "      <td>2.0</td>\n",
       "      <td>100.0</td>\n",
       "      <td>2</td>\n",
       "      <td>2</td>\n",
       "      <td>True</td>\n",
       "      <td>98.0</td>\n",
       "    </tr>\n",
       "    <tr>\n",
       "      <th>21</th>\n",
       "      <td>9.318834e-131</td>\n",
       "      <td>1.104336e-01</td>\n",
       "      <td>6.775039e-04</td>\n",
       "      <td>0.0</td>\n",
       "      <td>100.0</td>\n",
       "      <td>1.0</td>\n",
       "      <td>1</td>\n",
       "      <td>1</td>\n",
       "      <td>True</td>\n",
       "      <td>99.0</td>\n",
       "    </tr>\n",
       "    <tr>\n",
       "      <th>14</th>\n",
       "      <td>4.311263e-141</td>\n",
       "      <td>1.099919e-01</td>\n",
       "      <td>1.119242e-03</td>\n",
       "      <td>0.0</td>\n",
       "      <td>100.0</td>\n",
       "      <td>1.0</td>\n",
       "      <td>1</td>\n",
       "      <td>1</td>\n",
       "      <td>True</td>\n",
       "      <td>99.0</td>\n",
       "    </tr>\n",
       "    <tr>\n",
       "      <th>16</th>\n",
       "      <td>4.430902e-132</td>\n",
       "      <td>1.099826e-01</td>\n",
       "      <td>1.128517e-03</td>\n",
       "      <td>0.0</td>\n",
       "      <td>100.0</td>\n",
       "      <td>1.0</td>\n",
       "      <td>1</td>\n",
       "      <td>1</td>\n",
       "      <td>True</td>\n",
       "      <td>99.0</td>\n",
       "    </tr>\n",
       "    <tr>\n",
       "      <th>22</th>\n",
       "      <td>1.111111e-01</td>\n",
       "      <td>4.993639e-14</td>\n",
       "      <td>4.276428e-24</td>\n",
       "      <td>100.0</td>\n",
       "      <td>0.0</td>\n",
       "      <td>0.0</td>\n",
       "      <td>0</td>\n",
       "      <td>0</td>\n",
       "      <td>True</td>\n",
       "      <td>100.0</td>\n",
       "    </tr>\n",
       "    <tr>\n",
       "      <th>23</th>\n",
       "      <td>1.111111e-01</td>\n",
       "      <td>1.499634e-17</td>\n",
       "      <td>1.247880e-28</td>\n",
       "      <td>100.0</td>\n",
       "      <td>0.0</td>\n",
       "      <td>0.0</td>\n",
       "      <td>0</td>\n",
       "      <td>0</td>\n",
       "      <td>True</td>\n",
       "      <td>100.0</td>\n",
       "    </tr>\n",
       "    <tr>\n",
       "      <th>25</th>\n",
       "      <td>1.111111e-01</td>\n",
       "      <td>3.073519e-19</td>\n",
       "      <td>6.623819e-30</td>\n",
       "      <td>100.0</td>\n",
       "      <td>0.0</td>\n",
       "      <td>0.0</td>\n",
       "      <td>0</td>\n",
       "      <td>0</td>\n",
       "      <td>True</td>\n",
       "      <td>100.0</td>\n",
       "    </tr>\n",
       "    <tr>\n",
       "      <th>26</th>\n",
       "      <td>1.111111e-01</td>\n",
       "      <td>3.754837e-12</td>\n",
       "      <td>1.501237e-21</td>\n",
       "      <td>100.0</td>\n",
       "      <td>0.0</td>\n",
       "      <td>0.0</td>\n",
       "      <td>0</td>\n",
       "      <td>0</td>\n",
       "      <td>True</td>\n",
       "      <td>100.0</td>\n",
       "    </tr>\n",
       "    <tr>\n",
       "      <th>27</th>\n",
       "      <td>2.329410e-111</td>\n",
       "      <td>1.110449e-01</td>\n",
       "      <td>6.623101e-05</td>\n",
       "      <td>0.0</td>\n",
       "      <td>100.0</td>\n",
       "      <td>0.0</td>\n",
       "      <td>1</td>\n",
       "      <td>1</td>\n",
       "      <td>True</td>\n",
       "      <td>100.0</td>\n",
       "    </tr>\n",
       "    <tr>\n",
       "      <th>19</th>\n",
       "      <td>1.111111e-01</td>\n",
       "      <td>1.155652e-16</td>\n",
       "      <td>2.386828e-26</td>\n",
       "      <td>100.0</td>\n",
       "      <td>0.0</td>\n",
       "      <td>0.0</td>\n",
       "      <td>0</td>\n",
       "      <td>0</td>\n",
       "      <td>True</td>\n",
       "      <td>100.0</td>\n",
       "    </tr>\n",
       "    <tr>\n",
       "      <th>18</th>\n",
       "      <td>1.111111e-01</td>\n",
       "      <td>2.634348e-16</td>\n",
       "      <td>3.581145e-27</td>\n",
       "      <td>100.0</td>\n",
       "      <td>0.0</td>\n",
       "      <td>0.0</td>\n",
       "      <td>0</td>\n",
       "      <td>0</td>\n",
       "      <td>True</td>\n",
       "      <td>100.0</td>\n",
       "    </tr>\n",
       "    <tr>\n",
       "      <th>0</th>\n",
       "      <td>2.047852e-233</td>\n",
       "      <td>2.892083e-07</td>\n",
       "      <td>1.111108e-01</td>\n",
       "      <td>0.0</td>\n",
       "      <td>0.0</td>\n",
       "      <td>100.0</td>\n",
       "      <td>2</td>\n",
       "      <td>2</td>\n",
       "      <td>True</td>\n",
       "      <td>100.0</td>\n",
       "    </tr>\n",
       "    <tr>\n",
       "      <th>15</th>\n",
       "      <td>1.111111e-01</td>\n",
       "      <td>8.348530e-20</td>\n",
       "      <td>4.039475e-30</td>\n",
       "      <td>100.0</td>\n",
       "      <td>0.0</td>\n",
       "      <td>0.0</td>\n",
       "      <td>0</td>\n",
       "      <td>0</td>\n",
       "      <td>True</td>\n",
       "      <td>100.0</td>\n",
       "    </tr>\n",
       "    <tr>\n",
       "      <th>28</th>\n",
       "      <td>1.468347e-47</td>\n",
       "      <td>1.111111e-01</td>\n",
       "      <td>2.629170e-09</td>\n",
       "      <td>0.0</td>\n",
       "      <td>100.0</td>\n",
       "      <td>0.0</td>\n",
       "      <td>1</td>\n",
       "      <td>1</td>\n",
       "      <td>True</td>\n",
       "      <td>100.0</td>\n",
       "    </tr>\n",
       "    <tr>\n",
       "      <th>12</th>\n",
       "      <td>5.536769e-133</td>\n",
       "      <td>1.110050e-01</td>\n",
       "      <td>1.061268e-04</td>\n",
       "      <td>0.0</td>\n",
       "      <td>100.0</td>\n",
       "      <td>0.0</td>\n",
       "      <td>1</td>\n",
       "      <td>1</td>\n",
       "      <td>True</td>\n",
       "      <td>100.0</td>\n",
       "    </tr>\n",
       "    <tr>\n",
       "      <th>9</th>\n",
       "      <td>5.979561e-94</td>\n",
       "      <td>1.111001e-01</td>\n",
       "      <td>1.101528e-05</td>\n",
       "      <td>0.0</td>\n",
       "      <td>100.0</td>\n",
       "      <td>0.0</td>\n",
       "      <td>1</td>\n",
       "      <td>1</td>\n",
       "      <td>True</td>\n",
       "      <td>100.0</td>\n",
       "    </tr>\n",
       "    <tr>\n",
       "      <th>6</th>\n",
       "      <td>1.111111e-01</td>\n",
       "      <td>1.285913e-17</td>\n",
       "      <td>5.222412e-28</td>\n",
       "      <td>100.0</td>\n",
       "      <td>0.0</td>\n",
       "      <td>0.0</td>\n",
       "      <td>0</td>\n",
       "      <td>0</td>\n",
       "      <td>True</td>\n",
       "      <td>100.0</td>\n",
       "    </tr>\n",
       "    <tr>\n",
       "      <th>5</th>\n",
       "      <td>8.300303e-322</td>\n",
       "      <td>2.067209e-11</td>\n",
       "      <td>1.111111e-01</td>\n",
       "      <td>0.0</td>\n",
       "      <td>0.0</td>\n",
       "      <td>100.0</td>\n",
       "      <td>2</td>\n",
       "      <td>2</td>\n",
       "      <td>True</td>\n",
       "      <td>100.0</td>\n",
       "    </tr>\n",
       "    <tr>\n",
       "      <th>4</th>\n",
       "      <td>1.111111e-01</td>\n",
       "      <td>1.006232e-17</td>\n",
       "      <td>4.157623e-28</td>\n",
       "      <td>100.0</td>\n",
       "      <td>0.0</td>\n",
       "      <td>0.0</td>\n",
       "      <td>0</td>\n",
       "      <td>0</td>\n",
       "      <td>True</td>\n",
       "      <td>100.0</td>\n",
       "    </tr>\n",
       "    <tr>\n",
       "      <th>3</th>\n",
       "      <td>1.986758e-306</td>\n",
       "      <td>1.382749e-07</td>\n",
       "      <td>1.111110e-01</td>\n",
       "      <td>0.0</td>\n",
       "      <td>0.0</td>\n",
       "      <td>100.0</td>\n",
       "      <td>2</td>\n",
       "      <td>2</td>\n",
       "      <td>True</td>\n",
       "      <td>100.0</td>\n",
       "    </tr>\n",
       "    <tr>\n",
       "      <th>2</th>\n",
       "      <td>1.111111e-01</td>\n",
       "      <td>8.318234e-20</td>\n",
       "      <td>3.599120e-29</td>\n",
       "      <td>100.0</td>\n",
       "      <td>0.0</td>\n",
       "      <td>0.0</td>\n",
       "      <td>0</td>\n",
       "      <td>0</td>\n",
       "      <td>True</td>\n",
       "      <td>100.0</td>\n",
       "    </tr>\n",
       "    <tr>\n",
       "      <th>1</th>\n",
       "      <td>1.925208e-83</td>\n",
       "      <td>1.111110e-01</td>\n",
       "      <td>1.584818e-07</td>\n",
       "      <td>0.0</td>\n",
       "      <td>100.0</td>\n",
       "      <td>0.0</td>\n",
       "      <td>1</td>\n",
       "      <td>1</td>\n",
       "      <td>True</td>\n",
       "      <td>100.0</td>\n",
       "    </tr>\n",
       "    <tr>\n",
       "      <th>17</th>\n",
       "      <td>4.356429e-112</td>\n",
       "      <td>1.111057e-01</td>\n",
       "      <td>5.383430e-06</td>\n",
       "      <td>0.0</td>\n",
       "      <td>100.0</td>\n",
       "      <td>0.0</td>\n",
       "      <td>1</td>\n",
       "      <td>1</td>\n",
       "      <td>True</td>\n",
       "      <td>100.0</td>\n",
       "    </tr>\n",
       "    <tr>\n",
       "      <th>29</th>\n",
       "      <td>1.111111e-01</td>\n",
       "      <td>2.177720e-14</td>\n",
       "      <td>1.564266e-24</td>\n",
       "      <td>100.0</td>\n",
       "      <td>0.0</td>\n",
       "      <td>0.0</td>\n",
       "      <td>0</td>\n",
       "      <td>0</td>\n",
       "      <td>True</td>\n",
       "      <td>100.0</td>\n",
       "    </tr>\n",
       "  </tbody>\n",
       "</table>\n",
       "</div>"
      ],
      "text/plain": [
       "                0             1             2     0_     1_     2_  y  y_  \\\n",
       "10  2.718961e-211  6.360542e-02  4.750569e-02    0.0  100.0   75.0  2   1   \n",
       "24  2.952681e-169  2.343475e-02  8.767636e-02    0.0   27.0  100.0  2   2   \n",
       "7   1.368055e-147  8.921265e-02  2.189846e-02    0.0  100.0   25.0  1   1   \n",
       "8   5.716557e-151  1.023456e-01  8.765508e-03    0.0  100.0    9.0  1   1   \n",
       "11  8.636844e-133  1.058092e-01  5.301942e-03    0.0  100.0    5.0  1   1   \n",
       "13  1.322853e-140  1.063866e-01  4.724496e-03    0.0  100.0    4.0  1   1   \n",
       "20  2.323222e-187  2.199220e-03  1.089119e-01    0.0    2.0  100.0  2   2   \n",
       "21  9.318834e-131  1.104336e-01  6.775039e-04    0.0  100.0    1.0  1   1   \n",
       "14  4.311263e-141  1.099919e-01  1.119242e-03    0.0  100.0    1.0  1   1   \n",
       "16  4.430902e-132  1.099826e-01  1.128517e-03    0.0  100.0    1.0  1   1   \n",
       "22   1.111111e-01  4.993639e-14  4.276428e-24  100.0    0.0    0.0  0   0   \n",
       "23   1.111111e-01  1.499634e-17  1.247880e-28  100.0    0.0    0.0  0   0   \n",
       "25   1.111111e-01  3.073519e-19  6.623819e-30  100.0    0.0    0.0  0   0   \n",
       "26   1.111111e-01  3.754837e-12  1.501237e-21  100.0    0.0    0.0  0   0   \n",
       "27  2.329410e-111  1.110449e-01  6.623101e-05    0.0  100.0    0.0  1   1   \n",
       "19   1.111111e-01  1.155652e-16  2.386828e-26  100.0    0.0    0.0  0   0   \n",
       "18   1.111111e-01  2.634348e-16  3.581145e-27  100.0    0.0    0.0  0   0   \n",
       "0   2.047852e-233  2.892083e-07  1.111108e-01    0.0    0.0  100.0  2   2   \n",
       "15   1.111111e-01  8.348530e-20  4.039475e-30  100.0    0.0    0.0  0   0   \n",
       "28   1.468347e-47  1.111111e-01  2.629170e-09    0.0  100.0    0.0  1   1   \n",
       "12  5.536769e-133  1.110050e-01  1.061268e-04    0.0  100.0    0.0  1   1   \n",
       "9    5.979561e-94  1.111001e-01  1.101528e-05    0.0  100.0    0.0  1   1   \n",
       "6    1.111111e-01  1.285913e-17  5.222412e-28  100.0    0.0    0.0  0   0   \n",
       "5   8.300303e-322  2.067209e-11  1.111111e-01    0.0    0.0  100.0  2   2   \n",
       "4    1.111111e-01  1.006232e-17  4.157623e-28  100.0    0.0    0.0  0   0   \n",
       "3   1.986758e-306  1.382749e-07  1.111110e-01    0.0    0.0  100.0  2   2   \n",
       "2    1.111111e-01  8.318234e-20  3.599120e-29  100.0    0.0    0.0  0   0   \n",
       "1    1.925208e-83  1.111110e-01  1.584818e-07    0.0  100.0    0.0  1   1   \n",
       "17  4.356429e-112  1.111057e-01  5.383430e-06    0.0  100.0    0.0  1   1   \n",
       "29   1.111111e-01  2.177720e-14  1.564266e-24  100.0    0.0    0.0  0   0   \n",
       "\n",
       "    accurate  第一第二之差  \n",
       "10     False    25.0  \n",
       "24      True    73.0  \n",
       "7       True    75.0  \n",
       "8       True    91.0  \n",
       "11      True    95.0  \n",
       "13      True    96.0  \n",
       "20      True    98.0  \n",
       "21      True    99.0  \n",
       "14      True    99.0  \n",
       "16      True    99.0  \n",
       "22      True   100.0  \n",
       "23      True   100.0  \n",
       "25      True   100.0  \n",
       "26      True   100.0  \n",
       "27      True   100.0  \n",
       "19      True   100.0  \n",
       "18      True   100.0  \n",
       "0       True   100.0  \n",
       "15      True   100.0  \n",
       "28      True   100.0  \n",
       "12      True   100.0  \n",
       "9       True   100.0  \n",
       "6       True   100.0  \n",
       "5       True   100.0  \n",
       "4       True   100.0  \n",
       "3       True   100.0  \n",
       "2       True   100.0  \n",
       "1       True   100.0  \n",
       "17      True   100.0  \n",
       "29      True   100.0  "
      ]
     },
     "execution_count": 31,
     "metadata": {},
     "output_type": "execute_result"
    }
   ],
   "source": [
    "probs_df.sort_values(\"第一第二之差\")"
   ]
  },
  {
   "cell_type": "markdown",
   "metadata": {},
   "source": [
    "有时候为了提高精确率，我们可以比较各个类别概率的比值，取阈值比较大，比较有把握判断是某种类别的时候再判断。\n",
    "\n",
    "和逻辑回归中调整概率的阈值是一个道理。"
   ]
  },
  {
   "cell_type": "code",
   "execution_count": 32,
   "metadata": {},
   "outputs": [],
   "source": [
    "from scipy import stats"
   ]
  },
  {
   "cell_type": "code",
   "execution_count": 33,
   "metadata": {},
   "outputs": [
    {
     "data": {
      "text/plain": [
       "[<matplotlib.lines.Line2D at 0x21c9b9c8a20>]"
      ]
     },
     "execution_count": 33,
     "metadata": {},
     "output_type": "execute_result"
    },
    {
     "data": {
      "image/png": "[encoded data removed]",
      "text/plain": [
       "<Figure size 432x288 with 1 Axes>"
      ]
     },
     "metadata": {
      "needs_background": "light"
     },
     "output_type": "display_data"
    }
   ],
   "source": [
    "x = np.arange(X_train[:,0].min(), X_train[:,0].max(), 0.1)\n",
    "plt.plot(x, stats.norm(X_train.mean(axis=0)[0], X_train.std(axis=0)[0]).pdf(x))"
   ]
  },
  {
   "cell_type": "code",
   "execution_count": 34,
   "metadata": {},
   "outputs": [
    {
     "data": {
      "text/plain": [
       "[<matplotlib.lines.Line2D at 0x21c9ba1f780>]"
      ]
     },
     "execution_count": 34,
     "metadata": {},
     "output_type": "execute_result"
    },
    {
     "data": {
      "image/png": "[encoded data removed]",
      "text/plain": [
       "<Figure size 432x288 with 1 Axes>"
      ]
     },
     "metadata": {
      "needs_background": "light"
     },
     "output_type": "display_data"
    }
   ],
   "source": [
    "x = np.arange(X_train[:,0].min(), X_train[:,0].max(), 0.1)\n",
    "u,r = X_train.mean(axis=0)[0], X_train.std(axis=0)[0]\n",
    "plt.plot(x, 1/np.sqrt(2*np.pi)/r * (np.exp( -(x - u)**2/(2*r**2) )) )"
   ]
  },
  {
   "cell_type": "code",
   "execution_count": 35,
   "metadata": {},
   "outputs": [
    {
     "data": {
      "text/plain": [
       "array([ True, False, False,  True, False,  True, False, False, False,\n",
       "       False,  True, False, False, False, False, False, False, False,\n",
       "       False, False,  True, False, False, False,  True, False, False,\n",
       "       False, False, False])"
      ]
     },
     "execution_count": 35,
     "metadata": {},
     "output_type": "execute_result"
    }
   ],
   "source": [
    "y_test == i"
   ]
  },
  {
   "cell_type": "markdown",
   "metadata": {},
   "source": [
    "## 离散值"
   ]
  },
  {
   "cell_type": "markdown",
   "metadata": {},
   "source": [
    "对短信进行二分类，数据为SMSSpamCollection"
   ]
  },
  {
   "cell_type": "code",
   "execution_count": 36,
   "metadata": {},
   "outputs": [
    {
     "data": {
      "text/html": [
       "<div>\n",
       "<style scoped>\n",
       "    .dataframe tbody tr th:only-of-type {\n",
       "        vertical-align: middle;\n",
       "    }\n",
       "\n",
       "    .dataframe tbody tr th {\n",
       "        vertical-align: top;\n",
       "    }\n",
       "\n",
       "    .dataframe thead th {\n",
       "        text-align: right;\n",
       "    }\n",
       "</style>\n",
       "<table border=\"1\" class=\"dataframe\">\n",
       "  <thead>\n",
       "    <tr style=\"text-align: right;\">\n",
       "      <th></th>\n",
       "      <th>target</th>\n",
       "      <th>message</th>\n",
       "    </tr>\n",
       "  </thead>\n",
       "  <tbody>\n",
       "    <tr>\n",
       "      <th>0</th>\n",
       "      <td>ham</td>\n",
       "      <td>Go until jurong point, crazy.. Available only ...</td>\n",
       "    </tr>\n",
       "    <tr>\n",
       "      <th>1</th>\n",
       "      <td>ham</td>\n",
       "      <td>Ok lar... Joking wif u oni...</td>\n",
       "    </tr>\n",
       "    <tr>\n",
       "      <th>2</th>\n",
       "      <td>spam</td>\n",
       "      <td>Free entry in 2 a wkly comp to win FA Cup fina...</td>\n",
       "    </tr>\n",
       "    <tr>\n",
       "      <th>3</th>\n",
       "      <td>ham</td>\n",
       "      <td>U dun say so early hor... U c already then say...</td>\n",
       "    </tr>\n",
       "    <tr>\n",
       "      <th>4</th>\n",
       "      <td>ham</td>\n",
       "      <td>Nah I don't think he goes to usf, he lives aro...</td>\n",
       "    </tr>\n",
       "  </tbody>\n",
       "</table>\n",
       "</div>"
      ],
      "text/plain": [
       "  target                                            message\n",
       "0    ham  Go until jurong point, crazy.. Available only ...\n",
       "1    ham                      Ok lar... Joking wif u oni...\n",
       "2   spam  Free entry in 2 a wkly comp to win FA Cup fina...\n",
       "3    ham  U dun say so early hor... U c already then say...\n",
       "4    ham  Nah I don't think he goes to usf, he lives aro..."
      ]
     },
     "execution_count": 36,
     "metadata": {},
     "output_type": "execute_result"
    }
   ],
   "source": [
    "sms_df = pd.read_csv(\"data/SMSSpamCollection\", sep=\"\\t\", header=None, names=['target','message'])\n",
    "sms_df.head()"
   ]
  },
  {
   "cell_type": "code",
   "execution_count": 37,
   "metadata": {},
   "outputs": [
    {
     "data": {
      "text/plain": [
       "((5572, 2), 5169)"
      ]
     },
     "execution_count": 37,
     "metadata": {},
     "output_type": "execute_result"
    }
   ],
   "source": [
    "sms_df.shape, sms_df[\"message\"].unique().size"
   ]
  },
  {
   "cell_type": "code",
   "execution_count": 38,
   "metadata": {},
   "outputs": [
    {
     "data": {
      "text/plain": [
       "ham     4825\n",
       "spam     747\n",
       "Name: target, dtype: int64"
      ]
     },
     "execution_count": 38,
     "metadata": {},
     "output_type": "execute_result"
    }
   ],
   "source": [
    "# spam垃圾邮件\n",
    "sms_df[\"target\"].value_counts()"
   ]
  },
  {
   "cell_type": "code",
   "execution_count": 39,
   "metadata": {},
   "outputs": [],
   "source": [
    "X, y = sms_df[\"message\"].values, sms_df[\"target\"].values"
   ]
  },
  {
   "cell_type": "code",
   "execution_count": 40,
   "metadata": {},
   "outputs": [],
   "source": [
    "X_train, X_test, y_train, y_test = train_test_split(X, y, test_size=0.2, random_state=1)"
   ]
  },
  {
   "cell_type": "code",
   "execution_count": 41,
   "metadata": {},
   "outputs": [],
   "source": [
    "# 文本特征提取：\n",
    "#     将文本数据转化成特征向量的过程\n",
    "#     比较常用的文本特征表示法为词袋法\n",
    "#\n",
    "# 词袋法：\n",
    "#     不考虑词语出现的顺序，每个出现过的词汇单独作为一列特征\n",
    "#     这些不重复的特征词汇集合为词表\n",
    "#     每一个文本都可以在很长的词表上统计出一个很多列的特征向量\n",
    "# CountVectorizer是将文本向量转换成稀疏表示数值向量（字符频率向量）  vectorizer 将文档词块化,只考虑词汇在文本中出现的频率\n",
    "# 词袋\n",
    "from sklearn.feature_extraction.text import CountVectorizer"
   ]
  },
  {
   "cell_type": "code",
   "execution_count": 42,
   "metadata": {},
   "outputs": [
    {
     "data": {
      "text/plain": [
       "<4457x7457 sparse matrix of type '<class 'numpy.int64'>'\n",
       "\twith 34675 stored elements in Compressed Sparse Row format>"
      ]
     },
     "execution_count": 42,
     "metadata": {},
     "output_type": "execute_result"
    }
   ],
   "source": [
    "vectorizer = CountVectorizer(stop_words='english')\n",
    "# 每行的词向量，fea_train是一个sparse矩阵\n",
    "fea_train = vectorizer.fit_transform(X_train)\n",
    "fea_train"
   ]
  },
  {
   "cell_type": "code",
   "execution_count": 43,
   "metadata": {},
   "outputs": [
    {
     "data": {
      "text/plain": [
       "<1115x7457 sparse matrix of type '<class 'numpy.int64'>'\n",
       "\twith 7873 stored elements in Compressed Sparse Row format>"
      ]
     },
     "execution_count": 43,
     "metadata": {},
     "output_type": "execute_result"
    }
   ],
   "source": [
    "fea_test = vectorizer.transform(X_test)\n",
    "fea_test"
   ]
  },
  {
   "cell_type": "code",
   "execution_count": 44,
   "metadata": {},
   "outputs": [
    {
     "data": {
      "text/plain": [
       "0"
      ]
     },
     "execution_count": 44,
     "metadata": {},
     "output_type": "execute_result"
    }
   ],
   "source": [
    "# vocabulary=vectorizer.vocabulary_ 只计算上面vectorizer中单词的tf(term frequency 词频)\n",
    "# 和上面的效果一样\n",
    "vectorizer2 = CountVectorizer(vocabulary=vectorizer.vocabulary_)\n",
    "(vectorizer2.fit_transform(X_test) != fea_test).sum()"
   ]
  },
  {
   "cell_type": "code",
   "execution_count": 45,
   "metadata": {},
   "outputs": [
    {
     "name": "stdout",
     "output_type": "stream",
     "text": [
      "  (0, 4349)\t1\n",
      "  (0, 2356)\t1\n",
      "  (0, 6698)\t1\n",
      "  (0, 5898)\t1\n",
      "  (0, 2722)\t1\n",
      "  (0, 3825)\t1\n",
      "  (0, 3792)\t1\n",
      "  (0, 3324)\t1\n",
      "  (1, 4346)\t1\n",
      "  (1, 1861)\t1\n",
      "  (1, 3368)\t1\n",
      "  (2, 4270)\t1\n",
      "  (2, 6218)\t1\n",
      "  (2, 6600)\t1\n",
      "  (2, 5675)\t1\n",
      "  (2, 3028)\t1\n",
      "  (2, 3188)\t1\n"
     ]
    }
   ],
   "source": [
    "# 很稀疏\n",
    "print(fea_train[:3])"
   ]
  },
  {
   "cell_type": "code",
   "execution_count": 46,
   "metadata": {},
   "outputs": [],
   "source": [
    "from sklearn.naive_bayes import MultinomialNB"
   ]
  },
  {
   "cell_type": "code",
   "execution_count": 47,
   "metadata": {},
   "outputs": [
    {
     "data": {
      "text/plain": [
       "0.9910313901345291"
      ]
     },
     "execution_count": 47,
     "metadata": {},
     "output_type": "execute_result"
    }
   ],
   "source": [
    "# 词袋法矩阵的值都是0、1，应该适用于多项分布、伯努利分布\n",
    "# alpha = 1 拉普拉斯估计给每个单词个数加1\n",
    "mul_nb = MultinomialNB(alpha=1)\n",
    "mul_nb.fit(fea_train, y_train)\n",
    "mul_nb.score(fea_test, y_test)"
   ]
  },
  {
   "cell_type": "code",
   "execution_count": 48,
   "metadata": {},
   "outputs": [
    {
     "data": {
      "text/html": [
       "<div>\n",
       "<style scoped>\n",
       "    .dataframe tbody tr th:only-of-type {\n",
       "        vertical-align: middle;\n",
       "    }\n",
       "\n",
       "    .dataframe tbody tr th {\n",
       "        vertical-align: top;\n",
       "    }\n",
       "\n",
       "    .dataframe thead th {\n",
       "        text-align: right;\n",
       "    }\n",
       "</style>\n",
       "<table border=\"1\" class=\"dataframe\">\n",
       "  <thead>\n",
       "    <tr style=\"text-align: right;\">\n",
       "      <th>col_0</th>\n",
       "      <th>ham</th>\n",
       "      <th>spam</th>\n",
       "    </tr>\n",
       "    <tr>\n",
       "      <th>row_0</th>\n",
       "      <th></th>\n",
       "      <th></th>\n",
       "    </tr>\n",
       "  </thead>\n",
       "  <tbody>\n",
       "    <tr>\n",
       "      <th>ham</th>\n",
       "      <td>965</td>\n",
       "      <td>7</td>\n",
       "    </tr>\n",
       "    <tr>\n",
       "      <th>spam</th>\n",
       "      <td>3</td>\n",
       "      <td>140</td>\n",
       "    </tr>\n",
       "  </tbody>\n",
       "</table>\n",
       "</div>"
      ],
      "text/plain": [
       "col_0  ham  spam\n",
       "row_0           \n",
       "ham    965     7\n",
       "spam     3   140"
      ]
     },
     "execution_count": 48,
     "metadata": {},
     "output_type": "execute_result"
    }
   ],
   "source": [
    "pd.crosstab(mul_nb.predict(fea_test), y_test)"
   ]
  },
  {
   "cell_type": "code",
   "execution_count": 49,
   "metadata": {},
   "outputs": [],
   "source": [
    "from sklearn.naive_bayes import BernoulliNB"
   ]
  },
  {
   "cell_type": "code",
   "execution_count": 50,
   "metadata": {},
   "outputs": [
    {
     "data": {
      "text/plain": [
       "0.9928251121076234"
      ]
     },
     "execution_count": 50,
     "metadata": {},
     "output_type": "execute_result"
    }
   ],
   "source": [
    "# 差一点点\n",
    "bnl_nb = BernoulliNB(alpha=0.1)\n",
    "bnl_nb.fit(fea_train, y_train)\n",
    "bnl_nb.score(fea_test, y_test)"
   ]
  },
  {
   "cell_type": "code",
   "execution_count": 51,
   "metadata": {},
   "outputs": [
    {
     "data": {
      "text/plain": [
       "0.8932735426008969"
      ]
     },
     "execution_count": 51,
     "metadata": {},
     "output_type": "execute_result"
    }
   ],
   "source": [
    "# 高斯不支持sparse矩阵，也好理解，计算的方式不一样，这个是连续值\n",
    "# 而且这个明显不适用于高斯分布\n",
    "gs_nb = GaussianNB()\n",
    "gs_nb.fit(fea_train.toarray(), y_train)\n",
    "gs_nb.score(fea_test.toarray(), y_test)"
   ]
  },
  {
   "cell_type": "code",
   "execution_count": 52,
   "metadata": {},
   "outputs": [],
   "source": [
    "# 使用Tfidf应该更好\n",
    "from sklearn.feature_extraction.text import TfidfVectorizer"
   ]
  },
  {
   "cell_type": "code",
   "execution_count": 53,
   "metadata": {},
   "outputs": [
    {
     "data": {
      "text/plain": [
       "<4457x7457 sparse matrix of type '<class 'numpy.float64'>'\n",
       "\twith 34675 stored elements in Compressed Sparse Row format>"
      ]
     },
     "execution_count": 53,
     "metadata": {},
     "output_type": "execute_result"
    }
   ],
   "source": [
    "# Equivalent to CountVectorizer followed by TfidfTransformer.\n",
    "# term frequency 词频，idf inverse documents frequency\n",
    "# 相当于对词频，加了权重\n",
    "# 的，了，你，我，他分类，作用不大，因为所有文章，都出现很多\n",
    "# 作为分类的词，特点：一类文章中，出现次数很多，其他文章中出现很少\n",
    "tfidf = TfidfVectorizer(stop_words='english')\n",
    "tfidf_train = tfidf.fit_transform(X_train)\n",
    "tfidf_train"
   ]
  },
  {
   "cell_type": "code",
   "execution_count": 54,
   "metadata": {},
   "outputs": [
    {
     "data": {
      "text/plain": [
       "<1115x7457 sparse matrix of type '<class 'numpy.float64'>'\n",
       "\twith 7873 stored elements in Compressed Sparse Row format>"
      ]
     },
     "execution_count": 54,
     "metadata": {},
     "output_type": "execute_result"
    }
   ],
   "source": [
    "tfidf_test = tfidf.transform(X_test)\n",
    "tfidf_test"
   ]
  },
  {
   "cell_type": "code",
   "execution_count": 55,
   "metadata": {},
   "outputs": [
    {
     "name": "stdout",
     "output_type": "stream",
     "text": [
      "  (0, 3324)\t0.2638802854739516\n",
      "  (0, 3792)\t0.4750235197588447\n",
      "  (0, 3825)\t0.37729728742748087\n",
      "  (0, 2722)\t0.299459437576315\n",
      "  (0, 5898)\t0.415102954745324\n",
      "  (0, 6698)\t0.3616065178053154\n",
      "  (0, 2356)\t0.2545072203817634\n",
      "  (0, 4349)\t0.3238008504874723\n",
      "  (1, 3368)\t0.5510421389942982\n",
      "  (1, 1861)\t0.5163195438969705\n",
      "  (1, 4346)\t0.6555659308129219\n"
     ]
    }
   ],
   "source": [
    "print(tfidf_train[:2])"
   ]
  },
  {
   "cell_type": "code",
   "execution_count": 56,
   "metadata": {},
   "outputs": [
    {
     "name": "stdout",
     "output_type": "stream",
     "text": [
      "  (0, 4349)\t1\n",
      "  (0, 2356)\t1\n",
      "  (0, 6698)\t1\n",
      "  (0, 5898)\t1\n",
      "  (0, 2722)\t1\n",
      "  (0, 3825)\t1\n",
      "  (0, 3792)\t1\n",
      "  (0, 3324)\t1\n",
      "  (1, 4346)\t1\n",
      "  (1, 1861)\t1\n",
      "  (1, 3368)\t1\n"
     ]
    }
   ],
   "source": [
    "print(fea_train[:2])"
   ]
  },
  {
   "cell_type": "code",
   "execution_count": 57,
   "metadata": {},
   "outputs": [
    {
     "data": {
      "text/plain": [
       "0.9919282511210762"
      ]
     },
     "execution_count": 57,
     "metadata": {},
     "output_type": "execute_result"
    }
   ],
   "source": [
    "# alpha = 1 拉普拉斯估计给每个单词个数加1\n",
    "mul_nb = MultinomialNB(alpha=0.1)\n",
    "mul_nb.fit(tfidf_train, y_train)\n",
    "mul_nb.score(tfidf_test, y_test)"
   ]
  },
  {
   "cell_type": "code",
   "execution_count": 58,
   "metadata": {},
   "outputs": [
    {
     "data": {
      "text/html": [
       "<div>\n",
       "<style scoped>\n",
       "    .dataframe tbody tr th:only-of-type {\n",
       "        vertical-align: middle;\n",
       "    }\n",
       "\n",
       "    .dataframe tbody tr th {\n",
       "        vertical-align: top;\n",
       "    }\n",
       "\n",
       "    .dataframe thead th {\n",
       "        text-align: right;\n",
       "    }\n",
       "</style>\n",
       "<table border=\"1\" class=\"dataframe\">\n",
       "  <thead>\n",
       "    <tr style=\"text-align: right;\">\n",
       "      <th>col_0</th>\n",
       "      <th>ham</th>\n",
       "      <th>spam</th>\n",
       "    </tr>\n",
       "    <tr>\n",
       "      <th>row_0</th>\n",
       "      <th></th>\n",
       "      <th></th>\n",
       "    </tr>\n",
       "  </thead>\n",
       "  <tbody>\n",
       "    <tr>\n",
       "      <th>ham</th>\n",
       "      <td>966</td>\n",
       "      <td>7</td>\n",
       "    </tr>\n",
       "    <tr>\n",
       "      <th>spam</th>\n",
       "      <td>2</td>\n",
       "      <td>140</td>\n",
       "    </tr>\n",
       "  </tbody>\n",
       "</table>\n",
       "</div>"
      ],
      "text/plain": [
       "col_0  ham  spam\n",
       "row_0           \n",
       "ham    966     7\n",
       "spam     2   140"
      ]
     },
     "execution_count": 58,
     "metadata": {},
     "output_type": "execute_result"
    }
   ],
   "source": [
    "pd.crosstab(mul_nb.predict(tfidf_test), y_test)"
   ]
  },
  {
   "cell_type": "code",
   "execution_count": 59,
   "metadata": {},
   "outputs": [
    {
     "data": {
      "text/plain": [
       "0.9928251121076234"
      ]
     },
     "execution_count": 59,
     "metadata": {},
     "output_type": "execute_result"
    }
   ],
   "source": [
    "bnl_nb = BernoulliNB(alpha=0.05)\n",
    "bnl_nb.fit(tfidf_train, y_train)\n",
    "bnl_nb.score(tfidf_test, y_test)"
   ]
  },
  {
   "cell_type": "code",
   "execution_count": 60,
   "metadata": {},
   "outputs": [
    {
     "data": {
      "text/plain": [
       "0.8896860986547085"
      ]
     },
     "execution_count": 60,
     "metadata": {},
     "output_type": "execute_result"
    }
   ],
   "source": [
    "# 用tfidf也不适用于高斯分布\n",
    "gs_nb = GaussianNB()\n",
    "gs_nb.fit(tfidf_train.toarray(), y_train)\n",
    "gs_nb.score(tfidf_test.toarray(), y_test)"
   ]
  },
  {
   "cell_type": "code",
   "execution_count": null,
   "metadata": {},
   "outputs": [],
   "source": []
  }
 ],
 "metadata": {
  "kernelspec": {
   "display_name": "Python 3",
   "language": "python",
   "name": "python3"
  },
  "language_info": {
   "codemirror_mode": {
    "name": "ipython",
    "version": 3
   },
   "file_extension": ".py",
   "mimetype": "text/x-python",
   "name": "python",
   "nbconvert_exporter": "python",
   "pygments_lexer": "ipython3",
   "version": "3.7.0"
  },
  "toc": {
   "base_numbering": 1,
   "nav_menu": {},
   "number_sections": true,
   "sideBar": true,
   "skip_h1_title": false,
   "title_cell": "Table of Contents",
   "title_sidebar": "Contents",
   "toc_cell": false,
   "toc_position": {},
   "toc_section_display": true,
   "toc_window_display": true
  }
 },
 "nbformat": 4,
 "nbformat_minor": 2
}
