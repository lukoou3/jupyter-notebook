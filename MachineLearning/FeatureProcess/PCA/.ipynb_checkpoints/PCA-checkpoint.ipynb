{
 "cells": [
  {
   "cell_type": "code",
   "execution_count": 1,
   "metadata": {},
   "outputs": [],
   "source": [
    "import numpy as np\n",
    "import pandas as pd\n",
    "from matplotlib import pyplot as plt\n",
    "import seaborn as sns"
   ]
  },
  {
   "cell_type": "code",
   "execution_count": 2,
   "metadata": {},
   "outputs": [],
   "source": [
    "sns.set()\n",
    "\n",
    "# 支持中文\n",
    "# 就是那个文件的文件名，记得对照大小写\n",
    "plt.rcParams['font.sans-serif'] = ['SimHei']  # 用来正常显示中文标签\n",
    "plt.rcParams['axes.unicode_minus'] = False  # 用来正常显示负号\n",
    "\n",
    "%matplotlib inline"
   ]
  },
  {
   "cell_type": "markdown",
   "metadata": {},
   "source": [
    "**PCA提取的特征没有实际的物理意义，这是和通过信息增益选取主要特征是不一样的。**"
   ]
  },
  {
   "cell_type": "markdown",
   "metadata": {},
   "source": [
    "直观上理解后再看详细的数学推到就容易理解了。算发的发明也不大可能是公式得出灵感。\n",
    "\n",
    "PCA算法理解的关键点就两点：\n",
    "\n",
    "* 1.投影之后方差最大  \n",
    "* 2.投影之后各个属性不相关\n",
    "\n",
    "PCA是可以看成是对原向量进行(线性)变换，投影到新的坐标系中，原向量在新的坐标系中的表示就是投影后的向量，舍弃投影过后的向量中包含信息较少的维度就是最终结果。\n",
    "\n",
    "现在分析上述两点原则：\n",
    "\n",
    "* 第一点，投影之后再某个方向上的方差最大，表示投影之后在此方向上包含的信息最多，也即信息熵越大。方差越大，信息熵越大，信息量也就越大。这一论断可以从信息熵的定义推出，直接在知乎搜索信息熵，有些回答给出了很好的直观解释。如果原始向量投影到一维空间，那必然要选择投影后包含信息量最多的方向，也就意味着降维损失的信息量越少。当投影到K维空间后，选取信息量最大的K个投影方向，就是对应的取前K个最大特征值。  \n",
    "* 第二点，投影之后各个属性不相关。属性相关意味着两个属性间存在关系，意味着已知一个属性，能够获取另一个属性的部分信息，因此数据的实际维度可能并不需要这么高的维度表示。总之，属性相关会导致维度冗余，因此投影之后要求各个属性不相关，也是为了信息能够在最少的维度表示。属性间的相关性用协方差表示。\n",
    "\n",
    "恰好方差和协方差可以用一个单独的协方差矩阵表示，同时这个协方差矩阵是对称的，数学上推到出来的结果就很简单了。"
   ]
  },
  {
   "cell_type": "markdown",
   "metadata": {},
   "source": [
    "总结一下 PCA 的算法步骤：\n",
    "\n",
    "设有 m 条 n 维数据。\n",
    "\n",
    "* 将原始数据按列组成 n 行 m 列矩阵 X；    \n",
    "* 将 X 的每一行进行零均值化，即减去这一行的均值；    \n",
    "* 求出协方差矩阵$C=\\frac{1}{m}XX^\\mathsf{T}$；    \n",
    "* 求出协方差矩阵的特征值及对应的特征向量；    \n",
    "* 将特征向量按对应特征值大小从上到下按行排列成矩阵，取前 k 行组成矩阵 P；    \n",
    "* $Y=PX$即为降维到 k 维后的数据。\n",
    "\n"
   ]
  },
  {
   "cell_type": "markdown",
   "metadata": {},
   "source": [
    "PCA 的算法步骤：\n",
    "\n",
    "求样本$x_i$的$n'$维的主成分其实就是求样本集的协方差矩阵$\\frac{1}{m}XX^\\top$的前$n'$个特征值对应特征向量矩阵$P$，然后对于每个样本$x_i$,做如下变换$y_i=Px_i$，即达到降维的PCA目的。\n",
    "\n",
    "下面我们看看具体的算法流程：\n",
    "\n",
    "* 输入：$n$维样本集$X=(x_1,x_2,...,x_m)$，要降维到的维数$n'$.\n",
    "\n",
    "* 输出：降维后的样本集$Y$\n",
    "\n",
    "* 1.对所有的样本进行中心化$x_i=x_i-\\frac{1}{m}\\sum_{j=1}^{m}x_j$\n",
    "\n",
    "* 2.计算样本的协方差矩阵$C=\\frac{1}{m}XX^\\mathsf{T}$\n",
    "\n",
    "* 3.求出协方差矩阵的特征值及对应的特征向量\n",
    "\n",
    "* 4.将特征向量按对应特征值大小从上到下按行排列成矩阵，取前k行组成矩阵P\n",
    "\n",
    "* 5.Y=PX即为降维到k维后的数据\n",
    "\n",
    "注意：\n",
    "\n",
    "有时候，我们不指定降维后的$n'$的值，而是换种方式，指定一个降维到的主成分比重阈值$t$。这个阈值t在$(0,1]$之间。假如我们的$n$个特征值为$\\lambda_1\\geq\\lambda_2\\geq...\\geq\\lambda_n$,则n'可以通过下式得到:\n",
    "\n",
    "$\\frac{\\sum_{i=1}^{n'}\\lambda_i}{\\sum_{i=1}^{n}\\lambda_i}\\geq t$"
   ]
  },
  {
   "cell_type": "markdown",
   "metadata": {},
   "source": [
    "数学上的解释，矩阵按照向量看待，矩阵是一行向量，相当于m个在n维空间上的点(向量)；这样左乘的特征向量矩阵(n, k)就相当于将原点做线性变换映射到k维的空间，向量从n维变成了k维：\n",
    "\n",
    "形状(特征，样本i)，(n, m)，协方差(n, n)，前k的特征向量矩阵(n, k)，特征向量矩阵(n, k) * 中心化样本(n, m) => (n, k)这不就是相当于对原向量做了线性变化映射到k维空间的点。\n",
    "\n",
    "上面流程的X是(n, m)形状，在np中的计算习惯相反，效果是一样的，协方差矩阵是对称矩阵。协方差矩阵这样计算：$\\frac{1}{m}X^\\mathsf{T}X$。\n",
    "\n",
    "原数据中心化后X的形状(m, n)，协方差矩阵(n, n)，特征向量矩阵(n, n)，对应的特征值(n,)，取特征值前k对应的特征向量(n, k)。\n",
    "(m, n) * (n, k) = (m, k)"
   ]
  },
  {
   "cell_type": "markdown",
   "metadata": {},
   "source": [
    "## PCA计算"
   ]
  },
  {
   "cell_type": "markdown",
   "metadata": {},
   "source": [
    "### 网上找的\n",
    "`https://github.com/bhattbhavesh91/pca-from-scratch-iris-dataset/blob/master/PCA_2D_Data.ipynb`"
   ]
  },
  {
   "cell_type": "markdown",
   "metadata": {},
   "source": [
    "这个是按照数学上的习惯处理的。"
   ]
  },
  {
   "cell_type": "code",
   "execution_count": 3,
   "metadata": {},
   "outputs": [
    {
     "name": "stdout",
     "output_type": "stream",
     "text": [
      "[2.5 0.5 2.2 1.9 3.1 2.3 2.  1.  1.5 1. ] [2.4 0.7 2.9 2.2 3.  2.7 1.6 1.1 1.6 0.9]\n"
     ]
    }
   ],
   "source": [
    "x = np.array([2.5,0.5,2.2,1.9,3.1,2.3,2,1,1.5,1])\n",
    "y = np.array([2.4,0.7,2.9,2.2,3,2.7,1.6,1.1,1.6,0.9])\n",
    "print(x, y)"
   ]
  },
  {
   "cell_type": "code",
   "execution_count": 4,
   "metadata": {},
   "outputs": [
    {
     "data": {
      "text/plain": [
       "<matplotlib.collections.PathCollection at 0x2a0ff00cda0>"
      ]
     },
     "execution_count": 4,
     "metadata": {},
     "output_type": "execute_result"
    },
    {
     "data": {
      "image/png": "[encoded data removed]",
      "text/plain": [
       "<Figure size 432x288 with 1 Axes>"
      ]
     },
     "metadata": {
      "needs_background": "light"
     },
     "output_type": "display_data"
    }
   ],
   "source": [
    "plt.scatter(x,y)"
   ]
  },
  {
   "cell_type": "code",
   "execution_count": 5,
   "metadata": {},
   "outputs": [
    {
     "name": "stdout",
     "output_type": "stream",
     "text": [
      "[[0.63333333 0.62666667]\n",
      " [0.62666667 0.71655556]]\n"
     ]
    }
   ],
   "source": [
    "x_mean = np.mean(x)\n",
    "y_mean = np.mean(y)\n",
    "x_std = x - x_mean\n",
    "y_std = y - y_mean\n",
    "cov_mat = np.cov([x_std,y_std])\n",
    "print(cov_mat)"
   ]
  },
  {
   "cell_type": "code",
   "execution_count": 6,
   "metadata": {},
   "outputs": [
    {
     "name": "stdout",
     "output_type": "stream",
     "text": [
      "Eigenvector 1: \n",
      "[[-0.73015574]\n",
      " [ 0.68328076]]\n",
      "Eigenvalue 1 from scatter matrix: 0.04689779356649226\n",
      "----------------------------------------\n",
      "Eigenvector 2: \n",
      "[[-0.68328076]\n",
      " [-0.73015574]]\n",
      "Eigenvalue 2 from scatter matrix: 1.3029910953223962\n",
      "----------------------------------------\n"
     ]
    }
   ],
   "source": [
    "# eigenvectors and eigenvalues for the from the scatter matrix\n",
    "# 协方差矩阵的特征值和特征向量\n",
    "eig_val_sc, eig_vec_sc = np.linalg.eig(cov_mat)\n",
    "\n",
    "for i in range(len(eig_val_sc)):\n",
    "    eigvec_sc = eig_vec_sc[:,i].reshape(1,2).T\n",
    "\n",
    "    print('Eigenvector {}: \\n{}'.format(i+1, eigvec_sc))\n",
    "    print('Eigenvalue {} from scatter matrix: {}'.format(i+1, eig_val_sc[i]))\n",
    "    print(40 * '-')"
   ]
  },
  {
   "cell_type": "code",
   "execution_count": 7,
   "metadata": {},
   "outputs": [
    {
     "data": {
      "text/plain": [
       "array([[-0.73015574, -0.68328076],\n",
       "       [ 0.68328076, -0.73015574]])"
      ]
     },
     "execution_count": 7,
     "metadata": {},
     "output_type": "execute_result"
    }
   ],
   "source": [
    "# 特征向量\n",
    "eig_vec_sc"
   ]
  },
  {
   "cell_type": "code",
   "execution_count": 8,
   "metadata": {},
   "outputs": [
    {
     "data": {
      "text/plain": [
       "array([0.04689779, 1.3029911 ])"
      ]
     },
     "execution_count": 8,
     "metadata": {},
     "output_type": "execute_result"
    }
   ],
   "source": [
    "# 特征值\n",
    "eig_val_sc"
   ]
  },
  {
   "cell_type": "code",
   "execution_count": 9,
   "metadata": {},
   "outputs": [
    {
     "name": "stdout",
     "output_type": "stream",
     "text": [
      "----------------------------------------\n",
      "[-0.68328076 -0.73015574]\n",
      "[-0.73015574  0.68328076]\n"
     ]
    }
   ],
   "source": [
    "# Make a list of (eigenvalue, eigenvector) tuples\n",
    "# 元组:(特征值,特征向量) list\n",
    "eig_pairs = [(np.abs(eig_val_sc[i]), eig_vec_sc[:,i]) for i in range(len(eig_val_sc))]\n",
    "\n",
    "# Sort the (eigenvalue, eigenvector) tuples from high to low\n",
    "# 排序按特征值从大到小顺序\n",
    "eig_pairs.sort(key=lambda x: x[0], reverse=True)\n",
    "\n",
    "print(40 * '-')\n",
    "# Visually confirm that the list is correctly sorted by decreasing eigenvalues\n",
    "# 直观地确认列表已通过降低特征值正确排序\n",
    "for i in eig_pairs:\n",
    "    print(i[1])"
   ]
  },
  {
   "cell_type": "code",
   "execution_count": 10,
   "metadata": {},
   "outputs": [
    {
     "name": "stdout",
     "output_type": "stream",
     "text": [
      "----------------------------------------\n",
      "Matrix W: \n",
      " [[-0.68328076 -0.73015574]\n",
      " [-0.73015574  0.68328076]]\n"
     ]
    }
   ],
   "source": [
    "matrix_w = np.hstack((eig_pairs[0][1].reshape(2,1), eig_pairs[1][1].reshape(2,1)))\n",
    "print(40 * '-')\n",
    "print('Matrix W: \\n', matrix_w)"
   ]
  },
  {
   "cell_type": "code",
   "execution_count": 11,
   "metadata": {},
   "outputs": [
    {
     "data": {
      "text/plain": [
       "(2, 2)"
      ]
     },
     "execution_count": 11,
     "metadata": {},
     "output_type": "execute_result"
    }
   ],
   "source": [
    "matrix_w.shape"
   ]
  },
  {
   "cell_type": "code",
   "execution_count": 12,
   "metadata": {},
   "outputs": [
    {
     "data": {
      "text/plain": [
       "(10,)"
      ]
     },
     "execution_count": 12,
     "metadata": {},
     "output_type": "execute_result"
    }
   ],
   "source": [
    "x.shape"
   ]
  },
  {
   "cell_type": "code",
   "execution_count": 13,
   "metadata": {},
   "outputs": [
    {
     "data": {
      "text/plain": [
       "(10,)"
      ]
     },
     "execution_count": 13,
     "metadata": {},
     "output_type": "execute_result"
    }
   ],
   "source": [
    "y.shape"
   ]
  },
  {
   "cell_type": "code",
   "execution_count": 14,
   "metadata": {},
   "outputs": [
    {
     "name": "stdout",
     "output_type": "stream",
     "text": [
      "[[ 0.7  -1.3   0.4   0.1   1.3   0.5   0.2  -0.8  -0.3  -0.8 ]\n",
      " [ 0.49 -1.21  0.99  0.29  1.09  0.79 -0.31 -0.81 -0.31 -1.01]]\n"
     ]
    },
    {
     "data": {
      "text/plain": [
       "(2, 10)"
      ]
     },
     "execution_count": 14,
     "metadata": {},
     "output_type": "execute_result"
    }
   ],
   "source": [
    "features = np.vstack([x_std,y_std])\n",
    "print(features)\n",
    "features.shape"
   ]
  },
  {
   "cell_type": "code",
   "execution_count": 15,
   "metadata": {},
   "outputs": [
    {
     "name": "stdout",
     "output_type": "stream",
     "text": [
      "[[-0.83607284  1.77175343 -0.99616649 -0.28007324 -1.68413474 -0.91846341\n",
      "   0.08969213  1.13805076  0.43133251  1.2840819 ]\n",
      " [-0.17630145  0.12243274  0.38438566  0.12513585 -0.20442643  0.17471393\n",
      "  -0.35784818  0.03066718  0.00722969 -0.10598897]]\n"
     ]
    }
   ],
   "source": [
    "transformed = np.dot(matrix_w,features)\n",
    "print(transformed)"
   ]
  },
  {
   "cell_type": "code",
   "execution_count": 16,
   "metadata": {},
   "outputs": [
    {
     "data": {
      "text/plain": [
       "<matplotlib.collections.PathCollection at 0x2a0ff0b3048>"
      ]
     },
     "execution_count": 16,
     "metadata": {},
     "output_type": "execute_result"
    },
    {
     "data": {
      "image/png": "[encoded data removed]",
      "text/plain": [
       "<Figure size 432x288 with 1 Axes>"
      ]
     },
     "metadata": {
      "needs_background": "light"
     },
     "output_type": "display_data"
    }
   ],
   "source": [
    "plt.scatter(transformed[0,:],transformed[1,:])"
   ]
  },
  {
   "cell_type": "markdown",
   "metadata": {},
   "source": [
    "### 自己计算"
   ]
  },
  {
   "cell_type": "markdown",
   "metadata": {},
   "source": [
    "按照代码中的习惯，矩阵一行为一个点、一个向量，每行一条数据。行为样本，列为特征。"
   ]
  },
  {
   "cell_type": "code",
   "execution_count": 17,
   "metadata": {},
   "outputs": [
    {
     "data": {
      "text/plain": [
       "array([[2.5, 2.4],\n",
       "       [0.5, 0.7],\n",
       "       [2.2, 2.9],\n",
       "       [1.9, 2.2],\n",
       "       [3.1, 3. ],\n",
       "       [2.3, 2.7],\n",
       "       [2. , 1.6],\n",
       "       [1. , 1.1],\n",
       "       [1.5, 1.6],\n",
       "       [1. , 0.9]])"
      ]
     },
     "execution_count": 17,
     "metadata": {},
     "output_type": "execute_result"
    }
   ],
   "source": [
    "x = np.array([2.5,0.5,2.2,1.9,3.1,2.3,2,1,1.5,1])\n",
    "y = np.array([2.4,0.7,2.9,2.2,3,2.7,1.6,1.1,1.6,0.9])\n",
    "X = np.hstack([x.reshape(-1, 1), y.reshape(-1, 1)])\n",
    "X"
   ]
  },
  {
   "cell_type": "code",
   "execution_count": 18,
   "metadata": {},
   "outputs": [
    {
     "data": {
      "text/plain": [
       "Text(0, 0.5, 'x2')"
      ]
     },
     "execution_count": 18,
     "metadata": {},
     "output_type": "execute_result"
    },
    {
     "data": {
      "image/png": "[encoded data removed]",
      "text/plain": [
       "<Figure size 432x288 with 1 Axes>"
      ]
     },
     "metadata": {
      "needs_background": "light"
     },
     "output_type": "display_data"
    }
   ],
   "source": [
    "# 原始数据\n",
    "plt.scatter(X[:,0], X[:,1])\n",
    "plt.xlabel(\"x1\")\n",
    "plt.ylabel(\"x2\")"
   ]
  },
  {
   "cell_type": "code",
   "execution_count": 19,
   "metadata": {},
   "outputs": [
    {
     "data": {
      "text/plain": [
       "array([[ 0.7 ,  0.49],\n",
       "       [-1.3 , -1.21],\n",
       "       [ 0.4 ,  0.99],\n",
       "       [ 0.1 ,  0.29],\n",
       "       [ 1.3 ,  1.09],\n",
       "       [ 0.5 ,  0.79],\n",
       "       [ 0.2 , -0.31],\n",
       "       [-0.8 , -0.81],\n",
       "       [-0.3 , -0.31],\n",
       "       [-0.8 , -1.01]])"
      ]
     },
     "execution_count": 19,
     "metadata": {},
     "output_type": "execute_result"
    }
   ],
   "source": [
    "#将 X 的每一列(特征)进行零均值化，即减去这一列的均值\n",
    "X_std = X - X.mean(axis=0)\n",
    "X_std"
   ]
  },
  {
   "cell_type": "code",
   "execution_count": 20,
   "metadata": {},
   "outputs": [
    {
     "data": {
      "text/plain": [
       "Text(0, 0.5, 'x2')"
      ]
     },
     "execution_count": 20,
     "metadata": {},
     "output_type": "execute_result"
    },
    {
     "data": {
      "image/png": "[encoded data removed]",
      "text/plain": [
       "<Figure size 432x288 with 1 Axes>"
      ]
     },
     "metadata": {
      "needs_background": "light"
     },
     "output_type": "display_data"
    }
   ],
   "source": [
    "# 零均值化原始数据\n",
    "plt.scatter(X_std[:,0], X_std[:,1])\n",
    "plt.xlabel(\"x1\")\n",
    "plt.ylabel(\"x2\")"
   ]
  },
  {
   "cell_type": "code",
   "execution_count": 21,
   "metadata": {},
   "outputs": [
    {
     "data": {
      "text/plain": [
       "Text(0, 0.5, 'x2')"
      ]
     },
     "execution_count": 21,
     "metadata": {},
     "output_type": "execute_result"
    },
    {
     "data": {
      "image/png": "[encoded data removed]",
      "text/plain": [
       "<Figure size 432x288 with 1 Axes>"
      ]
     },
     "metadata": {
      "needs_background": "light"
     },
     "output_type": "display_data"
    }
   ],
   "source": [
    "# 就是相当于平移了坐标系，这样就是方便计算、数学推导，不影响。\n",
    "plt.scatter(X[:,0], X[:,1], c=\"#00ff00\")\n",
    "plt.scatter(X_std[:,0], X_std[:,1], c=\"#0000ff\")\n",
    "\n",
    "plt.xlabel(\"x1\")\n",
    "plt.ylabel(\"x2\")"
   ]
  },
  {
   "cell_type": "code",
   "execution_count": 22,
   "metadata": {},
   "outputs": [
    {
     "data": {
      "text/plain": [
       "array([[0.57  , 0.564 ],\n",
       "       [0.564 , 0.6449]])"
      ]
     },
     "execution_count": 22,
     "metadata": {},
     "output_type": "execute_result"
    }
   ],
   "source": [
    "# 协方差矩阵，没有减1\n",
    "np.dot(X_std.T, X_std) / X_std.shape[0]"
   ]
  },
  {
   "cell_type": "code",
   "execution_count": 23,
   "metadata": {},
   "outputs": [
    {
     "data": {
      "text/plain": [
       "array([[0.63333333, 0.62666667],\n",
       "       [0.62666667, 0.71655556]])"
      ]
     },
     "execution_count": 23,
     "metadata": {},
     "output_type": "execute_result"
    }
   ],
   "source": [
    "# 协方差矩阵\n",
    "std_cov = np.dot(X_std.T, X_std) / (X_std.shape[0] - 1)\n",
    "std_cov"
   ]
  },
  {
   "cell_type": "code",
   "execution_count": 24,
   "metadata": {},
   "outputs": [
    {
     "data": {
      "text/plain": [
       "array([[0.63333333, 0.62666667],\n",
       "       [0.62666667, 0.71655556]])"
      ]
     },
     "execution_count": 24,
     "metadata": {},
     "output_type": "execute_result"
    }
   ],
   "source": [
    "# rowvar=False表示每一列为一个向量\n",
    "# 如果“rowvar”为True（默认值），则每一行表示变量，列中有观察结果。否则，关系被转置：每列表示一个变量，而行包含观察结果。\n",
    "np.cov(X_std, rowvar=False)"
   ]
  },
  {
   "cell_type": "code",
   "execution_count": 25,
   "metadata": {},
   "outputs": [
    {
     "name": "stdout",
     "output_type": "stream",
     "text": [
      "[0.04689779 1.3029911 ]\n",
      "------------------------------\n",
      "[[-0.73015574 -0.68328076]\n",
      " [ 0.68328076 -0.73015574]]\n"
     ]
    }
   ],
   "source": [
    "# 求协方差矩阵的特征值和特征向量，这个也是对称矩阵\n",
    "# Compute the eigenvalues and right eigenvectors of a square array.\n",
    "eigenvalues, eigenvectors = np.linalg.eig(std_cov)\n",
    "print(eigenvalues)\n",
    "print(\"-\" * 30)\n",
    "print(eigenvectors)"
   ]
  },
  {
   "cell_type": "markdown",
   "metadata": {},
   "source": [
    "下面是对矩阵的特征值和特征向量的验证"
   ]
  },
  {
   "cell_type": "code",
   "execution_count": 26,
   "metadata": {},
   "outputs": [
    {
     "data": {
      "text/plain": [
       "array([-0.73015574,  0.68328076])"
      ]
     },
     "execution_count": 26,
     "metadata": {},
     "output_type": "execute_result"
    }
   ],
   "source": [
    "eigenvectors[:,0].reshape(-1)"
   ]
  },
  {
   "cell_type": "code",
   "execution_count": 27,
   "metadata": {},
   "outputs": [
    {
     "data": {
      "text/plain": [
       "array([[-0.03424269],\n",
       "       [ 0.03204436]])"
      ]
     },
     "execution_count": 27,
     "metadata": {},
     "output_type": "execute_result"
    }
   ],
   "source": [
    "# 验证一下\n",
    "std_cov.dot(eigenvectors[:,0].reshape(-1,1))"
   ]
  },
  {
   "cell_type": "code",
   "execution_count": 28,
   "metadata": {},
   "outputs": [
    {
     "data": {
      "text/plain": [
       "array([-0.03424269,  0.03204436])"
      ]
     },
     "execution_count": 28,
     "metadata": {},
     "output_type": "execute_result"
    }
   ],
   "source": [
    "std_cov.dot(eigenvectors[:,0].reshape(-1))"
   ]
  },
  {
   "cell_type": "code",
   "execution_count": 29,
   "metadata": {},
   "outputs": [
    {
     "data": {
      "text/plain": [
       "array([[-0.03424269],\n",
       "       [ 0.03204436]])"
      ]
     },
     "execution_count": 29,
     "metadata": {},
     "output_type": "execute_result"
    }
   ],
   "source": [
    "std_cov.dot(eigenvectors[:,0].reshape(-1,1))"
   ]
  },
  {
   "cell_type": "markdown",
   "metadata": {},
   "source": [
    "矩阵 * 特征向量 = 特征向量 * 特征值"
   ]
  },
  {
   "cell_type": "code",
   "execution_count": 30,
   "metadata": {},
   "outputs": [
    {
     "data": {
      "text/plain": [
       "array([[-0.73015574],\n",
       "       [ 0.68328076]])"
      ]
     },
     "execution_count": 30,
     "metadata": {},
     "output_type": "execute_result"
    }
   ],
   "source": [
    "# 用矩阵的形式吧，显示的形式更能看出向量\n",
    "std_cov.dot(eigenvectors[:,0].reshape(-1,1)) / eigenvalues[0]"
   ]
  },
  {
   "cell_type": "code",
   "execution_count": 31,
   "metadata": {},
   "outputs": [
    {
     "data": {
      "text/plain": [
       "array([[-0.68328076],\n",
       "       [-0.73015574]])"
      ]
     },
     "execution_count": 31,
     "metadata": {},
     "output_type": "execute_result"
    }
   ],
   "source": [
    "std_cov.dot(eigenvectors[:,1].reshape(-1,1)) / eigenvalues[1]"
   ]
  },
  {
   "cell_type": "code",
   "execution_count": 32,
   "metadata": {},
   "outputs": [
    {
     "data": {
      "text/plain": [
       "array([[-0.03424269, -0.89030874],\n",
       "       [ 0.03204436, -0.95138643]])"
      ]
     },
     "execution_count": 32,
     "metadata": {},
     "output_type": "execute_result"
    }
   ],
   "source": [
    "# 确实是特征向量和特征值\n",
    "# 矩阵 * 特征向量矩阵\n",
    "std_cov.dot(eigenvectors)"
   ]
  },
  {
   "cell_type": "code",
   "execution_count": 33,
   "metadata": {},
   "outputs": [
    {
     "data": {
      "text/plain": [
       "array([[-0.03424269, -0.89030874],\n",
       "       [ 0.03204436, -0.95138643]])"
      ]
     },
     "execution_count": 33,
     "metadata": {},
     "output_type": "execute_result"
    }
   ],
   "source": [
    "# 特征向量的线性组合\n",
    "np.hstack([ eigenvectors[:,0].reshape(-1,1)*eigenvalues[0], \n",
    "           eigenvectors[:,1].reshape(-1,1)*eigenvalues[1] ] )"
   ]
  },
  {
   "cell_type": "markdown",
   "metadata": {},
   "source": [
    "矩阵的特征值和特征向量的验证完毕"
   ]
  },
  {
   "cell_type": "code",
   "execution_count": 34,
   "metadata": {},
   "outputs": [
    {
     "data": {
      "text/plain": [
       "array([[ 0.7 ,  0.49],\n",
       "       [-1.3 , -1.21],\n",
       "       [ 0.4 ,  0.99],\n",
       "       [ 0.1 ,  0.29],\n",
       "       [ 1.3 ,  1.09],\n",
       "       [ 0.5 ,  0.79],\n",
       "       [ 0.2 , -0.31],\n",
       "       [-0.8 , -0.81],\n",
       "       [-0.3 , -0.31],\n",
       "       [-0.8 , -1.01]])"
      ]
     },
     "execution_count": 34,
     "metadata": {},
     "output_type": "execute_result"
    }
   ],
   "source": [
    "# 之前的数据\n",
    "X_std"
   ]
  },
  {
   "cell_type": "code",
   "execution_count": 35,
   "metadata": {},
   "outputs": [
    {
     "data": {
      "text/plain": [
       "array([[0.63333333, 0.62666667],\n",
       "       [0.62666667, 0.71655556]])"
      ]
     },
     "execution_count": 35,
     "metadata": {},
     "output_type": "execute_result"
    }
   ],
   "source": [
    "# 协方差矩阵\n",
    "std_cov"
   ]
  },
  {
   "cell_type": "code",
   "execution_count": 36,
   "metadata": {},
   "outputs": [
    {
     "data": {
      "text/plain": [
       "(array([0.04689779, 1.3029911 ]), array([[-0.73015574, -0.68328076],\n",
       "        [ 0.68328076, -0.73015574]]))"
      ]
     },
     "execution_count": 36,
     "metadata": {},
     "output_type": "execute_result"
    }
   ],
   "source": [
    "# 特征值、特征向量\n",
    "eigenvalues, eigenvectors"
   ]
  },
  {
   "cell_type": "code",
   "execution_count": 37,
   "metadata": {},
   "outputs": [
    {
     "data": {
      "text/plain": [
       "array([[-0.83607284,  1.77175343, -0.99616649, -0.28007324, -1.68413474,\n",
       "        -0.91846341,  0.08969213,  1.13805076,  0.43133251,  1.2840819 ],\n",
       "       [-0.17630145,  0.12243274,  0.38438566,  0.12513585, -0.20442643,\n",
       "         0.17471393, -0.35784818,  0.03066718,  0.00722969, -0.10598897]])"
      ]
     },
     "execution_count": 37,
     "metadata": {},
     "output_type": "execute_result"
    }
   ],
   "source": [
    "# 可以看到第二个特征向量为主要的\n",
    "# 对之前的数据做变换，按照数学中的概念，对原向量做线性变换：\n",
    "# 把主要的成分放到x轴\n",
    "transform_X = eigenvectors[:,::-1].dot(X_std.T)\n",
    "transform_X"
   ]
  },
  {
   "cell_type": "code",
   "execution_count": 38,
   "metadata": {},
   "outputs": [
    {
     "data": {
      "text/plain": [
       "<matplotlib.collections.PathCollection at 0x2a0ff22a4e0>"
      ]
     },
     "execution_count": 38,
     "metadata": {},
     "output_type": "execute_result"
    },
    {
     "data": {
      "image/png": "[encoded data removed]",
      "text/plain": [
       "<Figure size 432x288 with 1 Axes>"
      ]
     },
     "metadata": {
      "needs_background": "light"
     },
     "output_type": "display_data"
    }
   ],
   "source": [
    "plt.scatter(transform_X[0], transform_X[1])"
   ]
  },
  {
   "cell_type": "code",
   "execution_count": 39,
   "metadata": {},
   "outputs": [
    {
     "data": {
      "text/plain": [
       "array([[-0.83607284, -0.17630145],\n",
       "       [ 1.77175343,  0.12243274],\n",
       "       [-0.99616649,  0.38438566],\n",
       "       [-0.28007324,  0.12513585],\n",
       "       [-1.68413474, -0.20442643],\n",
       "       [-0.91846341,  0.17471393],\n",
       "       [ 0.08969213, -0.35784818],\n",
       "       [ 1.13805076,  0.03066718],\n",
       "       [ 0.43133251,  0.00722969],\n",
       "       [ 1.2840819 , -0.10598897]])"
      ]
     },
     "execution_count": 39,
     "metadata": {},
     "output_type": "execute_result"
    }
   ],
   "source": [
    "# 按照代码中的习惯，交换位置即可\n",
    "X_transform = X_std.dot(eigenvectors[:,::-1])\n",
    "X_transform"
   ]
  },
  {
   "cell_type": "code",
   "execution_count": 40,
   "metadata": {},
   "outputs": [
    {
     "data": {
      "text/plain": [
       "<matplotlib.collections.PathCollection at 0x2a0ff28b7f0>"
      ]
     },
     "execution_count": 40,
     "metadata": {},
     "output_type": "execute_result"
    },
    {
     "data": {
      "image/png": "[encoded data removed]",
      "text/plain": [
       "<Figure size 432x288 with 1 Axes>"
      ]
     },
     "metadata": {
      "needs_background": "light"
     },
     "output_type": "display_data"
    }
   ],
   "source": [
    "plt.scatter(X_transform[:,0], X_transform[:,1])"
   ]
  },
  {
   "cell_type": "code",
   "execution_count": 41,
   "metadata": {},
   "outputs": [
    {
     "data": {
      "text/plain": [
       "[<matplotlib.lines.Line2D at 0x2a0ff2f6c88>]"
      ]
     },
     "execution_count": 41,
     "metadata": {},
     "output_type": "execute_result"
    },
    {
     "data": {
      "image/png": "[encoded data removed]",
      "text/plain": [
       "<Figure size 432x432 with 1 Axes>"
      ]
     },
     "metadata": {
      "needs_background": "light"
     },
     "output_type": "display_data"
    }
   ],
   "source": [
    "# 根据数学中定义相当于对原点集合做坐标转换\n",
    "# 画一下最初的数据，和计算出的特征向量\n",
    "\n",
    "# x轴y轴比例尺相同，不然看着不像垂直\n",
    "plt.figure(figsize=(6,6))\n",
    "\n",
    "plt.scatter(X_std[:,0], X_std[:,1])\n",
    "\n",
    "x1 = np.arange(X_std[:,0].min(), X_std[:,0].max(), 0.1)\n",
    "eigenvector = eigenvectors[:,1]\n",
    "y1 = x1/eigenvector[0]*eigenvector[1]\n",
    "plt.plot(x1, y1)\n",
    "\n",
    "\n",
    "x1 = np.arange(X_std[:,0].min(), X_std[:,0].max(), 0.1)\n",
    "eigenvector = eigenvectors[:,0]\n",
    "y1 = x1/eigenvector[0]*eigenvector[1]\n",
    "plt.plot(x1, y1)"
   ]
  },
  {
   "cell_type": "code",
   "execution_count": 42,
   "metadata": {},
   "outputs": [
    {
     "data": {
      "text/plain": [
       "array([[-0.73015574, -0.68328076],\n",
       "       [ 0.68328076, -0.73015574]])"
      ]
     },
     "execution_count": 42,
     "metadata": {},
     "output_type": "execute_result"
    }
   ],
   "source": [
    "# 这两个向量是正交的，点积为0\n",
    "eigenvectors"
   ]
  },
  {
   "cell_type": "markdown",
   "metadata": {},
   "source": [
    "降维的实现，就是保留占主要信息的特征。"
   ]
  },
  {
   "cell_type": "code",
   "execution_count": 43,
   "metadata": {},
   "outputs": [
    {
     "data": {
      "text/plain": [
       "array([ 1,  3,  6, 10, 15, 21], dtype=int32)"
      ]
     },
     "execution_count": 43,
     "metadata": {},
     "output_type": "execute_result"
    }
   ],
   "source": [
    "# np的cumsum函数，做累加\n",
    "np.cumsum(np.array([1,2,3,4,5,6]))"
   ]
  },
  {
   "cell_type": "code",
   "execution_count": 44,
   "metadata": {},
   "outputs": [
    {
     "data": {
      "text/plain": [
       "array([0.96525803, 1.        ])"
      ]
     },
     "execution_count": 44,
     "metadata": {},
     "output_type": "execute_result"
    }
   ],
   "source": [
    "# 累计比例\n",
    "eigenvalues[::-1].cumsum() / eigenvalues.sum()"
   ]
  },
  {
   "cell_type": "code",
   "execution_count": 45,
   "metadata": {},
   "outputs": [
    {
     "data": {
      "text/plain": [
       "array([[-0.83607284, -0.17630145],\n",
       "       [ 1.77175343,  0.12243274],\n",
       "       [-0.99616649,  0.38438566],\n",
       "       [-0.28007324,  0.12513585],\n",
       "       [-1.68413474, -0.20442643],\n",
       "       [-0.91846341,  0.17471393],\n",
       "       [ 0.08969213, -0.35784818],\n",
       "       [ 1.13805076,  0.03066718],\n",
       "       [ 0.43133251,  0.00722969],\n",
       "       [ 1.2840819 , -0.10598897]])"
      ]
     },
     "execution_count": 45,
     "metadata": {},
     "output_type": "execute_result"
    }
   ],
   "source": [
    "# 这样前个特征就包含了96.52%的数据信息\n",
    "X_transform"
   ]
  },
  {
   "cell_type": "markdown",
   "metadata": {},
   "source": [
    "### sklearn PCA"
   ]
  },
  {
   "cell_type": "code",
   "execution_count": 46,
   "metadata": {},
   "outputs": [],
   "source": [
    "from sklearn.decomposition import PCA\n",
    "from sklearn.preprocessing import StandardScaler"
   ]
  },
  {
   "cell_type": "code",
   "execution_count": 47,
   "metadata": {},
   "outputs": [
    {
     "data": {
      "text/plain": [
       "array([[-0.83607284, -0.17630145],\n",
       "       [ 1.77175343,  0.12243274],\n",
       "       [-0.99616649,  0.38438566],\n",
       "       [-0.28007324,  0.12513585],\n",
       "       [-1.68413474, -0.20442643],\n",
       "       [-0.91846341,  0.17471393],\n",
       "       [ 0.08969213, -0.35784818],\n",
       "       [ 1.13805076,  0.03066718],\n",
       "       [ 0.43133251,  0.00722969],\n",
       "       [ 1.2840819 , -0.10598897]])"
      ]
     },
     "execution_count": 47,
     "metadata": {},
     "output_type": "execute_result"
    }
   ],
   "source": [
    "pca = PCA(n_components=0.97, whiten=False)\n",
    "X_pca = pca.fit_transform(X)\n",
    "X_pca"
   ]
  },
  {
   "cell_type": "code",
   "execution_count": 48,
   "metadata": {},
   "outputs": [
    {
     "data": {
      "text/plain": [
       "array([[-0.83607284],\n",
       "       [ 1.77175343],\n",
       "       [-0.99616649],\n",
       "       [-0.28007324],\n",
       "       [-1.68413474],\n",
       "       [-0.91846341],\n",
       "       [ 0.08969213],\n",
       "       [ 1.13805076],\n",
       "       [ 0.43133251],\n",
       "       [ 1.2840819 ]])"
      ]
     },
     "execution_count": 48,
     "metadata": {},
     "output_type": "execute_result"
    }
   ],
   "source": [
    "pca = PCA(n_components=0.96, whiten=False)\n",
    "X_pca = pca.fit_transform(X)\n",
    "X_pca"
   ]
  },
  {
   "cell_type": "code",
   "execution_count": 49,
   "metadata": {},
   "outputs": [
    {
     "data": {
      "text/plain": [
       "array([[-0.73244226],\n",
       "       [ 1.55214596],\n",
       "       [-0.87269242],\n",
       "       [-0.24535838],\n",
       "       [-1.47538754],\n",
       "       [-0.80462058],\n",
       "       [ 0.07857486],\n",
       "       [ 0.99699024],\n",
       "       [ 0.37786918],\n",
       "       [ 1.12492094]])"
      ]
     },
     "execution_count": 49,
     "metadata": {},
     "output_type": "execute_result"
    }
   ],
   "source": [
    "pca = PCA(n_components=0.96, whiten=True)\n",
    "X_pca = pca.fit_transform(X)\n",
    "X_pca"
   ]
  },
  {
   "cell_type": "code",
   "execution_count": 50,
   "metadata": {},
   "outputs": [
    {
     "data": {
      "text/plain": [
       "array([[-0.77206193],\n",
       "       [ 1.6361055 ],\n",
       "       [-0.91989858],\n",
       "       [-0.25863044],\n",
       "       [-1.55519502],\n",
       "       [-0.84814456],\n",
       "       [ 0.08282517],\n",
       "       [ 1.05091999],\n",
       "       [ 0.39830908],\n",
       "       [ 1.18577079]])"
      ]
     },
     "execution_count": 50,
     "metadata": {},
     "output_type": "execute_result"
    }
   ],
   "source": [
    "# whiten为true就多了标准化，好像和上面的差上一点点\n",
    "pca = PCA(n_components=0.96, whiten=False)\n",
    "X_pca = pca.fit_transform(X)\n",
    "StandardScaler().fit_transform(X_pca)"
   ]
  },
  {
   "cell_type": "markdown",
   "metadata": {},
   "source": [
    "## PCA对鸢尾花降维"
   ]
  },
  {
   "cell_type": "code",
   "execution_count": 51,
   "metadata": {},
   "outputs": [],
   "source": [
    "import sklearn.datasets as datasets"
   ]
  },
  {
   "cell_type": "code",
   "execution_count": 52,
   "metadata": {},
   "outputs": [],
   "source": [
    "iris = datasets.load_iris()\n",
    "X = iris.data\n",
    "feature_names = iris.feature_names\n",
    "y = iris.target\n",
    "target_names = iris.target_names"
   ]
  },
  {
   "cell_type": "markdown",
   "metadata": {},
   "source": [
    "### 手动计算"
   ]
  },
  {
   "cell_type": "code",
   "execution_count": 53,
   "metadata": {},
   "outputs": [
    {
     "data": {
      "text/plain": [
       "array([[ 0.68569351, -0.042434  ,  1.27431544,  0.51627069],\n",
       "       [-0.042434  ,  0.18997942, -0.32965638, -0.12163937],\n",
       "       [ 1.27431544, -0.32965638,  3.11627785,  1.2956094 ],\n",
       "       [ 0.51627069, -0.12163937,  1.2956094 ,  0.58100626]])"
      ]
     },
     "execution_count": 53,
     "metadata": {},
     "output_type": "execute_result"
    }
   ],
   "source": [
    "# 自己计算一下\n",
    "\n",
    "# 零均值化\n",
    "X_std = X - X.mean(axis=0)\n",
    "\n",
    "# 协方差矩阵\n",
    "#std_cov = np.dot(X_std.T, X_std) / (X_std.shape[0] - 1)\n",
    "std_cov = np.cov(X_std, rowvar=False)\n",
    "std_cov"
   ]
  },
  {
   "cell_type": "code",
   "execution_count": 54,
   "metadata": {},
   "outputs": [
    {
     "data": {
      "text/plain": [
       "(array([4.22824171, 0.24267075, 0.0782095 , 0.02383509]),\n",
       " array([[ 0.36138659, -0.65658877, -0.58202985,  0.31548719],\n",
       "        [-0.08452251, -0.73016143,  0.59791083, -0.3197231 ],\n",
       "        [ 0.85667061,  0.17337266,  0.07623608, -0.47983899],\n",
       "        [ 0.3582892 ,  0.07548102,  0.54583143,  0.75365743]]))"
      ]
     },
     "execution_count": 54,
     "metadata": {},
     "output_type": "execute_result"
    }
   ],
   "source": [
    "# 协方差矩阵的特征值及对应的特征向量\n",
    "eigenvalues, eigenvectors = np.linalg.eig(std_cov)\n",
    "eigenvalues, eigenvectors"
   ]
  },
  {
   "cell_type": "code",
   "execution_count": 55,
   "metadata": {},
   "outputs": [
    {
     "data": {
      "text/plain": [
       "array([0.92461872, 0.05306648, 0.01710261, 0.00521218])"
      ]
     },
     "execution_count": 55,
     "metadata": {},
     "output_type": "execute_result"
    }
   ],
   "source": [
    "# 这个已经从大到小排好序了\n",
    "eigenvalues / eigenvalues.sum()"
   ]
  },
  {
   "cell_type": "code",
   "execution_count": 56,
   "metadata": {},
   "outputs": [
    {
     "data": {
      "text/plain": [
       "array([0.92461872, 0.97768521, 0.99478782, 1.        ])"
      ]
     },
     "execution_count": 56,
     "metadata": {},
     "output_type": "execute_result"
    }
   ],
   "source": [
    "np.cumsum(eigenvalues) / eigenvalues.sum()"
   ]
  },
  {
   "cell_type": "code",
   "execution_count": 57,
   "metadata": {},
   "outputs": [
    {
     "data": {
      "text/plain": [
       "array([[-2.68412563, -0.31939725],\n",
       "       [-2.71414169,  0.17700123],\n",
       "       [-2.88899057,  0.14494943],\n",
       "       [-2.74534286,  0.31829898],\n",
       "       [-2.72871654, -0.32675451],\n",
       "       [-2.28085963, -0.74133045]])"
      ]
     },
     "execution_count": 57,
     "metadata": {},
     "output_type": "execute_result"
    }
   ],
   "source": [
    "# 取前两个已经百分之97了\n",
    "X_transform = np.dot(X_std, eigenvectors[:,:2])\n",
    "X_transform[:6]"
   ]
  },
  {
   "cell_type": "code",
   "execution_count": 58,
   "metadata": {},
   "outputs": [
    {
     "data": {
      "text/plain": [
       "Text(0, 0.5, 'Principal Component 2')"
      ]
     },
     "execution_count": 58,
     "metadata": {},
     "output_type": "execute_result"
    },
    {
     "data": {
      "image/png": "[encoded data removed]",
      "text/plain": [
       "<Figure size 432x288 with 1 Axes>"
      ]
     },
     "metadata": {
      "needs_background": "light"
     },
     "output_type": "display_data"
    }
   ],
   "source": [
    "sns.scatterplot(X_transform[:,0], X_transform[:,1], hue=y, palette=[\"#FF0000\", \"#008000\", \"#0000FF\"])\n",
    "plt.xlabel('Principal Component 1')\n",
    "plt.ylabel('Principal Component 2')"
   ]
  },
  {
   "cell_type": "code",
   "execution_count": 59,
   "metadata": {},
   "outputs": [
    {
     "data": {
      "text/plain": [
       "Text(0, 0.5, 'Principal Component 4')"
      ]
     },
     "execution_count": 59,
     "metadata": {},
     "output_type": "execute_result"
    },
    {
     "data": {
      "image/png": "[encoded data removed]",
      "text/plain": [
       "<Figure size 432x288 with 1 Axes>"
      ]
     },
     "metadata": {
      "needs_background": "light"
     },
     "output_type": "display_data"
    }
   ],
   "source": [
    "# 后两个包含信息少的成分\n",
    "X_transform = np.dot(X_std, eigenvectors[:,-2:])\n",
    "sns.scatterplot(X_transform[:,0], X_transform[:,1], hue=y, palette=[\"#FF0000\", \"#008000\", \"#0000FF\"])\n",
    "plt.xlabel('Principal Component 3')\n",
    "plt.ylabel('Principal Component 4')"
   ]
  },
  {
   "cell_type": "markdown",
   "metadata": {},
   "source": [
    "计算一下信息熵，肯定主成分的信息熵小，相应的信息增益大。"
   ]
  },
  {
   "cell_type": "code",
   "execution_count": 60,
   "metadata": {},
   "outputs": [
    {
     "data": {
      "text/html": [
       "<div>\n",
       "<style scoped>\n",
       "    .dataframe tbody tr th:only-of-type {\n",
       "        vertical-align: middle;\n",
       "    }\n",
       "\n",
       "    .dataframe tbody tr th {\n",
       "        vertical-align: top;\n",
       "    }\n",
       "\n",
       "    .dataframe thead th {\n",
       "        text-align: right;\n",
       "    }\n",
       "</style>\n",
       "<table border=\"1\" class=\"dataframe\">\n",
       "  <thead>\n",
       "    <tr style=\"text-align: right;\">\n",
       "      <th></th>\n",
       "      <th>split</th>\n",
       "      <th>entropy</th>\n",
       "    </tr>\n",
       "  </thead>\n",
       "  <tbody>\n",
       "    <tr>\n",
       "      <th>0</th>\n",
       "      <td>-1.553145</td>\n",
       "      <td>0.666667</td>\n",
       "    </tr>\n",
       "    <tr>\n",
       "      <th>1</th>\n",
       "      <td>0.252531</td>\n",
       "      <td>1.458933</td>\n",
       "    </tr>\n",
       "    <tr>\n",
       "      <th>2</th>\n",
       "      <td>0.281489</td>\n",
       "      <td>1.479704</td>\n",
       "    </tr>\n",
       "    <tr>\n",
       "      <th>3</th>\n",
       "      <td>0.126705</td>\n",
       "      <td>1.527818</td>\n",
       "    </tr>\n",
       "  </tbody>\n",
       "</table>\n",
       "</div>"
      ],
      "text/plain": [
       "      split   entropy\n",
       "0 -1.553145  0.666667\n",
       "1  0.252531  1.458933\n",
       "2  0.281489  1.479704\n",
       "3  0.126705  1.527818"
      ]
     },
     "execution_count": 60,
     "metadata": {},
     "output_type": "execute_result"
    }
   ],
   "source": [
    "# 求每个特征的下y的信息熵,和分割条件\n",
    "def calc_entropy_and_split(feature, y):\n",
    "    # 某个分割点的信息熵\n",
    "    def calc_split_entropy(feature_split):\n",
    "        # 每行的信息熵\n",
    "        def apply_func(values):\n",
    "            values = values[values != 0]\n",
    "            probs = values / values.sum()\n",
    "            return (probs * -np.log2(probs)).sum()\n",
    "        \n",
    "        crosstab = pd.crosstab(feature <= feature_split, y)\n",
    "        # 每行的概率\n",
    "        clf_probs = crosstab.sum(axis=1) / crosstab.sum(axis=1).sum()    \n",
    "        clf_entropys = crosstab.apply(apply_func, axis=1)\n",
    "        # 总的信息熵\n",
    "        return np.sum(clf_probs * clf_entropys)\n",
    "    \n",
    "    feature_unique = feature.unique()\n",
    "    feature_unique.sort()\n",
    "    feature_splits = (feature_unique[1:] + feature_unique[:-1])/2\n",
    "    # 每个分割点信息熵\n",
    "    split_entropys = pd.Series(feature_splits).map(calc_split_entropy)\n",
    "    # Series提示要使用idxmin\n",
    "    argmin = split_entropys.idxmin()\n",
    "    return [feature_splits[argmin], split_entropys[argmin]]\n",
    "\n",
    "# 每个元素是数组\n",
    "feature_entropys = pd.DataFrame(np.dot(X_std, eigenvectors)).apply(calc_entropy_and_split, result_type='expand', args=(y,)).T\n",
    "feature_entropys.columns = [\"split\", \"entropy\"]\n",
    "feature_entropys"
   ]
  },
  {
   "cell_type": "markdown",
   "metadata": {},
   "source": [
    "### 使用sklearn PCA"
   ]
  },
  {
   "cell_type": "code",
   "execution_count": 61,
   "metadata": {},
   "outputs": [
    {
     "data": {
      "text/plain": [
       "array([[-2.68412563,  0.31939725],\n",
       "       [-2.71414169, -0.17700123],\n",
       "       [-2.88899057, -0.14494943],\n",
       "       [-2.74534286, -0.31829898],\n",
       "       [-2.72871654,  0.32675451],\n",
       "       [-2.28085963,  0.74133045]])"
      ]
     },
     "execution_count": 61,
     "metadata": {},
     "output_type": "execute_result"
    }
   ],
   "source": [
    "# 0.97前两个特征就够了\n",
    "pca = PCA(n_components=0.97)\n",
    "X_pca = pca.fit_transform(X)\n",
    "X_pca[:6]"
   ]
  },
  {
   "cell_type": "code",
   "execution_count": 62,
   "metadata": {},
   "outputs": [
    {
     "data": {
      "text/plain": [
       "array([[-2.68412563, -0.31939725],\n",
       "       [-2.71414169,  0.17700123],\n",
       "       [-2.88899057,  0.14494943],\n",
       "       [-2.74534286,  0.31829898],\n",
       "       [-2.72871654, -0.32675451],\n",
       "       [-2.28085963, -0.74133045]])"
      ]
     },
     "execution_count": 62,
     "metadata": {},
     "output_type": "execute_result"
    }
   ],
   "source": [
    "X_transform = np.dot(X_std, eigenvectors[:,:2])\n",
    "X_transform[:6]"
   ]
  },
  {
   "cell_type": "code",
   "execution_count": 63,
   "metadata": {},
   "outputs": [
    {
     "data": {
      "text/plain": [
       "Text(0, 0.5, 'Principal Component 2')"
      ]
     },
     "execution_count": 63,
     "metadata": {},
     "output_type": "execute_result"
    },
    {
     "data": {
      "image/png": "[encoded data removed]",
      "text/plain": [
       "<Figure size 432x288 with 1 Axes>"
      ]
     },
     "metadata": {
      "needs_background": "light"
     },
     "output_type": "display_data"
    }
   ],
   "source": [
    "sns.scatterplot(X_pca[:,0], X_pca[:,1], hue=y, palette=[\"#FF0000\", \"#008000\", \"#0000FF\"])\n",
    "plt.xlabel('Principal Component 1')\n",
    "plt.ylabel('Principal Component 2')"
   ]
  },
  {
   "cell_type": "code",
   "execution_count": 64,
   "metadata": {},
   "outputs": [
    {
     "data": {
      "text/plain": [
       "Text(0, 0.5, 'Principal Component 2')"
      ]
     },
     "execution_count": 64,
     "metadata": {},
     "output_type": "execute_result"
    },
    {
     "data": {
      "image/png": "[encoded data removed]",
      "text/plain": [
       "<Figure size 432x288 with 1 Axes>"
      ]
     },
     "metadata": {
      "needs_background": "light"
     },
     "output_type": "display_data"
    }
   ],
   "source": [
    "sns.scatterplot(X_transform[:,0], X_transform[:,1], hue=y, palette=[\"#FF0000\", \"#008000\", \"#0000FF\"])\n",
    "plt.xlabel('Principal Component 1')\n",
    "plt.ylabel('Principal Component 2')"
   ]
  },
  {
   "cell_type": "code",
   "execution_count": 65,
   "metadata": {},
   "outputs": [
    {
     "data": {
      "text/plain": [
       "-6.5520505687644004e-15"
      ]
     },
     "execution_count": 65,
     "metadata": {},
     "output_type": "execute_result"
    }
   ],
   "source": [
    "(np.abs(X_pca) - np.abs(X_transform)).sum()"
   ]
  },
  {
   "cell_type": "code",
   "execution_count": 66,
   "metadata": {},
   "outputs": [
    {
     "data": {
      "text/plain": [
       "array([[-2.68412563,  0.31939725, -2.68412563, -0.31939725],\n",
       "       [-2.71414169, -0.17700123, -2.71414169,  0.17700123],\n",
       "       [-2.88899057, -0.14494943, -2.88899057,  0.14494943],\n",
       "       [-2.74534286, -0.31829898, -2.74534286,  0.31829898],\n",
       "       [-2.72871654,  0.32675451, -2.72871654, -0.32675451],\n",
       "       [-2.28085963,  0.74133045, -2.28085963, -0.74133045]])"
      ]
     },
     "execution_count": 66,
     "metadata": {},
     "output_type": "execute_result"
    }
   ],
   "source": [
    "# 第二个特征正好差个负号，没影响。\n",
    "np.hstack([X_pca, X_transform])[:6]"
   ]
  },
  {
   "cell_type": "code",
   "execution_count": 67,
   "metadata": {},
   "outputs": [
    {
     "data": {
      "text/plain": [
       "Text(0, 0.5, 'Principal Component 2')"
      ]
     },
     "execution_count": 67,
     "metadata": {},
     "output_type": "execute_result"
    },
    {
     "data": {
      "image/png": "[encoded data removed]",
      "text/plain": [
       "<Figure size 432x288 with 1 Axes>"
      ]
     },
     "metadata": {
      "needs_background": "light"
     },
     "output_type": "display_data"
    }
   ],
   "source": [
    "# y值取反就和sklearn的一样了\n",
    "sns.scatterplot(X_transform[:,0], X_transform[:,1]*-1, hue=y, palette=[\"#FF0000\", \"#008000\", \"#0000FF\"])\n",
    "plt.xlabel('Principal Component 1')\n",
    "plt.ylabel('Principal Component 2')"
   ]
  },
  {
   "cell_type": "markdown",
   "metadata": {},
   "source": [
    "### 相关系数\n",
    "相关系数和协方差"
   ]
  },
  {
   "cell_type": "markdown",
   "metadata": {},
   "source": [
    "$\\rho_{XY}=\\frac{Cov(X,Y)}{\\sigma_X\\sigma_Y}$\n",
    "\n",
    "就是用X、Y的协方差除以X的标准差和Y的标准差。\n",
    "\n",
    "所以，相关系数也可以看成协方差：一种剔除了两个变量量纲影响、标准化后的特殊协方差。\n",
    "\n",
    "既然是一种特殊的协方差，那它：\n",
    "\n",
    "1、也可以反映两个变量变化时是同向还是反向，如果同向变化就为正，反向变化就为负。\n",
    "\n",
    "2、由于它是标准化后的协方差，因此更重要的特性来了：它消除了两个变量变化幅度的影响，而只是单纯反应两个变量每单位变化时的相似程度。"
   ]
  },
  {
   "cell_type": "code",
   "execution_count": 68,
   "metadata": {},
   "outputs": [
    {
     "data": {
      "text/plain": [
       "array([[ 1.        , -0.11756978,  0.87175378,  0.81794113],\n",
       "       [-0.11756978,  1.        , -0.4284401 , -0.36612593],\n",
       "       [ 0.87175378, -0.4284401 ,  1.        ,  0.96286543],\n",
       "       [ 0.81794113, -0.36612593,  0.96286543,  1.        ]])"
      ]
     },
     "execution_count": 68,
     "metadata": {},
     "output_type": "execute_result"
    }
   ],
   "source": [
    "\"\"\"\n",
    "np.cov(x)是用于计算协方差矩阵的：\n",
    "得到的矩阵第i行第j列表示第i个变量和第j个变量的协方差。\n",
    "\n",
    "np.corrcoef(x)是求相关系数矩阵：\n",
    "得到的矩阵第i行第j列表示第i个变量和第j个变量的相关系数。\n",
    "\"\"\"\n",
    "np.corrcoef(X, rowvar=False)"
   ]
  },
  {
   "cell_type": "code",
   "execution_count": 69,
   "metadata": {},
   "outputs": [
    {
     "data": {
      "text/plain": [
       "array([[ 0.68569351, -0.042434  ,  1.27431544,  0.51627069],\n",
       "       [-0.042434  ,  0.18997942, -0.32965638, -0.12163937],\n",
       "       [ 1.27431544, -0.32965638,  3.11627785,  1.2956094 ],\n",
       "       [ 0.51627069, -0.12163937,  1.2956094 ,  0.58100626]])"
      ]
     },
     "execution_count": 69,
     "metadata": {},
     "output_type": "execute_result"
    }
   ],
   "source": [
    "# 协方差矩阵\n",
    "std_cov = np.dot(X_std.T, X_std) / (X_std.shape[0] - 1)\n",
    "#std_cov = np.cov(X_std, rowvar=False)\n",
    "std_cov"
   ]
  },
  {
   "cell_type": "code",
   "execution_count": null,
   "metadata": {},
   "outputs": [],
   "source": []
  }
 ],
 "metadata": {
  "kernelspec": {
   "display_name": "Python 3",
   "language": "python",
   "name": "python3"
  },
  "language_info": {
   "codemirror_mode": {
    "name": "ipython",
    "version": 3
   },
   "file_extension": ".py",
   "mimetype": "text/x-python",
   "name": "python",
   "nbconvert_exporter": "python",
   "pygments_lexer": "ipython3",
   "version": "3.7.0"
  },
  "toc": {
   "base_numbering": 1,
   "nav_menu": {},
   "number_sections": true,
   "sideBar": true,
   "skip_h1_title": false,
   "title_cell": "Table of Contents",
   "title_sidebar": "Contents",
   "toc_cell": false,
   "toc_position": {},
   "toc_section_display": true,
   "toc_window_display": true
  }
 },
 "nbformat": 4,
 "nbformat_minor": 2
}
