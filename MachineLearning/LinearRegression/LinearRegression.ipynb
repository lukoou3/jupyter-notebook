{
 "cells": [
  {
   "cell_type": "code",
   "execution_count": 1,
   "metadata": {},
   "outputs": [],
   "source": [
    "import numpy as np\n",
    "import pandas as pd\n",
    "import matplotlib.pyplot as plt\n",
    "import seaborn as sns"
   ]
  },
  {
   "cell_type": "code",
   "execution_count": 2,
   "metadata": {},
   "outputs": [],
   "source": [
    "sns.set()\n",
    "\n",
    "# 支持中文\n",
    "plt.rcParams['font.sans-serif'] = ['SimHei']  # 用来正常显示中文标签\n",
    "plt.rcParams['axes.unicode_minus'] = False  # 用来正常显示负号\n",
    "\n",
    "%matplotlib inline"
   ]
  },
  {
   "cell_type": "markdown",
   "metadata": {},
   "source": [
    "## 加载数据"
   ]
  },
  {
   "cell_type": "code",
   "execution_count": 3,
   "metadata": {},
   "outputs": [],
   "source": [
    "# delimiter : str, optional.The default is whitespace.\n",
    "datas = np.loadtxt(\"data.txt\", delimiter=\",\", dtype=\"float64\")"
   ]
  },
  {
   "cell_type": "code",
   "execution_count": 4,
   "metadata": {},
   "outputs": [
    {
     "data": {
      "text/plain": [
       "((47, 3), dtype('float64'))"
      ]
     },
     "execution_count": 4,
     "metadata": {},
     "output_type": "execute_result"
    }
   ],
   "source": [
    "datas.shape, datas.dtype"
   ]
  },
  {
   "cell_type": "code",
   "execution_count": 5,
   "metadata": {},
   "outputs": [],
   "source": [
    "df = pd.DataFrame(datas, columns=['x1', 'x2', 'y'])"
   ]
  },
  {
   "cell_type": "code",
   "execution_count": 6,
   "metadata": {},
   "outputs": [
    {
     "name": "stdout",
     "output_type": "stream",
     "text": [
      "<class 'pandas.core.frame.DataFrame'>\n",
      "RangeIndex: 47 entries, 0 to 46\n",
      "Data columns (total 3 columns):\n",
      "x1    47 non-null float64\n",
      "x2    47 non-null float64\n",
      "y     47 non-null float64\n",
      "dtypes: float64(3)\n",
      "memory usage: 1.2 KB\n"
     ]
    }
   ],
   "source": [
    "df.info()"
   ]
  },
  {
   "cell_type": "code",
   "execution_count": 7,
   "metadata": {},
   "outputs": [
    {
     "data": {
      "text/html": [
       "<div>\n",
       "<style scoped>\n",
       "    .dataframe tbody tr th:only-of-type {\n",
       "        vertical-align: middle;\n",
       "    }\n",
       "\n",
       "    .dataframe tbody tr th {\n",
       "        vertical-align: top;\n",
       "    }\n",
       "\n",
       "    .dataframe thead th {\n",
       "        text-align: right;\n",
       "    }\n",
       "</style>\n",
       "<table border=\"1\" class=\"dataframe\">\n",
       "  <thead>\n",
       "    <tr style=\"text-align: right;\">\n",
       "      <th></th>\n",
       "      <th>x1</th>\n",
       "      <th>x2</th>\n",
       "      <th>y</th>\n",
       "    </tr>\n",
       "  </thead>\n",
       "  <tbody>\n",
       "    <tr>\n",
       "      <th>count</th>\n",
       "      <td>47.000000</td>\n",
       "      <td>47.000000</td>\n",
       "      <td>47.000000</td>\n",
       "    </tr>\n",
       "    <tr>\n",
       "      <th>mean</th>\n",
       "      <td>2000.680851</td>\n",
       "      <td>3.170213</td>\n",
       "      <td>340412.659574</td>\n",
       "    </tr>\n",
       "    <tr>\n",
       "      <th>std</th>\n",
       "      <td>794.702354</td>\n",
       "      <td>0.760982</td>\n",
       "      <td>125039.899586</td>\n",
       "    </tr>\n",
       "    <tr>\n",
       "      <th>min</th>\n",
       "      <td>852.000000</td>\n",
       "      <td>1.000000</td>\n",
       "      <td>169900.000000</td>\n",
       "    </tr>\n",
       "    <tr>\n",
       "      <th>25%</th>\n",
       "      <td>1432.000000</td>\n",
       "      <td>3.000000</td>\n",
       "      <td>249900.000000</td>\n",
       "    </tr>\n",
       "    <tr>\n",
       "      <th>50%</th>\n",
       "      <td>1888.000000</td>\n",
       "      <td>3.000000</td>\n",
       "      <td>299900.000000</td>\n",
       "    </tr>\n",
       "    <tr>\n",
       "      <th>75%</th>\n",
       "      <td>2269.000000</td>\n",
       "      <td>4.000000</td>\n",
       "      <td>384450.000000</td>\n",
       "    </tr>\n",
       "    <tr>\n",
       "      <th>max</th>\n",
       "      <td>4478.000000</td>\n",
       "      <td>5.000000</td>\n",
       "      <td>699900.000000</td>\n",
       "    </tr>\n",
       "  </tbody>\n",
       "</table>\n",
       "</div>"
      ],
      "text/plain": [
       "                x1         x2              y\n",
       "count    47.000000  47.000000      47.000000\n",
       "mean   2000.680851   3.170213  340412.659574\n",
       "std     794.702354   0.760982  125039.899586\n",
       "min     852.000000   1.000000  169900.000000\n",
       "25%    1432.000000   3.000000  249900.000000\n",
       "50%    1888.000000   3.000000  299900.000000\n",
       "75%    2269.000000   4.000000  384450.000000\n",
       "max    4478.000000   5.000000  699900.000000"
      ]
     },
     "execution_count": 7,
     "metadata": {},
     "output_type": "execute_result"
    }
   ],
   "source": [
    "df.describe()"
   ]
  },
  {
   "cell_type": "markdown",
   "metadata": {},
   "source": [
    "## 可视化显示"
   ]
  },
  {
   "cell_type": "code",
   "execution_count": 8,
   "metadata": {},
   "outputs": [
    {
     "data": {
      "text/plain": [
       "<matplotlib.collections.PathCollection at 0x1e5e6191198>"
      ]
     },
     "execution_count": 8,
     "metadata": {},
     "output_type": "execute_result"
    },
    {
     "data": {
      "image/png": "[encoded data removed]",
      "text/plain": [
       "<Figure size 1152x864 with 5 Axes>"
      ]
     },
     "metadata": {
      "needs_background": "light"
     },
     "output_type": "display_data"
    }
   ],
   "source": [
    "#暂时不会画三维图，使用二维代替\n",
    "fig, axs = plt.subplots(2,2,figsize=(16,12))\n",
    "\n",
    "df.plot.scatter(x='x1', y='x2', c='y', s=df['y']/5000, colormap='viridis', ax=axs[0, 0])\n",
    "\n",
    "#sizes设置最小最大\n",
    "sns.scatterplot(x='x1', y='x2', size='y', sizes=(20,200), data=df, ax=axs[0, 1])\n",
    "\n",
    "axs[1, 0].scatter(x=df['x1'], y=df['x2'], c=df['y'], cmap='viridis', s=df['y']/5000)"
   ]
  },
  {
   "cell_type": "code",
   "execution_count": 9,
   "metadata": {},
   "outputs": [
    {
     "name": "stderr",
     "output_type": "stream",
     "text": [
      "'c' argument looks like a single numeric RGB or RGBA sequence, which should be avoided as value-mapping will have precedence in case its length matches with 'x' & 'y'.  Please use a 2-D array with a single row if you really want to specify the same RGB or RGBA value for all points.\n",
      "'c' argument looks like a single numeric RGB or RGBA sequence, which should be avoided as value-mapping will have precedence in case its length matches with 'x' & 'y'.  Please use a 2-D array with a single row if you really want to specify the same RGB or RGBA value for all points.\n"
     ]
    },
    {
     "data": {
      "text/plain": [
       "<matplotlib.axes._subplots.AxesSubplot at 0x1e5e724c2e8>"
      ]
     },
     "execution_count": 9,
     "metadata": {},
     "output_type": "execute_result"
    },
    {
     "data": {
      "image/png": "[encoded data removed]",
      "text/plain": [
       "<Figure size 1152x864 with 4 Axes>"
      ]
     },
     "metadata": {
      "needs_background": "light"
     },
     "output_type": "display_data"
    }
   ],
   "source": [
    "#可以看出来x1的权重应该比x2大\n",
    "fig, axs = plt.subplots(2,2 ,figsize=(16,6 * 2))\n",
    "\n",
    "# df\n",
    "df.plot.scatter(x='x1', y='y', ax=axs[0,0])\n",
    "df.plot.scatter(x='x2', y='y', ax=axs[0,1])\n",
    "\n",
    "# seaborn\n",
    "sns.scatterplot(x='x1', y='y', data=df, ax=axs[1,0])\n",
    "sns.scatterplot(x='x2', y='y', data=df, ax=axs[1,1])"
   ]
  },
  {
   "cell_type": "code",
   "execution_count": 10,
   "metadata": {},
   "outputs": [
    {
     "data": {
      "text/plain": [
       "<seaborn.axisgrid.FacetGrid at 0x1e5e732b278>"
      ]
     },
     "execution_count": 10,
     "metadata": {},
     "output_type": "execute_result"
    },
    {
     "data": {
      "image/png": "[encoded data removed]",
      "text/plain": [
       "<Figure size 360x360 with 1 Axes>"
      ]
     },
     "metadata": {
      "needs_background": "light"
     },
     "output_type": "display_data"
    }
   ],
   "source": [
    "# seaborn lmplot，没有ax参数\n",
    "sns.lmplot(x='x1', y='y', data=df)"
   ]
  },
  {
   "cell_type": "markdown",
   "metadata": {},
   "source": [
    "## 手写实现"
   ]
  },
  {
   "cell_type": "markdown",
   "metadata": {},
   "source": [
    "下面是损失函数，以及对各个变量的偏导数公式：\n",
    "![](assets/LinearRegression01.png)"
   ]
  },
  {
   "cell_type": "code",
   "execution_count": 11,
   "metadata": {},
   "outputs": [],
   "source": [
    "# 假设y = ax0 + b*x1 + c*x2，暂时不会矩阵的求导\n",
    "# 其实上面的x0对每个行数据都是1，所以偏导公式都是可以用下面的一个\n",
    "\n",
    "def getGradient(x, theta, y):\n",
    "    pass"
   ]
  },
  {
   "cell_type": "markdown",
   "metadata": {},
   "source": [
    "### ndarray计算"
   ]
  },
  {
   "cell_type": "code",
   "execution_count": 12,
   "metadata": {},
   "outputs": [
    {
     "data": {
      "text/plain": [
       "(47, 3)"
      ]
     },
     "execution_count": 12,
     "metadata": {},
     "output_type": "execute_result"
    }
   ],
   "source": [
    "# 构建x的矩阵\n",
    "x = datas[:, 0:-1]\n",
    "# 填充x0\n",
    "x0 = np.ones((datas.shape[0],1))\n",
    "x = np.hstack([x0, x])\n",
    "x.shape"
   ]
  },
  {
   "cell_type": "code",
   "execution_count": 13,
   "metadata": {},
   "outputs": [],
   "source": [
    "#x 一定要用归一化等，不然要迭代好久，而且对于这个例子可能震荡的特别厉害，x2的值太大了，计算出来的导数也太大\n",
    "# 刚开始就被坑了，一时计算出nan，而是损失函数会增大，主要是一个导数计算出来太大了\n",
    "\n",
    "# 归一化feature\n",
    "def featureNormaliza(X):\n",
    "    X_norm = np.array(X)            #将X转化为numpy数组对象，才可以进行矩阵的运算\n",
    "    #定义所需变量\n",
    "    mu = np.zeros((1,X.shape[1]))   \n",
    "    sigma = np.zeros((1,X.shape[1]))\n",
    "    \n",
    "    mu = np.mean(X_norm,0)          # 求每一列的平均值（0指定为列，1代表行）\n",
    "    sigma = np.std(X_norm,0)        # 求每一列的标准差\n",
    "    for i in range(X.shape[1]):     # 遍历列\n",
    "        X_norm[:,i] = (X_norm[:,i]-mu[i])/sigma[i]  # 归一化\n",
    "    \n",
    "    return X_norm,mu,sigma\n",
    "\n",
    "X,mu,sigma = featureNormaliza(x[:,1:])\n",
    "x[:,1:] = X"
   ]
  },
  {
   "cell_type": "code",
   "execution_count": 14,
   "metadata": {},
   "outputs": [
    {
     "data": {
      "text/plain": [
       "array([ 1.00000000e+00, -9.44870659e-18,  2.48028548e-16])"
      ]
     },
     "execution_count": 14,
     "metadata": {},
     "output_type": "execute_result"
    }
   ],
   "source": [
    "x.mean(axis=0)"
   ]
  },
  {
   "cell_type": "code",
   "execution_count": 15,
   "metadata": {},
   "outputs": [
    {
     "data": {
      "text/plain": [
       "array([0., 1., 1.])"
      ]
     },
     "execution_count": 15,
     "metadata": {},
     "output_type": "execute_result"
    }
   ],
   "source": [
    "x.std(axis=0)"
   ]
  },
  {
   "cell_type": "code",
   "execution_count": 16,
   "metadata": {},
   "outputs": [
    {
     "data": {
      "text/plain": [
       "array([[1],\n",
       "       [1],\n",
       "       [1]])"
      ]
     },
     "execution_count": 16,
     "metadata": {},
     "output_type": "execute_result"
    }
   ],
   "source": [
    "# 需要求的参数，设置初始值\n",
    "theta = np.full((x.shape[1],1), 1)\n",
    "theta"
   ]
  },
  {
   "cell_type": "code",
   "execution_count": 17,
   "metadata": {},
   "outputs": [
    {
     "data": {
      "text/plain": [
       "(47, 1)"
      ]
     },
     "execution_count": 17,
     "metadata": {},
     "output_type": "execute_result"
    }
   ],
   "source": [
    "y = datas[:,-1]\n",
    "y = y.reshape(-1,1)   #将行向量转化为列\n",
    "y.shape"
   ]
  },
  {
   "cell_type": "markdown",
   "metadata": {},
   "source": [
    "![](assets/LinearRegression01.png)"
   ]
  },
  {
   "cell_type": "code",
   "execution_count": 18,
   "metadata": {},
   "outputs": [],
   "source": [
    "def getGradient(x, theta, y):\n",
    "    h_y = (np.dot(x, theta) - y) \n",
    "    \n",
    "    gradient0 = (h_y * x[:, 0].reshape(-1,1)).mean()\n",
    "    gradient1 = (h_y * x[:, 1].reshape(-1,1)).mean()\n",
    "    gradient2 = (h_y * x[:, 2].reshape(-1,1)).mean()\n",
    "    \n",
    "    return (gradient0, gradient1, gradient2)"
   ]
  },
  {
   "cell_type": "code",
   "execution_count": 19,
   "metadata": {},
   "outputs": [],
   "source": [
    "# 计算代价函数\n",
    "def computerCost(x,y,theta):    \n",
    "    return ( (np.dot(x, theta) - y) ** 2 ).mean()/2"
   ]
  },
  {
   "cell_type": "code",
   "execution_count": 20,
   "metadata": {},
   "outputs": [
    {
     "name": "stdout",
     "output_type": "stream",
     "text": [
      "64292885013.76273\n",
      "2043497024.7329688\n",
      "2043280082.6423357\n",
      "2641\n",
      "2043280050.715115\n"
     ]
    }
   ],
   "source": [
    "theta = np.full((x.shape[1],1), 10)\n",
    "alpha = 0.01 # 步长\n",
    "num_iters = 0\n",
    "max_iters = 100000\n",
    "c = 0.001 #两次结果小于这个值就停止迭代\n",
    "preCost = 0\n",
    "while(True):    \n",
    "    gradient0, gradient1, gradient2 = getGradient(x, theta, y)\n",
    "    theta = theta - np.array([gradient0, gradient1, gradient2]).reshape(-1,1) * alpha        \n",
    "    cost = computerCost(x,y,theta)    \n",
    "    if(num_iters != 0 and (preCost - cost < c or num_iters > max_iters) ):\n",
    "        break\n",
    "    if(num_iters % 1000 == 0):       \n",
    "        print(cost)\n",
    "    preCost = cost\n",
    "    num_iters += 1\n",
    "print(num_iters) \n",
    "print(cost)\n",
    "#2043280050.603164"
   ]
  },
  {
   "cell_type": "code",
   "execution_count": 21,
   "metadata": {},
   "outputs": [
    {
     "data": {
      "text/plain": [
       "array([[340412.65957347],\n",
       "       [109447.2913179 ],\n",
       "       [ -6577.84970242]])"
      ]
     },
     "execution_count": 21,
     "metadata": {},
     "output_type": "execute_result"
    }
   ],
   "source": [
    "# 340412.6595744681\n",
    "# [109447.79646964  -6578.35485416]\n",
    "# 上面是使用sklearn得到的借据和权重(执行了相同的归一化)，和我这差不多，因为公式都一样，损失函数也一样\n",
    "theta"
   ]
  },
  {
   "cell_type": "code",
   "execution_count": 22,
   "metadata": {},
   "outputs": [],
   "source": [
    "# 测试学习效果（预测）\n",
    "def predict(mu,sigma,theta):\n",
    "    result = 0\n",
    "    # 注意归一化\n",
    "    predict = np.array([2104,3])\n",
    "    norm_predict = (predict-mu)/sigma\n",
    "    final_predict = np.hstack((np.ones((1)),norm_predict))\n",
    "    \n",
    "    result = np.dot(final_predict,theta)    # 预测结果\n",
    "    return result"
   ]
  },
  {
   "cell_type": "code",
   "execution_count": 23,
   "metadata": {},
   "outputs": [
    {
     "data": {
      "text/plain": [
       "array([356282.92974171])"
      ]
     },
     "execution_count": 23,
     "metadata": {},
     "output_type": "execute_result"
    }
   ],
   "source": [
    "predict(mu, sigma, theta)"
   ]
  },
  {
   "cell_type": "code",
   "execution_count": 24,
   "metadata": {},
   "outputs": [
    {
     "data": {
      "text/plain": [
       "0.15607417883441707"
      ]
     },
     "execution_count": 24,
     "metadata": {},
     "output_type": "execute_result"
    }
   ],
   "source": [
    "# 这个结果似乎还是可以的,平均误差\n",
    "# 这里的y的shape一定要是(,1),不然会广播计算\n",
    "np.mean(np.abs(np.dot(x, theta) -y) / y)"
   ]
  },
  {
   "cell_type": "markdown",
   "metadata": {},
   "source": [
    "### 矩阵和向量相乘\n",
    "上面的计算全部使用的二维的ndarray，其实不必，使用向量与矩阵的相乘即可。"
   ]
  },
  {
   "cell_type": "code",
   "execution_count": 25,
   "metadata": {},
   "outputs": [],
   "source": [
    "# a: 4x3\n",
    "a = np.array([[1,2,3],\n",
    "              [4,5,6],\n",
    "              [1,1,1],\n",
    "              [2,2,2]\n",
    "             ])\n",
    "# b: 3\n",
    "b = np.array([1,2,3])"
   ]
  },
  {
   "cell_type": "code",
   "execution_count": 26,
   "metadata": {},
   "outputs": [
    {
     "data": {
      "text/plain": [
       "array([14, 32,  6, 12])"
      ]
     },
     "execution_count": 26,
     "metadata": {},
     "output_type": "execute_result"
    }
   ],
   "source": [
    "# 矩阵 x 向量 -> 向量\n",
    "np.dot(a, b)"
   ]
  },
  {
   "cell_type": "code",
   "execution_count": 27,
   "metadata": {},
   "outputs": [],
   "source": [
    "# 报错\n",
    "# np.dot(b, a)"
   ]
  },
  {
   "cell_type": "code",
   "execution_count": 28,
   "metadata": {},
   "outputs": [
    {
     "data": {
      "text/plain": [
       "array([[14],\n",
       "       [32],\n",
       "       [ 6],\n",
       "       [12]])"
      ]
     },
     "execution_count": 28,
     "metadata": {},
     "output_type": "execute_result"
    }
   ],
   "source": [
    "# 矩阵 x 矩阵 -> 矩阵\n",
    "# 矩阵就是二维数组\n",
    "np.dot(a, b.reshape(-1, 1))"
   ]
  },
  {
   "cell_type": "code",
   "execution_count": 29,
   "metadata": {},
   "outputs": [
    {
     "data": {
      "text/plain": [
       "14"
      ]
     },
     "execution_count": 29,
     "metadata": {},
     "output_type": "execute_result"
    }
   ],
   "source": [
    "# 向量 x 向量 -> 标量\n",
    "np.dot(b, b)"
   ]
  },
  {
   "cell_type": "markdown",
   "metadata": {},
   "source": [
    "### 矩阵和向量计算线性回归"
   ]
  },
  {
   "cell_type": "code",
   "execution_count": 30,
   "metadata": {},
   "outputs": [
    {
     "data": {
      "text/plain": [
       "array([2.00068085e+03, 3.17021277e+00, 3.40412660e+05])"
      ]
     },
     "execution_count": 30,
     "metadata": {},
     "output_type": "execute_result"
    }
   ],
   "source": [
    "datas.mean(axis=0)"
   ]
  },
  {
   "cell_type": "code",
   "execution_count": 31,
   "metadata": {},
   "outputs": [
    {
     "data": {
      "text/plain": [
       "array([ 1.00000000e+00, -9.44870659e-18,  2.48028548e-16])"
      ]
     },
     "execution_count": 31,
     "metadata": {},
     "output_type": "execute_result"
    }
   ],
   "source": [
    "x.mean(axis=0)"
   ]
  },
  {
   "cell_type": "code",
   "execution_count": 32,
   "metadata": {},
   "outputs": [
    {
     "data": {
      "text/plain": [
       "((47, 2), (47,))"
      ]
     },
     "execution_count": 32,
     "metadata": {},
     "output_type": "execute_result"
    }
   ],
   "source": [
    "# 重新赋值吧\n",
    "X = datas[:,:-1]\n",
    "y = datas[:,-1]\n",
    "\n",
    "X.shape, y.shape"
   ]
  },
  {
   "cell_type": "code",
   "execution_count": 33,
   "metadata": {},
   "outputs": [],
   "source": [
    "def featureNormaliza(X):\n",
    "    X_norm = np.array(X)            #将X转化为numpy数组对象，才可以进行矩阵的运算\n",
    "    #定义所需变量\n",
    "    mu = np.zeros((1,X.shape[1]))   \n",
    "    sigma = np.zeros((1,X.shape[1]))\n",
    "    \n",
    "    mu = np.mean(X_norm,0)          # 求每一列的平均值（0指定为列，1代表行）\n",
    "    sigma = np.std(X_norm,0)        # 求每一列的标准差\n",
    "    for i in range(X.shape[1]):     # 遍历列\n",
    "        X_norm[:,i] = (X_norm[:,i]-mu[i])/sigma[i]  # 归一化"
   ]
  },
  {
   "cell_type": "code",
   "execution_count": 34,
   "metadata": {
    "code_folding": []
   },
   "outputs": [],
   "source": [
    "class MyStandardScaler():\n",
    "    def __init__(self):\n",
    "        self.means = np.array([0])\n",
    "        self.stds = np.array([1])\n",
    "        \n",
    "    def fit(self, array):\n",
    "        # 每列的平均值与标准差\n",
    "        self.means = np.mean(array, axis=0)\n",
    "        self.stds = np.std(array, axis=0)\n",
    "        \n",
    "    def transform(self, array):\n",
    "        return (array - self.means) / self.stds\n",
    "    \n",
    "    def fit_transform(self, array):\n",
    "        self.fit(array)\n",
    "        return self.transform(array)"
   ]
  },
  {
   "cell_type": "code",
   "execution_count": 35,
   "metadata": {},
   "outputs": [
    {
     "data": {
      "text/plain": [
       "(array([-9.44870659e-18,  2.48028548e-16]), array([1., 1.]))"
      ]
     },
     "execution_count": 35,
     "metadata": {},
     "output_type": "execute_result"
    }
   ],
   "source": [
    "myStd = MyStandardScaler()\n",
    "X_train = myStd.fit_transform(X)\n",
    "X_train.mean(axis=0), X_train.std(axis=0)"
   ]
  },
  {
   "cell_type": "markdown",
   "metadata": {},
   "source": [
    "![](assets/LinearRegression01.png)"
   ]
  },
  {
   "cell_type": "code",
   "execution_count": 36,
   "metadata": {},
   "outputs": [],
   "source": [
    "class MyLinearRegression():\n",
    "    def __init__(self, fit_intercept=True ):\n",
    "        self.fit_intercept = fit_intercept\n",
    "        \n",
    "        self.intercept_ = None\n",
    "        self.coef_ = []\n",
    "        \n",
    "    def fit(self, X, y, alpha = 0.01, max_iters = 100000, c = 0.001):\n",
    "        self.alpha = alpha #学习率\n",
    "        self.max_iters = max_iters\n",
    "        self.c = c #两次结果之差小于这个值就停止迭代\n",
    "        \n",
    "        if self.fit_intercept:\n",
    "            theta = np.full(X.shape[1]+1, 1)#权重向量，带截距\n",
    "            X = np.hstack([np.ones((X.shape[0],1)), X])\n",
    "        else:\n",
    "            theta = np.full(X.shape[1], 1)#权重向量，不带截距\n",
    "            X = X.copy()\n",
    "        \n",
    "        num_iters = 0\n",
    "        preCost = 0\n",
    "        while(True): \n",
    "            gradient = self.get_gradient(X, y, theta)\n",
    "            theta = theta - gradient * alpha\n",
    "            cost = self.computer_cost(X,y,theta)    \n",
    "            if(num_iters != 0 and (preCost - cost < c or num_iters > max_iters) ):\n",
    "                break\n",
    "            if(num_iters % 1000 == 0):       \n",
    "                print(\"cost:%f\" % cost)\n",
    "            preCost = cost\n",
    "            num_iters += 1           \n",
    "            \n",
    "        if self.fit_intercept:\n",
    "            self.intercept_ = theta[0]\n",
    "            self.coef_ = theta[1:]\n",
    "        else:\n",
    "            self.intercept_ = None\n",
    "            self.coef_ = theta[:]\n",
    "            \n",
    "        print(\"final cost:%f\" % cost)\n",
    "        \n",
    "    \n",
    "    def get_gradient(self, X, y, theta):\n",
    "        h_y = (np.dot(X, theta) - y)\n",
    "        #np.dot(h_y.reshape(1, -1), X) / X.shape[0]\n",
    "        # 把矩阵放到左边省的再把向量转换成矩阵，麻烦\n",
    "        return np.dot(X.T, h_y) / X.shape[0]\n",
    "    \n",
    "    # 计算代价函数\n",
    "    def computer_cost(self, X,y,theta):    \n",
    "        return ( (np.dot(X, theta) - y) ** 2 ).mean()/2\n"
   ]
  },
  {
   "cell_type": "code",
   "execution_count": 37,
   "metadata": {},
   "outputs": [
    {
     "name": "stdout",
     "output_type": "stream",
     "text": [
      "cost:64297287109.818810\n",
      "cost:2043497024.738565\n",
      "cost:2043280082.642336\n",
      "cost:2043280050.607562\n",
      "final cost:2043280050.603982\n"
     ]
    }
   ],
   "source": [
    "myLinearRegression = MyLinearRegression(fit_intercept=True)\n",
    "\n",
    "myLinearRegression.fit(X_train, y, c=0.00001)"
   ]
  },
  {
   "cell_type": "code",
   "execution_count": 38,
   "metadata": {},
   "outputs": [
    {
     "data": {
      "text/plain": [
       "array([109447.74525378,  -6578.3036383 ])"
      ]
     },
     "execution_count": 38,
     "metadata": {},
     "output_type": "execute_result"
    }
   ],
   "source": [
    "myLinearRegression.coef_"
   ]
  },
  {
   "cell_type": "code",
   "execution_count": 39,
   "metadata": {},
   "outputs": [
    {
     "data": {
      "text/plain": [
       "340412.6595744623"
      ]
     },
     "execution_count": 39,
     "metadata": {},
     "output_type": "execute_result"
    }
   ],
   "source": [
    "myLinearRegression.intercept_"
   ]
  },
  {
   "cell_type": "code",
   "execution_count": 40,
   "metadata": {},
   "outputs": [
    {
     "data": {
      "text/plain": [
       "array([5.40249612e+09])"
      ]
     },
     "execution_count": 40,
     "metadata": {},
     "output_type": "execute_result"
    }
   ],
   "source": [
    "# 预测[2104,3]\n",
    "np.dot( myStd.transform(np.array([[2104,3]])) , myLinearRegression.coef_ ) * myLinearRegression.intercept_"
   ]
  },
  {
   "cell_type": "markdown",
   "metadata": {},
   "source": [
    "## 使用sklearn"
   ]
  },
  {
   "cell_type": "code",
   "execution_count": 41,
   "metadata": {},
   "outputs": [],
   "source": [
    "from sklearn.linear_model import LinearRegression\n",
    "from sklearn.preprocessing import StandardScaler"
   ]
  },
  {
   "cell_type": "code",
   "execution_count": 42,
   "metadata": {},
   "outputs": [
    {
     "data": {
      "text/plain": [
       "((47, 2), (47,))"
      ]
     },
     "execution_count": 42,
     "metadata": {},
     "output_type": "execute_result"
    }
   ],
   "source": [
    "# 重新赋值吧\n",
    "X = datas[:,:-1]\n",
    "y = datas[:,-1]\n",
    "\n",
    "X.shape, y.shape"
   ]
  },
  {
   "cell_type": "code",
   "execution_count": 43,
   "metadata": {},
   "outputs": [],
   "source": [
    "# 归一化操作\n",
    "scaler = StandardScaler()   \n",
    "scaler.fit(X)\n",
    "X_train = scaler.transform(X)\n",
    "X_test = scaler.transform(np.array([[2104,3]]))"
   ]
  },
  {
   "cell_type": "code",
   "execution_count": 44,
   "metadata": {},
   "outputs": [
    {
     "data": {
      "text/plain": [
       "array([-9.44870659e-18,  2.48028548e-16])"
      ]
     },
     "execution_count": 44,
     "metadata": {},
     "output_type": "execute_result"
    }
   ],
   "source": [
    "X_train.mean(axis=0)"
   ]
  },
  {
   "cell_type": "code",
   "execution_count": 45,
   "metadata": {},
   "outputs": [
    {
     "data": {
      "text/plain": [
       "LinearRegression(copy_X=True, fit_intercept=True, n_jobs=None, normalize=False)"
      ]
     },
     "execution_count": 45,
     "metadata": {},
     "output_type": "execute_result"
    }
   ],
   "source": [
    "# 线性模型拟合\n",
    "model = LinearRegression()\n",
    "model.fit(X_train, y)"
   ]
  },
  {
   "cell_type": "code",
   "execution_count": 46,
   "metadata": {},
   "outputs": [
    {
     "name": "stdout",
     "output_type": "stream",
     "text": [
      "[109447.79646964  -6578.35485416]\n",
      "340412.6595744681\n",
      "[356283.1103389]\n"
     ]
    }
   ],
   "source": [
    "#预测结果\n",
    "result = model.predict(X_test)\n",
    "print(model.coef_)       # Coefficient of the features 决策函数中的特征系数\n",
    "print(model.intercept_)  # 又名bias偏置,若设置为False，则为0\n",
    "print(result)"
   ]
  },
  {
   "cell_type": "code",
   "execution_count": 47,
   "metadata": {},
   "outputs": [
    {
     "data": {
      "text/plain": [
       "4086560101.205658"
      ]
     },
     "execution_count": 47,
     "metadata": {},
     "output_type": "execute_result"
    }
   ],
   "source": [
    "# MSE\n",
    "np.square((np.dot(X_train, model.coef_) +  model.intercept_) - y).mean()"
   ]
  },
  {
   "cell_type": "markdown",
   "metadata": {},
   "source": [
    "**sklearn本身就提供了MSE的计算：**"
   ]
  },
  {
   "cell_type": "code",
   "execution_count": 51,
   "metadata": {},
   "outputs": [],
   "source": [
    "from sklearn.metrics import mean_squared_error"
   ]
  },
  {
   "cell_type": "code",
   "execution_count": 53,
   "metadata": {},
   "outputs": [
    {
     "data": {
      "text/plain": [
       "4086560101.205658"
      ]
     },
     "execution_count": 53,
     "metadata": {},
     "output_type": "execute_result"
    }
   ],
   "source": [
    "y_predict = np.dot(X_train, model.coef_) +  model.intercept_\n",
    "mean_squared_error(y, y_predict)"
   ]
  },
  {
   "cell_type": "code",
   "execution_count": 48,
   "metadata": {},
   "outputs": [
    {
     "data": {
      "text/plain": [
       "0.15607399762704607"
      ]
     },
     "execution_count": 48,
     "metadata": {},
     "output_type": "execute_result"
    }
   ],
   "source": [
    "# 平均百分比误差\n",
    "np.abs( ((np.dot(X_train, model.coef_) +  model.intercept_) - y) / y ).mean()"
   ]
  },
  {
   "cell_type": "code",
   "execution_count": 49,
   "metadata": {},
   "outputs": [
    {
     "data": {
      "text/plain": [
       "0.7329450180289141"
      ]
     },
     "execution_count": 49,
     "metadata": {},
     "output_type": "execute_result"
    }
   ],
   "source": [
    "# 对模型的打分\n",
    "\"\"\"\n",
    "Returns the coefficient of determination R^2 of the prediction.\n",
    "\n",
    "The coefficient R^2 is defined as (1 - u/v), where u is the residual\n",
    "sum of squares ((y_true - y_pred) ** 2).sum() and v is the total\n",
    "sum of squares ((y_true - y_true.mean()) ** 2).sum().\n",
    "The best possible score is 1.0 and it can be negative (because the\n",
    "model can be arbitrarily worse). A constant model that always\n",
    "predicts the expected value of y, disregarding the input features,\n",
    "would get a R^2 score of 0.0.\n",
    "\"\"\"\n",
    "model.score(X_train, y)"
   ]
  },
  {
   "cell_type": "markdown",
   "metadata": {},
   "source": [
    "R2_score = 1，达到最大值。即分子为 0 ，意味着样本中预测值和真实值完全相等，没有任何误差。也就是说我们建立的模型完美拟合了所有真实数据，是效果最好的模型，R2_score 值也达到了最大。但通常模型不会这么完美，总会有误差存在，当误差很小的时候，分子小于分母，模型会趋近 1，仍然是好的模型，随着误差越来越大，R2_score 也会离最大值 1 越来越远，直到出现第 2 中情况。\n",
    "\n",
    "R2_score = 0。此时分子等于分母，样本的每项预测值都等于均值。也就是说我们辛苦训练出来的模型和前面说的均值模型完全一样，还不如不训练，直接让模型的预测值全去均值。当误差越来越大的时候就出现了第三种情况。\n",
    "\n",
    "R2_score < 0 ：分子大于分母，训练模型产生的误差比使用均值产生的还要大，也就是训练模型反而不如直接去均值效果好。出现这种情况，通常是模型本身不是线性关系的，而我们误使用了线性模型，导致误差很大。"
   ]
  },
  {
   "cell_type": "code",
   "execution_count": 50,
   "metadata": {},
   "outputs": [
    {
     "data": {
      "text/plain": [
       "0.7329450180289141"
      ]
     },
     "execution_count": 50,
     "metadata": {},
     "output_type": "execute_result"
    }
   ],
   "source": [
    "y_predict = np.dot(X_train, model.coef_) +  model.intercept_\n",
    "u = ( (y - y_predict)**2 ).sum()\n",
    "v = ( (y - y.mean())** 2).sum()\n",
    "1 - u/v"
   ]
  },
  {
   "cell_type": "markdown",
   "metadata": {},
   "source": [
    "```py\n",
    "Init signature: linear_model.LinearRegression(fit_intercept=True, normalize=False, copy_X=True, n_jobs=None)\n",
    "Docstring:     \n",
    "Ordinary least squares Linear Regression.\n",
    "\n",
    "Parameters\n",
    "----------\n",
    "fit_intercept : boolean, optional, default True\n",
    "    whether to calculate the intercept for this model. If set\n",
    "    to False, no intercept will be used in calculations\n",
    "    (e.g. data is expected to be already centered).\n",
    "\n",
    "normalize : boolean, optional, default False\n",
    "    This parameter is ignored when ``fit_intercept`` is set to False.\n",
    "    If True, the regressors X will be normalized before regression by\n",
    "    subtracting the mean and dividing by the l2-norm.\n",
    "    If you wish to standardize, please use\n",
    "    :class:`sklearn.preprocessing.StandardScaler` before calling ``fit`` on\n",
    "    an estimator with ``normalize=False``.\n",
    "\n",
    "copy_X : boolean, optional, default True\n",
    "    If True, X will be copied; else, it may be overwritten.\n",
    "\n",
    "n_jobs : int or None, optional (default=None)\n",
    "    The number of jobs to use for the computation. This will only provide\n",
    "    speedup for n_targets > 1 and sufficient large problems.\n",
    "    ``None`` means 1 unless in a :obj:`joblib.parallel_backend` context.\n",
    "    ``-1`` means using all processors. See :term:`Glossary <n_jobs>`\n",
    "    for more details.\n",
    "\n",
    "Attributes\n",
    "----------\n",
    "coef_ : array, shape (n_features, ) or (n_targets, n_features)\n",
    "    Estimated coefficients for the linear regression problem.\n",
    "    If multiple targets are passed during the fit (y 2D), this\n",
    "    is a 2D array of shape (n_targets, n_features), while if only\n",
    "    one target is passed, this is a 1D array of length n_features.\n",
    "\n",
    "intercept_ : array\n",
    "    Independent term in the linear model.\n",
    "\n",
    "Examples\n",
    "--------\n",
    ">>> import numpy as np\n",
    ">>> from sklearn.linear_model import LinearRegression\n",
    ">>> X = np.array([[1, 1], [1, 2], [2, 2], [2, 3]])\n",
    ">>> # y = 1 * x_0 + 2 * x_1 + 3\n",
    ">>> y = np.dot(X, np.array([1, 2])) + 3\n",
    ">>> reg = LinearRegression().fit(X, y)\n",
    ">>> reg.score(X, y)\n",
    "1.0\n",
    ">>> reg.coef_\n",
    "array([1., 2.])\n",
    ">>> reg.intercept_ # doctest: +ELLIPSIS\n",
    "3.0000...\n",
    ">>> reg.predict(np.array([[3, 5]]))\n",
    "array([16.])\n",
    "```"
   ]
  },
  {
   "cell_type": "code",
   "execution_count": null,
   "metadata": {},
   "outputs": [],
   "source": []
  }
 ],
 "metadata": {
  "kernelspec": {
   "display_name": "Python 3",
   "language": "python",
   "name": "python3"
  },
  "language_info": {
   "codemirror_mode": {
    "name": "ipython",
    "version": 3
   },
   "file_extension": ".py",
   "mimetype": "text/x-python",
   "name": "python",
   "nbconvert_exporter": "python",
   "pygments_lexer": "ipython3",
   "version": "3.7.0"
  },
  "toc": {
   "base_numbering": 1,
   "nav_menu": {},
   "number_sections": true,
   "sideBar": true,
   "skip_h1_title": false,
   "title_cell": "Table of Contents",
   "title_sidebar": "Contents",
   "toc_cell": false,
   "toc_position": {},
   "toc_section_display": true,
   "toc_window_display": true
  }
 },
 "nbformat": 4,
 "nbformat_minor": 2
}
