{
 "cells": [
  {
   "cell_type": "code",
   "execution_count": 1,
   "metadata": {},
   "outputs": [],
   "source": [
    "import numpy as np"
   ]
  },
  {
   "cell_type": "code",
   "execution_count": 2,
   "metadata": {},
   "outputs": [],
   "source": [
    "# delimiter : str, optional.The default is whitespace.\n",
    "datas = np.loadtxt(\"data.txt\", delimiter=\",\", dtype=\"float64\")"
   ]
  },
  {
   "cell_type": "code",
   "execution_count": 3,
   "metadata": {},
   "outputs": [],
   "source": [
    "x = datas[:,:-1]\n",
    "y = datas[:, -1].reshape(-1,1)"
   ]
  },
  {
   "cell_type": "code",
   "execution_count": 4,
   "metadata": {},
   "outputs": [],
   "source": [
    "from sklearn import linear_model #线性回归的模型\n",
    "from sklearn.preprocessing import StandardScaler    #引入归一化的包"
   ]
  },
  {
   "cell_type": "code",
   "execution_count": 5,
   "metadata": {},
   "outputs": [],
   "source": [
    "# 归一化操作\n",
    "scaler = StandardScaler()   \n",
    "scaler.fit(x)\n",
    "x_train = scaler.transform(x)\n",
    "x_test = scaler.transform(np.array([[2104,3]]))"
   ]
  },
  {
   "cell_type": "code",
   "execution_count": 6,
   "metadata": {},
   "outputs": [
    {
     "data": {
      "text/plain": [
       "array([[ 1.31415422e-01, -2.26093368e-01],\n",
       "       [-5.09640698e-01, -2.26093368e-01],\n",
       "       [ 5.07908699e-01, -2.26093368e-01],\n",
       "       [-7.43677059e-01, -1.55439190e+00],\n",
       "       [ 1.27107075e+00,  1.10220517e+00],\n",
       "       [-1.99450507e-02,  1.10220517e+00],\n",
       "       [-5.93588523e-01, -2.26093368e-01],\n",
       "       [-7.29685755e-01, -2.26093368e-01],\n",
       "       [-7.89466782e-01, -2.26093368e-01],\n",
       "       [-6.44465993e-01, -2.26093368e-01],\n",
       "       [-7.71822042e-02,  1.10220517e+00],\n",
       "       [-8.65999486e-04, -2.26093368e-01],\n",
       "       [-1.40779041e-01, -2.26093368e-01],\n",
       "       [ 3.15099326e+00,  2.43050370e+00],\n",
       "       [-9.31923697e-01, -2.26093368e-01],\n",
       "       [ 3.80715024e-01,  1.10220517e+00],\n",
       "       [-8.65782986e-01, -1.55439190e+00],\n",
       "       [-9.72625673e-01, -2.26093368e-01],\n",
       "       [ 7.73743478e-01,  1.10220517e+00],\n",
       "       [ 1.31050078e+00,  1.10220517e+00],\n",
       "       [-2.97227261e-01, -2.26093368e-01],\n",
       "       [-1.43322915e-01, -1.55439190e+00],\n",
       "       [-5.04552951e-01, -2.26093368e-01],\n",
       "       [-4.91995958e-02,  1.10220517e+00],\n",
       "       [ 2.40309445e+00, -2.26093368e-01],\n",
       "       [-1.14560907e+00, -2.26093368e-01],\n",
       "       [-6.90255715e-01, -2.26093368e-01],\n",
       "       [ 6.68172729e-01, -2.26093368e-01],\n",
       "       [ 2.53521350e-01, -2.26093368e-01],\n",
       "       [ 8.09357707e-01, -2.26093368e-01],\n",
       "       [-2.05647815e-01, -1.55439190e+00],\n",
       "       [-1.27280274e+00, -2.88269044e+00],\n",
       "       [ 5.00114703e-02,  1.10220517e+00],\n",
       "       [ 1.44532608e+00, -2.26093368e-01],\n",
       "       [-2.41262044e-01,  1.10220517e+00],\n",
       "       [-7.16966387e-01, -2.26093368e-01],\n",
       "       [-9.68809863e-01, -2.26093368e-01],\n",
       "       [ 1.67029651e-01,  1.10220517e+00],\n",
       "       [ 2.81647389e+00,  1.10220517e+00],\n",
       "       [ 2.05187753e-01,  1.10220517e+00],\n",
       "       [-4.28236746e-01, -1.55439190e+00],\n",
       "       [ 3.01854946e-01, -2.26093368e-01],\n",
       "       [ 7.20322135e-01,  1.10220517e+00],\n",
       "       [-1.01841540e+00, -2.26093368e-01],\n",
       "       [-1.46104938e+00, -1.55439190e+00],\n",
       "       [-1.89112638e-01,  1.10220517e+00],\n",
       "       [-1.01459959e+00, -2.26093368e-01]])"
      ]
     },
     "execution_count": 6,
     "metadata": {},
     "output_type": "execute_result"
    }
   ],
   "source": [
    "x_train"
   ]
  },
  {
   "cell_type": "code",
   "execution_count": 7,
   "metadata": {},
   "outputs": [
    {
     "data": {
      "text/plain": [
       "array([-9.44870659e-18,  2.48028548e-16])"
      ]
     },
     "execution_count": 7,
     "metadata": {},
     "output_type": "execute_result"
    }
   ],
   "source": [
    "x_train.mean(axis=0)"
   ]
  },
  {
   "cell_type": "code",
   "execution_count": 8,
   "metadata": {},
   "outputs": [
    {
     "data": {
      "text/plain": [
       "LinearRegression(copy_X=True, fit_intercept=True, n_jobs=None, normalize=False)"
      ]
     },
     "execution_count": 8,
     "metadata": {},
     "output_type": "execute_result"
    }
   ],
   "source": [
    "# 线性模型拟合\n",
    "model = linear_model.LinearRegression()\n",
    "model.fit(x_train, y)"
   ]
  },
  {
   "cell_type": "code",
   "execution_count": 9,
   "metadata": {},
   "outputs": [
    {
     "name": "stdout",
     "output_type": "stream",
     "text": [
      "[[109447.79646964  -6578.35485416]]\n",
      "[340412.65957447]\n",
      "[[356283.1103389]]\n"
     ]
    }
   ],
   "source": [
    "#预测结果\n",
    "result = model.predict(x_test)\n",
    "print(model.coef_)       # Coefficient of the features 决策函数中的特征系数\n",
    "print(model.intercept_)  # 又名bias偏置,若设置为False，则为0\n",
    "print(result)"
   ]
  },
  {
   "cell_type": "code",
   "execution_count": 10,
   "metadata": {},
   "outputs": [
    {
     "data": {
      "text/plain": [
       "array([[340412.65957447],\n",
       "       [109447.79646964],\n",
       "       [ -6578.35485416]])"
      ]
     },
     "execution_count": 10,
     "metadata": {},
     "output_type": "execute_result"
    }
   ],
   "source": [
    "theta = np.hstack([np.array([model.intercept_]), model.coef_]).reshape(-1,1)\n",
    "theta"
   ]
  },
  {
   "cell_type": "code",
   "execution_count": 11,
   "metadata": {},
   "outputs": [
    {
     "data": {
      "text/plain": [
       "0.15607399762704607"
      ]
     },
     "execution_count": 11,
     "metadata": {},
     "output_type": "execute_result"
    }
   ],
   "source": [
    "# 这个结果似乎还是可以的,平均误差\n",
    "# 这里的y的shape一定要是(,1),不然会广播计算\n",
    "np.mean(np.abs(np.dot( np.hstack([ np.ones((x_train.shape[0],1)), x_train]) , theta) -y) / y)"
   ]
  },
  {
   "cell_type": "code",
   "execution_count": 13,
   "metadata": {},
   "outputs": [
    {
     "data": {
      "text/plain": [
       "0.7329450180289141"
      ]
     },
     "execution_count": 13,
     "metadata": {},
     "output_type": "execute_result"
    }
   ],
   "source": [
    "# 这个应该就是对模型的打分\n",
    "model.score(x_train, y)"
   ]
  },
  {
   "cell_type": "code",
   "execution_count": 12,
   "metadata": {},
   "outputs": [],
   "source": [
    "linear_model.LinearRegression?"
   ]
  },
  {
   "cell_type": "markdown",
   "metadata": {},
   "source": [
    "```py\n",
    "Init signature: linear_model.LinearRegression(fit_intercept=True, normalize=False, copy_X=True, n_jobs=None)\n",
    "Docstring:     \n",
    "Ordinary least squares Linear Regression.\n",
    "\n",
    "Parameters\n",
    "----------\n",
    "fit_intercept : boolean, optional, default True\n",
    "    whether to calculate the intercept for this model. If set\n",
    "    to False, no intercept will be used in calculations\n",
    "    (e.g. data is expected to be already centered).\n",
    "\n",
    "normalize : boolean, optional, default False\n",
    "    This parameter is ignored when ``fit_intercept`` is set to False.\n",
    "    If True, the regressors X will be normalized before regression by\n",
    "    subtracting the mean and dividing by the l2-norm.\n",
    "    If you wish to standardize, please use\n",
    "    :class:`sklearn.preprocessing.StandardScaler` before calling ``fit`` on\n",
    "    an estimator with ``normalize=False``.\n",
    "\n",
    "copy_X : boolean, optional, default True\n",
    "    If True, X will be copied; else, it may be overwritten.\n",
    "\n",
    "n_jobs : int or None, optional (default=None)\n",
    "    The number of jobs to use for the computation. This will only provide\n",
    "    speedup for n_targets > 1 and sufficient large problems.\n",
    "    ``None`` means 1 unless in a :obj:`joblib.parallel_backend` context.\n",
    "    ``-1`` means using all processors. See :term:`Glossary <n_jobs>`\n",
    "    for more details.\n",
    "\n",
    "Attributes\n",
    "----------\n",
    "coef_ : array, shape (n_features, ) or (n_targets, n_features)\n",
    "    Estimated coefficients for the linear regression problem.\n",
    "    If multiple targets are passed during the fit (y 2D), this\n",
    "    is a 2D array of shape (n_targets, n_features), while if only\n",
    "    one target is passed, this is a 1D array of length n_features.\n",
    "\n",
    "intercept_ : array\n",
    "    Independent term in the linear model.\n",
    "\n",
    "Examples\n",
    "--------\n",
    ">>> import numpy as np\n",
    ">>> from sklearn.linear_model import LinearRegression\n",
    ">>> X = np.array([[1, 1], [1, 2], [2, 2], [2, 3]])\n",
    ">>> # y = 1 * x_0 + 2 * x_1 + 3\n",
    ">>> y = np.dot(X, np.array([1, 2])) + 3\n",
    ">>> reg = LinearRegression().fit(X, y)\n",
    ">>> reg.score(X, y)\n",
    "1.0\n",
    ">>> reg.coef_\n",
    "array([1., 2.])\n",
    ">>> reg.intercept_ # doctest: +ELLIPSIS\n",
    "3.0000...\n",
    ">>> reg.predict(np.array([[3, 5]]))\n",
    "array([16.])\n",
    "```"
   ]
  },
  {
   "cell_type": "code",
   "execution_count": null,
   "metadata": {},
   "outputs": [],
   "source": []
  }
 ],
 "metadata": {
  "kernelspec": {
   "display_name": "Python 3",
   "language": "python",
   "name": "python3"
  },
  "language_info": {
   "codemirror_mode": {
    "name": "ipython",
    "version": 3
   },
   "file_extension": ".py",
   "mimetype": "text/x-python",
   "name": "python",
   "nbconvert_exporter": "python",
   "pygments_lexer": "ipython3",
   "version": "3.7.0"
  },
  "toc": {
   "base_numbering": 1,
   "nav_menu": {},
   "number_sections": true,
   "sideBar": true,
   "skip_h1_title": false,
   "title_cell": "Table of Contents",
   "title_sidebar": "Contents",
   "toc_cell": false,
   "toc_position": {},
   "toc_section_display": true,
   "toc_window_display": false
  }
 },
 "nbformat": 4,
 "nbformat_minor": 2
}
