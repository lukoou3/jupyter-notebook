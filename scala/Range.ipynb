{
 "cells": [
  {
   "cell_type": "markdown",
   "metadata": {},
   "source": [
    "## Range的创建\n",
    "有时我们需要一个数字序列,从某个起点到某个终点。而 Range 能满足这个需要。"
   ]
  },
  {
   "cell_type": "markdown",
   "metadata": {},
   "source": [
    "可以通过构造函数或者伴生对象的apply方法创建，不过这用方式较少使用："
   ]
  },
  {
   "cell_type": "code",
   "execution_count": 1,
   "metadata": {},
   "outputs": [
    {
     "data": {
      "text/plain": [
       "\u001b[36mres0\u001b[39m: \u001b[32mRange\u001b[39m = \u001b[33mRange\u001b[39m(\u001b[32m1\u001b[39m, \u001b[32m2\u001b[39m, \u001b[32m3\u001b[39m, \u001b[32m4\u001b[39m, \u001b[32m5\u001b[39m, \u001b[32m6\u001b[39m, \u001b[32m7\u001b[39m, \u001b[32m8\u001b[39m, \u001b[32m9\u001b[39m)"
      ]
     },
     "execution_count": 1,
     "metadata": {},
     "output_type": "execute_result"
    }
   ],
   "source": [
    "//默认是不包含上限的\n",
    "new Range(1,10,1)"
   ]
  },
  {
   "cell_type": "code",
   "execution_count": 2,
   "metadata": {},
   "outputs": [
    {
     "data": {
      "text/plain": [
       "\u001b[36mres1\u001b[39m: \u001b[32mRange\u001b[39m = \u001b[33mRange\u001b[39m(\u001b[32m1\u001b[39m, \u001b[32m2\u001b[39m, \u001b[32m3\u001b[39m, \u001b[32m4\u001b[39m, \u001b[32m5\u001b[39m, \u001b[32m6\u001b[39m, \u001b[32m7\u001b[39m, \u001b[32m8\u001b[39m, \u001b[32m9\u001b[39m)"
      ]
     },
     "execution_count": 2,
     "metadata": {},
     "output_type": "execute_result"
    }
   ],
   "source": [
    "//默认是不包含上限的\n",
    "Range(1,10)"
   ]
  },
  {
   "cell_type": "markdown",
   "metadata": {},
   "source": [
    "**更多的时候我们是使用下面的方式创建Range的。以下实 例 将 展 示 如 何 创 建 Range , 支 持 Range 的 类 型 包 括 Int 、 Long 、 Float 、 Double 、 Char 、BigInt (支持任意大小的整数)和 BigDecimal ( 支 持 任 意 大 小 的 浮 点 数)。**\n",
    "\n",
    "**你创建的 Range 可以包含区间上限,也可以不包含区间上限;步长默认为 1,也可以指定一个非 1 的步长，关键字是to（包含上限）、until（不包含上限）、by（指定步长）:**"
   ]
  },
  {
   "cell_type": "code",
   "execution_count": 3,
   "metadata": {},
   "outputs": [
    {
     "data": {
      "text/plain": [
       "\u001b[36mres2\u001b[39m: \u001b[32mRange\u001b[39m.\u001b[32mInclusive\u001b[39m = \u001b[33mRange\u001b[39m(\u001b[32m1\u001b[39m, \u001b[32m2\u001b[39m, \u001b[32m3\u001b[39m, \u001b[32m4\u001b[39m, \u001b[32m5\u001b[39m, \u001b[32m6\u001b[39m, \u001b[32m7\u001b[39m, \u001b[32m8\u001b[39m, \u001b[32m9\u001b[39m, \u001b[32m10\u001b[39m)"
      ]
     },
     "execution_count": 3,
     "metadata": {},
     "output_type": "execute_result"
    }
   ],
   "source": [
    "1 to 10// Int类型的Range,包括区间上限,步长为1 (从1到10)"
   ]
  },
  {
   "cell_type": "code",
   "execution_count": 4,
   "metadata": {},
   "outputs": [
    {
     "data": {
      "text/plain": [
       "\u001b[36mres3\u001b[39m: \u001b[32mRange\u001b[39m = \u001b[33mRange\u001b[39m(\u001b[32m1\u001b[39m, \u001b[32m2\u001b[39m, \u001b[32m3\u001b[39m, \u001b[32m4\u001b[39m, \u001b[32m5\u001b[39m, \u001b[32m6\u001b[39m, \u001b[32m7\u001b[39m, \u001b[32m8\u001b[39m, \u001b[32m9\u001b[39m)"
      ]
     },
     "execution_count": 4,
     "metadata": {},
     "output_type": "execute_result"
    }
   ],
   "source": [
    "1 until 10// Int类型的Range,不包括区间上限,步长为1 (从1到9)"
   ]
  },
  {
   "cell_type": "code",
   "execution_count": 5,
   "metadata": {},
   "outputs": [
    {
     "data": {
      "text/plain": [
       "\u001b[36mres4\u001b[39m: \u001b[32mRange\u001b[39m = \u001b[33mRange\u001b[39m(\u001b[32m1\u001b[39m, \u001b[32m4\u001b[39m, \u001b[32m7\u001b[39m, \u001b[32m10\u001b[39m)"
      ]
     },
     "execution_count": 5,
     "metadata": {},
     "output_type": "execute_result"
    }
   ],
   "source": [
    "1 to 10 by 3// Int类型的Range,包括区间上限,步长为3"
   ]
  },
  {
   "cell_type": "code",
   "execution_count": 6,
   "metadata": {},
   "outputs": [
    {
     "data": {
      "text/plain": [
       "\u001b[36mres5\u001b[39m: \u001b[32mRange\u001b[39m = \u001b[33mRange\u001b[39m(\u001b[32m10\u001b[39m, \u001b[32m7\u001b[39m, \u001b[32m4\u001b[39m, \u001b[32m1\u001b[39m)"
      ]
     },
     "execution_count": 6,
     "metadata": {},
     "output_type": "execute_result"
    }
   ],
   "source": [
    "10 to 1 by -3// Int类型的递减Range,包括区间下限,步长为-3"
   ]
  },
  {
   "cell_type": "code",
   "execution_count": 7,
   "metadata": {},
   "outputs": [
    {
     "data": {
      "text/plain": [
       "\u001b[36mres6\u001b[39m: \u001b[32mcollection\u001b[39m.\u001b[32mimmutable\u001b[39m.\u001b[32mNumericRange\u001b[39m[\u001b[32mLong\u001b[39m] = \u001b[33mNumericRange\u001b[39m(\u001b[32m1L\u001b[39m, \u001b[32m4L\u001b[39m, \u001b[32m7L\u001b[39m, \u001b[32m10L\u001b[39m)"
      ]
     },
     "execution_count": 7,
     "metadata": {},
     "output_type": "execute_result"
    }
   ],
   "source": [
    "1L to 10L by 3// Long类型"
   ]
  },
  {
   "cell_type": "code",
   "execution_count": 8,
   "metadata": {},
   "outputs": [
    {
     "data": {
      "text/plain": [
       "\u001b[36mres7\u001b[39m: \u001b[32mcollection\u001b[39m.\u001b[32mimmutable\u001b[39m.\u001b[32mNumericRange\u001b[39m[\u001b[32mFloat\u001b[39m] = \u001b[33mNumericRange\u001b[39m(\u001b[32m1.1F\u001b[39m, \u001b[32m4.2F\u001b[39m, \u001b[32m7.2999997F\u001b[39m)"
      ]
     },
     "execution_count": 8,
     "metadata": {},
     "output_type": "execute_result"
    }
   ],
   "source": [
    "1.1f to 10.3f by 3.1f // Float类型的Range,步长可以不等于1"
   ]
  },
  {
   "cell_type": "code",
   "execution_count": 10,
   "metadata": {},
   "outputs": [
    {
     "data": {
      "text/plain": [
       "\u001b[36mres9\u001b[39m: \u001b[32mcollection\u001b[39m.\u001b[32mimmutable\u001b[39m.\u001b[32mNumericRange\u001b[39m[\u001b[32mFloat\u001b[39m] = \u001b[33mNumericRange\u001b[39m(\u001b[32m1.1F\u001b[39m, \u001b[32m1.6F\u001b[39m, \u001b[32m2.1F\u001b[39m, \u001b[32m2.6F\u001b[39m, \u001b[32m3.1F\u001b[39m, \u001b[32m3.6F\u001b[39m, \u001b[32m4.1F\u001b[39m, \u001b[32m4.6F\u001b[39m, \u001b[32m5.1F\u001b[39m)"
      ]
     },
     "execution_count": 10,
     "metadata": {},
     "output_type": "execute_result"
    }
   ],
   "source": [
    "1.1f to 5.3f by 0.5f // Float类型的Range,步长可以小于1"
   ]
  },
  {
   "cell_type": "code",
   "execution_count": 11,
   "metadata": {},
   "outputs": [
    {
     "data": {
      "text/plain": [
       "\u001b[36mres10\u001b[39m: \u001b[32mcollection\u001b[39m.\u001b[32mimmutable\u001b[39m.\u001b[32mNumericRange\u001b[39m[\u001b[32mDouble\u001b[39m] = \u001b[33mNumericRange\u001b[39m(\u001b[32m1.1\u001b[39m, \u001b[32m4.2\u001b[39m, \u001b[32m7.300000000000001\u001b[39m)"
      ]
     },
     "execution_count": 11,
     "metadata": {},
     "output_type": "execute_result"
    }
   ],
   "source": [
    "1.1 to 10.3 by 3.1// Double类型"
   ]
  },
  {
   "cell_type": "code",
   "execution_count": 12,
   "metadata": {},
   "outputs": [
    {
     "data": {
      "text/plain": [
       "\u001b[36mres11\u001b[39m: \u001b[32mcollection\u001b[39m.\u001b[32mimmutable\u001b[39m.\u001b[32mNumericRange\u001b[39m[\u001b[32mChar\u001b[39m] = \u001b[33mNumericRange\u001b[39m(\u001b[32m'a'\u001b[39m, \u001b[32m'd'\u001b[39m, \u001b[32m'g'\u001b[39m)"
      ]
     },
     "execution_count": 12,
     "metadata": {},
     "output_type": "execute_result"
    }
   ],
   "source": [
    "'a' to 'g' by 3// Char类型"
   ]
  },
  {
   "cell_type": "code",
   "execution_count": 13,
   "metadata": {},
   "outputs": [
    {
     "data": {
      "text/plain": [
       "\u001b[36mres12\u001b[39m: \u001b[32mcollection\u001b[39m.\u001b[32mimmutable\u001b[39m.\u001b[32mNumericRange\u001b[39m[\u001b[32mBigInt\u001b[39m] = \u001b[33mNumericRange\u001b[39m(1, 4, 7, 10)"
      ]
     },
     "execution_count": 13,
     "metadata": {},
     "output_type": "execute_result"
    }
   ],
   "source": [
    "BigInt(1) to BigInt(10) by 3"
   ]
  },
  {
   "cell_type": "code",
   "execution_count": 14,
   "metadata": {},
   "outputs": [
    {
     "data": {
      "text/plain": [
       "\u001b[36mres13\u001b[39m: \u001b[32mcollection\u001b[39m.\u001b[32mimmutable\u001b[39m.\u001b[32mNumericRange\u001b[39m.\u001b[32mInclusive\u001b[39m[\u001b[32mBigDecimal\u001b[39m] = \u001b[33mNumericRange\u001b[39m(1.1, 4.2, 7.3)"
      ]
     },
     "execution_count": 14,
     "metadata": {},
     "output_type": "execute_result"
    }
   ],
   "source": [
    "BigDecimal(1.1) to BigDecimal(10.3) by 3.1"
   ]
  },
  {
   "cell_type": "markdown",
   "metadata": {},
   "source": [
    "##  Range类的apply方法\n",
    "请注意Range类的apply方法和Range伴生对象的apply方法的区别。这一点Range和Seq、List等类似。\n",
    "```scala\n",
    "  private def fail() = throw new IllegalArgumentException(description + \": seqs cannot contain more than Int.MaxValue elements.\")\n",
    "\n",
    "  private def validateMaxLength() {\n",
    "    if (numRangeElements < 0)\n",
    "      fail()\n",
    "  }\n",
    "\n",
    "  final def apply(idx: Int): Int = {\n",
    "    validateMaxLength()\n",
    "    if (idx < 0 || idx >= numRangeElements) throw new IndexOutOfBoundsException(idx.toString)\n",
    "    else start + (step * idx)\n",
    "  }\n",
    "```"
   ]
  },
  {
   "cell_type": "code",
   "execution_count": 15,
   "metadata": {},
   "outputs": [
    {
     "data": {
      "text/plain": [
       "\u001b[36mrange\u001b[39m: \u001b[32mRange\u001b[39m = \u001b[33mRange\u001b[39m(\u001b[32m1\u001b[39m, \u001b[32m3\u001b[39m, \u001b[32m5\u001b[39m, \u001b[32m7\u001b[39m, \u001b[32m9\u001b[39m)\n",
       "\u001b[36mres14_1\u001b[39m: \u001b[32mInt\u001b[39m = \u001b[32m7\u001b[39m"
      ]
     },
     "execution_count": 15,
     "metadata": {},
     "output_type": "execute_result"
    }
   ],
   "source": [
    "val range = 1 to 10 by 2\n",
    "range(3)"
   ]
  },
  {
   "cell_type": "markdown",
   "metadata": {},
   "source": [
    "## 使用Range来填充集合\n",
    "\n",
    "### Problem\n",
    "你想要使用Range来填充一个List，Array，Vector或者其他的sequence。\n",
    "\n",
    "### Solution\n",
    "对于支持range方法的集合你可以直接调用range方法，或者创建一个Range对象然后把它转化为一个目标集合。\n",
    "\n",
    "在第一个解决方案中，我们调用了伴生类的range方法，比如Array，List，Vector，ArrayBuffer等等：\n",
    "\n",
    "```scala\n",
    "scala> Array.range(1, 10)\n",
    "res83: Array[Int] = Array(1, 2, 3, 4, 5, 6, 7, 8, 9)\n",
    "\n",
    "scala> List.range(1, 10)\n",
    "res84: List[Int] = List(1, 2, 3, 4, 5, 6, 7, 8, 9)\n",
    "\n",
    "scala> Vector.range(0, 10, 2)\n",
    "res85: scala.collection.immutable.Vector[Int] = Vector(0, 2, 4, 6, 8)\n",
    "```\n",
    "\n",
    "对于一些集合，比如List，Array，你也可以创建一个Range对象，然后把它转化为相应的目标集合：\n",
    "```scala\n",
    "scala> val a = (1 to 10).toArray\n",
    "a: Array[Int] = Array(1, 2, 3, 4, 5, 6, 7, 8, 9, 10)\n",
    "\n",
    "scala> val l = (1 to 10) by 2 toList\n",
    "warning: there were 1 feature warning(s); re-run with -feature for details\n",
    "l: List[Int] = List(1, 3, 5, 7, 9)\n",
    "\n",
    "scala> val l = (1 to 10).by(2).toList\n",
    "l: List[Int] = List(1, 3, 5, 7, 9)\n",
    "```\n",
    "\n",
    "使用这种方案我们可以把Range转为Set等，不支持range方法的集合类：\n",
    "```scala\n",
    "scala> val set = Set.range(0, 5)\n",
    "<console>:8: error: value range is not a member of object scala.collection.immutable.Set\n",
    "       val set = Set.range(0, 5)\n",
    "                     ^\n",
    "\n",
    "scala> val set = Range(0, 5).toSet\n",
    "set: scala.collection.immutable.Set[Int] = Set(0, 1, 2, 3, 4)\n",
    "\n",
    "scala> val set = (0 to 10 by 2).toSet\n",
    "set: scala.collection.immutable.Set[Int] = Set(0, 10, 6, 2, 8, 4)\n",
    "```\n",
    "\n",
    "你也可以创建一个字符序列：\n",
    "```scala\n",
    "scala> val letters = ('a' to 'f').toList\n",
    "letters: List[Char] = List(a, b, c, d, e, f)\n",
    "\n",
    "scala> val letters = ('a' to 'f' by 2).toList\n",
    "letters: List[Char] = List(a, c, e)\n",
    "```\n",
    "\n",
    " Range还能用于for循环：\n",
    "```scala\n",
    "scala> for(i <- 0 until 10 by 2) println(i)\n",
    "0\n",
    "2\n",
    "4\n",
    "6\n",
    "8\n",
    "```\n",
    "\n",
    "### Discussion\n",
    "通过对Range使用map方法，你可以创建出了Int，char之外，其他元素类型的集合\n",
    "```scala\n",
    "scala> val l = (1 to 3).map(_ * 2.0).toList\n",
    "l: List[Double] = List(2.0, 4.0, 6.0)\n",
    "```\n",
    "\n",
    "使用同样的方案，你可以创建二元祖集合：\n",
    "```scala\n",
    "scala> val t = (1 to 5).map(e => (e, e*2))\n",
    "t: scala.collection.immutable.IndexedSeq[(Int, Int)] = Vector((1,2), (2,4), (3,6), (4,8), (5,10))\n",
    "```\n",
    "\n",
    "二元祖集合很容易转换为Map：\n",
    "```scala\n",
    "scala> val map = t.toMap\n",
    "map: scala.collection.immutable.Map[Int,Int] = Map(5 -> 10, 1 -> 2, 2 -> 4, 3 -> 6, 4 -> 8)\n",
    "```"
   ]
  },
  {
   "cell_type": "markdown",
   "metadata": {},
   "source": []
  },
  {
   "cell_type": "markdown",
   "metadata": {},
   "source": []
  }
 ],
 "metadata": {
  "kernelspec": {
   "display_name": "Scala 2.11.11",
   "language": "scala",
   "name": "scala"
  },
  "language_info": {
   "codemirror_mode": "text/x-scala",
   "file_extension": ".scala",
   "mimetype": "text/x-scala",
   "name": "scala211",
   "nbconvert_exporter": "script",
   "pygments_lexer": "scala",
   "version": "2.11.11"
  },
  "toc": {
   "base_numbering": 1,
   "nav_menu": {},
   "number_sections": true,
   "sideBar": true,
   "skip_h1_title": false,
   "title_cell": "Table of Contents",
   "title_sidebar": "Contents",
   "toc_cell": false,
   "toc_position": {},
   "toc_section_display": true,
   "toc_window_display": false
  }
 },
 "nbformat": 4,
 "nbformat_minor": 2
}
