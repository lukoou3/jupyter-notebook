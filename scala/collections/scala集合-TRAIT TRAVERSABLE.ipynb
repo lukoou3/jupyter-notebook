{
 "cells": [
  {
   "cell_type": "markdown",
   "metadata": {},
   "source": [
    "# TRAIT TRAVERSABLE\n",
    "## TRAVERSABLE总结\n",
    "Traversable（遍历）是容器(collection)类的最高级别特性，它唯一的抽象操作是foreach:\n",
    "```scala\n",
    "  def foreach[U](f: A => U): Unit\n",
    "```\n",
    "需要实现Traversable的容器(collection)类仅仅需要定义与之相关的方法，其他所有方法可都可以从Traversable中继承。\n",
    "\n",
    "foreach方法用于遍历容器（collection）内的所有元素和每个元素进行指定的操作（比如说f操作）。操作类型是Elem => U，其中Elem是容器（collection）中元素的类型，U是一个任意的返回值类型。对f的调用仅仅是容器遍历的副作用，实际上所有函数f的计算结果都被foreach抛弃了。\n",
    "\n",
    "### Traversable操作分类\n",
    "Traversable同时定义的很多具体方法，如下表所示。这些方法可以划分为以下类别：\n",
    "\n",
    "#### 相加操作++（addition）\n",
    "**相加操作++（addition）**\n",
    "表示把两个traversable对象附加在一起或者把一个迭代器的所有元素添加到traversable对象的尾部。\n",
    "\n",
    "#### Map\n",
    "**Map**\n",
    "操作有map，flatMap和collect，它们可以通过对容器中的元素进行某些运算来生成一个新的容器。\n",
    "\n",
    "#### 转换器（Conversion）\n",
    "**转换器（Conversion）**\n",
    "操作包括toArray，toList，toIterable，toSeq，toIndexedSeq，toStream，toSet，和toMap，它们可以按照某种特定的方法对一个Traversable 容器进行转换。等容器类型已经与所需类型相匹配的时候，所有这些转换器都会不加改变的返回该容器。例如，对一个list使用toList，返回的结果就是list本身\n",
    "\n",
    "#### 拷贝（Copying）\n",
    "**拷贝（Copying）**\n",
    "操作有copyToBuffer和copyToArray。从字面意思就可以知道，它们分别用于把容器中的元素元素拷贝到一个缓冲区或者数组里。\n",
    "\n",
    "#### Size info\n",
    "**Size info**\n",
    "操作包括有isEmpty，nonEmpty，size和hasDefiniteSize。Traversable容器有有限和无限之分。比方说，自然数流Stream.from(0)就是一个无限的traversable 容器。hasDefiniteSize方法能够判断一个容器是否可能是无限的。若hasDefiniteSize返回值为ture，容器肯定有限。若返回值为false，根据完整信息才能判断容器（collection）是无限还是有限。\n",
    "\n",
    "#### 元素检索（Element Retrieval）\n",
    "**元素检索（Element Retrieval）**\n",
    "操作有head，last，headOption，lastOption和find。这些操作可以查找容器的第一个元素或者最后一个元素，或者第一个符合某种条件的元素。注意，尽管如此，但也不是所有的容器都明确定义了什么是“第一个”或”最后一个“。例如，通过哈希值储存元素的哈希集合（hashSet），每次运行哈希值都会发生改变。在这种情况下，程序每次运行都可能会导致哈希集合的”第一个“元素发生变化。如果一个容器总是以相同的规则排列元素，那这个容器是有序的。大多数容器都是有序的，但有些不是（例如哈希集合）– 排序会造成一些额外消耗。排序对于重复性测试和辅助调试是不可或缺的。这就是为什么Scala容器中的所有容器类型都把有序作为可选项。例如，带有序性的HashSet就是LinkedHashSet。\n",
    "\n",
    "#### 子容器检索（sub-collection Retrieval）\n",
    "**子容器检索（sub-collection Retrieval）**\n",
    "操作有tail，init，slice，take，drop，takeWhilte，dropWhile，filter，filteNot和withFilter。它们都可以通过范围索引或一些论断的判断返回某些子容器。\n",
    "\n",
    "#### 拆分（Subdivision）\n",
    "**拆分（Subdivision）**\n",
    "操作有splitAt，span，partition和groupBy，它们用于把一个容器（collection）里的元素分割成多个子容器。\n",
    "\n",
    "#### 元素测试（Element test）\n",
    "**元素测试（Element test）**\n",
    "包括有exists，forall和count，它们可以用一个给定论断来对容器中的元素进行判断。\n",
    "\n",
    "#### 折叠（Folds）\n",
    "**折叠（Folds）**\n",
    "操作有foldLeft，foldRight，/:，:\\，reduceLeft和reduceRight，用于对连续性元素的二进制操作。\n",
    "\n",
    "#### 特殊折叠（Specific folds）\n",
    "**特殊折叠（Specific folds）**\n",
    "包括sum, product, min, max。它们主要用于特定类型的容器（数值或比较）。\n",
    "\n",
    "#### 字符串（String）\n",
    "**字符串（String）**\n",
    "操作有mkString，addString和stringPrefix，可以将一个容器通过可选的方式转换为字符串。\n",
    "\n",
    "#### 视图（View）\n",
    "**视图（View）**\n",
    "操作包含两个view方法的重载体。一个view对象可以当作是一个容器客观地展示。接下来将会介绍更多有关视图内容。\n",
    "\n",
    "### Traversable对象的操作\n",
    "| WHAT IT IS                           | WHAT IT DOES                                                                                                                                 |\n",
    "|:------------------------------------ |:-------------------------------------------------------------------------------------------------------------------------------------------- |\n",
    "| **抽象方法：**                       |                                                                                                                                              |\n",
    "| xs foreach f                         | 对xs中的每一个元素执行函数f                                                                                                                  |\n",
    "| **加运算（Addition）：**             |                                                                                                                                              |\n",
    "| xs ++ ys                             | 生成一个由xs和ys中的元素组成容器。ys是一个TraversableOnce容器，即Taversable类型或迭代器。                                                    |\n",
    "| **Maps:**                            |                                                                                                                                              |\n",
    "| xs map f                             | 通过函数xs中的每一个元素调用函数f来生成一个容器。                                                                                            |\n",
    "| xs flatMap f                         | 通过对容器xs中的每一个元素调用作为容器的值函数f，在把所得的结果连接起来作为一个新的容器。                                                    |\n",
    "| xs collect f                         | 通过对每个xs中的符合定义的元素调用偏函数f，并把结果收集起来生成一个集合。                                                                    |\n",
    "| **转换（Conversions）：**            |                                                                                                                                              |\n",
    "| xs.toArray                           | 把容器转换为一个数组                                                                                                                         |\n",
    "| xs.toList                            | 把容器转换为一个list                                                                                                                         |\n",
    "| xs.toIterable                        | 把容器转换为一个迭代器。                                                                                                                     |\n",
    "| xs.toSeq                             | 把容器转换为一个序列                                                                                                                         |\n",
    "| xs.toIndexedSeq                      | 把容器转换为一个索引序列                                                                                                                     |\n",
    "| xs.toStream                          | 把容器转换为一个延迟计算的流。                                                                                                               |\n",
    "| xs.toSet                             | 把容器转换为一个集合（Set）。                                                                                                                |\n",
    "| xs.toMap                             | 把由键/值对组成的容器转换为一个映射表（map）。如果该容器并不是以键/值对作为元素的，那么调用这个操作将会导致一个静态类型的错误。              |\n",
    "| **拷贝（Copying）：**                |                                                                                                                                              |\n",
    "| xs copyToBuffer buf                  | 把容器的所有元素拷贝到buf缓冲区。                                                                                                            |\n",
    "| xs copyToArray(arr, s, n)            | 拷贝最多n个元素到数组arr的坐标s处。参数s，n是可选项。                                                                                        |\n",
    "| 大小判断（Size info）：              |                                                                                                                                              |\n",
    "| xs.isEmpty                           | 测试容器是否为空。                                                                                                                           |\n",
    "| xs.nonEmpty                          | 测试容器是否包含元素。                                                                                                                       |\n",
    "| xs.size                              | 计算容器内元素的个数。                                                                                                                       |\n",
    "| xs.hasDefiniteSize                   | 如果xs的大小是有限的，则为true。                                                                                                             |\n",
    "| **元素检索（Element Retrieval）：**  |                                                                                                                                              |\n",
    "| xs.head                              | 返回容器内第一个元素（或其他元素，若当前的容器无序）。                                                                                       |\n",
    "| xs.headOption                        | xs选项值中的第一个元素，若xs为空则为None。                                                                                                   |\n",
    "| xs.last                              | 返回容器的最后一个元素（或某个元素，如果当前的容器无序的话）。                                                                               |\n",
    "| xs.lastOption                        | xs选项值中的最后一个元素，如果xs为空则为None。                                                                                               |\n",
    "| xs find p                            | 查找xs中满足p条件的元素，若存在则返回第一个元素；若不存在，则为空。                                                                          |\n",
    "| **子容器（Subcollection）：**        |                                                                                                                                              |\n",
    "| xs.tail                              | 返回由除了xs.head外的其余部分。                                                                                                              |\n",
    "| xs.init                              | 返回除xs.last外的其余部分。                                                                                                                  |\n",
    "| xs slice (from, to)                  | 返回由xs的一个片段索引中的元素组成的容器（从from到to，但不包括to）。                                                                         |\n",
    "| xs take n                            | 由xs的第一个到第n个元素（或当xs无序时任意的n个元素）组成的容器。                                                                             |\n",
    "| xs drop n                            | 由除了xs take n以外的元素组成的容器。                                                                                                        |\n",
    "| xs takeWhile p                       | 容器xs中最长能够满足断言p的前缀。                                                                                                            |\n",
    "| xs dropWhile p                       | 容器xs中除了xs takeWhile p以外的全部元素。                                                                                                   |\n",
    "| xs filter p                          | 由xs中满足条件p的元素组成的容器。                                                                                                            |\n",
    "| xs withFilter p                      | 这个容器是一个不太严格的过滤器。子容器调用map，flatMap，foreach和withFilter只适用于xs中那些的满足条件p的元素。                               |\n",
    "| xs filterNot p                       | 由xs中不满足条件p的元素组成的容器。                                                                                                          |\n",
    "| **拆分（Subdivision）：**            |                                                                                                                                              |\n",
    "| xs splitAt n                         | 把xs从指定位置的拆分成两个容器（xs take n和xs drop n）。                                                                                     |\n",
    "| xs span p                            | 根据一个断言p将xs拆分为两个容器（xs takeWhile p, xs.dropWhile p）。                                                                          |\n",
    "| xs partition p                       | 把xs分割为两个容器，符合断言p的元素赋给一个容器，其余的赋给另一个(xs filter p, xs.filterNot p)。                                             |\n",
    "| xs groupBy f                         | 根据判别函数f把xs拆分一个到容器（collection）的map中。                                                                                       |\n",
    "| **条件元素（Element Conditions）：** |                                                                                                                                              |\n",
    "| xs forall p                          | 返回一个布尔值表示用于表示断言p是否适用xs中的所有元素。                                                                                      |\n",
    "| xs exists p                          | 返回一个布尔值判断xs中是否有部分元素满足断言p。                                                                                              |\n",
    "| xs count p                           | 返回xs中符合断言p条件的元素个数。                                                                                                            |\n",
    "| **折叠（Fold）：**                   |                                                                                                                                              |\n",
    "| (z /: xs)(op)                        | 在xs中，对由z开始从左到右的连续元素应用二进制运算op。                                                                                        |\n",
    "| (xs :\\ z)(op)                        | 在xs中，对由z开始从右到左的连续元素应用二进制运算op                                                                                          |\n",
    "| xs.foldLeft(z)(op)                   | 与(z /: xs)(op)相同。                                                                                                                        |\n",
    "| xs.foldRight(z)(op)                  | 与 (xs :\\ z)(op)相同。                                                                                                                       |\n",
    "| xs reduceLeft op                     | 非空容器xs中的连续元素从左至右调用二进制运算op。                                                                                             |\n",
    "| xs reduceRight op                    | 非空容器xs中的连续元素从右至左调用二进制运算op。                                                                                             |\n",
    "| **特殊折叠（Specific Fold）：**      |                                                                                                                                              |\n",
    "| xs.sum                               | 返回容器xs中数字元素的和。                                                                                                                   |\n",
    "| xs.product                           | xs返回容器xs中数字元素的积。                                                                                                                 |\n",
    "| xs.min                               | 容器xs中有序元素值中的最小值。                                                                                                               |\n",
    "| xs.max                               | 容器xs中有序元素值中的最大值。                                                                                                               |\n",
    "| **字符串（String）：**               |                                                                                                                                              |\n",
    "| xs addString (b, start, sep, end)    | 把一个字符串加到StringBuilder对象b中，该字符串显示为将xs中所有元素用分隔符sep连接起来并封装在start和end之间。其中start，end和sep都是可选的。 |\n",
    "| xs mkString (start, sep, end)        | 把容器xs转换为一个字符串，该字符串显示为将xs中所有元素用分隔符sep连接起来并封装在start和end之间。其中start，end和sep都是可选的。             |\n",
    "| xs.stringPrefix                      | 返回一个字符串，该字符串是以容器名开头的xs.toString。                                                                                        |\n",
    "| **视图（View）：**                   |                                                                                                                                              |\n",
    "| xs.view                              | 通过容器xs生成一个视图。                                                                                                                     |\n",
    "| xs view (from, to)                   | 生成一个表示在指定索引范围内的xs元素的视图。                                                                                                 |\n"
   ]
  },
  {
   "cell_type": "markdown",
   "metadata": {},
   "source": [
    "## TRAVERSABLE操作测试\n",
    "使用List进行测试\n",
    "\n",
    "### 常用操作符\n",
    "++ 从列表的尾部添加另外一个列表\n",
    "\n",
    "++: 在列表的头部添加一个列表\n",
    "\n",
    "+: 在列表的头部添加一个元素\n",
    "\n",
    ":+ 在列表的尾部添加一个元素\n",
    "\n",
    ":: 在列表的头部添加一个元素\n",
    "\n",
    "::: 在列表的头部添加另外一个列表\n",
    "\n",
    ":+ 和 +: 方法。它们有什么区别，怎么记住哪个是哪个呢？只要记住 :总是靠近集合类型就可以了，比如： list :+ x， x +: list。所以， :+ 方法用于在尾部追加元素， +: 方法用于在头部追加元素\n",
    "\n",
    "::和:::说明：\n",
    "* 符号::表示向集合中  新建集合添加元素。  \n",
    "* 运算时，集合对象一定要放置在最右边，  \n",
    "* 运算规则，从右向左。  \n",
    "* ::: 运算符是将集合中的每一个元素加入到空集合中去  \n"
   ]
  },
  {
   "cell_type": "code",
   "execution_count": 1,
   "metadata": {},
   "outputs": [
    {
     "data": {
      "text/plain": [
       "\u001b[36mlist\u001b[39m: \u001b[32mList\u001b[39m[\u001b[32mInt\u001b[39m] = \u001b[33mList\u001b[39m(\u001b[32m1\u001b[39m, \u001b[32m2\u001b[39m, \u001b[32m3\u001b[39m)"
      ]
     },
     "execution_count": 1,
     "metadata": {},
     "output_type": "execute_result"
    }
   ],
   "source": [
    "val list = List(1,2,3)"
   ]
  },
  {
   "cell_type": "code",
   "execution_count": 2,
   "metadata": {},
   "outputs": [
    {
     "data": {
      "text/plain": [
       "\u001b[36mres1\u001b[39m: \u001b[32mList\u001b[39m[\u001b[32mInt\u001b[39m] = \u001b[33mList\u001b[39m(\u001b[32m4\u001b[39m, \u001b[32m1\u001b[39m, \u001b[32m2\u001b[39m, \u001b[32m3\u001b[39m)"
      ]
     },
     "execution_count": 2,
     "metadata": {},
     "output_type": "execute_result"
    }
   ],
   "source": [
    "//c错误的语法\n",
    "//list + 4\n",
    "4 +: list"
   ]
  },
  {
   "cell_type": "code",
   "execution_count": 3,
   "metadata": {},
   "outputs": [
    {
     "data": {
      "text/plain": [
       "\u001b[36mres2\u001b[39m: \u001b[32mList\u001b[39m[\u001b[32mInt\u001b[39m] = \u001b[33mList\u001b[39m(\u001b[32m1\u001b[39m, \u001b[32m2\u001b[39m, \u001b[32m3\u001b[39m, \u001b[32m4\u001b[39m)"
      ]
     },
     "execution_count": 3,
     "metadata": {},
     "output_type": "execute_result"
    }
   ],
   "source": [
    "list :+ 4"
   ]
  },
  {
   "cell_type": "code",
   "execution_count": 4,
   "metadata": {},
   "outputs": [
    {
     "data": {
      "text/plain": [
       "\u001b[36mres3\u001b[39m: \u001b[32mList\u001b[39m[\u001b[32mAny\u001b[39m] = \u001b[33mList\u001b[39m(1, 2, 3, 4)"
      ]
     },
     "execution_count": 4,
     "metadata": {},
     "output_type": "execute_result"
    }
   ],
   "source": [
    "list :+ \"4\"//可以看到list的泛型变成了Any"
   ]
  },
  {
   "cell_type": "markdown",
   "metadata": {},
   "source": [
    "**++ 与 ++:似乎是等价的**"
   ]
  },
  {
   "cell_type": "code",
   "execution_count": 5,
   "metadata": {},
   "outputs": [
    {
     "data": {
      "text/plain": [
       "\u001b[36mres4\u001b[39m: \u001b[32mList\u001b[39m[\u001b[32mInt\u001b[39m] = \u001b[33mList\u001b[39m(\u001b[32m1\u001b[39m, \u001b[32m2\u001b[39m, \u001b[32m3\u001b[39m, \u001b[32m4\u001b[39m, \u001b[32m5\u001b[39m, \u001b[32m6\u001b[39m)"
      ]
     },
     "execution_count": 5,
     "metadata": {},
     "output_type": "execute_result"
    }
   ],
   "source": [
    "list ++ List(4,5,6)"
   ]
  },
  {
   "cell_type": "code",
   "execution_count": 6,
   "metadata": {},
   "outputs": [
    {
     "data": {
      "text/plain": [
       "\u001b[36mres5\u001b[39m: \u001b[32mList\u001b[39m[\u001b[32mInt\u001b[39m] = \u001b[33mList\u001b[39m(\u001b[32m1\u001b[39m, \u001b[32m2\u001b[39m, \u001b[32m3\u001b[39m, \u001b[32m4\u001b[39m, \u001b[32m5\u001b[39m, \u001b[32m6\u001b[39m)"
      ]
     },
     "execution_count": 6,
     "metadata": {},
     "output_type": "execute_result"
    }
   ],
   "source": [
    "//list :++ List(4,5,6)  错误的语法\n",
    "list ++: List(4,5,6)"
   ]
  },
  {
   "cell_type": "code",
   "execution_count": 7,
   "metadata": {},
   "outputs": [
    {
     "data": {
      "text/plain": [
       "\u001b[36mres6\u001b[39m: \u001b[32mList\u001b[39m[\u001b[32mInt\u001b[39m] = \u001b[33mList\u001b[39m(\u001b[32m1\u001b[39m, \u001b[32m2\u001b[39m, \u001b[32m3\u001b[39m, \u001b[32m4\u001b[39m, \u001b[32m5\u001b[39m, \u001b[32m6\u001b[39m)"
      ]
     },
     "execution_count": 7,
     "metadata": {},
     "output_type": "execute_result"
    }
   ],
   "source": [
    "list ::: List(4,5,6)"
   ]
  },
  {
   "cell_type": "code",
   "execution_count": 8,
   "metadata": {},
   "outputs": [
    {
     "data": {
      "text/plain": [
       "\u001b[36mres7\u001b[39m: \u001b[32mList\u001b[39m[\u001b[32mInt\u001b[39m] = \u001b[33mList\u001b[39m(\u001b[32m1\u001b[39m, \u001b[32m2\u001b[39m, \u001b[32m3\u001b[39m, \u001b[32m4\u001b[39m, \u001b[32m5\u001b[39m, \u001b[32m6\u001b[39m)"
      ]
     },
     "execution_count": 8,
     "metadata": {},
     "output_type": "execute_result"
    }
   ],
   "source": [
    "list ++ (4 to 6)"
   ]
  },
  {
   "cell_type": "code",
   "execution_count": 9,
   "metadata": {},
   "outputs": [
    {
     "data": {
      "text/plain": [
       "\u001b[36mres8\u001b[39m: \u001b[32mRange\u001b[39m.\u001b[32mInclusive\u001b[39m = \u001b[33mRange\u001b[39m(\u001b[32m4\u001b[39m, \u001b[32m5\u001b[39m, \u001b[32m6\u001b[39m)"
      ]
     },
     "execution_count": 9,
     "metadata": {},
     "output_type": "execute_result"
    }
   ],
   "source": [
    "4 to 6"
   ]
  },
  {
   "cell_type": "code",
   "execution_count": 10,
   "metadata": {},
   "outputs": [
    {
     "data": {
      "text/plain": [
       "\u001b[36mres9\u001b[39m: \u001b[32mList\u001b[39m[\u001b[32mInt\u001b[39m] = \u001b[33mList\u001b[39m(\u001b[32m1\u001b[39m, \u001b[32m2\u001b[39m, \u001b[32m3\u001b[39m, \u001b[32m4\u001b[39m, \u001b[32m5\u001b[39m, \u001b[32m6\u001b[39m, \u001b[32m7\u001b[39m, \u001b[32m8\u001b[39m, \u001b[32m9\u001b[39m)"
      ]
     },
     "execution_count": 10,
     "metadata": {},
     "output_type": "execute_result"
    }
   ],
   "source": [
    "list ++ List(4,5,6) ++ List(7,8,9) "
   ]
  },
  {
   "cell_type": "code",
   "execution_count": 11,
   "metadata": {},
   "outputs": [
    {
     "data": {
      "text/plain": [
       "\u001b[36mres10\u001b[39m: \u001b[32mList\u001b[39m[\u001b[32mInt\u001b[39m] = \u001b[33mList\u001b[39m(\u001b[32m1\u001b[39m, \u001b[32m2\u001b[39m, \u001b[32m3\u001b[39m, \u001b[32m4\u001b[39m, \u001b[32m5\u001b[39m, \u001b[32m6\u001b[39m, \u001b[32m7\u001b[39m, \u001b[32m8\u001b[39m, \u001b[32m9\u001b[39m)"
      ]
     },
     "execution_count": 11,
     "metadata": {},
     "output_type": "execute_result"
    }
   ],
   "source": [
    "list ++: List(4,5,6) ++: List(7,8,9) "
   ]
  },
  {
   "cell_type": "markdown",
   "metadata": {},
   "source": [
    "可以看到++和++:是从左向右计算的，而::和:::是从右向左计算的："
   ]
  },
  {
   "cell_type": "markdown",
   "metadata": {},
   "source": [
    "```scala\n",
    "val left = List(1,2,3)\n",
    "val right = List(4,5,6)\n",
    "\n",
    "//以下操作等价\n",
    "left ++ right   // List(1,2,3,4,5,6)\n",
    "left ++: right  // List(1,2,3,4,5,6)\n",
    "right.++:(left)    // List(1,2,3,4,5,6)\n",
    "right.:::(left)  // List(1,2,3,4,5,6)\n",
    "\n",
    "//以下操作等价\n",
    "0 +: left    //List(0,1,2,3)\n",
    "left.+:(0)   //List(0,1,2,3)\n",
    "\n",
    "//以下操作等价\n",
    "left :+ 4    //List(1,2,3,4)\n",
    "left.:+(4)   //List(1,2,3,4)\n",
    "\n",
    "//以下操作等价\n",
    "0 :: left      //List(0,1,2,3)\n",
    "left.::(0)     //List(0,1,2,3)\n",
    "```"
   ]
  },
  {
   "cell_type": "code",
   "execution_count": 12,
   "metadata": {},
   "outputs": [
    {
     "data": {
      "text/plain": [
       "\u001b[36mres11\u001b[39m: \u001b[32mList\u001b[39m[\u001b[32mInt\u001b[39m] = \u001b[33mList\u001b[39m(\u001b[32m1\u001b[39m, \u001b[32m1\u001b[39m, \u001b[32m2\u001b[39m, \u001b[32m3\u001b[39m)"
      ]
     },
     "execution_count": 12,
     "metadata": {},
     "output_type": "execute_result"
    }
   ],
   "source": [
    "1 :: list"
   ]
  },
  {
   "cell_type": "code",
   "execution_count": 13,
   "metadata": {},
   "outputs": [
    {
     "data": {
      "text/plain": [
       "\u001b[36mres12\u001b[39m: \u001b[32mList\u001b[39m[\u001b[32mAny\u001b[39m] = \u001b[33mList\u001b[39m(List(1, 2, 3), 1, 2, 3)"
      ]
     },
     "execution_count": 13,
     "metadata": {},
     "output_type": "execute_result"
    }
   ],
   "source": [
    "list :: list"
   ]
  },
  {
   "cell_type": "code",
   "execution_count": 15,
   "metadata": {},
   "outputs": [
    {
     "data": {
      "text/plain": [
       "\u001b[36mres14\u001b[39m: \u001b[32mList\u001b[39m[\u001b[32mInt\u001b[39m] = \u001b[33mList\u001b[39m(\u001b[32m4\u001b[39m, \u001b[32m5\u001b[39m, \u001b[32m6\u001b[39m, \u001b[32m1\u001b[39m, \u001b[32m2\u001b[39m, \u001b[32m3\u001b[39m)"
      ]
     },
     "execution_count": 15,
     "metadata": {},
     "output_type": "execute_result"
    }
   ],
   "source": [
    "4 :: 5 :: 6 :: list"
   ]
  },
  {
   "cell_type": "code",
   "execution_count": 16,
   "metadata": {},
   "outputs": [
    {
     "data": {
      "text/plain": [
       "\u001b[36mres15\u001b[39m: \u001b[32mList\u001b[39m[\u001b[32mAny\u001b[39m] = \u001b[33mList\u001b[39m(4, 5, 6, List(1, 2, 3))"
      ]
     },
     "execution_count": 16,
     "metadata": {},
     "output_type": "execute_result"
    }
   ],
   "source": [
    "4 :: 5 :: 6 :: list :: Nil"
   ]
  },
  {
   "cell_type": "code",
   "execution_count": 17,
   "metadata": {},
   "outputs": [
    {
     "data": {
      "text/plain": [
       "\u001b[36mres16\u001b[39m: \u001b[32mList\u001b[39m[\u001b[32mInt\u001b[39m] = \u001b[33mList\u001b[39m(\u001b[32m4\u001b[39m, \u001b[32m5\u001b[39m, \u001b[32m6\u001b[39m, \u001b[32m1\u001b[39m, \u001b[32m2\u001b[39m, \u001b[32m3\u001b[39m)"
      ]
     },
     "execution_count": 17,
     "metadata": {},
     "output_type": "execute_result"
    }
   ],
   "source": [
    "4 :: 5 :: 6 :: list ::: Nil"
   ]
  },
  {
   "cell_type": "code",
   "execution_count": 19,
   "metadata": {},
   "outputs": [
    {
     "data": {
      "text/plain": [
       "\u001b[36mres18\u001b[39m: \u001b[32mList\u001b[39m[\u001b[32mInt\u001b[39m] = \u001b[33mList\u001b[39m(\u001b[32m4\u001b[39m, \u001b[32m5\u001b[39m, \u001b[32m6\u001b[39m, \u001b[32m1\u001b[39m, \u001b[32m2\u001b[39m, \u001b[32m3\u001b[39m, \u001b[32m7\u001b[39m, \u001b[32m8\u001b[39m, \u001b[32m9\u001b[39m, \u001b[32m1\u001b[39m, \u001b[32m2\u001b[39m, \u001b[32m3\u001b[39m)"
      ]
     },
     "execution_count": 19,
     "metadata": {},
     "output_type": "execute_result"
    }
   ],
   "source": [
    "4 :: 5 :: 6 :: list ::: List(7,8,9) ::: list"
   ]
  },
  {
   "cell_type": "markdown",
   "metadata": {},
   "source": [
    "提示:任何以冒号结尾的操作符，都是右绑定的，即 0 :: List(1,2,3) = List(1,2,3).::(0) = List(0,1,2,3) 从这里可以看出操作::其实是右边List的操作符，而非左边Int类型的操作符"
   ]
  },
  {
   "cell_type": "markdown",
   "metadata": {},
   "source": [
    "### 大小判断（Size info）\n",
    "**Size info**\n",
    "操作包括有isEmpty，nonEmpty，size和hasDefiniteSize。Traversable容器有有限和无限之分。比方说，自然数流Stream.from(0)就是一个无限的traversable 容器。hasDefiniteSize方法能够判断一个容器是否可能是无限的。若hasDefiniteSize返回值为ture，容器肯定有限。若返回值为false，根据完整信息才能判断容器（collection）是无限还是有限。\n",
    "\n",
    "#### xs.isEmpty\n",
    "测试容器是否为空。"
   ]
  },
  {
   "cell_type": "code",
   "execution_count": 20,
   "metadata": {},
   "outputs": [
    {
     "data": {
      "text/plain": [
       "\u001b[36mres19\u001b[39m: \u001b[32mNil\u001b[39m.type = \u001b[33mList\u001b[39m()"
      ]
     },
     "execution_count": 20,
     "metadata": {},
     "output_type": "execute_result"
    }
   ],
   "source": [
    "Nil"
   ]
  },
  {
   "cell_type": "code",
   "execution_count": 21,
   "metadata": {},
   "outputs": [
    {
     "data": {
      "text/plain": [
       "\u001b[36mres20\u001b[39m: \u001b[32mBoolean\u001b[39m = \u001b[32mtrue\u001b[39m"
      ]
     },
     "execution_count": 21,
     "metadata": {},
     "output_type": "execute_result"
    }
   ],
   "source": [
    "Nil.isEmpty"
   ]
  },
  {
   "cell_type": "code",
   "execution_count": 22,
   "metadata": {},
   "outputs": [
    {
     "data": {
      "text/plain": [
       "\u001b[36mres21\u001b[39m: \u001b[32mBoolean\u001b[39m = \u001b[32mfalse\u001b[39m"
      ]
     },
     "execution_count": 22,
     "metadata": {},
     "output_type": "execute_result"
    }
   ],
   "source": [
    "list.isEmpty"
   ]
  },
  {
   "cell_type": "markdown",
   "metadata": {},
   "source": [
    "list.isEmpty()  会编译错误看TraversableLike isEmpty的定义,没加括号：\n",
    "```scala\n",
    "trait TraversableLike[+A, +Repr] extends Any ...{\n",
    "  /** Tests whether this $coll is empty.\n",
    "   *\n",
    "   *  @return    `true` if the $coll contain no elements, `false` otherwise.\n",
    "   */\n",
    "  def isEmpty: Boolean = {\n",
    "    var result = true\n",
    "    breakable {\n",
    "      for (x <- this) {\n",
    "        result = false\n",
    "        break\n",
    "      }\n",
    "    }\n",
    "    result\n",
    "  }\n",
    "}\n",
    "```"
   ]
  },
  {
   "cell_type": "markdown",
   "metadata": {},
   "source": [
    "#### xs.nonEmpty\n",
    "测试容器是否包含元素\n",
    "```scala\n",
    "def nonEmpty: Boolean = !isEmpty\n",
    "```"
   ]
  },
  {
   "cell_type": "code",
   "execution_count": 23,
   "metadata": {},
   "outputs": [
    {
     "data": {
      "text/plain": [
       "\u001b[36mres22\u001b[39m: \u001b[32mBoolean\u001b[39m = \u001b[32mtrue\u001b[39m"
      ]
     },
     "execution_count": 23,
     "metadata": {},
     "output_type": "execute_result"
    }
   ],
   "source": [
    "list.nonEmpty"
   ]
  },
  {
   "cell_type": "markdown",
   "metadata": {},
   "source": [
    "#### xs.size\n",
    "计算容器内元素的个数。"
   ]
  },
  {
   "cell_type": "code",
   "execution_count": 24,
   "metadata": {},
   "outputs": [
    {
     "data": {
      "text/plain": [
       "\u001b[36mres23\u001b[39m: \u001b[32mInt\u001b[39m = \u001b[32m3\u001b[39m"
      ]
     },
     "execution_count": 24,
     "metadata": {},
     "output_type": "execute_result"
    }
   ],
   "source": [
    "list.size"
   ]
  },
  {
   "cell_type": "markdown",
   "metadata": {},
   "source": [
    "#### xs.hasDefiniteSize\n",
    "如果xs的大小是有限的，则为true。"
   ]
  },
  {
   "cell_type": "code",
   "execution_count": 25,
   "metadata": {},
   "outputs": [
    {
     "data": {
      "text/plain": [
       "\u001b[36mres24\u001b[39m: \u001b[32mBoolean\u001b[39m = \u001b[32mtrue\u001b[39m"
      ]
     },
     "execution_count": 25,
     "metadata": {},
     "output_type": "execute_result"
    }
   ],
   "source": [
    "list.hasDefiniteSize"
   ]
  },
  {
   "cell_type": "markdown",
   "metadata": {},
   "source": [
    "### 元素检索（Element Retrieval）\n",
    "**元素检索（Element Retrieval）**\n",
    "操作有head，last，headOption，lastOption和find。这些操作可以查找容器的第一个元素或者最后一个元素，或者第一个符合某种条件的元素。注意，尽管如此，但也不是所有的容器都明确定义了什么是“第一个”或”最后一个“。例如，通过哈希值储存元素的哈希集合（hashSet），每次运行哈希值都会发生改变。在这种情况下，程序每次运行都可能会导致哈希集合的”第一个“元素发生变化。如果一个容器总是以相同的规则排列元素，那这个容器是有序的。大多数容器都是有序的，但有些不是（例如哈希集合）– 排序会造成一些额外消耗。排序对于重复性测试和辅助调试是不可或缺的。这就是为什么Scala容器中的所有容器类型都把有序作为可选项。例如，带有序性的HashSet就是LinkedHashSet。\n",
    "\n",
    "#### xs.head\n",
    "返回容器内第一个元素（或其他元素，若当前的容器无序）。"
   ]
  },
  {
   "cell_type": "code",
   "execution_count": 41,
   "metadata": {},
   "outputs": [
    {
     "data": {
      "text/plain": [
       "\u001b[36mres40\u001b[39m: () => \u001b[32mInt\u001b[39m = <function0>"
      ]
     },
     "execution_count": 41,
     "metadata": {},
     "output_type": "execute_result"
    }
   ],
   "source": [
    "list.head _"
   ]
  },
  {
   "cell_type": "code",
   "execution_count": 28,
   "metadata": {},
   "outputs": [
    {
     "data": {
      "text/plain": [
       "\u001b[36mres27\u001b[39m: \u001b[32mInt\u001b[39m = \u001b[32m1\u001b[39m"
      ]
     },
     "execution_count": 28,
     "metadata": {},
     "output_type": "execute_result"
    }
   ],
   "source": [
    "list.head"
   ]
  },
  {
   "cell_type": "code",
   "execution_count": 31,
   "metadata": {},
   "outputs": [
    {
     "data": {
      "text/plain": [
       "\u001b[32mimport \u001b[39m\u001b[36mscala.collection.immutable\r\n",
       "\u001b[39m\r\n",
       "\u001b[32mimport \u001b[39m\u001b[36mscala.collection.mutable\u001b[39m"
      ]
     },
     "execution_count": 31,
     "metadata": {},
     "output_type": "execute_result"
    }
   ],
   "source": [
    "//Nil.head\n",
    "//java.util.NoSuchElementException: head of empty list\n",
    "\n",
    "import scala.collection.immutable\n",
    "import scala.collection.mutable"
   ]
  },
  {
   "cell_type": "code",
   "execution_count": 32,
   "metadata": {},
   "outputs": [
    {
     "data": {
      "text/plain": [
       "\u001b[36mhashMap\u001b[39m: \u001b[32mimmutable\u001b[39m.\u001b[32mHashMap\u001b[39m[\u001b[32mString\u001b[39m, \u001b[32mInt\u001b[39m] = \u001b[33mMap\u001b[39m(\u001b[32m\"a\"\u001b[39m -> \u001b[32m1\u001b[39m, \u001b[32m\"b\"\u001b[39m -> \u001b[32m2\u001b[39m, \u001b[32m\"c\"\u001b[39m -> \u001b[32m3\u001b[39m)"
      ]
     },
     "execution_count": 32,
     "metadata": {},
     "output_type": "execute_result"
    }
   ],
   "source": [
    "val hashMap = immutable.HashMap(\"a\" -> 1,\"b\" -> 2,\"c\" -> 3)"
   ]
  },
  {
   "cell_type": "code",
   "execution_count": 33,
   "metadata": {},
   "outputs": [
    {
     "data": {
      "text/plain": [
       "\u001b[36mres32\u001b[39m: (\u001b[32mString\u001b[39m, \u001b[32mInt\u001b[39m) = (\u001b[32m\"a\"\u001b[39m, \u001b[32m1\u001b[39m)"
      ]
     },
     "execution_count": 33,
     "metadata": {},
     "output_type": "execute_result"
    }
   ],
   "source": [
    "hashMap.head"
   ]
  },
  {
   "cell_type": "code",
   "execution_count": 34,
   "metadata": {},
   "outputs": [
    {
     "data": {
      "text/plain": [
       "\u001b[36mhashMap1\u001b[39m: \u001b[32mmutable\u001b[39m.\u001b[32mHashMap\u001b[39m[\u001b[32mString\u001b[39m, \u001b[32mInt\u001b[39m] = \u001b[33mMap\u001b[39m(\u001b[32m\"b\"\u001b[39m -> \u001b[32m2\u001b[39m, \u001b[32m\"a\"\u001b[39m -> \u001b[32m1\u001b[39m, \u001b[32m\"c\"\u001b[39m -> \u001b[32m3\u001b[39m)"
      ]
     },
     "execution_count": 34,
     "metadata": {},
     "output_type": "execute_result"
    }
   ],
   "source": [
    "val hashMap1 = mutable.HashMap(\"a\" -> 1,\"b\" -> 2,\"c\" -> 3)"
   ]
  },
  {
   "cell_type": "code",
   "execution_count": 35,
   "metadata": {},
   "outputs": [
    {
     "data": {
      "text/plain": [
       "\u001b[36mres34\u001b[39m: (\u001b[32mString\u001b[39m, \u001b[32mInt\u001b[39m) = (\u001b[32m\"b\"\u001b[39m, \u001b[32m2\u001b[39m)"
      ]
     },
     "execution_count": 35,
     "metadata": {},
     "output_type": "execute_result"
    }
   ],
   "source": [
    "hashMap1.head"
   ]
  },
  {
   "cell_type": "markdown",
   "metadata": {},
   "source": [
    "不可变的HashMap好像是有序的"
   ]
  },
  {
   "cell_type": "markdown",
   "metadata": {},
   "source": [
    "#### xs.headOption\t\n",
    "xs选项值中的第一个元素，若xs为空则为None。"
   ]
  },
  {
   "cell_type": "code",
   "execution_count": 42,
   "metadata": {},
   "outputs": [
    {
     "data": {
      "text/plain": [
       "\u001b[36mres41\u001b[39m: () => \u001b[32mOption\u001b[39m[\u001b[32mInt\u001b[39m] = <function0>"
      ]
     },
     "execution_count": 42,
     "metadata": {},
     "output_type": "execute_result"
    }
   ],
   "source": [
    "list.headOption _"
   ]
  },
  {
   "cell_type": "code",
   "execution_count": 37,
   "metadata": {},
   "outputs": [
    {
     "data": {
      "text/plain": [
       "\u001b[36mres36\u001b[39m: \u001b[32mOption\u001b[39m[\u001b[32mInt\u001b[39m] = \u001b[33mSome\u001b[39m(\u001b[32m1\u001b[39m)"
      ]
     },
     "execution_count": 37,
     "metadata": {},
     "output_type": "execute_result"
    }
   ],
   "source": [
    "list.headOption"
   ]
  },
  {
   "cell_type": "code",
   "execution_count": 39,
   "metadata": {},
   "outputs": [
    {
     "data": {
      "text/plain": [
       "\u001b[36mres38\u001b[39m: \u001b[32mOption\u001b[39m[\u001b[32mNothing\u001b[39m] = None"
      ]
     },
     "execution_count": 39,
     "metadata": {},
     "output_type": "execute_result"
    }
   ],
   "source": [
    "Nil.headOption"
   ]
  },
  {
   "cell_type": "markdown",
   "metadata": {},
   "source": [
    "#### xs.last\n",
    "返回容器的最后一个元素（或某个元素，如果当前的容器无序的话）。\n",
    "\n",
    "#### xs.lastOption\n",
    "xs选项值中的最后一个元素，如果xs为空则为None。\n",
    "\n",
    "#### xs find p\n",
    "查找xs中满足p条件的元素，若存在则返回第一个元素；若不存在，则为空。\n",
    "```scala\n",
    "  def find(p: A => Boolean): Option[A] = {\n",
    "    var result: Option[A] = None\n",
    "    breakable {\n",
    "      for (x <- this)\n",
    "        if (p(x)) { result = Some(x); break }\n",
    "    }\n",
    "    result\n",
    "  }\n",
    "```"
   ]
  },
  {
   "cell_type": "code",
   "execution_count": 40,
   "metadata": {},
   "outputs": [
    {
     "data": {
      "text/plain": [
       "\u001b[36mres39\u001b[39m: \u001b[32mInt\u001b[39m => \u001b[32mBoolean\u001b[39m => \u001b[32mOption\u001b[39m[\u001b[32mInt\u001b[39m] = <function1>"
      ]
     },
     "execution_count": 40,
     "metadata": {},
     "output_type": "execute_result"
    }
   ],
   "source": [
    "list.find _"
   ]
  },
  {
   "cell_type": "code",
   "execution_count": 43,
   "metadata": {},
   "outputs": [
    {
     "data": {
      "text/plain": [
       "\u001b[36mres42\u001b[39m: \u001b[32mOption\u001b[39m[\u001b[32mInt\u001b[39m] = \u001b[33mSome\u001b[39m(\u001b[32m2\u001b[39m)"
      ]
     },
     "execution_count": 43,
     "metadata": {},
     "output_type": "execute_result"
    }
   ],
   "source": [
    "list.find(_ % 2 == 0)"
   ]
  },
  {
   "cell_type": "code",
   "execution_count": 44,
   "metadata": {},
   "outputs": [
    {
     "data": {
      "text/plain": [
       "\u001b[36mres43\u001b[39m: \u001b[32mOption\u001b[39m[\u001b[32mInt\u001b[39m] = None"
      ]
     },
     "execution_count": 44,
     "metadata": {},
     "output_type": "execute_result"
    }
   ],
   "source": [
    "list.find(_ % 5 == 0)"
   ]
  },
  {
   "cell_type": "markdown",
   "metadata": {},
   "source": [
    "### 子容器（Subcollection）\n",
    "**子容器检索（sub-collection Retrieval）**\n",
    "操作有tail，init，slice，take，drop，takeWhilte，dropWhile，filter，filteNot和withFilter。它们都可以通过范围索引或一些论断的判断返回某些子容器。\n",
    "\n",
    "#### xs.tail\n",
    "返回由除了xs.head外的其余部分。"
   ]
  },
  {
   "cell_type": "code",
   "execution_count": 45,
   "metadata": {},
   "outputs": [
    {
     "data": {
      "text/plain": [
       "\u001b[36mres44\u001b[39m: () => \u001b[32mList\u001b[39m[\u001b[32mInt\u001b[39m] = <function0>"
      ]
     },
     "execution_count": 45,
     "metadata": {},
     "output_type": "execute_result"
    }
   ],
   "source": [
    "list.tail _"
   ]
  },
  {
   "cell_type": "code",
   "execution_count": 46,
   "metadata": {},
   "outputs": [
    {
     "data": {
      "text/plain": [
       "\u001b[36mres45\u001b[39m: \u001b[32mList\u001b[39m[\u001b[32mInt\u001b[39m] = \u001b[33mList\u001b[39m(\u001b[32m2\u001b[39m, \u001b[32m3\u001b[39m)"
      ]
     },
     "execution_count": 46,
     "metadata": {},
     "output_type": "execute_result"
    }
   ],
   "source": [
    "list.tail"
   ]
  },
  {
   "cell_type": "code",
   "execution_count": 47,
   "metadata": {},
   "outputs": [],
   "source": [
    "//List().tail\n",
    "//java.lang.UnsupportedOperationException: tail of empty list"
   ]
  },
  {
   "cell_type": "code",
   "execution_count": 48,
   "metadata": {},
   "outputs": [
    {
     "data": {
      "text/plain": [
       "\u001b[36mres47\u001b[39m: \u001b[32mList\u001b[39m[\u001b[32mInt\u001b[39m] = \u001b[33mList\u001b[39m()"
      ]
     },
     "execution_count": 48,
     "metadata": {},
     "output_type": "execute_result"
    }
   ],
   "source": [
    "list.tail.tail.tail"
   ]
  },
  {
   "cell_type": "markdown",
   "metadata": {},
   "source": [
    "#### xs.init\n",
    "返回除xs.last外的其余部分。"
   ]
  },
  {
   "cell_type": "code",
   "execution_count": 49,
   "metadata": {},
   "outputs": [
    {
     "data": {
      "text/plain": [
       "\u001b[36mres48\u001b[39m: \u001b[32mList\u001b[39m[\u001b[32mInt\u001b[39m] = \u001b[33mList\u001b[39m(\u001b[32m1\u001b[39m, \u001b[32m2\u001b[39m)"
      ]
     },
     "execution_count": 49,
     "metadata": {},
     "output_type": "execute_result"
    }
   ],
   "source": [
    "list.init"
   ]
  },
  {
   "cell_type": "markdown",
   "metadata": {},
   "source": [
    "#### xs slice (from, to)\n",
    "返回由xs的一个片段索引中的元素组成的容器（从from到to，但不包括to）。"
   ]
  },
  {
   "cell_type": "code",
   "execution_count": 50,
   "metadata": {},
   "outputs": [
    {
     "data": {
      "text/plain": [
       "\u001b[36mres49\u001b[39m: (\u001b[32mInt\u001b[39m, \u001b[32mInt\u001b[39m) => \u001b[32mList\u001b[39m[\u001b[32mInt\u001b[39m] = <function2>"
      ]
     },
     "execution_count": 50,
     "metadata": {},
     "output_type": "execute_result"
    }
   ],
   "source": [
    "list.slice _"
   ]
  },
  {
   "cell_type": "code",
   "execution_count": 51,
   "metadata": {},
   "outputs": [
    {
     "data": {
      "text/plain": [
       "\u001b[36mres50\u001b[39m: \u001b[32mList\u001b[39m[\u001b[32mInt\u001b[39m] = \u001b[33mList\u001b[39m(\u001b[32m1\u001b[39m)"
      ]
     },
     "execution_count": 51,
     "metadata": {},
     "output_type": "execute_result"
    }
   ],
   "source": [
    "list.slice(0,1)"
   ]
  },
  {
   "cell_type": "code",
   "execution_count": 52,
   "metadata": {},
   "outputs": [
    {
     "data": {
      "text/plain": [
       "\u001b[36mres51\u001b[39m: \u001b[32mList\u001b[39m[\u001b[32mInt\u001b[39m] = \u001b[33mList\u001b[39m(\u001b[32m1\u001b[39m, \u001b[32m2\u001b[39m, \u001b[32m3\u001b[39m)"
      ]
     },
     "execution_count": 52,
     "metadata": {},
     "output_type": "execute_result"
    }
   ],
   "source": [
    "list.slice(0,3)"
   ]
  },
  {
   "cell_type": "code",
   "execution_count": 53,
   "metadata": {},
   "outputs": [
    {
     "data": {
      "text/plain": [
       "\u001b[36mres52\u001b[39m: \u001b[32mList\u001b[39m[\u001b[32mInt\u001b[39m] = \u001b[33mList\u001b[39m(\u001b[32m1\u001b[39m, \u001b[32m2\u001b[39m, \u001b[32m3\u001b[39m)"
      ]
     },
     "execution_count": 53,
     "metadata": {},
     "output_type": "execute_result"
    }
   ],
   "source": [
    "list.slice(0,5)"
   ]
  },
  {
   "cell_type": "code",
   "execution_count": 54,
   "metadata": {},
   "outputs": [
    {
     "data": {
      "text/plain": [
       "\u001b[36mres53\u001b[39m: \u001b[32mList\u001b[39m[\u001b[32mInt\u001b[39m] = \u001b[33mList\u001b[39m(\u001b[32m1\u001b[39m)"
      ]
     },
     "execution_count": 54,
     "metadata": {},
     "output_type": "execute_result"
    }
   ],
   "source": [
    "list slice (0,1)"
   ]
  },
  {
   "cell_type": "markdown",
   "metadata": {},
   "source": [
    "#### xs take n\n",
    "由xs的第一个到第n个元素（或当xs无序时任意的n个元素）组成的容器。"
   ]
  },
  {
   "cell_type": "code",
   "execution_count": 55,
   "metadata": {},
   "outputs": [
    {
     "data": {
      "text/plain": [
       "\u001b[36mres54\u001b[39m: \u001b[32mList\u001b[39m[\u001b[32mInt\u001b[39m] = \u001b[33mList\u001b[39m(\u001b[32m1\u001b[39m)"
      ]
     },
     "execution_count": 55,
     "metadata": {},
     "output_type": "execute_result"
    }
   ],
   "source": [
    "list.take(1)"
   ]
  },
  {
   "cell_type": "code",
   "execution_count": 56,
   "metadata": {},
   "outputs": [
    {
     "data": {
      "text/plain": [
       "\u001b[36mres55\u001b[39m: \u001b[32mList\u001b[39m[\u001b[32mInt\u001b[39m] = \u001b[33mList\u001b[39m(\u001b[32m1\u001b[39m, \u001b[32m2\u001b[39m)"
      ]
     },
     "execution_count": 56,
     "metadata": {},
     "output_type": "execute_result"
    }
   ],
   "source": [
    "list.take(2)"
   ]
  },
  {
   "cell_type": "code",
   "execution_count": 57,
   "metadata": {},
   "outputs": [
    {
     "data": {
      "text/plain": [
       "\u001b[36mres56\u001b[39m: \u001b[32mList\u001b[39m[\u001b[32mInt\u001b[39m] = \u001b[33mList\u001b[39m(\u001b[32m1\u001b[39m, \u001b[32m2\u001b[39m, \u001b[32m3\u001b[39m)"
      ]
     },
     "execution_count": 57,
     "metadata": {},
     "output_type": "execute_result"
    }
   ],
   "source": [
    "list.take(5)"
   ]
  },
  {
   "cell_type": "markdown",
   "metadata": {},
   "source": [
    "#### xs drop n\n",
    "由除了xs take n以外的元素组成的容器。"
   ]
  },
  {
   "cell_type": "code",
   "execution_count": 58,
   "metadata": {},
   "outputs": [
    {
     "data": {
      "text/plain": [
       "\u001b[36mres57\u001b[39m: \u001b[32mList\u001b[39m[\u001b[32mInt\u001b[39m] = \u001b[33mList\u001b[39m(\u001b[32m2\u001b[39m, \u001b[32m3\u001b[39m)"
      ]
     },
     "execution_count": 58,
     "metadata": {},
     "output_type": "execute_result"
    }
   ],
   "source": [
    "list.drop(1)"
   ]
  },
  {
   "cell_type": "code",
   "execution_count": 59,
   "metadata": {},
   "outputs": [
    {
     "data": {
      "text/plain": [
       "\u001b[36mres58\u001b[39m: \u001b[32mList\u001b[39m[\u001b[32mInt\u001b[39m] = \u001b[33mList\u001b[39m(\u001b[32m3\u001b[39m)"
      ]
     },
     "execution_count": 59,
     "metadata": {},
     "output_type": "execute_result"
    }
   ],
   "source": [
    "list.drop(2)"
   ]
  },
  {
   "cell_type": "code",
   "execution_count": 60,
   "metadata": {},
   "outputs": [
    {
     "data": {
      "text/plain": [
       "\u001b[36mres59\u001b[39m: \u001b[32mList\u001b[39m[\u001b[32mInt\u001b[39m] = \u001b[33mList\u001b[39m()"
      ]
     },
     "execution_count": 60,
     "metadata": {},
     "output_type": "execute_result"
    }
   ],
   "source": [
    "list.drop(5)"
   ]
  },
  {
   "cell_type": "markdown",
   "metadata": {},
   "source": [
    "#### xs takeWhile p\n",
    "容器xs中最长能够满足断言p的前缀。"
   ]
  },
  {
   "cell_type": "code",
   "execution_count": 62,
   "metadata": {},
   "outputs": [
    {
     "data": {
      "text/plain": [
       "\u001b[36mres61\u001b[39m: \u001b[32mInt\u001b[39m => \u001b[32mBoolean\u001b[39m => \u001b[32mList\u001b[39m[\u001b[32mInt\u001b[39m] = <function1>"
      ]
     },
     "execution_count": 62,
     "metadata": {},
     "output_type": "execute_result"
    }
   ],
   "source": [
    "list.takeWhile _"
   ]
  },
  {
   "cell_type": "code",
   "execution_count": 63,
   "metadata": {},
   "outputs": [
    {
     "data": {
      "text/plain": [
       "\u001b[36mres62\u001b[39m: \u001b[32mList\u001b[39m[\u001b[32mInt\u001b[39m] = \u001b[33mList\u001b[39m()"
      ]
     },
     "execution_count": 63,
     "metadata": {},
     "output_type": "execute_result"
    }
   ],
   "source": [
    "list.takeWhile(_ == 2)"
   ]
  },
  {
   "cell_type": "code",
   "execution_count": 64,
   "metadata": {},
   "outputs": [
    {
     "data": {
      "text/plain": [
       "\u001b[36mres63\u001b[39m: \u001b[32mList\u001b[39m[\u001b[32mInt\u001b[39m] = \u001b[33mList\u001b[39m(\u001b[32m1\u001b[39m, \u001b[32m2\u001b[39m, \u001b[32m3\u001b[39m)"
      ]
     },
     "execution_count": 64,
     "metadata": {},
     "output_type": "execute_result"
    }
   ],
   "source": [
    "list.takeWhile(_ < 5)"
   ]
  },
  {
   "cell_type": "markdown",
   "metadata": {},
   "source": [
    "#### xs dropWhile p\t\n",
    "容器xs中除了xs takeWhile p以外的全部元素。"
   ]
  },
  {
   "cell_type": "code",
   "execution_count": 65,
   "metadata": {},
   "outputs": [
    {
     "data": {
      "text/plain": [
       "\u001b[36mres64\u001b[39m: \u001b[32mInt\u001b[39m => \u001b[32mBoolean\u001b[39m => \u001b[32mList\u001b[39m[\u001b[32mInt\u001b[39m] = <function1>"
      ]
     },
     "execution_count": 65,
     "metadata": {},
     "output_type": "execute_result"
    }
   ],
   "source": [
    "list.dropWhile _"
   ]
  },
  {
   "cell_type": "code",
   "execution_count": 66,
   "metadata": {},
   "outputs": [
    {
     "data": {
      "text/plain": [
       "\u001b[36mres65\u001b[39m: \u001b[32mList\u001b[39m[\u001b[32mInt\u001b[39m] = \u001b[33mList\u001b[39m(\u001b[32m1\u001b[39m, \u001b[32m2\u001b[39m, \u001b[32m3\u001b[39m)"
      ]
     },
     "execution_count": 66,
     "metadata": {},
     "output_type": "execute_result"
    }
   ],
   "source": [
    "list.dropWhile(_ == 2)"
   ]
  },
  {
   "cell_type": "code",
   "execution_count": 67,
   "metadata": {},
   "outputs": [
    {
     "data": {
      "text/plain": [
       "\u001b[36mres66\u001b[39m: \u001b[32mList\u001b[39m[\u001b[32mInt\u001b[39m] = \u001b[33mList\u001b[39m()"
      ]
     },
     "execution_count": 67,
     "metadata": {},
     "output_type": "execute_result"
    }
   ],
   "source": [
    "list.dropWhile(_ < 5)"
   ]
  },
  {
   "cell_type": "markdown",
   "metadata": {},
   "source": [
    "#### xs filter p\t\n",
    "由xs中满足条件p的元素组成的容器。"
   ]
  },
  {
   "cell_type": "code",
   "execution_count": 68,
   "metadata": {},
   "outputs": [
    {
     "data": {
      "text/plain": [
       "\u001b[36mres67\u001b[39m: \u001b[32mInt\u001b[39m => \u001b[32mBoolean\u001b[39m => \u001b[32mList\u001b[39m[\u001b[32mInt\u001b[39m] = <function1>"
      ]
     },
     "execution_count": 68,
     "metadata": {},
     "output_type": "execute_result"
    }
   ],
   "source": [
    "list.filter _"
   ]
  },
  {
   "cell_type": "code",
   "execution_count": 69,
   "metadata": {},
   "outputs": [
    {
     "data": {
      "text/plain": [
       "\u001b[36mres68\u001b[39m: \u001b[32mList\u001b[39m[\u001b[32mInt\u001b[39m] = \u001b[33mList\u001b[39m(\u001b[32m1\u001b[39m, \u001b[32m2\u001b[39m)"
      ]
     },
     "execution_count": 69,
     "metadata": {},
     "output_type": "execute_result"
    }
   ],
   "source": [
    "list.filter(_ < 3)"
   ]
  },
  {
   "cell_type": "markdown",
   "metadata": {},
   "source": [
    "#### xs withFilter p\t\n",
    "这个容器是一个不太严格的过滤器。子容器调用map，flatMap，foreach和withFilter只适用于xs中那些的满足条件p的元素。"
   ]
  },
  {
   "cell_type": "code",
   "execution_count": 70,
   "metadata": {},
   "outputs": [
    {
     "data": {
      "text/plain": [
       "\u001b[36mres69\u001b[39m: \u001b[32mList\u001b[39m[\u001b[32mInt\u001b[39m] = \u001b[33mList\u001b[39m(\u001b[32m3\u001b[39m)"
      ]
     },
     "execution_count": 70,
     "metadata": {},
     "output_type": "execute_result"
    }
   ],
   "source": [
    "list.filterNot(_ < 3)"
   ]
  },
  {
   "cell_type": "markdown",
   "metadata": {},
   "source": [
    "#### xs filter p\t\n",
    "由xs中满足条件p的元素组成的容器。\n",
    "\n",
    "```\n",
    "一般在使用过滤的时候，我们都会想到filter或者filterNot\n",
    "\n",
    "但是在之前记得有一个withFilter，哪它们之间有什么区别呢？\n",
    "\n",
    "通俗点理解就是\n",
    "\n",
    "filter是将经过它的集合转换成一个新的集合\n",
    "\n",
    "withFilter则是不生成新的集合\n",
    "\n",
    "\n",
    "但withFilter将非严格地(即延迟地)将未过滤的值传递到以后的map / flatMap / withFilter调用，保存第二遍通过(过滤)集合。\n",
    "\n",
    "因此，当传递到这些后续方法调用时，它将更有效。\n",
    "\n",
    "事实上，withFilter是专门设计用于处理这些方法的链，这是一个用于理解的东西。\n",
    "\n",
    "因此，不需要其他方法(例如forall / exists)，因此它们没有添加到FilterFont的返回类型withFilter。\n",
    "\n",
    " \n",
    "\n",
    "最后结论是，有链式操作的时候，推荐使用withFilter\n",
    "\n",
    "顺便也提一个，平常我们在逻辑判断取反的时候会使用!其实在filter中有个filterNot函数，顾名思义这是个取反的过滤函数，说实话我觉得它比在函数里写!要已读些。\n",
    "```"
   ]
  },
  {
   "cell_type": "code",
   "execution_count": 72,
   "metadata": {},
   "outputs": [
    {
     "data": {
      "text/plain": [
       "\u001b[36mls\u001b[39m: \u001b[32mList\u001b[39m[\u001b[32mInt\u001b[39m] = \u001b[33mList\u001b[39m(\u001b[32m1\u001b[39m, \u001b[32m2\u001b[39m, \u001b[32m3\u001b[39m, \u001b[32m4\u001b[39m, \u001b[32m5\u001b[39m, \u001b[32m6\u001b[39m, \u001b[32m7\u001b[39m, \u001b[32m8\u001b[39m, \u001b[32m9\u001b[39m, \u001b[32m10\u001b[39m)"
      ]
     },
     "execution_count": 72,
     "metadata": {},
     "output_type": "execute_result"
    }
   ],
   "source": [
    "val ls = (1 to 10).toList"
   ]
  },
  {
   "cell_type": "code",
   "execution_count": 73,
   "metadata": {},
   "outputs": [
    {
     "data": {
      "text/plain": [
       "\u001b[36mres72\u001b[39m: \u001b[32mInt\u001b[39m => \u001b[32mBoolean\u001b[39m => \u001b[32mcollection\u001b[39m.\u001b[32mgeneric\u001b[39m.\u001b[32mFilterMonadic\u001b[39m[\u001b[32mInt\u001b[39m, \u001b[32mList\u001b[39m[\u001b[32mInt\u001b[39m]] = <function1>"
      ]
     },
     "execution_count": 73,
     "metadata": {},
     "output_type": "execute_result"
    }
   ],
   "source": [
    "ls.withFilter _"
   ]
  },
  {
   "cell_type": "code",
   "execution_count": 74,
   "metadata": {},
   "outputs": [
    {
     "data": {
      "text/plain": [
       "\u001b[36mres73\u001b[39m: \u001b[32mcollection\u001b[39m.\u001b[32mgeneric\u001b[39m.\u001b[32mFilterMonadic\u001b[39m[\u001b[32mInt\u001b[39m, \u001b[32mList\u001b[39m[\u001b[32mInt\u001b[39m]] = scala.collection.TraversableLike$WithFilter@24b930f"
      ]
     },
     "execution_count": 74,
     "metadata": {},
     "output_type": "execute_result"
    }
   ],
   "source": [
    "ls.withFilter( _ % 2 == 0)"
   ]
  },
  {
   "cell_type": "code",
   "execution_count": 75,
   "metadata": {},
   "outputs": [
    {
     "data": {
      "text/plain": [
       "\u001b[36mres74\u001b[39m: \u001b[32mList\u001b[39m[\u001b[32mInt\u001b[39m] = \u001b[33mList\u001b[39m(\u001b[32m2\u001b[39m, \u001b[32m4\u001b[39m, \u001b[32m6\u001b[39m, \u001b[32m8\u001b[39m, \u001b[32m10\u001b[39m, \u001b[32m12\u001b[39m, \u001b[32m14\u001b[39m, \u001b[32m16\u001b[39m, \u001b[32m18\u001b[39m, \u001b[32m20\u001b[39m)"
      ]
     },
     "execution_count": 75,
     "metadata": {},
     "output_type": "execute_result"
    }
   ],
   "source": [
    "ls.map(_ * 2)"
   ]
  },
  {
   "cell_type": "code",
   "execution_count": 76,
   "metadata": {},
   "outputs": [
    {
     "data": {
      "text/plain": [
       "\u001b[36mres75\u001b[39m: \u001b[32mList\u001b[39m[\u001b[32mInt\u001b[39m] = \u001b[33mList\u001b[39m(\u001b[32m4\u001b[39m, \u001b[32m8\u001b[39m, \u001b[32m12\u001b[39m, \u001b[32m16\u001b[39m, \u001b[32m20\u001b[39m)"
      ]
     },
     "execution_count": 76,
     "metadata": {},
     "output_type": "execute_result"
    }
   ],
   "source": [
    "ls.withFilter( _ % 2 == 0).map(_ * 2)"
   ]
  },
  {
   "cell_type": "code",
   "execution_count": 77,
   "metadata": {},
   "outputs": [
    {
     "data": {
      "text/plain": [
       "\u001b[36mres76\u001b[39m: \u001b[32mList\u001b[39m[\u001b[32mInt\u001b[39m] = \u001b[33mList\u001b[39m(\u001b[32m2\u001b[39m, \u001b[32m4\u001b[39m, \u001b[32m6\u001b[39m, \u001b[32m8\u001b[39m, \u001b[32m10\u001b[39m, \u001b[32m12\u001b[39m, \u001b[32m14\u001b[39m, \u001b[32m16\u001b[39m, \u001b[32m18\u001b[39m, \u001b[32m20\u001b[39m)"
      ]
     },
     "execution_count": 77,
     "metadata": {},
     "output_type": "execute_result"
    }
   ],
   "source": [
    "ls.map(_ * 2)"
   ]
  },
  {
   "cell_type": "markdown",
   "metadata": {},
   "source": [
    "看起来类似于spark中RDD的转换操作"
   ]
  },
  {
   "cell_type": "markdown",
   "metadata": {},
   "source": [
    "### 元素测试（Element test）\n",
    "**元素测试（Element test）**\n",
    "包括有exists，forall和count，它们可以用一个给定论断来对容器中的元素进行判断。\n",
    "\n",
    "```scala\n",
    "  def forall(p: A => Boolean): Boolean = {\n",
    "    var result = true\n",
    "    breakable {\n",
    "      for (x <- this)\n",
    "        if (!p(x)) { result = false; break }\n",
    "    }\n",
    "    result\n",
    "  }\n",
    "\n",
    "  /** Tests whether a predicate holds for at least one element of this $coll.\n",
    "   *\n",
    "   *  $mayNotTerminateInf\n",
    "   *\n",
    "   *  @param   p     the predicate used to test elements.\n",
    "   *  @return        `false` if this $coll is empty, otherwise `true` if the given predicate `p`\n",
    "    *                holds for some of the elements of this $coll, otherwise `false`\n",
    "   */\n",
    "  def exists(p: A => Boolean): Boolean = {\n",
    "    var result = false\n",
    "    breakable {\n",
    "      for (x <- this)\n",
    "        if (p(x)) { result = true; break }\n",
    "    }\n",
    "    result\n",
    "  }\n",
    "\n",
    "  def count(p: A => Boolean): Int = {\n",
    "    var cnt = 0\n",
    "    for (x <- this)\n",
    "      if (p(x)) cnt += 1\n",
    "\n",
    "    cnt\n",
    "  }\n",
    "```\n",
    "\n",
    "#### xs forall p\t\n",
    "返回一个布尔值表示用于表示断言p是否适用xs中的所有元素。"
   ]
  },
  {
   "cell_type": "code",
   "execution_count": 83,
   "metadata": {},
   "outputs": [
    {
     "data": {
      "text/plain": [
       "\u001b[36mres82\u001b[39m: \u001b[32mInt\u001b[39m => \u001b[32mBoolean\u001b[39m => \u001b[32mBoolean\u001b[39m = <function1>"
      ]
     },
     "execution_count": 83,
     "metadata": {},
     "output_type": "execute_result"
    }
   ],
   "source": [
    "list.forall _"
   ]
  },
  {
   "cell_type": "code",
   "execution_count": 79,
   "metadata": {},
   "outputs": [
    {
     "data": {
      "text/plain": [
       "\u001b[36mres78\u001b[39m: \u001b[32mBoolean\u001b[39m = \u001b[32mtrue\u001b[39m"
      ]
     },
     "execution_count": 79,
     "metadata": {},
     "output_type": "execute_result"
    }
   ],
   "source": [
    "list.forall(_ > 0)"
   ]
  },
  {
   "cell_type": "markdown",
   "metadata": {},
   "source": [
    "#### xs exists p\t\n",
    "返回一个布尔值判断xs中是否有部分元素满足断言p。"
   ]
  },
  {
   "cell_type": "code",
   "execution_count": 80,
   "metadata": {},
   "outputs": [
    {
     "data": {
      "text/plain": [
       "\u001b[36mres79\u001b[39m: \u001b[32mBoolean\u001b[39m = \u001b[32mfalse\u001b[39m"
      ]
     },
     "execution_count": 80,
     "metadata": {},
     "output_type": "execute_result"
    }
   ],
   "source": [
    "list.exists(_ > 10)"
   ]
  },
  {
   "cell_type": "code",
   "execution_count": 81,
   "metadata": {},
   "outputs": [
    {
     "data": {
      "text/plain": [
       "\u001b[36mres80\u001b[39m: \u001b[32mBoolean\u001b[39m = \u001b[32mtrue\u001b[39m"
      ]
     },
     "execution_count": 81,
     "metadata": {},
     "output_type": "execute_result"
    }
   ],
   "source": [
    "list.exists(_ == 2)"
   ]
  },
  {
   "cell_type": "markdown",
   "metadata": {},
   "source": [
    "#### xs count p\n",
    "返回xs中符合断言p条件的元素个数。"
   ]
  },
  {
   "cell_type": "code",
   "execution_count": 82,
   "metadata": {},
   "outputs": [
    {
     "data": {
      "text/plain": [
       "\u001b[36mres81\u001b[39m: \u001b[32mInt\u001b[39m => \u001b[32mBoolean\u001b[39m => \u001b[32mInt\u001b[39m = <function1>"
      ]
     },
     "execution_count": 82,
     "metadata": {},
     "output_type": "execute_result"
    }
   ],
   "source": [
    "list.count _"
   ]
  },
  {
   "cell_type": "code",
   "execution_count": 84,
   "metadata": {},
   "outputs": [
    {
     "data": {
      "text/plain": [
       "\u001b[36mres83\u001b[39m: \u001b[32mInt\u001b[39m = \u001b[32m2\u001b[39m"
      ]
     },
     "execution_count": 84,
     "metadata": {},
     "output_type": "execute_result"
    }
   ],
   "source": [
    "list.count(_ < 3)"
   ]
  },
  {
   "cell_type": "markdown",
   "metadata": {},
   "source": [
    "### 拆分（Subdivision）\n",
    "**拆分（Subdivision）**\n",
    "操作有splitAt，span，partition和groupBy，它们用于把一个容器（collection）里的元素分割成多个子容器。\n",
    "\n",
    "#### xs splitAt n\t\n",
    "把xs从指定位置的拆分成两个容器（xs take n和xs drop n）。\n",
    "```scala\n",
    "  def splitAt(n: Int): (Repr, Repr) = {\n",
    "    val l, r = newBuilder\n",
    "    l.sizeHintBounded(n, this)\n",
    "    if (n >= 0) r.sizeHint(this, -n)\n",
    "    var i = 0\n",
    "    for (x <- this) {\n",
    "      (if (i < n) l else r) += x\n",
    "      i += 1\n",
    "    }\n",
    "    (l.result, r.result)\n",
    "  }\n",
    "\n",
    "  override def splitAt(n: Int): (List[A], List[A]) = {\n",
    "    val b = new ListBuffer[A]\n",
    "    var i = 0\n",
    "    var these = this\n",
    "    while (!these.isEmpty && i < n) {\n",
    "      i += 1\n",
    "      b += these.head\n",
    "      these = these.tail\n",
    "    }\n",
    "    (b.toList, these)\n",
    "  }\n",
    "```"
   ]
  },
  {
   "cell_type": "code",
   "execution_count": 85,
   "metadata": {},
   "outputs": [
    {
     "data": {
      "text/plain": [
       "\u001b[36mres84\u001b[39m: \u001b[32mInt\u001b[39m => (\u001b[32mList\u001b[39m[\u001b[32mInt\u001b[39m], \u001b[32mList\u001b[39m[\u001b[32mInt\u001b[39m]) = <function1>"
      ]
     },
     "execution_count": 85,
     "metadata": {},
     "output_type": "execute_result"
    }
   ],
   "source": [
    "list.splitAt _"
   ]
  },
  {
   "cell_type": "code",
   "execution_count": 86,
   "metadata": {},
   "outputs": [
    {
     "data": {
      "text/plain": [
       "\u001b[36mres85\u001b[39m: (\u001b[32mList\u001b[39m[\u001b[32mInt\u001b[39m], \u001b[32mList\u001b[39m[\u001b[32mInt\u001b[39m]) = (\u001b[33mList\u001b[39m(\u001b[32m1\u001b[39m), \u001b[33mList\u001b[39m(\u001b[32m2\u001b[39m, \u001b[32m3\u001b[39m))"
      ]
     },
     "execution_count": 86,
     "metadata": {},
     "output_type": "execute_result"
    }
   ],
   "source": [
    "list.splitAt(1)"
   ]
  },
  {
   "cell_type": "markdown",
   "metadata": {},
   "source": [
    "#### xs span p\t\n",
    "根据一个断言p将xs拆分为两个容器（xs takeWhile p, xs.dropWhile p）。\n",
    "```scala\n",
    "  def span(p: A => Boolean): (Repr, Repr) = {\n",
    "    val l, r = newBuilder\n",
    "    var toLeft = true\n",
    "    for (x <- this) {\n",
    "      toLeft = toLeft && p(x)\n",
    "      (if (toLeft) l else r) += x\n",
    "    }\n",
    "    (l.result, r.result)\n",
    "  }\n",
    "\n",
    "  @inline final override def span(p: A => Boolean): (List[A], List[A]) = {\n",
    "    val b = new ListBuffer[A]\n",
    "    var these = this\n",
    "    while (!these.isEmpty && p(these.head)) {\n",
    "      b += these.head\n",
    "      these = these.tail\n",
    "    }\n",
    "    (b.toList, these)\n",
    "  }\n",
    "```"
   ]
  },
  {
   "cell_type": "code",
   "execution_count": 87,
   "metadata": {},
   "outputs": [
    {
     "data": {
      "text/plain": [
       "\u001b[36mres86\u001b[39m: \u001b[32mInt\u001b[39m => \u001b[32mBoolean\u001b[39m => (\u001b[32mList\u001b[39m[\u001b[32mInt\u001b[39m], \u001b[32mList\u001b[39m[\u001b[32mInt\u001b[39m]) = <function1>"
      ]
     },
     "execution_count": 87,
     "metadata": {},
     "output_type": "execute_result"
    }
   ],
   "source": [
    "ls.span _"
   ]
  },
  {
   "cell_type": "code",
   "execution_count": 89,
   "metadata": {},
   "outputs": [
    {
     "data": {
      "text/plain": [
       "\u001b[36mres88\u001b[39m: (\u001b[32mList\u001b[39m[\u001b[32mInt\u001b[39m], \u001b[32mList\u001b[39m[\u001b[32mInt\u001b[39m]) = (\u001b[33mList\u001b[39m(\u001b[32m1\u001b[39m, \u001b[32m2\u001b[39m, \u001b[32m3\u001b[39m, \u001b[32m4\u001b[39m, \u001b[32m5\u001b[39m), \u001b[33mList\u001b[39m(\u001b[32m6\u001b[39m, \u001b[32m7\u001b[39m, \u001b[32m8\u001b[39m, \u001b[32m9\u001b[39m, \u001b[32m10\u001b[39m))"
      ]
     },
     "execution_count": 89,
     "metadata": {},
     "output_type": "execute_result"
    }
   ],
   "source": [
    "ls.span(_ <= 5)"
   ]
  },
  {
   "cell_type": "code",
   "execution_count": 90,
   "metadata": {},
   "outputs": [
    {
     "data": {
      "text/plain": [
       "\u001b[36mres89\u001b[39m: (\u001b[32mList\u001b[39m[\u001b[32mInt\u001b[39m], \u001b[32mList\u001b[39m[\u001b[32mInt\u001b[39m]) = (\u001b[33mList\u001b[39m(), \u001b[33mList\u001b[39m(\u001b[32m1\u001b[39m, \u001b[32m2\u001b[39m, \u001b[32m3\u001b[39m, \u001b[32m4\u001b[39m, \u001b[32m5\u001b[39m, \u001b[32m6\u001b[39m, \u001b[32m7\u001b[39m, \u001b[32m8\u001b[39m, \u001b[32m9\u001b[39m, \u001b[32m10\u001b[39m))"
      ]
     },
     "execution_count": 90,
     "metadata": {},
     "output_type": "execute_result"
    }
   ],
   "source": [
    "ls.span(_ == 5)"
   ]
  },
  {
   "cell_type": "code",
   "execution_count": 92,
   "metadata": {},
   "outputs": [
    {
     "data": {
      "text/plain": [
       "\u001b[36mset\u001b[39m: \u001b[32mSet\u001b[39m[\u001b[32mInt\u001b[39m] = \u001b[33mSet\u001b[39m(\u001b[32m5\u001b[39m, \u001b[32m10\u001b[39m, \u001b[32m1\u001b[39m, \u001b[32m6\u001b[39m, \u001b[32m9\u001b[39m, \u001b[32m2\u001b[39m, \u001b[32m7\u001b[39m, \u001b[32m3\u001b[39m, \u001b[32m8\u001b[39m, \u001b[32m4\u001b[39m)"
      ]
     },
     "execution_count": 92,
     "metadata": {},
     "output_type": "execute_result"
    }
   ],
   "source": [
    "val set = Set(1,2,3,4,5,6,7,8,9,10)"
   ]
  },
  {
   "cell_type": "code",
   "execution_count": 93,
   "metadata": {},
   "outputs": [
    {
     "data": {
      "text/plain": [
       "\u001b[36mres92\u001b[39m: (\u001b[32mSet\u001b[39m[\u001b[32mInt\u001b[39m], \u001b[32mSet\u001b[39m[\u001b[32mInt\u001b[39m]) = (\u001b[33mSet\u001b[39m(\u001b[32m5\u001b[39m), \u001b[33mSet\u001b[39m(\u001b[32m10\u001b[39m, \u001b[32m1\u001b[39m, \u001b[32m6\u001b[39m, \u001b[32m9\u001b[39m, \u001b[32m2\u001b[39m, \u001b[32m7\u001b[39m, \u001b[32m3\u001b[39m, \u001b[32m8\u001b[39m, \u001b[32m4\u001b[39m))"
      ]
     },
     "execution_count": 93,
     "metadata": {},
     "output_type": "execute_result"
    }
   ],
   "source": [
    "set.span(_ <=5 )"
   ]
  },
  {
   "cell_type": "markdown",
   "metadata": {},
   "source": [
    "#### xs partition p\t\n",
    "把xs分割为两个容器，符合断言p的元素赋给一个容器，其余的赋给另一个(xs filter p, xs.filterNot p)。\n",
    "```scala\n",
    "  def partition(p: A => Boolean): (Repr, Repr) = {\n",
    "    val l, r = newBuilder\n",
    "    for (x <- this) (if (p(x)) l else r) += x\n",
    "    (l.result, r.result)\n",
    "  }\n",
    "```"
   ]
  },
  {
   "cell_type": "code",
   "execution_count": 95,
   "metadata": {},
   "outputs": [
    {
     "data": {
      "text/plain": [
       "\u001b[36mres94\u001b[39m: (\u001b[32mList\u001b[39m[\u001b[32mInt\u001b[39m], \u001b[32mList\u001b[39m[\u001b[32mInt\u001b[39m]) = (\u001b[33mList\u001b[39m(\u001b[32m2\u001b[39m, \u001b[32m4\u001b[39m, \u001b[32m6\u001b[39m, \u001b[32m8\u001b[39m, \u001b[32m10\u001b[39m), \u001b[33mList\u001b[39m(\u001b[32m1\u001b[39m, \u001b[32m3\u001b[39m, \u001b[32m5\u001b[39m, \u001b[32m7\u001b[39m, \u001b[32m9\u001b[39m))"
      ]
     },
     "execution_count": 95,
     "metadata": {},
     "output_type": "execute_result"
    }
   ],
   "source": [
    "ls.partition(_ % 2 == 0)"
   ]
  },
  {
   "cell_type": "code",
   "execution_count": 96,
   "metadata": {},
   "outputs": [
    {
     "data": {
      "text/plain": [
       "\u001b[36mres95\u001b[39m: (\u001b[32mList\u001b[39m[\u001b[32mInt\u001b[39m], \u001b[32mList\u001b[39m[\u001b[32mInt\u001b[39m]) = (\u001b[33mList\u001b[39m(), \u001b[33mList\u001b[39m(\u001b[32m1\u001b[39m, \u001b[32m2\u001b[39m, \u001b[32m3\u001b[39m, \u001b[32m4\u001b[39m, \u001b[32m5\u001b[39m, \u001b[32m6\u001b[39m, \u001b[32m7\u001b[39m, \u001b[32m8\u001b[39m, \u001b[32m9\u001b[39m, \u001b[32m10\u001b[39m))"
      ]
     },
     "execution_count": 96,
     "metadata": {},
     "output_type": "execute_result"
    }
   ],
   "source": [
    "ls.span(_ % 2 == 0)"
   ]
  },
  {
   "cell_type": "code",
   "execution_count": 97,
   "metadata": {},
   "outputs": [
    {
     "data": {
      "text/plain": [
       "\u001b[36mres96\u001b[39m: (\u001b[32mSet\u001b[39m[\u001b[32mInt\u001b[39m], \u001b[32mSet\u001b[39m[\u001b[32mInt\u001b[39m]) = (\u001b[33mSet\u001b[39m(\u001b[32m10\u001b[39m, \u001b[32m6\u001b[39m, \u001b[32m2\u001b[39m, \u001b[32m8\u001b[39m, \u001b[32m4\u001b[39m), \u001b[33mSet\u001b[39m(\u001b[32m5\u001b[39m, \u001b[32m1\u001b[39m, \u001b[32m9\u001b[39m, \u001b[32m7\u001b[39m, \u001b[32m3\u001b[39m))"
      ]
     },
     "execution_count": 97,
     "metadata": {},
     "output_type": "execute_result"
    }
   ],
   "source": [
    "set.partition(_ % 2 == 0)"
   ]
  },
  {
   "cell_type": "markdown",
   "metadata": {},
   "source": [
    "可以看到span碰到不符合条件的就停止向左边的集合放入数据；而partition会把所有的符合条件的放入左边的集合"
   ]
  },
  {
   "cell_type": "markdown",
   "metadata": {},
   "source": [
    "#### xs groupBy f\t\n",
    "根据判别函数f把xs拆分一个到容器（collection）的map中。\n",
    "```scala\n",
    "  def groupBy[K](f: A => K): immutable.Map[K, Repr] = {\n",
    "    val m = mutable.Map.empty[K, Builder[A, Repr]]\n",
    "    for (elem <- this) {\n",
    "      val key = f(elem)\n",
    "      val bldr = m.getOrElseUpdate(key, newBuilder)\n",
    "      bldr += elem\n",
    "    }\n",
    "    val b = immutable.Map.newBuilder[K, Repr]\n",
    "    for ((k, v) <- m)\n",
    "      b += ((k, v.result))\n",
    "\n",
    "    b.result\n",
    "  }\n",
    "```"
   ]
  },
  {
   "cell_type": "code",
   "execution_count": 98,
   "metadata": {},
   "outputs": [
    {
     "data": {
      "text/plain": [
       "\u001b[36mres97\u001b[39m: \u001b[32mFunction1\u001b[39m[\u001b[32mInt\u001b[39m, \u001b[32mNothing\u001b[39m] => \u001b[32mMap\u001b[39m[\u001b[32mNothing\u001b[39m, \u001b[32mList\u001b[39m[\u001b[32mInt\u001b[39m]] = <function1>"
      ]
     },
     "execution_count": 98,
     "metadata": {},
     "output_type": "execute_result"
    }
   ],
   "source": [
    "ls.groupBy _"
   ]
  },
  {
   "cell_type": "code",
   "execution_count": 99,
   "metadata": {},
   "outputs": [
    {
     "data": {
      "text/plain": [
       "\u001b[36mres98\u001b[39m: \u001b[32mFunction1\u001b[39m[\u001b[32mInt\u001b[39m, \u001b[32mNothing\u001b[39m] => \u001b[32mMap\u001b[39m[\u001b[32mNothing\u001b[39m, \u001b[32mSet\u001b[39m[\u001b[32mInt\u001b[39m]] = <function1>"
      ]
     },
     "execution_count": 99,
     "metadata": {},
     "output_type": "execute_result"
    }
   ],
   "source": [
    "set.groupBy _"
   ]
  },
  {
   "cell_type": "code",
   "execution_count": 100,
   "metadata": {},
   "outputs": [
    {
     "data": {
      "text/plain": [
       "\u001b[36mres99\u001b[39m: \u001b[32mMap\u001b[39m[\u001b[32mBoolean\u001b[39m, \u001b[32mList\u001b[39m[\u001b[32mInt\u001b[39m]] = \u001b[33mMap\u001b[39m(\u001b[32mfalse\u001b[39m -> \u001b[33mList\u001b[39m(\u001b[32m1\u001b[39m, \u001b[32m3\u001b[39m, \u001b[32m5\u001b[39m, \u001b[32m7\u001b[39m, \u001b[32m9\u001b[39m), \u001b[32mtrue\u001b[39m -> \u001b[33mList\u001b[39m(\u001b[32m2\u001b[39m, \u001b[32m4\u001b[39m, \u001b[32m6\u001b[39m, \u001b[32m8\u001b[39m, \u001b[32m10\u001b[39m))"
      ]
     },
     "execution_count": 100,
     "metadata": {},
     "output_type": "execute_result"
    }
   ],
   "source": [
    "ls.groupBy(_ % 2 == 0)"
   ]
  },
  {
   "cell_type": "code",
   "execution_count": 101,
   "metadata": {},
   "outputs": [
    {
     "data": {
      "text/plain": [
       "\u001b[36mres100\u001b[39m: \u001b[32mMap\u001b[39m[\u001b[32mInt\u001b[39m, \u001b[32mList\u001b[39m[\u001b[32mInt\u001b[39m]] = \u001b[33mMap\u001b[39m(\u001b[32m2\u001b[39m -> \u001b[33mList\u001b[39m(\u001b[32m2\u001b[39m, \u001b[32m5\u001b[39m, \u001b[32m8\u001b[39m), \u001b[32m1\u001b[39m -> \u001b[33mList\u001b[39m(\u001b[32m1\u001b[39m, \u001b[32m4\u001b[39m, \u001b[32m7\u001b[39m, \u001b[32m10\u001b[39m), \u001b[32m0\u001b[39m -> \u001b[33mList\u001b[39m(\u001b[32m3\u001b[39m, \u001b[32m6\u001b[39m, \u001b[32m9\u001b[39m))"
      ]
     },
     "execution_count": 101,
     "metadata": {},
     "output_type": "execute_result"
    }
   ],
   "source": [
    "ls.groupBy(_ % 3)"
   ]
  },
  {
   "cell_type": "markdown",
   "metadata": {},
   "source": [
    "### 转换器（Conversion）\n",
    "**转换器（Conversion）**\n",
    "操作包括toArray，toList，toIterable，toSeq，toIndexedSeq，toStream，toSet，和toMap，它们可以按照某种特定的方法对一个Traversable 容器进行转换。等容器类型已经与所需类型相匹配的时候，所有这些转换器都会不加改变的返回该容器。例如，对一个list使用toList，返回的结果就是list本身\n",
    "\n",
    "**xs.toArray**\t\n",
    "把容器转换为一个数组\n",
    "\n",
    "**xs.toList**\t\n",
    "把容器转换为一个list\n",
    "\n",
    "**xs.toIterable** \n",
    "把容器转换为一个迭代器。\n",
    "\n",
    "**xs.toSeq**\t\n",
    "把容器转换为一个序列\n",
    "\n",
    "**xs.toIndexedSeq**\t\n",
    "把容器转换为一个索引序列\n",
    "\n",
    "**xs.toStream**\t\n",
    "把容器转换为一个延迟计算的流。\n",
    "\n",
    "**xs.toSet**\t\n",
    "把容器转换为一个集合（Set）。\n",
    "\n",
    "**xs.toMap**\t\n",
    "把由键/值对组成的容器转换为一个映射表（map）。如果该容器并不是以键/值对作为元素的，那么调用这个操作将会导致一个静态类型的错误。"
   ]
  },
  {
   "cell_type": "code",
   "execution_count": 102,
   "metadata": {},
   "outputs": [
    {
     "data": {
      "text/plain": [
       "\u001b[36mres101\u001b[39m: \u001b[32mArray\u001b[39m[\u001b[32mInt\u001b[39m] = \u001b[33mArray\u001b[39m(\u001b[32m1\u001b[39m, \u001b[32m2\u001b[39m, \u001b[32m3\u001b[39m)"
      ]
     },
     "execution_count": 102,
     "metadata": {},
     "output_type": "execute_result"
    }
   ],
   "source": [
    "list.toArray"
   ]
  },
  {
   "cell_type": "code",
   "execution_count": 103,
   "metadata": {},
   "outputs": [
    {
     "data": {
      "text/plain": [
       "\u001b[36mres102\u001b[39m: \u001b[32mimmutable\u001b[39m.\u001b[32mSeq\u001b[39m[\u001b[32mInt\u001b[39m] = \u001b[33mList\u001b[39m(\u001b[32m1\u001b[39m, \u001b[32m2\u001b[39m, \u001b[32m3\u001b[39m)"
      ]
     },
     "execution_count": 103,
     "metadata": {},
     "output_type": "execute_result"
    }
   ],
   "source": [
    "list.toSeq"
   ]
  },
  {
   "cell_type": "code",
   "execution_count": 104,
   "metadata": {},
   "outputs": [
    {
     "data": {
      "text/plain": [
       "\u001b[36mres103\u001b[39m: \u001b[32mSet\u001b[39m[\u001b[32mInt\u001b[39m] = \u001b[33mSet\u001b[39m(\u001b[32m1\u001b[39m, \u001b[32m2\u001b[39m, \u001b[32m3\u001b[39m)"
      ]
     },
     "execution_count": 104,
     "metadata": {},
     "output_type": "execute_result"
    }
   ],
   "source": [
    "list.toSet"
   ]
  },
  {
   "cell_type": "code",
   "execution_count": 105,
   "metadata": {},
   "outputs": [
    {
     "data": {
      "text/plain": [
       "\u001b[36mres104\u001b[39m: \u001b[32mIterator\u001b[39m[\u001b[32mInt\u001b[39m] = non-empty iterator"
      ]
     },
     "execution_count": 105,
     "metadata": {},
     "output_type": "execute_result"
    }
   ],
   "source": [
    "list.toIterator"
   ]
  },
  {
   "cell_type": "code",
   "execution_count": 106,
   "metadata": {},
   "outputs": [
    {
     "data": {
      "text/plain": [
       "\u001b[36mres105\u001b[39m: \u001b[32mIterable\u001b[39m[\u001b[32mInt\u001b[39m] = \u001b[33mList\u001b[39m(\u001b[32m1\u001b[39m, \u001b[32m2\u001b[39m, \u001b[32m3\u001b[39m)"
      ]
     },
     "execution_count": 106,
     "metadata": {},
     "output_type": "execute_result"
    }
   ],
   "source": [
    "list.toIterable"
   ]
  },
  {
   "cell_type": "code",
   "execution_count": 107,
   "metadata": {},
   "outputs": [
    {
     "data": {
      "text/plain": [
       "\u001b[36mres106\u001b[39m: \u001b[32mMap\u001b[39m[\u001b[32mInt\u001b[39m, \u001b[32mInt\u001b[39m] = \u001b[33mMap\u001b[39m(\u001b[32m1\u001b[39m -> \u001b[32m1\u001b[39m, \u001b[32m2\u001b[39m -> \u001b[32m1\u001b[39m, \u001b[32m3\u001b[39m -> \u001b[32m1\u001b[39m)"
      ]
     },
     "execution_count": 107,
     "metadata": {},
     "output_type": "execute_result"
    }
   ],
   "source": [
    "//list.toMap 编译错误\n",
    "list.map((_,1)).toMap"
   ]
  },
  {
   "cell_type": "code",
   "execution_count": 108,
   "metadata": {},
   "outputs": [
    {
     "data": {
      "text/plain": [
       "\u001b[36mres107\u001b[39m: \u001b[32mMap\u001b[39m[\u001b[32mString\u001b[39m, \u001b[32mInt\u001b[39m] = \u001b[33mMap\u001b[39m(\u001b[32m\"1\"\u001b[39m -> \u001b[32m1\u001b[39m, \u001b[32m\"2\"\u001b[39m -> \u001b[32m2\u001b[39m, \u001b[32m\"3\"\u001b[39m -> \u001b[32m3\u001b[39m)"
      ]
     },
     "execution_count": 108,
     "metadata": {},
     "output_type": "execute_result"
    }
   ],
   "source": [
    "list.map(a => (a.toString,a)).toMap"
   ]
  },
  {
   "cell_type": "markdown",
   "metadata": {},
   "source": [
    "### 字符串（String）\n",
    "**字符串（String）**\n",
    "操作有mkString，addString和stringPrefix，可以将一个容器通过可选的方式转换为字符串。\n",
    "\n",
    "#### xs addString (b, start, sep, end)\t\n",
    "把一个字符串加到StringBuilder对象b中，该字符串显示为将xs中所有元素用分隔符sep连接起来并封装在start和end之间。其中start，end和sep都是可选的。\n",
    "\n",
    "```scala\n",
    "  def addString(b: StringBuilder, start: String, sep: String, end: String): StringBuilder = {\n",
    "    var first = true\n",
    "\n",
    "    b append start\n",
    "    for (x <- self) {\n",
    "      if (first) {\n",
    "        b append x\n",
    "        first = false\n",
    "      }\n",
    "      else {\n",
    "        b append sep\n",
    "        b append x\n",
    "      }\n",
    "    }\n",
    "    b append end\n",
    "\n",
    "    b\n",
    "  }\n",
    "\n",
    "  def addString(b: StringBuilder, sep: String): StringBuilder = addString(b, \"\", sep, \"\")\n",
    "\n",
    "  def addString(b: StringBuilder): StringBuilder = addString(b, \"\")\n",
    "```"
   ]
  },
  {
   "cell_type": "code",
   "execution_count": 114,
   "metadata": {},
   "outputs": [
    {
     "data": {
      "text/plain": [
       "\u001b[36mb\u001b[39m: \u001b[32mStringBuilder\u001b[39m = \u001b[33mStringBuilder\u001b[39m()"
      ]
     },
     "execution_count": 114,
     "metadata": {},
     "output_type": "execute_result"
    }
   ],
   "source": [
    "var b = new StringBuilder()"
   ]
  },
  {
   "cell_type": "code",
   "execution_count": 115,
   "metadata": {},
   "outputs": [
    {
     "data": {
      "text/plain": [
       "\u001b[36mres114\u001b[39m: \u001b[32mString\u001b[39m = \u001b[32m\"List(1, 2, 3)\"\u001b[39m"
      ]
     },
     "execution_count": 115,
     "metadata": {},
     "output_type": "execute_result"
    }
   ],
   "source": [
    "list.addString(b , \"List(\" , \", \" , \")\").toString"
   ]
  },
  {
   "cell_type": "code",
   "execution_count": 118,
   "metadata": {},
   "outputs": [
    {
     "data": {
      "text/plain": [
       "\u001b[36mres117_1\u001b[39m: \u001b[32mString\u001b[39m = \u001b[32m\"1, 2, 3\"\u001b[39m"
      ]
     },
     "execution_count": 118,
     "metadata": {},
     "output_type": "execute_result"
    }
   ],
   "source": [
    "b = new StringBuilder()\n",
    "list.addString(b, \", \").toString"
   ]
  },
  {
   "cell_type": "code",
   "execution_count": 119,
   "metadata": {},
   "outputs": [
    {
     "data": {
      "text/plain": [
       "\u001b[36mres118_1\u001b[39m: \u001b[32mString\u001b[39m = \u001b[32m\"123\"\u001b[39m"
      ]
     },
     "execution_count": 119,
     "metadata": {},
     "output_type": "execute_result"
    }
   ],
   "source": [
    "b = new StringBuilder()\n",
    "list.addString(b).toString"
   ]
  },
  {
   "cell_type": "markdown",
   "metadata": {},
   "source": [
    "#### xs mkString (start, sep, end)\t\n",
    "把容器xs转换为一个字符串，该字符串显示为将xs中所有元素用分隔符sep连接起来并封装在start和end之间。其中start，end和sep都是可选的。\n",
    "\n",
    "```scala\n",
    "  def mkString(start: String, sep: String, end: String): String =\n",
    "    addString(new StringBuilder(), start, sep, end).toString\n",
    "\n",
    "  def mkString(sep: String): String = mkString(\"\", sep, \"\")\n",
    "\n",
    "  def mkString: String = mkString(\"\")\n",
    "```"
   ]
  },
  {
   "cell_type": "code",
   "execution_count": 121,
   "metadata": {},
   "outputs": [
    {
     "data": {
      "text/plain": [
       "\u001b[36mres120\u001b[39m: \u001b[32mString\u001b[39m = \u001b[32m\"List(1, 2, 3)\"\u001b[39m"
      ]
     },
     "execution_count": 121,
     "metadata": {},
     "output_type": "execute_result"
    }
   ],
   "source": [
    "list.mkString(\"List(\" , \", \" , \")\")"
   ]
  },
  {
   "cell_type": "code",
   "execution_count": 122,
   "metadata": {},
   "outputs": [
    {
     "data": {
      "text/plain": [
       "\u001b[36mres121\u001b[39m: \u001b[32mString\u001b[39m = \u001b[32m\"1, 2, 3\"\u001b[39m"
      ]
     },
     "execution_count": 122,
     "metadata": {},
     "output_type": "execute_result"
    }
   ],
   "source": [
    "list.mkString( \", \" )"
   ]
  },
  {
   "cell_type": "code",
   "execution_count": 123,
   "metadata": {},
   "outputs": [
    {
     "data": {
      "text/plain": [
       "\u001b[36mres122\u001b[39m: \u001b[32mString\u001b[39m = \u001b[32m\"123\"\u001b[39m"
      ]
     },
     "execution_count": 123,
     "metadata": {},
     "output_type": "execute_result"
    }
   ],
   "source": [
    "list.mkString"
   ]
  },
  {
   "cell_type": "markdown",
   "metadata": {},
   "source": [
    "#### xs.stringPrefix\t\n",
    "返回一个字符串，该字符串是以容器名开头的xs.toString。"
   ]
  },
  {
   "cell_type": "code",
   "execution_count": 124,
   "metadata": {},
   "outputs": [
    {
     "data": {
      "text/plain": [
       "\u001b[36mres123\u001b[39m: \u001b[32mString\u001b[39m = \u001b[32m\"List\"\u001b[39m"
      ]
     },
     "execution_count": 124,
     "metadata": {},
     "output_type": "execute_result"
    }
   ],
   "source": [
    "list.stringPrefix"
   ]
  },
  {
   "cell_type": "code",
   "execution_count": 125,
   "metadata": {},
   "outputs": [
    {
     "data": {
      "text/plain": [
       "\u001b[36mres124\u001b[39m: \u001b[32mString\u001b[39m = \u001b[32m\"Set\"\u001b[39m"
      ]
     },
     "execution_count": 125,
     "metadata": {},
     "output_type": "execute_result"
    }
   ],
   "source": [
    "set.stringPrefix"
   ]
  },
  {
   "cell_type": "code",
   "execution_count": 126,
   "metadata": {},
   "outputs": [
    {
     "data": {
      "text/plain": [
       "\u001b[36mres125\u001b[39m: \u001b[32mString\u001b[39m = \u001b[32m\"Map\"\u001b[39m"
      ]
     },
     "execution_count": 126,
     "metadata": {},
     "output_type": "execute_result"
    }
   ],
   "source": [
    "hashMap.stringPrefix"
   ]
  },
  {
   "cell_type": "code",
   "execution_count": 127,
   "metadata": {},
   "outputs": [
    {
     "data": {
      "text/plain": [
       "\u001b[36mres126\u001b[39m: \u001b[32mString\u001b[39m = \u001b[32m\"Map\"\u001b[39m"
      ]
     },
     "execution_count": 127,
     "metadata": {},
     "output_type": "execute_result"
    }
   ],
   "source": [
    "hashMap1.stringPrefix"
   ]
  },
  {
   "cell_type": "markdown",
   "metadata": {},
   "source": [
    "### 视图（View）\n",
    "**视图（View）**\n",
    "操作包含两个view方法的重载体。一个view对象可以当作是一个容器客观地展示。接下来将会介绍更多有关视图内容。\n",
    "\n",
    "#### xs.view\t\n",
    "通过容器xs生成一个视图。"
   ]
  },
  {
   "cell_type": "code",
   "execution_count": 129,
   "metadata": {},
   "outputs": [
    {
     "data": {
      "text/plain": [
       "\u001b[36mres128\u001b[39m: \u001b[32mAnyRef\u001b[39m with \u001b[32mcollection\u001b[39m.\u001b[32mSeqView\u001b[39m[\u001b[32mInt\u001b[39m, \u001b[32mList\u001b[39m[\u001b[32mInt\u001b[39m]] = \u001b[33mSeqView\u001b[39m(\u001b[32m1\u001b[39m, \u001b[32m2\u001b[39m, \u001b[32m3\u001b[39m)"
      ]
     },
     "execution_count": 129,
     "metadata": {},
     "output_type": "execute_result"
    }
   ],
   "source": [
    "list.view"
   ]
  },
  {
   "cell_type": "markdown",
   "metadata": {},
   "source": [
    "#### xs view (from, to)\t\n",
    "生成一个表示在指定索引范围内的xs元素的视图。"
   ]
  },
  {
   "cell_type": "code",
   "execution_count": 130,
   "metadata": {},
   "outputs": [
    {
     "data": {
      "text/plain": [
       "\u001b[36mres129\u001b[39m: \u001b[32mcollection\u001b[39m.\u001b[32mSeqView\u001b[39m[\u001b[32mInt\u001b[39m, \u001b[32mList\u001b[39m[\u001b[32mInt\u001b[39m]] = \u001b[33mSeqView\u001b[39m(\u001b[32m1\u001b[39m)"
      ]
     },
     "execution_count": 130,
     "metadata": {},
     "output_type": "execute_result"
    }
   ],
   "source": [
    "list.view(0,1)"
   ]
  },
  {
   "cell_type": "code",
   "execution_count": 131,
   "metadata": {},
   "outputs": [
    {
     "data": {
      "text/plain": [
       "\u001b[36mres130\u001b[39m: \u001b[32mcollection\u001b[39m.\u001b[32mSeqView\u001b[39m[\u001b[32mInt\u001b[39m, \u001b[32mList\u001b[39m[\u001b[32mInt\u001b[39m]] = \u001b[33mSeqView\u001b[39m(\u001b[32m2\u001b[39m, \u001b[32m3\u001b[39m)"
      ]
     },
     "execution_count": 131,
     "metadata": {},
     "output_type": "execute_result"
    }
   ],
   "source": [
    "list.view(1,3)"
   ]
  },
  {
   "cell_type": "markdown",
   "metadata": {},
   "source": [
    "### 遍历（foreach ）\n",
    "#### foreach\n",
    "Scala 容 器 类 型 的 标 准 遍 历 方 法 是 foreach， foreach 定 义 于 scala.collection.IterableLike中，它的签名为：\n",
    "```scala\n",
    "trait IterableLike[A] { // 省略部分细节\n",
    "...\n",
    "def foreach[U](f: A => U): Unit = {...}\n",
    "...\n",
    "}\n",
    "```\n",
    "IterableLike 的部分子类型可能会重新定义该方法，以利用程序的本地信息，获得更好的性能。\n",
    "\n",
    "在上述代码中， U 是函数 f 的返回类型，事实上 U 具体是什么类型并不重要。 foreach 函数的输出类型是 Unit，因此 foreach 是一个完全副作用的函数。又因为它的参数是一个函数， foreach 又是一个高阶函数。注意这里讨论的所有操作函数均为高阶函数。foreach 的复杂度是 O(N)， N 为元素个数。\n",
    "\n",
    "以下为 foreach 在列表和映射表中的用法："
   ]
  },
  {
   "cell_type": "code",
   "execution_count": 132,
   "metadata": {},
   "outputs": [
    {
     "name": "stdout",
     "output_type": "stream",
     "text": [
      "Int: 1\n",
      "Int: 2\n",
      "Int: 3\n",
      "Int: 4\n",
      "Int: 5\n"
     ]
    }
   ],
   "source": [
    "List(1, 2, 3, 4, 5) foreach { i => println(\"Int: \" + i) }"
   ]
  },
  {
   "cell_type": "code",
   "execution_count": 133,
   "metadata": {},
   "outputs": [
    {
     "name": "stdout",
     "output_type": "stream",
     "text": [
      "1\r\n",
      "2\r\n",
      "3\r\n"
     ]
    }
   ],
   "source": [
    "list.foreach(println)"
   ]
  },
  {
   "cell_type": "code",
   "execution_count": 136,
   "metadata": {},
   "outputs": [
    {
     "name": "stdout",
     "output_type": "stream",
     "text": [
      "1\r\n",
      "2\r\n",
      "3\r\n"
     ]
    }
   ],
   "source": [
    "list foreach println"
   ]
  },
  {
   "cell_type": "code",
   "execution_count": 134,
   "metadata": {},
   "outputs": [
    {
     "name": "stdout",
     "output_type": "stream",
     "text": [
      "1\r\n",
      "2\r\n",
      "3\r\n"
     ]
    }
   ],
   "source": [
    "list foreach(println)"
   ]
  },
  {
   "cell_type": "code",
   "execution_count": 137,
   "metadata": {},
   "outputs": [
    {
     "name": "stdout",
     "output_type": "stream",
     "text": [
      "1\r\n",
      "2\r\n",
      "3\r\n"
     ]
    }
   ],
   "source": [
    "list.foreach(println(_))"
   ]
  },
  {
   "cell_type": "code",
   "execution_count": 138,
   "metadata": {},
   "outputs": [
    {
     "name": "stdout",
     "output_type": "stream",
     "text": [
      "Int: 1\r\n",
      "Int: 2\r\n",
      "Int: 3\r\n"
     ]
    }
   ],
   "source": [
    "list.foreach { i => println(\"Int: \" + i) }"
   ]
  },
  {
   "cell_type": "code",
   "execution_count": 140,
   "metadata": {},
   "outputs": [
    {
     "name": "stdout",
     "output_type": "stream",
     "text": [
      "Int: 1\r\n",
      "Int: 2\r\n",
      "Int: 3\r\n"
     ]
    }
   ],
   "source": [
    "list.foreach( i => println(\"Int: \" + i) )"
   ]
  },
  {
   "cell_type": "code",
   "execution_count": 139,
   "metadata": {},
   "outputs": [
    {
     "name": "stdout",
     "output_type": "stream",
     "text": [
      "1\r\n",
      "2\r\n",
      "3\r\n"
     ]
    }
   ],
   "source": [
    "//编译错误\n",
    "//list.foreach(println(\"Int: \" + _)) "
   ]
  },
  {
   "cell_type": "code",
   "execution_count": 142,
   "metadata": {},
   "outputs": [
    {
     "data": {
      "text/plain": [
       "\u001b[36mstateCapitals\u001b[39m: \u001b[32mMap\u001b[39m[\u001b[32mString\u001b[39m, \u001b[32mString\u001b[39m] = \u001b[33mMap\u001b[39m(\u001b[32m\"Alabama\"\u001b[39m -> \u001b[32m\"Montgomery\"\u001b[39m, \u001b[32m\"Alaska\"\u001b[39m -> \u001b[32m\"Juneau\"\u001b[39m, \u001b[32m\"Wyoming\"\u001b[39m -> \u001b[32m\"Cheyenne\"\u001b[39m)"
      ]
     },
     "execution_count": 142,
     "metadata": {},
     "output_type": "execute_result"
    }
   ],
   "source": [
    "val stateCapitals = Map(\n",
    "  \"Alabama\" -> \"Montgomery\",\n",
    "  \"Alaska\"  -> \"Juneau\",\n",
    "  \"Wyoming\" -> \"Cheyenne\")"
   ]
  },
  {
   "cell_type": "code",
   "execution_count": 143,
   "metadata": {},
   "outputs": [
    {
     "name": "stdout",
     "output_type": "stream",
     "text": [
      "Alabama: Montgomery\r\n",
      "Alaska: Juneau\r\n",
      "Wyoming: Cheyenne\r\n"
     ]
    }
   ],
   "source": [
    "//stateCapitals foreach { kv => println(kv._1 + \": \" + kv._2) }\n",
    "stateCapitals foreach { case (k, v) => println(k + \": \" + v) }"
   ]
  },
  {
   "cell_type": "markdown",
   "metadata": {},
   "source": [
    "注意，在映射表的例子中，传递给 foreach 的 A 参数实际上是一个键值对 (K,V)。我们用模式匹配表达式将键和值提取了出来，注释中展示的是另一种直接使用元组的合法写法。\n",
    "\n",
    "匿名函数中运用 case 语句，实际上定义了一个偏函数，但这个函数实际上并不“偏”，因为它可以匹配所有输入。"
   ]
  },
  {
   "cell_type": "code",
   "execution_count": 146,
   "metadata": {},
   "outputs": [
    {
     "name": "stdout",
     "output_type": "stream",
     "text": [
      "(Alabama,Montgomery)\r\n",
      "(Alaska,Juneau)\r\n",
      "(Wyoming,Cheyenne)\r\n"
     ]
    }
   ],
   "source": [
    "stateCapitals.foreach( println(_) )"
   ]
  },
  {
   "cell_type": "code",
   "execution_count": 146,
   "metadata": {},
   "outputs": [],
   "source": [
    "//编译失败\n",
    "//stateCapitals.foreach( println(_._1) )"
   ]
  },
  {
   "cell_type": "code",
   "execution_count": 149,
   "metadata": {},
   "outputs": [
    {
     "name": "stdout",
     "output_type": "stream",
     "text": [
      "Alabama,Montgomery\r\n",
      "Alaska,Juneau\r\n",
      "Wyoming,Cheyenne\r\n"
     ]
    }
   ],
   "source": [
    "stateCapitals.foreach( kv => println(kv._1 + \",\" + kv._2) )"
   ]
  },
  {
   "cell_type": "code",
   "execution_count": 150,
   "metadata": {},
   "outputs": [
    {
     "name": "stdout",
     "output_type": "stream",
     "text": [
      "Alabama,Montgomery\r\n",
      "Alaska,Juneau\r\n",
      "Wyoming,Cheyenne\r\n"
     ]
    }
   ],
   "source": [
    "stateCapitals.foreach{ kv => println(kv._1 + \",\" + kv._2) }"
   ]
  },
  {
   "cell_type": "code",
   "execution_count": 151,
   "metadata": {},
   "outputs": [
    {
     "name": "stdout",
     "output_type": "stream",
     "text": [
      "Alabama,Montgomery\r\n",
      "Alaska,Juneau\r\n",
      "Wyoming,Cheyenne\r\n"
     ]
    }
   ],
   "source": [
    "//编译失败\n",
    "//stateCapitals.foreach(case (k,v) => println(k + \",\" + v) )\n",
    "\n",
    "stateCapitals.foreach{ case (k,v) => println(k + \",\" + v) }"
   ]
  },
  {
   "cell_type": "markdown",
   "metadata": {},
   "source": [
    "foreach 并不是一个纯函数，因为 foreach 只能执行带副作用的操作。然而，一旦有了foreach，我们就可以实现其他接下来要讨论的不带副作用的操作。这些操作是函数值编程的标志：映射、过滤、折叠、归约。"
   ]
  },
  {
   "cell_type": "markdown",
   "metadata": {},
   "source": [
    "### 映射（Map）\n",
    "**Map**\n",
    "操作有map，flatMap和collect，它们可以通过对容器中的元素进行某些运算来生成一个新的容器。\n",
    "\n",
    "#### xs map f\t\n",
    "通过函数xs中的每一个元素调用函数f来生成一个容器。\n",
    "\n",
    "我们之前已经接触过 map 方法， map 方法返回一个与原集合类型大小相同的新集合，其中的每个元素均由原集合的对应元素转换得到。 map 方法被定义于scala.collection.TraversableLike， 被大部分集合类型继承。其签名如下：\n",
    "```scala\n",
    "trait TraversableLike[A] { // 省略部分细节\n",
    "...\n",
    "def map[B](f: (A) & B): Traversable[B]\n",
    "...\n",
    "}\n",
    "```\n",
    "在本章上文中，我们已经接触过关于映射的实例了。事实上， map 的这个方法签名并不是 map 在源代码中的签名，而是显示在 Scaladoc 中的签名。 如 果 你 阅 读 Scaladoc，会在结尾找到一个“完整”的方法签名，点击附近的箭头可以将其展开显示。这个签名才是 map 方法的真正签名：\n",
    "```scala\n",
    "def map[B, That](f: A => B)(implicit bf: CanBuildFrom[Repr, B, That]): That\n",
    "```\n",
    "\n",
    "最近版本的 Scaladoc 为了揭示方法的本质，使读者不被淹没在方法的实现细节中，对一部分方法的签名做了简化。 map 方法的实质是将一个集合类型转换为一个类型相同、大小相同的新集合，而其中原集合 A 的元素经过转换函数处理，转为集合 B 中的元素。\n",
    "\n",
    "map 方法的真正签名包含了实现的细节信息。 That 是输出集合的类型，事实上与输入集合的类型相同。我们在 5.2.2 节讨论过隐含参数 bf: CanBuildFrom 的作用。它的存在意味着我们可以用 map 的输出和函数 f 构造一个 That，同时 bf: CanBuildFrom 本身也负责构建。Repr 是内部用来表示集合元素的。\n",
    "\n",
    "尽管隐含参数 CanBuildFrom 增加了方法签名的复杂性（还引来了邮件列表里的诸多抱怨），但如果没有它，我们就无法创建新的 Map、 List 或其他继承自 TraversableLike 的集合。这是使用面向对象继承层次模型来实现集合 API 的自然结果。所有具体的集合类型都可以重新实现 map 方法，并返回一个该类型的新实例。但这种放弃代码重用的做法将削弱使用面向对象带来的好处。\n",
    "\n",
    "事实上，第 1 版面世时，普遍使用的是 Scala v2.7.X，在该版本中集合类型的 API 并没有以上特性。 map 和其他方法返回一个 Iteratable 或类似的抽象类型，这个类型往往只是Array 或其他底层类型。\n",
    "\n",
    "从现在开始，本书将只给出方法的简化签名，以集中精力研究方法的行为特性。不过，我鼓励大家选择一个集合类型，如 List 或 Map，然后阅读各个方法的完整签名形式。刚开始阅读这些方法签名时可能会令人气馁，但这对有效地使用这些集合来说是必要的。"
   ]
  },
  {
   "cell_type": "code",
   "execution_count": 153,
   "metadata": {},
   "outputs": [
    {
     "data": {
      "text/plain": [
       "\u001b[36mres152\u001b[39m: \u001b[32mList\u001b[39m[\u001b[32mInt\u001b[39m] = \u001b[33mList\u001b[39m(\u001b[32m2\u001b[39m, \u001b[32m4\u001b[39m, \u001b[32m6\u001b[39m)"
      ]
     },
     "execution_count": 153,
     "metadata": {},
     "output_type": "execute_result"
    }
   ],
   "source": [
    "list.map(_*2)"
   ]
  },
  {
   "cell_type": "code",
   "execution_count": 154,
   "metadata": {},
   "outputs": [
    {
     "data": {
      "text/plain": [
       "\u001b[36mres153\u001b[39m: \u001b[32mList\u001b[39m[\u001b[32mInt\u001b[39m] = \u001b[33mList\u001b[39m(\u001b[32m6\u001b[39m, \u001b[32m7\u001b[39m, \u001b[32m8\u001b[39m)"
      ]
     },
     "execution_count": 154,
     "metadata": {},
     "output_type": "execute_result"
    }
   ],
   "source": [
    "list.map(_ + 5)"
   ]
  },
  {
   "cell_type": "code",
   "execution_count": 155,
   "metadata": {},
   "outputs": [
    {
     "data": {
      "text/plain": [
       "\u001b[36mres154\u001b[39m: \u001b[32mList\u001b[39m[\u001b[32mInt\u001b[39m] = \u001b[33mList\u001b[39m(\u001b[32m1\u001b[39m, \u001b[32m2\u001b[39m, \u001b[32m3\u001b[39m)"
      ]
     },
     "execution_count": 155,
     "metadata": {},
     "output_type": "execute_result"
    }
   ],
   "source": [
    "//list.map(_) 编译错误\n",
    "list.map(x => x)"
   ]
  },
  {
   "cell_type": "code",
   "execution_count": 156,
   "metadata": {},
   "outputs": [
    {
     "data": {
      "text/plain": [
       "\u001b[36mres155\u001b[39m: \u001b[32mList\u001b[39m[\u001b[32mInt\u001b[39m] = \u001b[33mList\u001b[39m(\u001b[32m2\u001b[39m, \u001b[32m4\u001b[39m, \u001b[32m6\u001b[39m)"
      ]
     },
     "execution_count": 156,
     "metadata": {},
     "output_type": "execute_result"
    }
   ],
   "source": [
    "//list.map(x => val a = x;a*2)\n",
    "list.map{x => val a = x;a*2}"
   ]
  },
  {
   "cell_type": "code",
   "execution_count": 157,
   "metadata": {},
   "outputs": [
    {
     "data": {
      "text/plain": [
       "\u001b[36mres156\u001b[39m: \u001b[32mList\u001b[39m[\u001b[32mInt\u001b[39m] = \u001b[33mList\u001b[39m(\u001b[32m2\u001b[39m, \u001b[32m4\u001b[39m, \u001b[32m6\u001b[39m)"
      ]
     },
     "execution_count": 157,
     "metadata": {},
     "output_type": "execute_result"
    }
   ],
   "source": [
    "list.map{x => \n",
    "         val a = x\n",
    "         a*2 }"
   ]
  },
  {
   "cell_type": "markdown",
   "metadata": {},
   "source": [
    "#### xs flatMap f\t\n",
    "通过对容器xs中的每一个元素调用作为容器的值函数f，在把所得的结果连接起来作为一个新的容器。\n",
    "\n",
    "flatMap 是 Map 操作的一种推广。在 flatMap 中，我们对原始集合中的每个元素，都分别产生零或多个元素。我们传入一个函数，该函数对每个输入返回一个集合，而不是一个元素。然后 flatMap 把生成的多个集合“压扁”为一个集合。\n",
    "\n",
    "以下就是 TraversableLike 中 flatMap 方法的简化版签名，同时还给出了 map 方法的签名作为对比：\n",
    "```scala\n",
    "def flatMap[B](f: A => GenTraversableOnce[B]): Traversable[B]\n",
    "def map[B](f: (A) => B): Traversable[B]\n",
    "```\n",
    "\n",
    "注意， map 中函数 f 的签名为 A => B。现在我们需要返回一个集合， GenTraversableOnce就是这样一个接口，它表示可至少遍历一次的任何实体。\n",
    "\n",
    "考虑以下这个例子："
   ]
  },
  {
   "cell_type": "code",
   "execution_count": 158,
   "metadata": {},
   "outputs": [
    {
     "data": {
      "text/plain": [
       "\u001b[36mlist\u001b[39m: \u001b[32mList\u001b[39m[\u001b[32mString\u001b[39m] = \u001b[33mList\u001b[39m(\u001b[32m\"now\"\u001b[39m, \u001b[32m\"is\"\u001b[39m, \u001b[32m\"\"\u001b[39m, \u001b[32m\"the\"\u001b[39m, \u001b[32m\"time\"\u001b[39m)"
      ]
     },
     "execution_count": 158,
     "metadata": {},
     "output_type": "execute_result"
    }
   ],
   "source": [
    "val list = List(\"now\", \"is\", \"\", \"the\", \"time\")"
   ]
  },
  {
   "cell_type": "code",
   "execution_count": 159,
   "metadata": {},
   "outputs": [
    {
     "data": {
      "text/plain": [
       "\u001b[36mres158\u001b[39m: \u001b[32mList\u001b[39m[\u001b[32mChar\u001b[39m] = \u001b[33mList\u001b[39m(\u001b[32m'n'\u001b[39m, \u001b[32m'o'\u001b[39m, \u001b[32m'w'\u001b[39m, \u001b[32m'i'\u001b[39m, \u001b[32m's'\u001b[39m, \u001b[32m't'\u001b[39m, \u001b[32m'h'\u001b[39m, \u001b[32m'e'\u001b[39m, \u001b[32m't'\u001b[39m, \u001b[32m'i'\u001b[39m, \u001b[32m'm'\u001b[39m, \u001b[32m'e'\u001b[39m)"
      ]
     },
     "execution_count": 159,
     "metadata": {},
     "output_type": "execute_result"
    }
   ],
   "source": [
    "list flatMap (s => s.toList)"
   ]
  },
  {
   "cell_type": "code",
   "execution_count": 160,
   "metadata": {},
   "outputs": [
    {
     "data": {
      "text/plain": [
       "\u001b[36mres159\u001b[39m: \u001b[32mList\u001b[39m[\u001b[32mChar\u001b[39m] = \u001b[33mList\u001b[39m(\u001b[32m'n'\u001b[39m, \u001b[32m'o'\u001b[39m, \u001b[32m'w'\u001b[39m, \u001b[32m'i'\u001b[39m, \u001b[32m's'\u001b[39m, \u001b[32m't'\u001b[39m, \u001b[32m'h'\u001b[39m, \u001b[32m'e'\u001b[39m, \u001b[32m't'\u001b[39m, \u001b[32m'i'\u001b[39m, \u001b[32m'm'\u001b[39m, \u001b[32m'e'\u001b[39m)"
      ]
     },
     "execution_count": 160,
     "metadata": {},
     "output_type": "execute_result"
    }
   ],
   "source": [
    "list.flatMap(s => s.toList)"
   ]
  },
  {
   "cell_type": "code",
   "execution_count": 161,
   "metadata": {},
   "outputs": [
    {
     "data": {
      "text/plain": [
       "\u001b[36mres160\u001b[39m: \u001b[32mList\u001b[39m[\u001b[32mChar\u001b[39m] = \u001b[33mList\u001b[39m(\u001b[32m'n'\u001b[39m, \u001b[32m'o'\u001b[39m, \u001b[32m'w'\u001b[39m, \u001b[32m'i'\u001b[39m, \u001b[32m's'\u001b[39m, \u001b[32m't'\u001b[39m, \u001b[32m'h'\u001b[39m, \u001b[32m'e'\u001b[39m, \u001b[32m't'\u001b[39m, \u001b[32m'i'\u001b[39m, \u001b[32m'm'\u001b[39m, \u001b[32m'e'\u001b[39m)"
      ]
     },
     "execution_count": 161,
     "metadata": {},
     "output_type": "execute_result"
    }
   ],
   "source": [
    "list.flatMap(s => s)//字符串也是一个序列"
   ]
  },
  {
   "cell_type": "markdown",
   "metadata": {},
   "source": [
    "事实上， flatMap 的行为很像先调用 map，再调用另一个方法 flatten："
   ]
  },
  {
   "cell_type": "code",
   "execution_count": 162,
   "metadata": {},
   "outputs": [
    {
     "data": {
      "text/plain": [
       "\u001b[36mlist2\u001b[39m: \u001b[32mList\u001b[39m[\u001b[32mList\u001b[39m[\u001b[32mChar\u001b[39m]] = \u001b[33mList\u001b[39m(\n",
       "  \u001b[33mList\u001b[39m(\u001b[32m'n'\u001b[39m, \u001b[32m'o'\u001b[39m, \u001b[32m'w'\u001b[39m),\n",
       "  \u001b[33mList\u001b[39m(\u001b[32m'i'\u001b[39m, \u001b[32m's'\u001b[39m),\n",
       "  \u001b[33mList\u001b[39m(),\n",
       "  \u001b[33mList\u001b[39m(\u001b[32m't'\u001b[39m, \u001b[32m'h'\u001b[39m, \u001b[32m'e'\u001b[39m),\n",
       "  \u001b[33mList\u001b[39m(\u001b[32m't'\u001b[39m, \u001b[32m'i'\u001b[39m, \u001b[32m'm'\u001b[39m, \u001b[32m'e'\u001b[39m)\n",
       ")"
      ]
     },
     "execution_count": 162,
     "metadata": {},
     "output_type": "execute_result"
    }
   ],
   "source": [
    "val list2 = List(\"now\", \"is\", \"\", \"the\", \"time\") map (s => s.toList)"
   ]
  },
  {
   "cell_type": "code",
   "execution_count": 163,
   "metadata": {},
   "outputs": [
    {
     "data": {
      "text/plain": [
       "\u001b[36mres162\u001b[39m: \u001b[32mList\u001b[39m[\u001b[32mChar\u001b[39m] = \u001b[33mList\u001b[39m(\u001b[32m'n'\u001b[39m, \u001b[32m'o'\u001b[39m, \u001b[32m'w'\u001b[39m, \u001b[32m'i'\u001b[39m, \u001b[32m's'\u001b[39m, \u001b[32m't'\u001b[39m, \u001b[32m'h'\u001b[39m, \u001b[32m'e'\u001b[39m, \u001b[32m't'\u001b[39m, \u001b[32m'i'\u001b[39m, \u001b[32m'm'\u001b[39m, \u001b[32m'e'\u001b[39m)"
      ]
     },
     "execution_count": 163,
     "metadata": {},
     "output_type": "execute_result"
    }
   ],
   "source": [
    "list2.flatten"
   ]
  },
  {
   "cell_type": "markdown",
   "metadata": {},
   "source": [
    "在这里，起媒介作用的临时变量是集合 List[List[Char]]。然而， flatMap 比连续调用以上两个方法更高效，因为 flatMap 不需要创建临时变量。\n",
    "\n",
    "要注意的是， flatMap 不能处理超过一层的集合。如果函数返回的是深层嵌套的集合，那么集合只能被压扁一层。"
   ]
  },
  {
   "cell_type": "markdown",
   "metadata": {},
   "source": [
    "#### xs collect f\t\n",
    "通过对每个xs中的符合定义的元素调用偏函数f，并把结果收集起来生成一个集合。\n",
    "```scala\n",
    "  def collect[B, That](pf: PartialFunction[A, B])(implicit bf: CanBuildFrom[Repr, B, That]): That = {\n",
    "    val b = bf(repr)\n",
    "    foreach(pf.runWith(b += _))\n",
    "    b.result\n",
    "  }\n",
    "```"
   ]
  },
  {
   "cell_type": "code",
   "execution_count": 165,
   "metadata": {},
   "outputs": [
    {
     "data": {
      "text/plain": [
       "\u001b[36mlist\u001b[39m: \u001b[32mList\u001b[39m[\u001b[32mInt\u001b[39m] = \u001b[33mList\u001b[39m(\u001b[32m1\u001b[39m, \u001b[32m2\u001b[39m, \u001b[32m3\u001b[39m, \u001b[32m4\u001b[39m, \u001b[32m5\u001b[39m, \u001b[32m6\u001b[39m, \u001b[32m7\u001b[39m, \u001b[32m8\u001b[39m, \u001b[32m9\u001b[39m, \u001b[32m10\u001b[39m)"
      ]
     },
     "execution_count": 165,
     "metadata": {},
     "output_type": "execute_result"
    }
   ],
   "source": [
    "val list = List(1,2,3,4,5,6,7,8,9,10)"
   ]
  },
  {
   "cell_type": "code",
   "execution_count": 167,
   "metadata": {},
   "outputs": [
    {
     "data": {
      "text/plain": [
       "\u001b[36mres166\u001b[39m: \u001b[32mList\u001b[39m[\u001b[32mString\u001b[39m] = \u001b[33mList\u001b[39m(\u001b[32m\"2\"\u001b[39m, \u001b[32m\"4\"\u001b[39m, \u001b[32m\"6\"\u001b[39m, \u001b[32m\"8\"\u001b[39m, \u001b[32m\"10\"\u001b[39m)"
      ]
     },
     "execution_count": 167,
     "metadata": {},
     "output_type": "execute_result"
    }
   ],
   "source": [
    "list.collect{case a if a%2==0 => a.toString}"
   ]
  },
  {
   "cell_type": "markdown",
   "metadata": {},
   "source": [
    "### 过滤\n",
    "遍历一个集合，然后抽取其中满足特定条件的元素，组成一个新的集合，这是一种很常见\n",
    "的需求："
   ]
  },
  {
   "cell_type": "code",
   "execution_count": 168,
   "metadata": {},
   "outputs": [
    {
     "data": {
      "text/plain": [
       "\u001b[36mstateCapitals\u001b[39m: \u001b[32mMap\u001b[39m[\u001b[32mString\u001b[39m, \u001b[32mString\u001b[39m] = \u001b[33mMap\u001b[39m(\u001b[32m\"Alabama\"\u001b[39m -> \u001b[32m\"Montgomery\"\u001b[39m, \u001b[32m\"Alaska\"\u001b[39m -> \u001b[32m\"Juneau\"\u001b[39m, \u001b[32m\"Wyoming\"\u001b[39m -> \u001b[32m\"Cheyenne\"\u001b[39m)"
      ]
     },
     "execution_count": 168,
     "metadata": {},
     "output_type": "execute_result"
    }
   ],
   "source": [
    "val stateCapitals = Map(\n",
    "  \"Alabama\" -> \"Montgomery\",\n",
    "  \"Alaska\"  -> \"Juneau\",\n",
    "  \"Wyoming\" -> \"Cheyenne\")"
   ]
  },
  {
   "cell_type": "code",
   "execution_count": 169,
   "metadata": {},
   "outputs": [
    {
     "data": {
      "text/plain": [
       "\u001b[36mmap2\u001b[39m: \u001b[32mMap\u001b[39m[\u001b[32mString\u001b[39m, \u001b[32mString\u001b[39m] = \u001b[33mMap\u001b[39m(\u001b[32m\"Alabama\"\u001b[39m -> \u001b[32m\"Montgomery\"\u001b[39m, \u001b[32m\"Alaska\"\u001b[39m -> \u001b[32m\"Juneau\"\u001b[39m)"
      ]
     },
     "execution_count": 169,
     "metadata": {},
     "output_type": "execute_result"
    }
   ],
   "source": [
    "val map2 = stateCapitals filter { kv => kv._1 startsWith \"A\" }"
   ]
  },
  {
   "cell_type": "markdown",
   "metadata": {},
   "source": [
    "在 scala.collection.TraversableLike 中有若干不同的方法，用于完成集合的过滤作用或者返回原始集合中的一部分元素。一些方法在输入无限集合时不会返回；一些方法在输入同一个集合时，除非集合的遍历顺序固定，否则多次运行的情况下会产生不同的输出。以下是从 Scaladoc 中摘录的介绍。\n",
    "\n",
    "• **def drop (n : Int) : TraversableLike.Repr**  \n",
    "除起始的 n 个元素，选择其他所有的元素组成一个新的集合并返回。如果原始集合包含的元素个数小于 n，则方法会返回一个空集合。\n",
    "\n",
    "• **def dropWhile (p : (A) => Boolean) : TraversableLike.Repr**  \n",
    "从头遍历，丢弃满足一定谓词的最长集合前缀。返回一个最长集合后缀，其第一个元素不满足指定的谓词 p。\n",
    "\n",
    "• **def exists (p : (A) => Boolean) : Boolean**  \n",
    "测试在集合中是否至少有一个元素满足给定的谓词，如果存在则返回 true，否则返回false。\n",
    "\n",
    "• **def filter (p : (A) => Boolean) : TraversableLike.Repr**  \n",
    "选择集合中所有满足一定谓词的元素，返回的新集合中包含了所有满足该谓词 p 的元素。元素在原集合中的顺序可以得到保持。\n",
    "\n",
    "• **def filterNot (p : (A) => Boolean) : TraversableLike.Repr**  \n",
    "是 filter 的“反义词”。在遍历原集合时，选择那些不满足给定谓词 p 的元素并组成新集合返回。\n",
    "\n",
    "• **def find (p : (A) => Boolean) : Option[A]**  \n",
    "遍历原集合，寻找第一个满足给定谓词的元素。如果存在这一元素，返回 Option，且Option 中包含满足谓词 p 的第一个元素；否则返回 None。\n",
    "\n",
    "• **def forall (p : (A) => Boolean) : Boolean**  \n",
    "测试集合中所有元素是否均满足给定的谓词。如果所有元素均满足谓词 p，则返回 true，否则返回 false。\n",
    "\n",
    "• **def partition (p : (A) => Boolean): (TraversableLike.Repr, TraversableLike.Repr)**  \n",
    "根据谓词，将可遍历集合分成两个子集合。返回值是两个集合：第一个集合包含所有满足谓词 p 的元素，而第二个集合包含所有不满足谓词 p 的元素。两个集合中元素间的顺序均与原集合保持一致。\n",
    "\n",
    "• **def take (n : Int) : TraversableLike.Repr**  \n",
    "选择前 n 个元素。返回一个可遍历集合，包含原集合的前 n 个元素，如果原集合包含的元素小于 n 个，则返回原集合本身。\n",
    "\n",
    "• **def takeWhile (p : (A) => Boolean) : TraversableLike.Repr**   \n",
    "选择满足特定谓词的最长集合前缀。返回的可遍历集合包含一个最长集合前缀，其中的每个元素均满足谓词 p。\n",
    "\n",
    "另外，很多集合类型还有其他用于过滤的方法。"
   ]
  },
  {
   "cell_type": "markdown",
   "metadata": {},
   "source": [
    "### 折叠与归约（Fold Reduce）\n",
    "**折叠（Folds）**\n",
    "操作有foldLeft，foldRight，/:，:\\，reduceLeft和reduceRight，用于对连续性元素的二进制操作。"
   ]
  },
  {
   "cell_type": "markdown",
   "metadata": {},
   "source": [
    "```scala\n",
    "  def fold[A1 >: A](z: A1)(op: (A1, A1) => A1): A1 = foldLeft(z)(op)\n",
    "\n",
    "  def reduce[A1 >: A](op: (A1, A1) => A1): A1 = reduceLeft(op)\n",
    "\n",
    "  override /*TraversableLike*/\n",
    "  def foldLeft[B](z: B)(@deprecatedName('f) op: (B, A) => B): B = {\n",
    "    var acc = z\n",
    "    var these = this\n",
    "    while (!these.isEmpty) {\n",
    "      acc = op(acc, these.head)\n",
    "      these = these.tail\n",
    "    }\n",
    "    acc\n",
    "  }\n",
    "\n",
    "  override /*IterableLike*/\n",
    "  def foldRight[B](z: B)(@deprecatedName('f) op: (A, B) => B): B =\n",
    "    if (this.isEmpty) z\n",
    "    else op(head, tail.foldRight(z)(op))\n",
    "\n",
    "  override /*TraversableLike*/\n",
    "  def reduceLeft[B >: A](f: (B, A) => B): B =\n",
    "    if (isEmpty) throw new UnsupportedOperationException(\"empty.reduceLeft\")\n",
    "    else tail.foldLeft[B](head)(f)\n",
    "\n",
    "  override /*IterableLike*/\n",
    "  def reduceRight[B >: A](op: (A, B) => B): B =\n",
    "    if (isEmpty) throw new UnsupportedOperationException(\"Nil.reduceRight\")\n",
    "    else if (tail.isEmpty) head\n",
    "    else op(head, tail.reduceRight(op))\n",
    "\n",
    " def aggregate[B](z: =>B)(seqop: (B, A) => B, combop: (B, B) => B): B\n",
    "```"
   ]
  },
  {
   "cell_type": "code",
   "execution_count": 171,
   "metadata": {},
   "outputs": [
    {
     "data": {
      "text/plain": [
       "\u001b[36mres170\u001b[39m: \u001b[32mInt\u001b[39m = \u001b[32m55\u001b[39m"
      ]
     },
     "execution_count": 171,
     "metadata": {},
     "output_type": "execute_result"
    }
   ],
   "source": [
    "list.reduce(_ + _)"
   ]
  },
  {
   "cell_type": "code",
   "execution_count": 175,
   "metadata": {},
   "outputs": [
    {
     "data": {
      "text/plain": [
       "\u001b[36mres174\u001b[39m: \u001b[32mInt\u001b[39m = \u001b[32m55\u001b[39m"
      ]
     },
     "execution_count": 175,
     "metadata": {},
     "output_type": "execute_result"
    }
   ],
   "source": [
    "list.fold(0)(_+ _)"
   ]
  },
  {
   "cell_type": "code",
   "execution_count": 176,
   "metadata": {},
   "outputs": [
    {
     "data": {
      "text/plain": [
       "\u001b[36mres175\u001b[39m: \u001b[32mInt\u001b[39m = \u001b[32m55\u001b[39m"
      ]
     },
     "execution_count": 176,
     "metadata": {},
     "output_type": "execute_result"
    }
   ],
   "source": [
    "list.fold(0)((x,y) => x+y)"
   ]
  },
  {
   "cell_type": "code",
   "execution_count": 177,
   "metadata": {},
   "outputs": [
    {
     "data": {
      "text/plain": [
       "\u001b[36mres176\u001b[39m: \u001b[32mInt\u001b[39m = \u001b[32m55\u001b[39m"
      ]
     },
     "execution_count": 177,
     "metadata": {},
     "output_type": "execute_result"
    }
   ],
   "source": [
    "list.fold(0){(x,y) => x+y}"
   ]
  },
  {
   "cell_type": "code",
   "execution_count": 178,
   "metadata": {},
   "outputs": [
    {
     "data": {
      "text/plain": [
       "\u001b[36mres177\u001b[39m: \u001b[32mInt\u001b[39m = \u001b[32m55\u001b[39m"
      ]
     },
     "execution_count": 178,
     "metadata": {},
     "output_type": "execute_result"
    }
   ],
   "source": [
    "list.fold(0){ case (x,y) => x+y}"
   ]
  },
  {
   "cell_type": "code",
   "execution_count": 180,
   "metadata": {},
   "outputs": [
    {
     "data": {
      "text/plain": [
       "\u001b[36mres179\u001b[39m: \u001b[32mInt\u001b[39m = \u001b[32m55\u001b[39m"
      ]
     },
     "execution_count": 180,
     "metadata": {},
     "output_type": "execute_result"
    }
   ],
   "source": [
    "list.fold(0){ case x => x._1 + x._2}"
   ]
  },
  {
   "cell_type": "markdown",
   "metadata": {},
   "source": [
    "特别留心传递给 reduce、 fold 和 aggregate 的匿名函数的参数。对于 Left 系列的函数，如 foldLeft，其中第一个参数为累计值，集合遍历的方向为从左向右。对于 Right 系列的函 数，如 foldRight，其中第二个参数为累计值，集合遍历的方向为从左向右。对于 fold 和 reduce 等方法，遍历方向既不是从左到右，也不是从右到左，其遍历方向与初始值是未定 义的（不过一般都采用了从左到右的方式）。\n",
    "\n",
    "fold 系列方法可以输出一个与集合元素完全不同类型的值；而 reduce 系列方法总是返回 与元素相同类型或元素父类型的值。\n",
    "\n",
    "以上方法对于无限集合均不终止处理。同时，如何集合不是序列类型（非序列类型中， 元素的存储顺序不固定）或操作不满足交换律的，以上方法每次运行返回的结果可能都 不相同。\n",
    "\n",
    "aggregate 方法的应用并不广泛，因为它包含一些比较难以理解的“不固定成分”。 scan 方法对计算集合的连续子集非常有用。"
   ]
  },
  {
   "cell_type": "code",
   "execution_count": 182,
   "metadata": {},
   "outputs": [
    {
     "data": {
      "text/plain": [
       "\u001b[36mres181\u001b[39m: \u001b[32mInt\u001b[39m = \u001b[32m65\u001b[39m"
      ]
     },
     "execution_count": 182,
     "metadata": {},
     "output_type": "execute_result"
    }
   ],
   "source": [
    "list.aggregate(10)((x,y) => x+y, (x,y) => x+y)"
   ]
  },
  {
   "cell_type": "markdown",
   "metadata": {},
   "source": [
    "以下我们就给出关于 fold 和 reduce 方法的签名和介绍，它们被声明于 scala.collection.\n",
    "TraversableOnce 和 scala.collection.TraversableLike 中。下面的介绍是从 Scaladoc 中摘\n",
    "录的。注意方法的签名：\n",
    "\n",
    "def fold[A1 >: A](z: A1)(op: (A1, A1) & A1): A1\n",
    "\n",
    "遍历集合，使用指定的二元操作符 op 对集合元素做折叠。对元素执行操作时，其顺序是未指定的，因此结果是不能确定的。不过，对于多数顺序固定的集合如 List， fold的作用与 foldLeft 相同。\n",
    "\n",
    "def foldLeft[B](z: B)(op: (B, A) & B): B\n",
    "\n",
    "对初始值和集合中的所有元素做操作，顺序从左到右。\n",
    "\n",
    "def foldRight[B](z: B)(op: (A, B) & B): B\n",
    "\n",
    "对初始值和集合中的所有元素做操作，顺序从右到左。\n",
    "\n",
    "def reduce[A1 >: A](op: (A1, A1) & A1): A1\n",
    "\n",
    "遍历集合，使用指定的二元操作符 op 对集合元素做归约。对元素执行操作时，其顺序是未指定的，因此结果是不能确定的。不过，对于多数顺序固定的集合如 List， reduce的作用与 reduceLeft 相同。如果集合为空，则抛出异常。\n",
    "\n",
    "def reduceLeft[A1 >: A](op: (A1, A1) & A1): A1\n",
    "\n",
    "对初始值和集合中的所有元素做操作，顺序从左到右。如果集合为空，则抛出异常。\n",
    "\n",
    "def reduceRight[A1 >: A](op: (A1, A1) & A1): A1\n",
    "\n",
    "对初始值和集合中的所有元素做操作，顺序从右到左。如果集合为空，则抛出异常。\n",
    "\n",
    "def aggregate[B](z: B)(seqop: (B, A) & B, combop: (B, B) & B): B\n",
    "\n",
    "对后面的元素进行操作，并聚合结果。该函数比 fold 和 reduce 形式更加通用，具有相似的语法，但并不要求结果的类型是元素的公共父类型。函数将集合分为不同的分片，顺序遍历各个分片，用 seqop 更新计算结果，最后对各个分片的计算结果调用 combop。该操作可能操作任意个分片，因此 combop 可能被调用任意次。aggregate 方法的应用并不广泛，因为它包含一些比较难以理解的“不固定成分”。\n"
   ]
  },
  {
   "cell_type": "markdown",
   "metadata": {},
   "source": [
    "### 特殊折叠（Specific folds）\n",
    "**特殊折叠（Specific folds）**\n",
    "包括sum, product, min, max。它们主要用于特定类型的容器（数值或比较）。\n",
    "\n",
    "#### xs.sum\t\n",
    "返回容器xs中数字元素的和。\n",
    "\n",
    "#### xs.product\t\n",
    "返回容器xs中数字元素的积。\n",
    "\n",
    "#### xs.min\t\n",
    "元素值中的最小值。\n",
    "#### xs.max\t\n",
    "元素值中的最大值。"
   ]
  },
  {
   "cell_type": "code",
   "execution_count": 183,
   "metadata": {},
   "outputs": [
    {
     "data": {
      "text/plain": [
       "\u001b[36mres182\u001b[39m: \u001b[32mInt\u001b[39m = \u001b[32m55\u001b[39m"
      ]
     },
     "execution_count": 183,
     "metadata": {},
     "output_type": "execute_result"
    }
   ],
   "source": [
    "list.sum"
   ]
  },
  {
   "cell_type": "code",
   "execution_count": 184,
   "metadata": {},
   "outputs": [
    {
     "data": {
      "text/plain": [
       "\u001b[36mres183\u001b[39m: \u001b[32mInt\u001b[39m = \u001b[32m3628800\u001b[39m"
      ]
     },
     "execution_count": 184,
     "metadata": {},
     "output_type": "execute_result"
    }
   ],
   "source": [
    "list.product"
   ]
  },
  {
   "cell_type": "code",
   "execution_count": 185,
   "metadata": {},
   "outputs": [
    {
     "data": {
      "text/plain": [
       "\u001b[36mres184\u001b[39m: \u001b[32mInt\u001b[39m = \u001b[32m1\u001b[39m"
      ]
     },
     "execution_count": 185,
     "metadata": {},
     "output_type": "execute_result"
    }
   ],
   "source": [
    "list.min"
   ]
  },
  {
   "cell_type": "code",
   "execution_count": 186,
   "metadata": {},
   "outputs": [
    {
     "data": {
      "text/plain": [
       "\u001b[36mres185\u001b[39m: \u001b[32mInt\u001b[39m = \u001b[32m10\u001b[39m"
      ]
     },
     "execution_count": 186,
     "metadata": {},
     "output_type": "execute_result"
    }
   ],
   "source": [
    "list.max"
   ]
  },
  {
   "cell_type": "markdown",
   "metadata": {},
   "source": [
    "在本章结束之前，我们来看一个例子，该例是一个简化的工资单计算器："
   ]
  },
  {
   "cell_type": "code",
   "execution_count": 188,
   "metadata": {},
   "outputs": [
    {
     "data": {
      "text/plain": [
       "defined \u001b[32mclass\u001b[39m \u001b[36mEmployee\u001b[39m\r\n",
       "\u001b[36memployees\u001b[39m: \u001b[32mList\u001b[39m[\u001b[32mwrapper\u001b[39m.\u001b[32mwrapper\u001b[39m.\u001b[32mEmployee\u001b[39m] = \u001b[33mList\u001b[39m(\n",
       "  \u001b[33mEmployee\u001b[39m(\u001b[32m\"Buck Trends\"\u001b[39m, \u001b[32m\"CEO\"\u001b[39m, \u001b[32m200000.0\u001b[39m, \u001b[32m0.25\u001b[39m, \u001b[32m100.0\u001b[39m),\n",
       "  \u001b[33mEmployee\u001b[39m(\u001b[32m\"Cindy Banks\"\u001b[39m, \u001b[32m\"CFO\"\u001b[39m, \u001b[32m170000.0\u001b[39m, \u001b[32m0.22\u001b[39m, \u001b[32m120.0\u001b[39m),\n",
       "  \u001b[33mEmployee\u001b[39m(\u001b[32m\"Joe Coder\"\u001b[39m, \u001b[32m\"Developer\"\u001b[39m, \u001b[32m130000.0\u001b[39m, \u001b[32m0.2\u001b[39m, \u001b[32m120.0\u001b[39m)\n",
       ")"
      ]
     },
     "execution_count": 188,
     "metadata": {},
     "output_type": "execute_result"
    }
   ],
   "source": [
    "case class Employee (\n",
    "  name: String,\n",
    "  title: String,\n",
    "  annualSalary: Double,\n",
    "  taxRate: Double,\n",
    "  insurancePremiumsPerWeek: Double)\n",
    "\n",
    "val employees = List(\n",
    "  Employee(\"Buck Trends\", \"CEO\", 200000, 0.25, 100.0),\n",
    "  Employee(\"Cindy Banks\", \"CFO\", 170000, 0.22, 120.0),\n",
    "  Employee(\"Joe Coder\", \"Developer\", 130000, 0.20, 120.0))"
   ]
  },
  {
   "cell_type": "code",
   "execution_count": 189,
   "metadata": {},
   "outputs": [
    {
     "data": {
      "text/plain": [
       "\u001b[36mnetPay\u001b[39m: \u001b[32mList\u001b[39m[(\u001b[32mEmployee\u001b[39m, \u001b[32mDouble\u001b[39m)] = \u001b[33mList\u001b[39m(\n",
       "  (\u001b[33mEmployee\u001b[39m(\u001b[32m\"Buck Trends\"\u001b[39m, \u001b[32m\"CEO\"\u001b[39m, \u001b[32m200000.0\u001b[39m, \u001b[32m0.25\u001b[39m, \u001b[32m100.0\u001b[39m), \u001b[32m2784.6153846153848\u001b[39m),\n",
       "  (\u001b[33mEmployee\u001b[39m(\u001b[32m\"Cindy Banks\"\u001b[39m, \u001b[32m\"CFO\"\u001b[39m, \u001b[32m170000.0\u001b[39m, \u001b[32m0.22\u001b[39m, \u001b[32m120.0\u001b[39m), \u001b[32m2430.0\u001b[39m),\n",
       "  (\u001b[33mEmployee\u001b[39m(\u001b[32m\"Joe Coder\"\u001b[39m, \u001b[32m\"Developer\"\u001b[39m, \u001b[32m130000.0\u001b[39m, \u001b[32m0.2\u001b[39m, \u001b[32m120.0\u001b[39m), \u001b[32m1880.0\u001b[39m)\n",
       ")"
      ]
     },
     "execution_count": 189,
     "metadata": {},
     "output_type": "execute_result"
    }
   ],
   "source": [
    "//// 计算每周工资单:\n",
    "// Calculate weekly payroll:\n",
    "val netPay = employees map { e => \n",
    "  val net = (1.0 - e.taxRate) * (e.annualSalary / 52.0) - \n",
    "    e.insurancePremiumsPerWeek\n",
    "  (e, net)\n",
    "}"
   ]
  },
  {
   "cell_type": "code",
   "execution_count": 190,
   "metadata": {},
   "outputs": [
    {
     "name": "stdout",
     "output_type": "stream",
     "text": [
      "  Buck Trends:        2784.62\n",
      "  Cindy Banks:        2430.00\n",
      "  Joe Coder:          1880.00\n"
     ]
    }
   ],
   "source": [
    "//“ 打印”工资单\n",
    "// \"Print\" paychecks:\n",
    "netPay foreach { \n",
    "  case (e, net) => println(f\"  ${e.name+':'}%-16s ${net}%10.2f\") \n",
    "}"
   ]
  },
  {
   "cell_type": "code",
   "execution_count": 191,
   "metadata": {},
   "outputs": [
    {
     "data": {
      "text/plain": [
       "\u001b[36mreport\u001b[39m: (\u001b[32mDouble\u001b[39m, \u001b[32mDouble\u001b[39m, \u001b[32mDouble\u001b[39m) = (\u001b[32m9615.384615384615\u001b[39m, \u001b[32m7094.615384615385\u001b[39m, \u001b[32m340.0\u001b[39m)"
      ]
     },
     "execution_count": 191,
     "metadata": {},
     "output_type": "execute_result"
    }
   ],
   "source": [
    "// 生成报表:\n",
    "// Generate report:\n",
    "val report = (netPay foldLeft (0.0, 0.0, 0.0)) { \n",
    "  case ((totalSalary, totalNet, totalInsurance), (e, net)) => \n",
    "    (totalSalary + e.annualSalary/52.0, \n",
    "      totalNet + net, \n",
    "      totalInsurance + e.insurancePremiumsPerWeek)\n",
    "}"
   ]
  },
  {
   "cell_type": "code",
   "execution_count": 192,
   "metadata": {},
   "outputs": [
    {
     "name": "stdout",
     "output_type": "stream",
     "text": [
      "\n",
      "** Report:\n",
      " Total Salary:    9615.38\n",
      " Total Net:    7094.62\n",
      " Total Insurance:     340.00\n"
     ]
    }
   ],
   "source": [
    "// 生成报表:\n",
    "println(\"\\n** Report:\")\n",
    "println(f\" Total Salary: ${report._1}%10.2f\")\n",
    "println(f\" Total Net: ${report._2}%10.2f\")\n",
    "println(f\" Total Insurance: ${report._3}%10.2f\")"
   ]
  },
  {
   "cell_type": "markdown",
   "metadata": {},
   "source": [
    "我们可以用很多方法实现以上逻辑。接下来，我们来考虑一下设计上的几种选择。 首先，尽管本节对面向对象这个组件模型颇多批评，但 OOP 仍然十分有用。我们定义一个 Employee 类来放置雇员所需的字段类型。在真实应用中，这些数据可能要从数据库中加载。\n",
    "\n",
    "如果我们只用元组来代替自定义的类，会如何呢？你可以试着重写以上代码，并比较其中 的差别。命名时使用 Employee 及其字段的名字，可以使代码更具可读性。取有意义的名称 是良好悠久的软件设计准则。尽管我强调基础集合类型的优点，但函数式编程并不排斥定 义新的类型。与往常一样，设计的取舍应慎重考虑。\n",
    "\n",
    "然而， Employee 类型很简单，只需要实现少量行为。在经典的面向对象设计中，我们可能 会给 Employee 添加很多行为，用于工资计算或实现其他域的逻辑。我相信，我们在这里所 选择的设计提供了最佳的分离，同时这种设计也是非常简洁的。如果 Employee 的结构发生 变化，需要修改代码时，维护的负担也是非常小的。\n",
    "\n",
    "还需要注意的是，这段逻辑用一个小脚本即可执行，不需要一个应用程序在多个文件中定 义很多类。当然，这个例子仅仅是个玩具。但希望你可以看到，普通的应用并不一定需要 大的代码库"
   ]
  }
 ],
 "metadata": {
  "kernelspec": {
   "display_name": "Scala 2.11.11",
   "language": "scala",
   "name": "scala"
  },
  "language_info": {
   "codemirror_mode": "text/x-scala",
   "file_extension": ".scala",
   "mimetype": "text/x-scala",
   "name": "scala211",
   "nbconvert_exporter": "script",
   "pygments_lexer": "scala",
   "version": "2.11.11"
  },
  "toc": {
   "base_numbering": 1,
   "nav_menu": {},
   "number_sections": true,
   "sideBar": true,
   "skip_h1_title": false,
   "title_cell": "Table of Contents",
   "title_sidebar": "Contents",
   "toc_cell": false,
   "toc_position": {
    "height": "calc(100% - 180px)",
    "left": "10px",
    "top": "150px",
    "width": "233.168px"
   },
   "toc_section_display": true,
   "toc_window_display": true
  }
 },
 "nbformat": 4,
 "nbformat_minor": 2
}
