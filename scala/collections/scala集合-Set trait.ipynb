{
 "cells": [
  {
   "cell_type": "markdown",
   "metadata": {},
   "source": [
    "# Set\n",
    "## Set操作的分类\n",
    "集合是不包含重复元素的可迭代对象。下面的通用集合表和可变集合表中概括了集合类型适用的运算。分为几类：\n",
    "\n",
    "测试型的方法：contains，apply，subsetOf。contains 方法用于判断集合是否包含某元素。集合的 apply 方法和 contains 方法的作用相同，因此 set(elem) 等同于 set contains elem。这意味着集合对象的名字能作为其自身是否包含某元素的测试函数。\n",
    "\n",
    "加法类型的方法： + 和 ++。添加一个或多个元素到集合中，产生一个新的集合。\n",
    "\n",
    "减法类型的方法： - 、--。它们实现从一个集合中移除一个或多个元素，产生一个新的集合。\n",
    "\n",
    "\n",
    "Set运算包括并集、交集和差集。每一种运算都存在两种书写形式：字母和符号形式。字母形式：intersect、union 和 diff，符号形式：&、| 和 &~。事实上，Set 中继承自 Traversable 的 ++ 也能被看做 union 或\t的另一个别名。区别是，++ 的参数为 Traversable 对象，而 union 和 | 的参数是集合。"
   ]
  },
  {
   "cell_type": "markdown",
   "metadata": {},
   "source": [
    "## Set操作\n",
    "### Set操作\n",
    "<table>\n",
    "  <thead>\n",
    "    <tr>\n",
    "      <th>WHAT IT IS</th>\n",
    "      <th>WHAT IT DOES</th>\n",
    "    </tr>\n",
    "  </thead>\n",
    "  <tbody>\n",
    "    <tr>\n",
    "      <td><strong>实验代码：</strong></td>\n",
    "      <td>&nbsp;</td>\n",
    "    </tr>\n",
    "    <tr>\n",
    "      <td><code class=\"highlighter-rouge\">xs contains x</code></td>\n",
    "      <td>测试 <code class=\"highlighter-rouge\">x</code> 是否是 <code class=\"highlighter-rouge\">xs</code> 的元素。</td>\n",
    "    </tr>\n",
    "    <tr>\n",
    "      <td><code class=\"highlighter-rouge\">xs(x)</code></td>\n",
    "      <td>与 <code class=\"highlighter-rouge\">xs contains x</code> 相同。</td>\n",
    "    </tr>\n",
    "    <tr>\n",
    "      <td><code class=\"highlighter-rouge\">xs subsetOf ys</code></td>\n",
    "      <td>测试 <code class=\"highlighter-rouge\">xs</code> 是否是 <code class=\"highlighter-rouge\">ys</code> 的子集。</td>\n",
    "    </tr>\n",
    "    <tr>\n",
    "      <td><strong>加法：</strong></td>\n",
    "      <td>&nbsp;</td>\n",
    "    </tr>\n",
    "    <tr>\n",
    "      <td><code class=\"highlighter-rouge\">xs + x</code></td>\n",
    "      <td>包含 <code class=\"highlighter-rouge\">xs</code> 中所有元素以及 <code class=\"highlighter-rouge\">x</code> 的集合。</td>\n",
    "    </tr>\n",
    "    <tr>\n",
    "      <td><code class=\"highlighter-rouge\">xs + (x, y, z)</code></td>\n",
    "      <td>包含 <code class=\"highlighter-rouge\">xs</code> 中所有元素及附加元素的集合</td>\n",
    "    </tr>\n",
    "    <tr>\n",
    "      <td><code class=\"highlighter-rouge\">xs ++ ys</code></td>\n",
    "      <td>包含 <code class=\"highlighter-rouge\">xs</code> 中所有元素及 <code class=\"highlighter-rouge\">ys</code> 中所有元素的集合</td>\n",
    "    </tr>\n",
    "    <tr>\n",
    "      <td><strong>移除：</strong></td>\n",
    "      <td>&nbsp;</td>\n",
    "    </tr>\n",
    "    <tr>\n",
    "      <td><code class=\"highlighter-rouge\">xs - x</code></td>\n",
    "      <td>包含 <code class=\"highlighter-rouge\">xs</code> 中除x以外的所有元素的集合。</td>\n",
    "    </tr>\n",
    "    <tr>\n",
    "      <td><code class=\"highlighter-rouge\">xs - x</code></td>\n",
    "      <td>包含 <code class=\"highlighter-rouge\">xs</code> 中除去给定元素以外的所有元素的集合。</td>\n",
    "    </tr>\n",
    "    <tr>\n",
    "      <td><code class=\"highlighter-rouge\">xs -- ys</code></td>\n",
    "      <td>集合内容为：<code class=\"highlighter-rouge\">xs</code> 中所有元素，去掉 <code class=\"highlighter-rouge\">ys</code> 中所有元素后剩下的部分。</td>\n",
    "    </tr>\n",
    "    <tr>\n",
    "      <td><code class=\"highlighter-rouge\">xs.empty</code></td>\n",
    "      <td>与 <code class=\"highlighter-rouge\">xs</code> 同类的空集合。</td>\n",
    "    </tr>\n",
    "    <tr>\n",
    "      <td><strong>二值操作：</strong></td>\n",
    "      <td>&nbsp;</td>\n",
    "    </tr>\n",
    "    <tr>\n",
    "      <td><code class=\"highlighter-rouge\">xs &amp; ys</code></td>\n",
    "      <td>集合 <code class=\"highlighter-rouge\">xs</code> 和 <code class=\"highlighter-rouge\">ys</code> 的交集。</td>\n",
    "    </tr>\n",
    "    <tr>\n",
    "      <td><code class=\"highlighter-rouge\">xs intersect ys</code></td>\n",
    "      <td>等同于 <code class=\"highlighter-rouge\">xs &amp; ys</code>。</td>\n",
    "    </tr>\n",
    "    <tr>\n",
    "      <td><code>xs | ys</code></td>\n",
    "      <td>集合 <code class=\"highlighter-rouge\">xs</code> 和 <code class=\"highlighter-rouge\">ys</code> 的并集。</td>\n",
    "    </tr>\n",
    "    <tr>\n",
    "      <td><code class=\"highlighter-rouge\">xs union ys</code></td>\n",
    "      <td>等同于 <code>xs | ys</code>。</td>\n",
    "    </tr>\n",
    "    <tr>\n",
    "      <td><code class=\"highlighter-rouge\">xs &amp;~ ys</code></td>\n",
    "      <td>集合 <code class=\"highlighter-rouge\">xs</code> 和 <code class=\"highlighter-rouge\">ys</code> 的差集。</td>\n",
    "    </tr>\n",
    "    <tr>\n",
    "      <td><code class=\"highlighter-rouge\">xs diff ys</code></td>\n",
    "      <td>等同于 <code class=\"highlighter-rouge\">xs &amp;~ ys</code>。</td>\n",
    "    </tr>\n",
    "  </tbody>\n",
    "</table>"
   ]
  },
  {
   "cell_type": "markdown",
   "metadata": {},
   "source": [
    "### mutable.Set 类的操作\n",
    "<table>\n",
    "  <thead>\n",
    "    <tr>\n",
    "      <th>WHAT IT IS</th>\n",
    "      <th>WHAT IT DOES</th>\n",
    "    </tr>\n",
    "  </thead>\n",
    "  <tbody>\n",
    "    <tr>\n",
    "      <td><strong>加法：</strong></td>\n",
    "      <td>&nbsp;</td>\n",
    "    </tr>\n",
    "    <tr>\n",
    "      <td><code class=\"highlighter-rouge\">xs += x</code></td>\n",
    "      <td>把元素 <code class=\"highlighter-rouge\">x</code> 添加到集合 <code class=\"highlighter-rouge\">xs</code> 中。该操作有副作用，它会返回左操作符，这里是 <code class=\"highlighter-rouge\">xs</code> 自身。</td>\n",
    "    </tr>\n",
    "    <tr>\n",
    "      <td><code class=\"highlighter-rouge\">xs += (x, y, z)</code></td>\n",
    "      <td>添加指定的元素到集合 <code class=\"highlighter-rouge\">xs</code> 中，并返回 <code class=\"highlighter-rouge\">xs</code> 本身。（同样有副作用）</td>\n",
    "    </tr>\n",
    "    <tr>\n",
    "      <td><code class=\"highlighter-rouge\">xs ++= ys</code></td>\n",
    "      <td>添加集合 <code class=\"highlighter-rouge\">ys</code> 中的所有元素到集合 <code class=\"highlighter-rouge\">xs</code> 中，并返回 <code class=\"highlighter-rouge\">xs</code> 本身。（表达式有副作用）</td>\n",
    "    </tr>\n",
    "    <tr>\n",
    "      <td><code class=\"highlighter-rouge\">xs add x</code></td>\n",
    "      <td>把元素 <code class=\"highlighter-rouge\">x</code> 添加到集合 <code class=\"highlighter-rouge\">xs</code> 中，如集合 <code class=\"highlighter-rouge\">xs</code> 之前没有包含 <code class=\"highlighter-rouge\">x</code>，该操作返回 <code class=\"highlighter-rouge\">true</code>，否则返回 <code class=\"highlighter-rouge\">false</code>。</td>\n",
    "    </tr>\n",
    "    <tr>\n",
    "      <td><strong>移除：</strong></td>\n",
    "      <td>&nbsp;</td>\n",
    "    </tr>\n",
    "    <tr>\n",
    "      <td><code class=\"highlighter-rouge\">xs -= x</code></td>\n",
    "      <td>从集合 <code class=\"highlighter-rouge\">xs</code> 中删除元素 <code class=\"highlighter-rouge\">x</code>，并返回 <code class=\"highlighter-rouge\">xs</code> 本身。（表达式有副作用）</td>\n",
    "    </tr>\n",
    "    <tr>\n",
    "      <td><code class=\"highlighter-rouge\">xs -= (x, y, z)</code></td>\n",
    "      <td>从集合 <code class=\"highlighter-rouge\">xs</code> 中删除指定的元素，并返回 <code class=\"highlighter-rouge\">xs</code> 本身。（表达式有副作用）</td>\n",
    "    </tr>\n",
    "    <tr>\n",
    "      <td><code class=\"highlighter-rouge\">xs --= ys</code></td>\n",
    "      <td>从集合 <code class=\"highlighter-rouge\">xs</code> 中删除所有属于集合 <code class=\"highlighter-rouge\">ys</code> 的元素，并返回 <code class=\"highlighter-rouge\">xs</code> 本身。（表达式有副作用）</td>\n",
    "    </tr>\n",
    "    <tr>\n",
    "      <td><code class=\"highlighter-rouge\">xs remove x</code></td>\n",
    "      <td>从集合 <code class=\"highlighter-rouge\">xs</code> 中删除元素 <code class=\"highlighter-rouge\">x</code> 。如之前 <code class=\"highlighter-rouge\">xs</code> 中包含了 <code class=\"highlighter-rouge\">x</code> 元素，返回 <code class=\"highlighter-rouge\">true</code>，否则返回 <code class=\"highlighter-rouge\">false</code>。</td>\n",
    "    </tr>\n",
    "    <tr>\n",
    "      <td><code class=\"highlighter-rouge\">xs retain p</code></td>\n",
    "      <td>只保留集合 <code class=\"highlighter-rouge\">xs</code> 中满足条件 <code class=\"highlighter-rouge\">p</code> 的元素。</td>\n",
    "    </tr>\n",
    "    <tr>\n",
    "      <td><code class=\"highlighter-rouge\">xs.clear()</code></td>\n",
    "      <td>删除集合 <code class=\"highlighter-rouge\">xs</code> 中的所有元素。</td>\n",
    "    </tr>\n",
    "    <tr>\n",
    "      <td><strong>更新：</strong></td>\n",
    "      <td>&nbsp;</td>\n",
    "    </tr>\n",
    "    <tr>\n",
    "      <td><code class=\"highlighter-rouge\">xs(x) = b</code></td>\n",
    "      <td>（ 同 <code class=\"highlighter-rouge\">xs.update(x, b)</code> ）参数 <code class=\"highlighter-rouge\">b</code> 为布尔类型，如果值为 <code class=\"highlighter-rouge\">true</code> 就把元素x加入集合 <code class=\"highlighter-rouge\">xs</code>，否则从集合 <code class=\"highlighter-rouge\">xs</code> 中删除 <code class=\"highlighter-rouge\">x</code>。</td>\n",
    "    </tr>\n",
    "    <tr>\n",
    "      <td><strong>克隆：</strong></td>\n",
    "      <td>&nbsp;</td>\n",
    "    </tr>\n",
    "    <tr>\n",
    "      <td><code class=\"highlighter-rouge\">xs.clone</code></td>\n",
    "      <td>产生一个与 <code class=\"highlighter-rouge\">xs</code> 具有相同元素的可变集合。</td>\n",
    "    </tr>\n",
    "  </tbody>\n",
    "</table>"
   ]
  },
  {
   "cell_type": "markdown",
   "metadata": {},
   "source": [
    "## Set操作测试\n",
    "### 不可变Set\n",
    "#### 测试包含\n",
    "xs contains x\t测试 x 是否是 xs 的元素。  \n",
    "xs(x)\t与 xs contains x 相同。  \n",
    "xs subsetOf ys\t测试 xs 是否是 ys 的子集。  "
   ]
  },
  {
   "cell_type": "code",
   "execution_count": 1,
   "metadata": {},
   "outputs": [
    {
     "data": {
      "text/plain": [
       "\u001b[36mset\u001b[39m: \u001b[32mSet\u001b[39m[\u001b[32mInt\u001b[39m] = \u001b[33mSet\u001b[39m(\u001b[32m5\u001b[39m, \u001b[32m1\u001b[39m, \u001b[32m6\u001b[39m, \u001b[32m2\u001b[39m, \u001b[32m3\u001b[39m, \u001b[32m4\u001b[39m)"
      ]
     },
     "execution_count": 1,
     "metadata": {},
     "output_type": "execute_result"
    }
   ],
   "source": [
    "val set = Set(1,2,3,4,5,6,6)"
   ]
  },
  {
   "cell_type": "code",
   "execution_count": 2,
   "metadata": {},
   "outputs": [
    {
     "data": {
      "text/plain": [
       "\u001b[36mres1\u001b[39m: \u001b[32mBoolean\u001b[39m = \u001b[32mtrue\u001b[39m"
      ]
     },
     "execution_count": 2,
     "metadata": {},
     "output_type": "execute_result"
    }
   ],
   "source": [
    "set(1)"
   ]
  },
  {
   "cell_type": "code",
   "execution_count": 3,
   "metadata": {},
   "outputs": [
    {
     "data": {
      "text/plain": [
       "\u001b[36mres2\u001b[39m: \u001b[32mBoolean\u001b[39m = \u001b[32mtrue\u001b[39m"
      ]
     },
     "execution_count": 3,
     "metadata": {},
     "output_type": "execute_result"
    }
   ],
   "source": [
    "set(5)"
   ]
  },
  {
   "cell_type": "code",
   "execution_count": 4,
   "metadata": {},
   "outputs": [
    {
     "data": {
      "text/plain": [
       "\u001b[36mres3\u001b[39m: \u001b[32mBoolean\u001b[39m = \u001b[32mtrue\u001b[39m"
      ]
     },
     "execution_count": 4,
     "metadata": {},
     "output_type": "execute_result"
    }
   ],
   "source": [
    "set.contains(2)"
   ]
  },
  {
   "cell_type": "code",
   "execution_count": 7,
   "metadata": {},
   "outputs": [
    {
     "data": {
      "text/plain": [
       "\u001b[36mres6\u001b[39m: \u001b[32mBoolean\u001b[39m = \u001b[32mfalse\u001b[39m"
      ]
     },
     "execution_count": 7,
     "metadata": {},
     "output_type": "execute_result"
    }
   ],
   "source": [
    "set.subsetOf(Set(1,2,3))"
   ]
  },
  {
   "cell_type": "code",
   "execution_count": 8,
   "metadata": {},
   "outputs": [
    {
     "data": {
      "text/plain": [
       "\u001b[36mres7\u001b[39m: \u001b[32mBoolean\u001b[39m = \u001b[32mtrue\u001b[39m"
      ]
     },
     "execution_count": 8,
     "metadata": {},
     "output_type": "execute_result"
    }
   ],
   "source": [
    "Set(1,2,3).subsetOf(set)"
   ]
  },
  {
   "cell_type": "markdown",
   "metadata": {},
   "source": [
    "#### 加法\t \n",
    "xs + x\t包含 xs 中所有元素以及 x 的集合。   \n",
    "xs + (x, y, z)\t包含 xs 中所有元素及附加元素的集合    \n",
    "xs ++ ys\t包含 xs 中所有元素及 ys 中所有元素的集合    "
   ]
  },
  {
   "cell_type": "code",
   "execution_count": 9,
   "metadata": {},
   "outputs": [
    {
     "data": {
      "text/plain": [
       "\u001b[36mres8\u001b[39m: \u001b[32mSet\u001b[39m[\u001b[32mInt\u001b[39m] = \u001b[33mSet\u001b[39m(\u001b[32m5\u001b[39m, \u001b[32m1\u001b[39m, \u001b[32m6\u001b[39m, \u001b[32m2\u001b[39m, \u001b[32m3\u001b[39m, \u001b[32m4\u001b[39m)"
      ]
     },
     "execution_count": 9,
     "metadata": {},
     "output_type": "execute_result"
    }
   ],
   "source": [
    "set + 5"
   ]
  },
  {
   "cell_type": "code",
   "execution_count": 10,
   "metadata": {},
   "outputs": [
    {
     "data": {
      "text/plain": [
       "\u001b[36mres9\u001b[39m: \u001b[32mSet\u001b[39m[\u001b[32mInt\u001b[39m] = \u001b[33mSet\u001b[39m(\u001b[32m5\u001b[39m, \u001b[32m1\u001b[39m, \u001b[32m6\u001b[39m, \u001b[32m9\u001b[39m, \u001b[32m2\u001b[39m, \u001b[32m7\u001b[39m, \u001b[32m3\u001b[39m, \u001b[32m8\u001b[39m, \u001b[32m4\u001b[39m)"
      ]
     },
     "execution_count": 10,
     "metadata": {},
     "output_type": "execute_result"
    }
   ],
   "source": [
    "set + (7,8,9)"
   ]
  },
  {
   "cell_type": "code",
   "execution_count": 11,
   "metadata": {},
   "outputs": [
    {
     "data": {
      "text/plain": [
       "\u001b[36mres10\u001b[39m: \u001b[32mSet\u001b[39m[\u001b[32mInt\u001b[39m] = \u001b[33mSet\u001b[39m(\u001b[32m5\u001b[39m, \u001b[32m10\u001b[39m, \u001b[32m1\u001b[39m, \u001b[32m6\u001b[39m, \u001b[32m9\u001b[39m, \u001b[32m13\u001b[39m, \u001b[32m2\u001b[39m, \u001b[32m3\u001b[39m, \u001b[32m4\u001b[39m)"
      ]
     },
     "execution_count": 11,
     "metadata": {},
     "output_type": "execute_result"
    }
   ],
   "source": [
    "set ++ Set(9,10,13)"
   ]
  },
  {
   "cell_type": "markdown",
   "metadata": {},
   "source": [
    "#### 移除：\t \n",
    "xs - x\t包含 xs 中除x以外的所有元素的集合。  \n",
    "xs - x\t包含 xs 中除去给定元素以外的所有元素的集合。  \n",
    "xs -- ys\t集合内容为：xs 中所有元素，去掉 ys 中所有元素后剩下的部分。  \n",
    "xs.empty\t与 xs 同类的空集合。  "
   ]
  },
  {
   "cell_type": "code",
   "execution_count": 13,
   "metadata": {},
   "outputs": [
    {
     "data": {
      "text/plain": [
       "\u001b[36mres12\u001b[39m: \u001b[32mSet\u001b[39m[\u001b[32mInt\u001b[39m] = \u001b[33mSet\u001b[39m(\u001b[32m1\u001b[39m, \u001b[32m6\u001b[39m, \u001b[32m2\u001b[39m, \u001b[32m3\u001b[39m, \u001b[32m4\u001b[39m)"
      ]
     },
     "execution_count": 13,
     "metadata": {},
     "output_type": "execute_result"
    }
   ],
   "source": [
    "set - 5"
   ]
  },
  {
   "cell_type": "code",
   "execution_count": 14,
   "metadata": {},
   "outputs": [
    {
     "data": {
      "text/plain": [
       "\u001b[36mres13\u001b[39m: \u001b[32mSet\u001b[39m[\u001b[32mInt\u001b[39m] = \u001b[33mSet\u001b[39m(\u001b[32m5\u001b[39m, \u001b[32m6\u001b[39m, \u001b[32m4\u001b[39m)"
      ]
     },
     "execution_count": 14,
     "metadata": {},
     "output_type": "execute_result"
    }
   ],
   "source": [
    "set -- Set(1,2,3)"
   ]
  },
  {
   "cell_type": "code",
   "execution_count": 15,
   "metadata": {},
   "outputs": [
    {
     "data": {
      "text/plain": [
       "\u001b[36mres14\u001b[39m: \u001b[32mSet\u001b[39m[\u001b[32mInt\u001b[39m] = \u001b[33mSet\u001b[39m()"
      ]
     },
     "execution_count": 15,
     "metadata": {},
     "output_type": "execute_result"
    }
   ],
   "source": [
    "set.empty"
   ]
  },
  {
   "cell_type": "markdown",
   "metadata": {},
   "source": [
    "#### 二值操作 \n",
    "xs & ys\t集合 xs 和 ys 的交集。  \n",
    "xs intersect ys\t等同于 xs & ys。  \n",
    "xs | ys\t集合 xs 和 ys 的并集。  \n",
    "xs union ys\t等同于 xs | ys。  \n",
    "xs &~ ys\t集合 xs 和 ys 的差集。  \n",
    "xs diff ys\t等同于 xs &~ ys。  "
   ]
  },
  {
   "cell_type": "markdown",
   "metadata": {},
   "source": [
    "### mutable.Set 类的操作\n",
    "#### 加法\n",
    "xs += x\t把元素 x 添加到集合 xs 中。该操作有副作用，它会返回左操作符，这里是 xs 自身。  \n",
    "xs += (x, y, z)\t添加指定的元素到集合 xs 中，并返回 xs 本身。（同样有副作用）  \n",
    "xs ++= ys\t添加集合 ys 中的所有元素到集合 xs 中，并返回 xs 本身。（表达式有副作用）  \n",
    "xs add x\t把元素 x 添加到集合 xs 中，如集合 xs 之前没有包含 x，该操作返回 true，否则返回 false  "
   ]
  },
  {
   "cell_type": "markdown",
   "metadata": {},
   "source": [
    "#### 移除 \n",
    "xs -= x\t从集合 xs 中删除元素 x，并返回 xs 本身。（表达式有副作用）  \n",
    "xs -= (x, y, z)\t从集合 xs 中删除指定的元素，并返回 xs 本身。（表达式有副作用）  \n",
    "xs --= ys\t从集合 xs 中删除所有属于集合 ys 的元素，并返回 xs 本身。（表达式有副作用）  \n",
    "xs remove x\t从集合 xs 中删除元素 x 。如之前 xs 中包含了 x 元素，返回 true，否则返回 false。  \n",
    "xs retain p\t只保留集合 xs 中满足条件 p 的元素。  \n",
    "xs.clear()\t删除集合 xs 中的所有元素。  "
   ]
  },
  {
   "cell_type": "markdown",
   "metadata": {},
   "source": [
    "#### 更新\n",
    "xs(x) = b\t（ 同 xs.update(x, b) ）参数 b 为布尔类型，如果值为 true 就把元素x加入集合 xs，否则从集合 xs 中删除 x。"
   ]
  }
 ],
 "metadata": {
  "kernelspec": {
   "display_name": "Scala 2.11.11",
   "language": "scala",
   "name": "scala"
  },
  "language_info": {
   "codemirror_mode": "text/x-scala",
   "file_extension": ".scala",
   "mimetype": "text/x-scala",
   "name": "scala211",
   "nbconvert_exporter": "script",
   "pygments_lexer": "scala",
   "version": "2.11.11"
  },
  "toc": {
   "base_numbering": 1,
   "nav_menu": {},
   "number_sections": true,
   "sideBar": true,
   "skip_h1_title": false,
   "title_cell": "Table of Contents",
   "title_sidebar": "Contents",
   "toc_cell": false,
   "toc_position": {},
   "toc_section_display": true,
   "toc_window_display": false
  }
 },
 "nbformat": 4,
 "nbformat_minor": 2
}
