{
 "cells": [
  {
   "cell_type": "markdown",
   "metadata": {},
   "source": [
    "# Map\n",
    "映射（Map）是一种可迭代的键值对结构（也称映射或关联）。Scala的Predef类提供了隐式转换，允许使用另一种语法：key -> value，来代替(key, value)。如：Map(\"x\" -> 24, \"y\" -> 25, \"z\" -> 26)等同于Map((\"x\", 24), (\"y\", 25), (\"z\", 26))，却更易于阅读。\n",
    "\n",
    "## Map操作分类\n",
    "映射（Map）的基本操作与集合（Set）类似。下面的表格分类总结了这些操作：\n",
    "<ul>\n",
    "  <li><strong>查询类操作：</strong>apply、get、getOrElse、contains和DefinedAt。它们都是根据主键获取对应的值映射操作。例如：def get(key): Option[Value]。“m get key” 返回m中是否用包含了key值。如果包含了，则返回对应value的Some类型值。否则，返回None。这些映射中也包括了apply方法，该方法直接返回主键对应的值。apply方法不会对值进行Option封装。如果该主键不存在，则会抛出异常。</li>\n",
    "  <li><strong>添加及更新类操作：</strong>+、++、updated，这些映射操作允许你添加一个新的绑定或更改现有的绑定。</li>\n",
    "  <li><strong>删除类操作：</strong>-、–，从一个映射（Map）中移除一个绑定。</li>\n",
    "  <li><strong>子集类操作：</strong>keys、keySet、keysIterator、values、valuesIterator，可以以不同形式返回映射的键和值。</li>\n",
    "  <li><strong>filterKeys、mapValues等</strong>变换用于对现有映射中的绑定进行过滤和变换，进而生成新的映射。</li>\n",
    "</ul>"
   ]
  },
  {
   "cell_type": "markdown",
   "metadata": {},
   "source": [
    "## Map操作\n",
    "### map操作\n",
    "| WHAT IT IS                    | WHAT IT DOES                                                                                                                                             |\n",
    "| ----------------------------- | -------------------------------------------------------------------------------------------------------------------------------------------------------- |\n",
    "| **查询**：                    |                                                                                                                                                          |\n",
    "| ms get k                      | 返回一个Option，其中包含和键k关联的值。若k不存在，则返回None。                                                                                           |\n",
    "| ms(k)                         | （完整写法是ms apply k）返回和键k关联的值。若k不存在，则抛出异常。                                                                                       |\n",
    "| ms getOrElse (k, d)           | 返回和键k关联的值。若k不存在，则返回默认值d。                                                                                                            |\n",
    "| ms contains k                 | 检查ms是否包含与键k相关联的映射。                                                                                                                        |\n",
    "| ms isDefinedAt k              | 同contains。                                                                                                                                             |\n",
    "| **添加及更新**:               |                                                                                                                                                          |\n",
    "| ms + (k -> v)                 | 返回一个同时包含ms中所有键值对及从k到v的键值对k -> v的新映射。                                                                                           |\n",
    "| ms + (k -> v, l -> w)         | 返回一个同时包含ms中所有键值对及所有给定的键值对的新映射。                                                                                               |\n",
    "| ms ++ kvs                     | 返回一个同时包含ms中所有键值对及kvs中的所有键值对的新映射。                                                                                              |\n",
    "| ms updated (k, v)             | 同ms + (k -> v)。                                                                                                                                        |\n",
    "| **移除**：                    |                                                                                                                                                          |\n",
    "| ms - k                        | 返回一个包含ms中除键k以外的所有映射关系的映射。                                                                                                          |\n",
    "| ms - (k, 1, m)                | 返回一个滤除了ms中与所有给定的键相关联的映射关系的新映射。                                                                                               |\n",
    "| ms – ks                       | 返回一个滤除了ms中与ks中给出的键相关联的映射关系的新映射。                                                                                               |\n",
    "| **子容器（Subcollection）**： |                                                                                                                                                          |\n",
    "| ms.keys                       | 返回一个用于包含ms中所有键的iterable对象（译注：请注意iterable对象与iterator的区别）                                                                     |\n",
    "| ms.keySet                     | 返回一个包含ms中所有的键的集合。                                                                                                                         |\n",
    "| ms.keysIterator               | 返回一个用于遍历ms中所有键的迭代器。                                                                                                                     |\n",
    "| ms.values                     | 返回一个包含ms中所有值的iterable对象。                                                                                                                   |\n",
    "| ms.valuesIterator             | 返回一个用于遍历ms中所有值的迭代器。                                                                                                                     |\n",
    "| **变换**：                    |                                                                                                                                                          |\n",
    "| ms filterKeys p               | 一个映射视图（Map View），其包含一些ms中的映射，且这些映射的键满足条件p。用条件谓词p过滤ms中所有的键，返回一个仅包含与过滤出的键值对的映射视图（view）。 |\n",
    "| ms mapValues f                | 用f将ms中每一个键值对的值转换成一个新的值，进而返回一个包含所有新键值对的映射视图（view）。                                                              |\n",
    "|                               |                                                                                                                                                          |\n",
    "\n",
    "### 不可变map操作\n",
    "| WHAT IT IS                | WHAT IT DOES                                                                                                                                                  |\n",
    "| ------------------------- | ------------------------------------------------------------------------------------------------------------------------------------------------------------- |\n",
    "| **添加及更新**            |                                                                                                                                                               |\n",
    "| ms(k) = v                 | （完整形式为ms.update(x, v)）。向映射ms中新增一个以k为键、以v为值的映射关系，ms先前包含的以k为值的映射关系将被覆盖。                                          |\n",
    "| ms += (k -> v)            | 向映射ms增加一个以k为键、以v为值的映射关系，并返回ms自身。                                                                                                    |\n",
    "| ms += (k -> v, l -> w)    | 向映射ms中增加给定的多个映射关系，并返回ms自身。                                                                                                              |\n",
    "| ms ++= kvs                | 向映射ms增加kvs中的所有映射关系，并返回ms自身。                                                                                                               |\n",
    "| ms put (k, v)             | 向映射ms增加一个以k为键、以v为值的映射，并返回一个Option，其中可能包含此前与k相关联的值。                                                                     |\n",
    "| ms getOrElseUpdate (k, d) | 如果ms中存在键k，则返回键k的值。否则向ms中新增映射关系k -> v并返回d。                                                                                         |\n",
    "| **移除**：                |                                                                                                                                                               |\n",
    "| ms -= k                   | 从映射ms中删除以k为键的映射关系，并返回ms自身。                                                                                                               |\n",
    "| ms -= (k, l, m)           | 从映射ms中删除与给定的各个键相关联的映射关系，并返回ms自身。                                                                                                  |\n",
    "| ms –= ks                  | 从映射ms中删除与ks给定的各个键相关联的映射关系，并返回ms自身。                                                                                                |\n",
    "| ms remove k               | 从ms中移除以k为键的映射关系，并返回一个Option，其可能包含之前与k相关联的值。                                                                                  |\n",
    "| ms retain p               | 仅保留ms中键满足条件谓词p的映射关系。                                                                                                                         |\n",
    "| ms.clear()                | 删除ms中的所有映射关系                                                                                                                                        |\n",
    "| **变换**：                |                                                                                                                                                               |\n",
    "| ms transform f            | 以函数f转换ms中所有键值对（译注：原文比较含糊，transform中参数f的类型是(A, B) => B，即对ms中的所有键值对调用f，得到一个新的值，并用该值替换原键值对中的值）。 |\n",
    "| **克隆**：                |                                                                                                                                                               |\n",
    "| ms.clone                  | 返回一个新的可变映射（Map），其中包含与ms相同的映射关系。                                                                                                     |"
   ]
  },
  {
   "cell_type": "markdown",
   "metadata": {},
   "source": [
    "## Map操作测试\n",
    "### 不可变map\n",
    "#### 查询\n",
    "ms get k\t返回一个Option，其中包含和键k关联的值。若k不存在，则返回None。  \n",
    "ms(k)\t（完整写法是ms apply k）返回和键k关联的值。若k不存在，则抛出异常。  \n",
    "ms getOrElse (k, d)\t返回和键k关联的值。若k不存在，则返回默认值d。  \n",
    "ms contains k\t检查ms是否包含与键k相关联的映射。  \n",
    "ms isDefinedAt k\t同contains。  "
   ]
  },
  {
   "cell_type": "code",
   "execution_count": 1,
   "metadata": {},
   "outputs": [
    {
     "data": {
      "text/plain": [
       "\u001b[36mmap\u001b[39m: \u001b[32mMap\u001b[39m[\u001b[32mString\u001b[39m, \u001b[32mInt\u001b[39m] = \u001b[33mMap\u001b[39m(\u001b[32m\"e\"\u001b[39m -> \u001b[32m5\u001b[39m, \u001b[32m\"f\"\u001b[39m -> \u001b[32m6\u001b[39m, \u001b[32m\"a\"\u001b[39m -> \u001b[32m1\u001b[39m, \u001b[32m\"b\"\u001b[39m -> \u001b[32m2\u001b[39m, \u001b[32m\"c\"\u001b[39m -> \u001b[32m3\u001b[39m, \u001b[32m\"d\"\u001b[39m -> \u001b[32m4\u001b[39m)"
      ]
     },
     "execution_count": 1,
     "metadata": {},
     "output_type": "execute_result"
    }
   ],
   "source": [
    "val map = Map(\"a\" -> 1,\"b\" -> 2,\"c\" -> 3,\"d\" -> 4,\"e\" -> 5,\"f\" -> 6)"
   ]
  },
  {
   "cell_type": "code",
   "execution_count": 2,
   "metadata": {},
   "outputs": [
    {
     "data": {
      "text/plain": [
       "\u001b[36mres1\u001b[39m: \u001b[32mInt\u001b[39m = \u001b[32m1\u001b[39m"
      ]
     },
     "execution_count": 2,
     "metadata": {},
     "output_type": "execute_result"
    }
   ],
   "source": [
    "map(\"a\")"
   ]
  },
  {
   "cell_type": "code",
   "execution_count": 3,
   "metadata": {},
   "outputs": [
    {
     "data": {
      "text/plain": [
       "\u001b[36mres2\u001b[39m: \u001b[32mOption\u001b[39m[\u001b[32mInt\u001b[39m] = \u001b[33mSome\u001b[39m(\u001b[32m1\u001b[39m)"
      ]
     },
     "execution_count": 3,
     "metadata": {},
     "output_type": "execute_result"
    }
   ],
   "source": [
    "map.get(\"a\")"
   ]
  },
  {
   "cell_type": "code",
   "execution_count": 4,
   "metadata": {},
   "outputs": [
    {
     "data": {
      "text/plain": [
       "\u001b[36mres3\u001b[39m: \u001b[32mInt\u001b[39m = \u001b[32m1\u001b[39m"
      ]
     },
     "execution_count": 4,
     "metadata": {},
     "output_type": "execute_result"
    }
   ],
   "source": [
    "map.get(\"a\").get"
   ]
  },
  {
   "cell_type": "code",
   "execution_count": 5,
   "metadata": {},
   "outputs": [
    {
     "data": {
      "text/plain": [
       "\u001b[36mres4\u001b[39m: \u001b[32mOption\u001b[39m[\u001b[32mInt\u001b[39m] = None"
      ]
     },
     "execution_count": 5,
     "metadata": {},
     "output_type": "execute_result"
    }
   ],
   "source": [
    "map.get(\"h\")"
   ]
  },
  {
   "cell_type": "code",
   "execution_count": 6,
   "metadata": {},
   "outputs": [
    {
     "data": {
      "text/plain": [
       "\u001b[36mres5\u001b[39m: \u001b[32mInt\u001b[39m = \u001b[32m0\u001b[39m"
      ]
     },
     "execution_count": 6,
     "metadata": {},
     "output_type": "execute_result"
    }
   ],
   "source": [
    "//map(\"h\")抛出异常\n",
    "map.getOrElse(\"h\",0)"
   ]
  },
  {
   "cell_type": "code",
   "execution_count": 7,
   "metadata": {},
   "outputs": [
    {
     "data": {
      "text/plain": [
       "\u001b[36mres6\u001b[39m: \u001b[32mBoolean\u001b[39m = \u001b[32mtrue\u001b[39m"
      ]
     },
     "execution_count": 7,
     "metadata": {},
     "output_type": "execute_result"
    }
   ],
   "source": [
    "map.contains(\"a\")"
   ]
  },
  {
   "cell_type": "code",
   "execution_count": 8,
   "metadata": {},
   "outputs": [
    {
     "data": {
      "text/plain": [
       "\u001b[36mres7\u001b[39m: \u001b[32mBoolean\u001b[39m = \u001b[32mfalse\u001b[39m"
      ]
     },
     "execution_count": 8,
     "metadata": {},
     "output_type": "execute_result"
    }
   ],
   "source": [
    "map.contains(\"h\")"
   ]
  },
  {
   "cell_type": "markdown",
   "metadata": {},
   "source": [
    "#### 添加及更新\n",
    "ms + (k -> v)\t返回一个同时包含ms中所有键值对及从k到v的键值对k -> v的新映射。  \n",
    "ms + (k -> v, l -> w)\t返回一个同时包含ms中所有键值对及所有给定的键值对的新映射。  \n",
    "ms ++ kvs\t返回一个同时包含ms中所有键值对及kvs中的所有键值对的新映射。  \n",
    "ms updated (k, v)\t同ms + (k -> v)。  "
   ]
  },
  {
   "cell_type": "code",
   "execution_count": 9,
   "metadata": {},
   "outputs": [
    {
     "data": {
      "text/plain": [
       "\u001b[36mres8\u001b[39m: \u001b[32mMap\u001b[39m[\u001b[32mString\u001b[39m, \u001b[32mInt\u001b[39m] = \u001b[33mMap\u001b[39m(\u001b[32m\"e\"\u001b[39m -> \u001b[32m5\u001b[39m, \u001b[32m\"f\"\u001b[39m -> \u001b[32m6\u001b[39m, \u001b[32m\"a\"\u001b[39m -> \u001b[32m1\u001b[39m, \u001b[32m\"b\"\u001b[39m -> \u001b[32m2\u001b[39m, \u001b[32m\"g\"\u001b[39m -> \u001b[32m7\u001b[39m, \u001b[32m\"c\"\u001b[39m -> \u001b[32m3\u001b[39m, \u001b[32m\"d\"\u001b[39m -> \u001b[32m4\u001b[39m)"
      ]
     },
     "execution_count": 9,
     "metadata": {},
     "output_type": "execute_result"
    }
   ],
   "source": [
    "map + (\"g\" -> 7)"
   ]
  },
  {
   "cell_type": "code",
   "execution_count": 10,
   "metadata": {},
   "outputs": [
    {
     "data": {
      "text/plain": [
       "\u001b[36mres9\u001b[39m: \u001b[32mMap\u001b[39m[\u001b[32mString\u001b[39m, \u001b[32mInt\u001b[39m] = \u001b[33mMap\u001b[39m(\n",
       "  \u001b[32m\"e\"\u001b[39m -> \u001b[32m5\u001b[39m,\n",
       "  \u001b[32m\"f\"\u001b[39m -> \u001b[32m6\u001b[39m,\n",
       "  \u001b[32m\"a\"\u001b[39m -> \u001b[32m1\u001b[39m,\n",
       "  \u001b[32m\"b\"\u001b[39m -> \u001b[32m2\u001b[39m,\n",
       "  \u001b[32m\"g\"\u001b[39m -> \u001b[32m7\u001b[39m,\n",
       "  \u001b[32m\"c\"\u001b[39m -> \u001b[32m3\u001b[39m,\n",
       "  \u001b[32m\"h\"\u001b[39m -> \u001b[32m8\u001b[39m,\n",
       "  \u001b[32m\"d\"\u001b[39m -> \u001b[32m4\u001b[39m\n",
       ")"
      ]
     },
     "execution_count": 10,
     "metadata": {},
     "output_type": "execute_result"
    }
   ],
   "source": [
    "map + (\"g\" -> 7,\"h\" -> 8)"
   ]
  },
  {
   "cell_type": "code",
   "execution_count": 11,
   "metadata": {},
   "outputs": [
    {
     "data": {
      "text/plain": [
       "\u001b[36mres10\u001b[39m: \u001b[32mMap\u001b[39m[\u001b[32mString\u001b[39m, \u001b[32mInt\u001b[39m] = \u001b[33mMap\u001b[39m(\u001b[32m\"e\"\u001b[39m -> \u001b[32m5\u001b[39m, \u001b[32m\"f\"\u001b[39m -> \u001b[32m6\u001b[39m, \u001b[32m\"a\"\u001b[39m -> \u001b[32m1\u001b[39m, \u001b[32m\"b\"\u001b[39m -> \u001b[32m2\u001b[39m, \u001b[32m\"g\"\u001b[39m -> \u001b[32m7\u001b[39m, \u001b[32m\"c\"\u001b[39m -> \u001b[32m3\u001b[39m, \u001b[32m\"d\"\u001b[39m -> \u001b[32m4\u001b[39m)"
      ]
     },
     "execution_count": 11,
     "metadata": {},
     "output_type": "execute_result"
    }
   ],
   "source": [
    "//map + (\"g\",7)编译失败\n",
    "map + ((\"g\",7))"
   ]
  },
  {
   "cell_type": "code",
   "execution_count": 12,
   "metadata": {},
   "outputs": [
    {
     "data": {
      "text/plain": [
       "\u001b[36mres11\u001b[39m: \u001b[32mMap\u001b[39m[\u001b[32mString\u001b[39m, \u001b[32mInt\u001b[39m] = \u001b[33mMap\u001b[39m(\n",
       "  \u001b[32m\"e\"\u001b[39m -> \u001b[32m5\u001b[39m,\n",
       "  \u001b[32m\"f\"\u001b[39m -> \u001b[32m6\u001b[39m,\n",
       "  \u001b[32m\"a\"\u001b[39m -> \u001b[32m1\u001b[39m,\n",
       "  \u001b[32m\"b\"\u001b[39m -> \u001b[32m2\u001b[39m,\n",
       "  \u001b[32m\"g\"\u001b[39m -> \u001b[32m7\u001b[39m,\n",
       "  \u001b[32m\"c\"\u001b[39m -> \u001b[32m3\u001b[39m,\n",
       "  \u001b[32m\"h\"\u001b[39m -> \u001b[32m8\u001b[39m,\n",
       "  \u001b[32m\"d\"\u001b[39m -> \u001b[32m4\u001b[39m\n",
       ")"
      ]
     },
     "execution_count": 12,
     "metadata": {},
     "output_type": "execute_result"
    }
   ],
   "source": [
    "map + ((\"g\",7),(\"h\",8))"
   ]
  },
  {
   "cell_type": "code",
   "execution_count": 13,
   "metadata": {},
   "outputs": [
    {
     "data": {
      "text/plain": [
       "\u001b[36mres12\u001b[39m: \u001b[32mMap\u001b[39m[\u001b[32mString\u001b[39m, \u001b[32mInt\u001b[39m] = \u001b[33mMap\u001b[39m(\u001b[32m\"e\"\u001b[39m -> \u001b[32m7\u001b[39m, \u001b[32m\"f\"\u001b[39m -> \u001b[32m6\u001b[39m, \u001b[32m\"a\"\u001b[39m -> \u001b[32m1\u001b[39m, \u001b[32m\"b\"\u001b[39m -> \u001b[32m2\u001b[39m, \u001b[32m\"c\"\u001b[39m -> \u001b[32m3\u001b[39m, \u001b[32m\"d\"\u001b[39m -> \u001b[32m4\u001b[39m)"
      ]
     },
     "execution_count": 13,
     "metadata": {},
     "output_type": "execute_result"
    }
   ],
   "source": [
    "//没有添加，有则更新\n",
    "map + (\"e\" -> 7) "
   ]
  },
  {
   "cell_type": "code",
   "execution_count": 14,
   "metadata": {},
   "outputs": [
    {
     "data": {
      "text/plain": [
       "\u001b[36mres13\u001b[39m: \u001b[32mMap\u001b[39m[\u001b[32mString\u001b[39m, \u001b[32mInt\u001b[39m] = \u001b[33mMap\u001b[39m(\u001b[32m\"e\"\u001b[39m -> \u001b[32m5\u001b[39m, \u001b[32m\"j\"\u001b[39m -> \u001b[32m1\u001b[39m, \u001b[32m\"f\"\u001b[39m -> \u001b[32m6\u001b[39m, \u001b[32m\"a\"\u001b[39m -> \u001b[32m1\u001b[39m, \u001b[32m\"b\"\u001b[39m -> \u001b[32m2\u001b[39m, \u001b[32m\"c\"\u001b[39m -> \u001b[32m3\u001b[39m, \u001b[32m\"d\"\u001b[39m -> \u001b[32m4\u001b[39m)"
      ]
     },
     "execution_count": 14,
     "metadata": {},
     "output_type": "execute_result"
    }
   ],
   "source": [
    "map.updated(\"j\",1)"
   ]
  },
  {
   "cell_type": "code",
   "execution_count": 15,
   "metadata": {},
   "outputs": [
    {
     "data": {
      "text/plain": [
       "\u001b[36mres14\u001b[39m: \u001b[32mMap\u001b[39m[\u001b[32mString\u001b[39m, \u001b[32mInt\u001b[39m] = \u001b[33mMap\u001b[39m(\u001b[32m\"e\"\u001b[39m -> \u001b[32m11\u001b[39m, \u001b[32m\"f\"\u001b[39m -> \u001b[32m6\u001b[39m, \u001b[32m\"a\"\u001b[39m -> \u001b[32m1\u001b[39m, \u001b[32m\"b\"\u001b[39m -> \u001b[32m2\u001b[39m, \u001b[32m\"c\"\u001b[39m -> \u001b[32m3\u001b[39m, \u001b[32m\"d\"\u001b[39m -> \u001b[32m4\u001b[39m)"
      ]
     },
     "execution_count": 15,
     "metadata": {},
     "output_type": "execute_result"
    }
   ],
   "source": [
    "map.updated(\"e\",11)"
   ]
  },
  {
   "cell_type": "code",
   "execution_count": 16,
   "metadata": {},
   "outputs": [
    {
     "data": {
      "text/plain": [
       "\u001b[36mres15\u001b[39m: \u001b[32mMap\u001b[39m[\u001b[32mString\u001b[39m, \u001b[32mInt\u001b[39m] = \u001b[33mMap\u001b[39m(\u001b[32m\"e\"\u001b[39m -> \u001b[32m5\u001b[39m, \u001b[32m\"f\"\u001b[39m -> \u001b[32m6\u001b[39m, \u001b[32m\"a\"\u001b[39m -> \u001b[32m1\u001b[39m, \u001b[32m\"b\"\u001b[39m -> \u001b[32m2\u001b[39m, \u001b[32m\"c\"\u001b[39m -> \u001b[32m3\u001b[39m, \u001b[32m\"d\"\u001b[39m -> \u001b[32m4\u001b[39m)"
      ]
     },
     "execution_count": 16,
     "metadata": {},
     "output_type": "execute_result"
    }
   ],
   "source": [
    "map"
   ]
  },
  {
   "cell_type": "markdown",
   "metadata": {},
   "source": [
    "以上操作全部返回新的map"
   ]
  },
  {
   "cell_type": "markdown",
   "metadata": {},
   "source": [
    "#### 移除\n",
    "ms - k\t返回一个包含ms中除键k以外的所有映射关系的映射。  \n",
    "ms - (k, 1, m)\t返回一个滤除了ms中与所有给定的键相关联的映射关系的新映射。  \n",
    "ms – ks\t返回一个滤除了ms中与ks中给出的键相关联的映射关系的新映射。  "
   ]
  },
  {
   "cell_type": "code",
   "execution_count": 17,
   "metadata": {},
   "outputs": [
    {
     "data": {
      "text/plain": [
       "\u001b[36mres16\u001b[39m: \u001b[32mMap\u001b[39m[\u001b[32mString\u001b[39m, \u001b[32mInt\u001b[39m] = \u001b[33mMap\u001b[39m(\u001b[32m\"f\"\u001b[39m -> \u001b[32m6\u001b[39m, \u001b[32m\"a\"\u001b[39m -> \u001b[32m1\u001b[39m, \u001b[32m\"b\"\u001b[39m -> \u001b[32m2\u001b[39m, \u001b[32m\"c\"\u001b[39m -> \u001b[32m3\u001b[39m, \u001b[32m\"d\"\u001b[39m -> \u001b[32m4\u001b[39m)"
      ]
     },
     "execution_count": 17,
     "metadata": {},
     "output_type": "execute_result"
    }
   ],
   "source": [
    "map - \"e\""
   ]
  },
  {
   "cell_type": "code",
   "execution_count": 18,
   "metadata": {},
   "outputs": [
    {
     "data": {
      "text/plain": [
       "\u001b[36mres17\u001b[39m: \u001b[32mMap\u001b[39m[\u001b[32mString\u001b[39m, \u001b[32mInt\u001b[39m] = \u001b[33mMap\u001b[39m(\u001b[32m\"f\"\u001b[39m -> \u001b[32m6\u001b[39m, \u001b[32m\"c\"\u001b[39m -> \u001b[32m3\u001b[39m, \u001b[32m\"d\"\u001b[39m -> \u001b[32m4\u001b[39m)"
      ]
     },
     "execution_count": 18,
     "metadata": {},
     "output_type": "execute_result"
    }
   ],
   "source": [
    "map - (\"e\",\"a\",\"b\")"
   ]
  },
  {
   "cell_type": "markdown",
   "metadata": {},
   "source": [
    "#### 子容器（Subcollection）\t \n",
    "ms.keys\t返回一个用于包含ms中所有键的iterable对象（译注：请注意iterable对象与iterator的区别）  \n",
    "ms.keySet\t返回一个包含ms中所有的键的集合。  \n",
    "ms.keysIterator\t返回一个用于遍历ms中所有键的迭代器。  \n",
    "ms.values\t返回一个包含ms中所有值的iterable对象。  \n",
    "ms.valuesIterator\t返回一个用于遍历ms中所有值的迭代器。  "
   ]
  },
  {
   "cell_type": "code",
   "execution_count": 19,
   "metadata": {},
   "outputs": [
    {
     "data": {
      "text/plain": [
       "\u001b[36mres18\u001b[39m: \u001b[32mIterable\u001b[39m[\u001b[32mString\u001b[39m] = \u001b[33mSet\u001b[39m(\u001b[32m\"e\"\u001b[39m, \u001b[32m\"f\"\u001b[39m, \u001b[32m\"a\"\u001b[39m, \u001b[32m\"b\"\u001b[39m, \u001b[32m\"c\"\u001b[39m, \u001b[32m\"d\"\u001b[39m)"
      ]
     },
     "execution_count": 19,
     "metadata": {},
     "output_type": "execute_result"
    }
   ],
   "source": [
    "map.keys"
   ]
  },
  {
   "cell_type": "code",
   "execution_count": 20,
   "metadata": {},
   "outputs": [
    {
     "name": "stdout",
     "output_type": "stream",
     "text": [
      "e\n",
      "f\n",
      "a\n",
      "b\n",
      "c\n",
      "d\n"
     ]
    }
   ],
   "source": [
    "for(key <- map.keys) println(key)"
   ]
  },
  {
   "cell_type": "code",
   "execution_count": 21,
   "metadata": {},
   "outputs": [
    {
     "name": "stdout",
     "output_type": "stream",
     "text": [
      "e\n",
      "f\n",
      "a\n",
      "b\n",
      "c\n",
      "d\n"
     ]
    }
   ],
   "source": [
    "for(key <- map.keySet) println(key)"
   ]
  },
  {
   "cell_type": "code",
   "execution_count": 22,
   "metadata": {},
   "outputs": [
    {
     "data": {
      "text/plain": [
       "\u001b[36mres21\u001b[39m: \u001b[32mSet\u001b[39m[\u001b[32mString\u001b[39m] = \u001b[33mSet\u001b[39m(\u001b[32m\"e\"\u001b[39m, \u001b[32m\"f\"\u001b[39m, \u001b[32m\"a\"\u001b[39m, \u001b[32m\"b\"\u001b[39m, \u001b[32m\"c\"\u001b[39m, \u001b[32m\"d\"\u001b[39m)"
      ]
     },
     "execution_count": 22,
     "metadata": {},
     "output_type": "execute_result"
    }
   ],
   "source": [
    "map.keySet"
   ]
  },
  {
   "cell_type": "code",
   "execution_count": 23,
   "metadata": {},
   "outputs": [
    {
     "data": {
      "text/plain": [
       "\u001b[36mres22\u001b[39m: \u001b[32mIterable\u001b[39m[\u001b[32mInt\u001b[39m] = \u001b[33mMapLike\u001b[39m(\u001b[32m5\u001b[39m, \u001b[32m6\u001b[39m, \u001b[32m1\u001b[39m, \u001b[32m2\u001b[39m, \u001b[32m3\u001b[39m, \u001b[32m4\u001b[39m)"
      ]
     },
     "execution_count": 23,
     "metadata": {},
     "output_type": "execute_result"
    }
   ],
   "source": [
    "map.values"
   ]
  },
  {
   "cell_type": "markdown",
   "metadata": {},
   "source": [
    "#### 变换\t \n",
    "ms filterKeys p\t一个映射视图（Map View），其包含一些ms中的映射，且这些映射的键满足条件p。用条件谓词p过滤ms中所有的键，返回一个仅包含与过滤出的键值对的映射视图（view）。  \n",
    "ms mapValues f\t用f将ms中每一个键值对的值转换成一个新的值，进而返回一个包含所有新键值对的映射视图（view）。"
   ]
  },
  {
   "cell_type": "code",
   "execution_count": 24,
   "metadata": {},
   "outputs": [
    {
     "data": {
      "text/plain": [
       "\u001b[36mres23\u001b[39m: \u001b[32mString\u001b[39m => \u001b[32mBoolean\u001b[39m => \u001b[32mMap\u001b[39m[\u001b[32mString\u001b[39m, \u001b[32mInt\u001b[39m] = <function1>"
      ]
     },
     "execution_count": 24,
     "metadata": {},
     "output_type": "execute_result"
    }
   ],
   "source": [
    "map.filterKeys _"
   ]
  },
  {
   "cell_type": "code",
   "execution_count": 25,
   "metadata": {},
   "outputs": [
    {
     "data": {
      "text/plain": [
       "\u001b[36mres24\u001b[39m: \u001b[32mMap\u001b[39m[\u001b[32mString\u001b[39m, \u001b[32mInt\u001b[39m] = \u001b[33mMap\u001b[39m(\u001b[32m\"a\"\u001b[39m -> \u001b[32m1\u001b[39m)"
      ]
     },
     "execution_count": 25,
     "metadata": {},
     "output_type": "execute_result"
    }
   ],
   "source": [
    "map.filterKeys(_ == \"a\")"
   ]
  },
  {
   "cell_type": "code",
   "execution_count": 26,
   "metadata": {},
   "outputs": [
    {
     "data": {
      "text/plain": [
       "\u001b[36mres25\u001b[39m: \u001b[32mMap\u001b[39m[\u001b[32mString\u001b[39m, \u001b[32mInt\u001b[39m] = \u001b[33mMap\u001b[39m(\u001b[32m\"e\"\u001b[39m -> \u001b[32m15\u001b[39m, \u001b[32m\"f\"\u001b[39m -> \u001b[32m16\u001b[39m, \u001b[32m\"a\"\u001b[39m -> \u001b[32m11\u001b[39m, \u001b[32m\"b\"\u001b[39m -> \u001b[32m12\u001b[39m, \u001b[32m\"c\"\u001b[39m -> \u001b[32m13\u001b[39m, \u001b[32m\"d\"\u001b[39m -> \u001b[32m14\u001b[39m)"
      ]
     },
     "execution_count": 26,
     "metadata": {},
     "output_type": "execute_result"
    }
   ],
   "source": [
    "map.mapValues(_ + 10)"
   ]
  },
  {
   "cell_type": "markdown",
   "metadata": {},
   "source": [
    "### mutable.Map操作\n",
    "#### 添加及更新\t\n",
    "ms(k) = v\t（完整形式为ms.update(x, v)）。向映射ms中新增一个以k为键、以v为值的映射关系，ms先前包含的以k为值的映射关系将被覆盖。  \n",
    "ms += (k -> v)\t向映射ms增加一个以k为键、以v为值的映射关系，并返回ms自身。  \n",
    "ms += (k -> v, l -> w)\t向映射ms中增加给定的多个映射关系，并返回ms自身。  \n",
    "ms ++= kvs\t向映射ms增加kvs中的所有映射关系，并返回ms自身。  \n",
    "ms put (k, v)\t向映射ms增加一个以k为键、以v为值的映射，并返回一个Option，其中可能包含此前与k相关联的值。   \n",
    "ms getOrElseUpdate (k, d)\t如果ms中存在键k，则返回键k的值。否则向ms中新增映射关系k -> v并返回d。"
   ]
  },
  {
   "cell_type": "code",
   "execution_count": 27,
   "metadata": {},
   "outputs": [
    {
     "data": {
      "text/plain": [
       "\u001b[32mimport \u001b[39m\u001b[36mscala.collection.mutable\r\n",
       "\u001b[39m\r\n",
       "\u001b[36mms\u001b[39m: \u001b[32mcollection\u001b[39m.\u001b[32mmutable\u001b[39m.\u001b[32mMap\u001b[39m[\u001b[32mString\u001b[39m, \u001b[32mInt\u001b[39m] = \u001b[33mMap\u001b[39m(\u001b[32m\"b\"\u001b[39m -> \u001b[32m2\u001b[39m, \u001b[32m\"a\"\u001b[39m -> \u001b[32m1\u001b[39m)"
      ]
     },
     "execution_count": 27,
     "metadata": {},
     "output_type": "execute_result"
    }
   ],
   "source": [
    "import scala.collection.mutable\n",
    "val ms = mutable.Map(\"a\" -> 1,\"b\" -> 2)"
   ]
  },
  {
   "cell_type": "code",
   "execution_count": 28,
   "metadata": {},
   "outputs": [
    {
     "data": {
      "text/plain": [
       "\u001b[36mres27\u001b[39m: \u001b[32mmutable\u001b[39m.\u001b[32mMap\u001b[39m[\u001b[32mString\u001b[39m, \u001b[32mInt\u001b[39m] = \u001b[33mMap\u001b[39m(\u001b[32m\"b\"\u001b[39m -> \u001b[32m2\u001b[39m, \u001b[32m\"a\"\u001b[39m -> \u001b[32m1\u001b[39m, \u001b[32m\"c\"\u001b[39m -> \u001b[32m1\u001b[39m)"
      ]
     },
     "execution_count": 28,
     "metadata": {},
     "output_type": "execute_result"
    }
   ],
   "source": [
    "ms += (\"c\" -> 1) "
   ]
  },
  {
   "cell_type": "code",
   "execution_count": 29,
   "metadata": {},
   "outputs": [
    {
     "data": {
      "text/plain": [
       "\u001b[36mres28\u001b[39m: \u001b[32mmutable\u001b[39m.\u001b[32mMap\u001b[39m[\u001b[32mString\u001b[39m, \u001b[32mInt\u001b[39m] = \u001b[33mMap\u001b[39m(\u001b[32m\"b\"\u001b[39m -> \u001b[32m2\u001b[39m, \u001b[32m\"d\"\u001b[39m -> \u001b[32m2\u001b[39m, \u001b[32m\"a\"\u001b[39m -> \u001b[32m1\u001b[39m, \u001b[32m\"c\"\u001b[39m -> \u001b[32m1\u001b[39m)"
      ]
     },
     "execution_count": 29,
     "metadata": {},
     "output_type": "execute_result"
    }
   ],
   "source": [
    "ms += (\"c\" -> 1,\"d\" -> 2) "
   ]
  },
  {
   "cell_type": "code",
   "execution_count": 30,
   "metadata": {},
   "outputs": [],
   "source": [
    "ms(\"a\") = 10"
   ]
  },
  {
   "cell_type": "code",
   "execution_count": 31,
   "metadata": {},
   "outputs": [
    {
     "data": {
      "text/plain": [
       "\u001b[36mres30\u001b[39m: \u001b[32mmutable\u001b[39m.\u001b[32mMap\u001b[39m[\u001b[32mString\u001b[39m, \u001b[32mInt\u001b[39m] = \u001b[33mMap\u001b[39m(\u001b[32m\"b\"\u001b[39m -> \u001b[32m2\u001b[39m, \u001b[32m\"d\"\u001b[39m -> \u001b[32m2\u001b[39m, \u001b[32m\"a\"\u001b[39m -> \u001b[32m10\u001b[39m, \u001b[32m\"c\"\u001b[39m -> \u001b[32m1\u001b[39m)"
      ]
     },
     "execution_count": 31,
     "metadata": {},
     "output_type": "execute_result"
    }
   ],
   "source": [
    "ms"
   ]
  },
  {
   "cell_type": "code",
   "execution_count": 32,
   "metadata": {},
   "outputs": [
    {
     "data": {
      "text/plain": [
       "\u001b[36mres31_1\u001b[39m: \u001b[32mmutable\u001b[39m.\u001b[32mMap\u001b[39m[\u001b[32mString\u001b[39m, \u001b[32mInt\u001b[39m] = \u001b[33mMap\u001b[39m(\u001b[32m\"b\"\u001b[39m -> \u001b[32m2\u001b[39m, \u001b[32m\"d\"\u001b[39m -> \u001b[32m2\u001b[39m, \u001b[32m\"a\"\u001b[39m -> \u001b[32m10\u001b[39m, \u001b[32m\"c\"\u001b[39m -> \u001b[32m1\u001b[39m, \u001b[32m\"aa\"\u001b[39m -> \u001b[32m10\u001b[39m)"
      ]
     },
     "execution_count": 32,
     "metadata": {},
     "output_type": "execute_result"
    }
   ],
   "source": [
    "ms(\"aa\") = 10\n",
    "ms"
   ]
  },
  {
   "cell_type": "code",
   "execution_count": 33,
   "metadata": {},
   "outputs": [
    {
     "data": {
      "text/plain": [
       "\u001b[36mres32\u001b[39m: \u001b[32mOption\u001b[39m[\u001b[32mInt\u001b[39m] = None"
      ]
     },
     "execution_count": 33,
     "metadata": {},
     "output_type": "execute_result"
    }
   ],
   "source": [
    "ms.put(\"k\", 1)"
   ]
  },
  {
   "cell_type": "code",
   "execution_count": 34,
   "metadata": {},
   "outputs": [
    {
     "data": {
      "text/plain": [
       "\u001b[36mres33\u001b[39m: \u001b[32mOption\u001b[39m[\u001b[32mInt\u001b[39m] = \u001b[33mSome\u001b[39m(\u001b[32m1\u001b[39m)"
      ]
     },
     "execution_count": 34,
     "metadata": {},
     "output_type": "execute_result"
    }
   ],
   "source": [
    "ms.put(\"k\", 11)"
   ]
  },
  {
   "cell_type": "code",
   "execution_count": 35,
   "metadata": {},
   "outputs": [
    {
     "data": {
      "text/plain": [
       "\u001b[36mres34\u001b[39m: \u001b[32mInt\u001b[39m = \u001b[32m11\u001b[39m"
      ]
     },
     "execution_count": 35,
     "metadata": {},
     "output_type": "execute_result"
    }
   ],
   "source": [
    "ms.getOrElseUpdate(\"k\", 12)"
   ]
  },
  {
   "cell_type": "code",
   "execution_count": 36,
   "metadata": {},
   "outputs": [
    {
     "data": {
      "text/plain": [
       "\u001b[36mres35\u001b[39m: \u001b[32mInt\u001b[39m = \u001b[32m12\u001b[39m"
      ]
     },
     "execution_count": 36,
     "metadata": {},
     "output_type": "execute_result"
    }
   ],
   "source": [
    "ms.getOrElseUpdate(\"m\", 12)"
   ]
  },
  {
   "cell_type": "code",
   "execution_count": 37,
   "metadata": {},
   "outputs": [
    {
     "data": {
      "text/plain": [
       "\u001b[36mres36\u001b[39m: \u001b[32mmutable\u001b[39m.\u001b[32mMap\u001b[39m[\u001b[32mString\u001b[39m, \u001b[32mInt\u001b[39m] = \u001b[33mMap\u001b[39m(\u001b[32m\"k\"\u001b[39m -> \u001b[32m11\u001b[39m, \u001b[32m\"b\"\u001b[39m -> \u001b[32m2\u001b[39m, \u001b[32m\"m\"\u001b[39m -> \u001b[32m12\u001b[39m, \u001b[32m\"d\"\u001b[39m -> \u001b[32m2\u001b[39m, \u001b[32m\"a\"\u001b[39m -> \u001b[32m10\u001b[39m, \u001b[32m\"c\"\u001b[39m -> \u001b[32m1\u001b[39m, \u001b[32m\"aa\"\u001b[39m -> \u001b[32m10\u001b[39m)"
      ]
     },
     "execution_count": 37,
     "metadata": {},
     "output_type": "execute_result"
    }
   ],
   "source": [
    "ms"
   ]
  },
  {
   "cell_type": "markdown",
   "metadata": {},
   "source": [
    "#### 移除\t\n",
    "ms -= k\t从映射ms中删除以k为键的映射关系，并返回ms自身。  \n",
    "ms -= (k, l, m)\t从映射ms中删除与给定的各个键相关联的映射关系，并返回ms自身。  \n",
    "ms –= ks\t从映射ms中删除与ks给定的各个键相关联的映射关系，并返回ms自身。  \n",
    "ms remove k\t从ms中移除以k为键的映射关系，并返回一个Option，其可能包含之前与k相关联的值。  \n",
    "ms retain p\t仅保留ms中键满足条件谓词p的映射关系。  \n",
    "ms.clear()\t删除ms中的所有映射关系  "
   ]
  },
  {
   "cell_type": "code",
   "execution_count": 38,
   "metadata": {},
   "outputs": [
    {
     "data": {
      "text/plain": [
       "\u001b[36mres37\u001b[39m: \u001b[32mmutable\u001b[39m.\u001b[32mMap\u001b[39m[\u001b[32mString\u001b[39m, \u001b[32mInt\u001b[39m] = \u001b[33mMap\u001b[39m(\u001b[32m\"k\"\u001b[39m -> \u001b[32m11\u001b[39m, \u001b[32m\"b\"\u001b[39m -> \u001b[32m2\u001b[39m, \u001b[32m\"m\"\u001b[39m -> \u001b[32m12\u001b[39m, \u001b[32m\"d\"\u001b[39m -> \u001b[32m2\u001b[39m, \u001b[32m\"c\"\u001b[39m -> \u001b[32m1\u001b[39m, \u001b[32m\"aa\"\u001b[39m -> \u001b[32m10\u001b[39m)"
      ]
     },
     "execution_count": 38,
     "metadata": {},
     "output_type": "execute_result"
    }
   ],
   "source": [
    "ms -= \"a\""
   ]
  },
  {
   "cell_type": "code",
   "execution_count": 39,
   "metadata": {},
   "outputs": [
    {
     "data": {
      "text/plain": [
       "\u001b[36mres38\u001b[39m: \u001b[32mmutable\u001b[39m.\u001b[32mMap\u001b[39m[\u001b[32mString\u001b[39m, \u001b[32mInt\u001b[39m] = \u001b[33mMap\u001b[39m(\u001b[32m\"m\"\u001b[39m -> \u001b[32m12\u001b[39m, \u001b[32m\"d\"\u001b[39m -> \u001b[32m2\u001b[39m, \u001b[32m\"aa\"\u001b[39m -> \u001b[32m10\u001b[39m)"
      ]
     },
     "execution_count": 39,
     "metadata": {},
     "output_type": "execute_result"
    }
   ],
   "source": [
    "ms -= (\"b\",\"c\",\"k\")"
   ]
  },
  {
   "cell_type": "code",
   "execution_count": 40,
   "metadata": {},
   "outputs": [
    {
     "data": {
      "text/plain": [
       "\u001b[36mres39\u001b[39m: \u001b[32mOption\u001b[39m[\u001b[32mInt\u001b[39m] = \u001b[33mSome\u001b[39m(\u001b[32m10\u001b[39m)"
      ]
     },
     "execution_count": 40,
     "metadata": {},
     "output_type": "execute_result"
    }
   ],
   "source": [
    "ms.remove(\"aa\")"
   ]
  },
  {
   "cell_type": "code",
   "execution_count": 41,
   "metadata": {},
   "outputs": [
    {
     "data": {
      "text/plain": [
       "\u001b[36mres40\u001b[39m: \u001b[32mmutable\u001b[39m.\u001b[32mMap\u001b[39m[\u001b[32mString\u001b[39m, \u001b[32mInt\u001b[39m] = \u001b[33mMap\u001b[39m(\u001b[32m\"m\"\u001b[39m -> \u001b[32m12\u001b[39m, \u001b[32m\"d\"\u001b[39m -> \u001b[32m2\u001b[39m)"
      ]
     },
     "execution_count": 41,
     "metadata": {},
     "output_type": "execute_result"
    }
   ],
   "source": [
    "ms"
   ]
  },
  {
   "cell_type": "code",
   "execution_count": 42,
   "metadata": {},
   "outputs": [
    {
     "data": {
      "text/plain": [
       "\u001b[36mres41\u001b[39m: \u001b[32mmutable\u001b[39m.\u001b[32mMap\u001b[39m[\u001b[32mString\u001b[39m, \u001b[32mInt\u001b[39m] = \u001b[33mMap\u001b[39m(\u001b[32m\"d\"\u001b[39m -> \u001b[32m2\u001b[39m)"
      ]
     },
     "execution_count": 42,
     "metadata": {},
     "output_type": "execute_result"
    }
   ],
   "source": [
    "ms.retain{case (k,v) => k == \"d\"}"
   ]
  },
  {
   "cell_type": "code",
   "execution_count": 43,
   "metadata": {},
   "outputs": [],
   "source": [
    "ms.clear()"
   ]
  },
  {
   "cell_type": "code",
   "execution_count": 44,
   "metadata": {},
   "outputs": [
    {
     "data": {
      "text/plain": [
       "\u001b[36mres43\u001b[39m: \u001b[32mmutable\u001b[39m.\u001b[32mMap\u001b[39m[\u001b[32mString\u001b[39m, \u001b[32mInt\u001b[39m] = \u001b[33mMap\u001b[39m()"
      ]
     },
     "execution_count": 44,
     "metadata": {},
     "output_type": "execute_result"
    }
   ],
   "source": [
    "ms"
   ]
  }
 ],
 "metadata": {
  "kernelspec": {
   "display_name": "Scala 2.11.11",
   "language": "scala",
   "name": "scala"
  },
  "language_info": {
   "codemirror_mode": "text/x-scala",
   "file_extension": ".scala",
   "mimetype": "text/x-scala",
   "name": "scala211",
   "nbconvert_exporter": "script",
   "pygments_lexer": "scala",
   "version": "2.11.11"
  },
  "toc": {
   "base_numbering": 1,
   "nav_menu": {},
   "number_sections": true,
   "sideBar": true,
   "skip_h1_title": false,
   "title_cell": "Table of Contents",
   "title_sidebar": "Contents",
   "toc_cell": false,
   "toc_position": {},
   "toc_section_display": true,
   "toc_window_display": false
  }
 },
 "nbformat": 4,
 "nbformat_minor": 2
}
