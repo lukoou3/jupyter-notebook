{
 "cells": [
  {
   "cell_type": "markdown",
   "metadata": {},
   "source": [
    "## 创建Regex对象\n",
    "正则表达式可以很方便地从符合特定结构的字符串中提取数据。\n",
    "\n",
    "我们用三重双引号来表示正则表达式字符串，否则，就不得不对正则表达式的反斜杠进行转义，例如用`\\\\s` 表示`\\s`。你还可以通过创建一个Regex 类的实例来定义正则表达式，如new Regex(\"\"\"\\W\"\"\")，但这种用法并不常见。\n",
    "\n",
    "scala的scala.util.matching.Regex类封装了java的正则表达式．要构造一个Regex对象，使用String类的r方法即可:"
   ]
  },
  {
   "cell_type": "code",
   "execution_count": 1,
   "metadata": {},
   "outputs": [
    {
     "data": {
      "text/plain": [
       "\u001b[36mnumPattern\u001b[39m: \u001b[32mutil\u001b[39m.\u001b[32mmatching\u001b[39m.\u001b[32mRegex\u001b[39m = [0-9]+"
      ]
     },
     "execution_count": 1,
     "metadata": {},
     "output_type": "execute_result"
    }
   ],
   "source": [
    "val numPattern = \"[0-9]+\".r"
   ]
  },
  {
   "cell_type": "markdown",
   "metadata": {},
   "source": [
    "如果正则表达式包含反斜杠或引号的话，那么最好使用\"原始\"字符串语法\"\"\"...\"\"\":"
   ]
  },
  {
   "cell_type": "code",
   "execution_count": 5,
   "metadata": {},
   "outputs": [
    {
     "data": {
      "text/plain": [
       "\u001b[36mpositiveNumPattern\u001b[39m: \u001b[32mutil\u001b[39m.\u001b[32mmatching\u001b[39m.\u001b[32mRegex\u001b[39m = ^[1-9]\\d*$"
      ]
     },
     "execution_count": 5,
     "metadata": {},
     "output_type": "execute_result"
    }
   ],
   "source": [
    "val positiveNumPattern = \"\"\"^[1-9]\\d*$\"\"\".r"
   ]
  },
  {
   "cell_type": "markdown",
   "metadata": {},
   "source": [
    "如果在Java中使用上述正则表达式，则应该使用下面方式(需要进行转义):"
   ]
  },
  {
   "cell_type": "code",
   "execution_count": 6,
   "metadata": {},
   "outputs": [
    {
     "data": {
      "text/plain": [
       "\u001b[36mpositiveNumPattern\u001b[39m: \u001b[32mutil\u001b[39m.\u001b[32mmatching\u001b[39m.\u001b[32mRegex\u001b[39m = ^[1-9]\\d*$"
      ]
     },
     "execution_count": 6,
     "metadata": {},
     "output_type": "execute_result"
    }
   ],
   "source": [
    "val positiveNumPattern = \"^[1-9]\\\\d*$\".r"
   ]
  },
  {
   "cell_type": "markdown",
   "metadata": {},
   "source": [
    "**注意：**在三个双引号内的正则表达式中使用变量插值是无效的。你依然需要对变量插值进行转义，例如，你应该用`s\"\"\"$first\\\\s+$second\"\"\".r`，而不是`s\"\"\"$first\\s+$second\"\"\".r`。而如果你没有使用变量插值，则不必转义。"
   ]
  },
  {
   "cell_type": "code",
   "execution_count": 10,
   "metadata": {},
   "outputs": [
    {
     "data": {
      "text/plain": [
       "\u001b[36mfirst\u001b[39m: \u001b[32mString\u001b[39m = \u001b[32m\"first\"\u001b[39m\n",
       "\u001b[36msecond\u001b[39m: \u001b[32mString\u001b[39m = \u001b[32m\"second\"\u001b[39m"
      ]
     },
     "execution_count": 10,
     "metadata": {},
     "output_type": "execute_result"
    }
   ],
   "source": [
    "val (first,second) = (\"first\", \"second\")"
   ]
  },
  {
   "cell_type": "code",
   "execution_count": 12,
   "metadata": {},
   "outputs": [
    {
     "data": {
      "text/plain": [
       "\u001b[36mres11\u001b[39m: \u001b[32mutil\u001b[39m.\u001b[32mmatching\u001b[39m.\u001b[32mRegex\u001b[39m = first\\s+second"
      ]
     },
     "execution_count": 12,
     "metadata": {},
     "output_type": "execute_result"
    }
   ],
   "source": [
    "s\"\"\"$first\\\\s+$second\"\"\".r"
   ]
  },
  {
   "cell_type": "code",
   "execution_count": 13,
   "metadata": {
    "code_folding": []
   },
   "outputs": [],
   "source": [
    "//会抛出异常\n",
    "//s\"\"\"$first\\s+$second\"\"\".r"
   ]
  },
  {
   "cell_type": "markdown",
   "metadata": {},
   "source": [
    "## 正则表达式的模式匹配"
   ]
  },
  {
   "cell_type": "markdown",
   "metadata": {},
   "source": [
    "在赋值中使用re的模式匹配："
   ]
  },
  {
   "cell_type": "code",
   "execution_count": 19,
   "metadata": {},
   "outputs": [
    {
     "data": {
      "text/plain": [
       "\u001b[36mpattern\u001b[39m: \u001b[32mutil\u001b[39m.\u001b[32mmatching\u001b[39m.\u001b[32mRegex\u001b[39m = ([0-9]+) ([a-zA-Z]+)\n",
       "\u001b[36mcount\u001b[39m: \u001b[32mString\u001b[39m = \u001b[32m\"100\"\u001b[39m\n",
       "\u001b[36mfruit\u001b[39m: \u001b[32mString\u001b[39m = \u001b[32m\"Bananas\"\u001b[39m"
      ]
     },
     "execution_count": 19,
     "metadata": {},
     "output_type": "execute_result"
    }
   ],
   "source": [
    "val pattern = \"([0-9]+) ([a-zA-Z]+)\".r\n",
    "//必须完全匹配才行\n",
    "val pattern(count, fruit) = \"100 Bananas\""
   ]
  },
  {
   "cell_type": "markdown",
   "metadata": {},
   "source": [
    "更一般的re模式匹配："
   ]
  },
  {
   "cell_type": "code",
   "execution_count": 22,
   "metadata": {},
   "outputs": [
    {
     "name": "stdout",
     "output_type": "stream",
     "text": [
      "Book \"Programming Scala Second Edition\", written by Dean Wampler\n",
      "Magazine \"The New Yorker\", issue January 2014\n",
      "Unrecognized entry: 11Magazine: title=The New Yorker, issue=January 2014\n",
      "Unrecognized entry: Unknown: text=Who put this here??\n"
     ]
    },
    {
     "data": {
      "text/plain": [
       "\u001b[36mBookExtractorRE\u001b[39m: \u001b[32mutil\u001b[39m.\u001b[32mmatching\u001b[39m.\u001b[32mRegex\u001b[39m = Book: title=([^,]+),\\s+author=(.+)\n",
       "\u001b[36mMagazineExtractorRE\u001b[39m: \u001b[32mutil\u001b[39m.\u001b[32mmatching\u001b[39m.\u001b[32mRegex\u001b[39m = Magazine: title=([^,]+),\\s+issue=(.+)\n",
       "\u001b[36mcatalog\u001b[39m: \u001b[32mSeq\u001b[39m[\u001b[32mString\u001b[39m] = \u001b[33mList\u001b[39m(\n",
       "  \u001b[32m\"Book: title=Programming Scala Second Edition, author=Dean Wampler\"\u001b[39m,\n",
       "  \u001b[32m\"Magazine: title=The New Yorker, issue=January 2014\"\u001b[39m,\n",
       "  \u001b[32m\"11Magazine: title=The New Yorker, issue=January 2014\"\u001b[39m,\n",
       "  \u001b[32m\"Unknown: text=Who put this here??\"\u001b[39m\n",
       ")"
      ]
     },
     "execution_count": 22,
     "metadata": {},
     "output_type": "execute_result"
    }
   ],
   "source": [
    "/*\n",
    "该正则表达式匹配一个用于表示书本的字符串，其中有两个捕捉组（注意正则表达式中的括号），一个表示标题，一个表示作者。\n",
    "调用r 方法以创建正则表达式。\n",
    "第二个正则表达式匹配一个用于表示杂志的字符串，其中的捕捉组表示杂志标题和发行时间。\n",
    "*/\n",
    "val BookExtractorRE = \"\"\"Book: title=([^,]+),\\s+author=(.+)\"\"\".r\n",
    "val MagazineExtractorRE = \"\"\"Magazine: title=([^,]+),\\s+issue=(.+)\"\"\".r\n",
    "\n",
    "val catalog = Seq(\n",
    "  \"Book: title=Programming Scala Second Edition, author=Dean Wampler\",\n",
    "  \"Magazine: title=The New Yorker, issue=January 2014\",\n",
    "  \"11Magazine: title=The New Yorker, issue=January 2014\",//也必须是完全匹配\n",
    "  \"Unknown: text=Who put this here??\"\n",
    ")\n",
    "\n",
    "for (item <- catalog) {\n",
    "  item match {\n",
    "    case BookExtractorRE(title, author) =>\n",
    "      println(s\"\"\"Book \"$title\", written by $author\"\"\")\n",
    "    case MagazineExtractorRE(title, issue) =>\n",
    "      println(s\"\"\"Magazine \"$title\", issue $issue\"\"\")\n",
    "    case entry => println(s\"Unrecognized entry: $entry\")\n",
    "  }\n",
    "}"
   ]
  },
  {
   "cell_type": "markdown",
   "metadata": {},
   "source": [
    "如果想从多个匹配项中提取分组内容，可以使用如下命令:"
   ]
  },
  {
   "cell_type": "code",
   "execution_count": 24,
   "metadata": {},
   "outputs": [
    {
     "name": "stdout",
     "output_type": "stream",
     "text": [
      "3---a\n",
      "4---f\n",
      "3---a\n",
      "4---f\n"
     ]
    },
    {
     "data": {
      "text/plain": [
       "\u001b[36mstr\u001b[39m: \u001b[32mString\u001b[39m = \u001b[32m\"3 a b c 4 f\"\u001b[39m\n",
       "\u001b[36mnumPattern\u001b[39m: \u001b[32mutil\u001b[39m.\u001b[32mmatching\u001b[39m.\u001b[32mRegex\u001b[39m = ([0-9]+) ([a-z]+)"
      ]
     },
     "execution_count": 24,
     "metadata": {},
     "output_type": "execute_result"
    }
   ],
   "source": [
    "val str = \"3 a b c 4 f\"\n",
    "val numPattern = \"([0-9]+) ([a-z]+)\".r\n",
    "for(numPattern(num, letter) <- numPattern.findAllIn(str)){\n",
    "    println(num + \"---\"+letter)\n",
    "}\n",
    "\n",
    "for(numPattern(num, letter) <- numPattern.findAllMatchIn(str)){\n",
    "    println(num + \"---\"+letter)\n",
    "}"
   ]
  },
  {
   "cell_type": "code",
   "execution_count": 73,
   "metadata": {},
   "outputs": [
    {
     "data": {
      "text/plain": [
       "\u001b[36mmadhatter\u001b[39m: \u001b[32mRegex\u001b[39m = (h)(?=(at[^a]+))\n",
       "\u001b[36mmadhats\u001b[39m: \u001b[32mList\u001b[39m[\u001b[32mString\u001b[39m] = \u001b[33mList\u001b[39m(\u001b[32m\"hath\"\u001b[39m, \u001b[32m\"hatth\"\u001b[39m, \u001b[32m\"hattth\"\u001b[39m, \u001b[32m\"hatttt\"\u001b[39m)"
      ]
     },
     "execution_count": 73,
     "metadata": {},
     "output_type": "execute_result"
    }
   ],
   "source": [
    "val madhatter = \"(h)(?=(at[^a]+))\".r\n",
    "val madhats   = (madhatter findAllMatchIn hathaway map {\n",
    "    case madhatter(x,y) => s\"$x$y\"\n",
    "}).toList     // List(hath, hatth, hattth, hatttt)"
   ]
  },
  {
   "cell_type": "code",
   "execution_count": 74,
   "metadata": {},
   "outputs": [
    {
     "data": {
      "text/plain": [
       "\u001b[32mimport \u001b[39m\u001b[36mscala.util.matching.Regex\n",
       "\u001b[39m\n",
       "\u001b[36mdatePattern\u001b[39m: \u001b[32mRegex\u001b[39m = (\\d\\d\\d\\d)-(\\d\\d)-(\\d\\d)\n",
       "\u001b[36mtext\u001b[39m: \u001b[32mString\u001b[39m = \u001b[32m\"From 2011-07-15 to 2011-07-17\"\u001b[39m\n",
       "\u001b[36mrepl\u001b[39m: \u001b[32mString\u001b[39m = \u001b[32m\"From 07/15 to 07/17\"\u001b[39m"
      ]
     },
     "execution_count": 74,
     "metadata": {},
     "output_type": "execute_result"
    }
   ],
   "source": [
    "import scala.util.matching.Regex\n",
    "val datePattern = new Regex(\"\"\"(\\d\\d\\d\\d)-(\\d\\d)-(\\d\\d)\"\"\", \"year\", \"month\", \"day\")\n",
    "val text = \"From 2011-07-15 to 2011-07-17\"\n",
    "val repl = datePattern replaceAllIn (text, m => s\"${m group \"month\"}/${m group \"day\"}\")"
   ]
  },
  {
   "cell_type": "markdown",
   "metadata": {},
   "source": [
    "## Regex常用方法"
   ]
  },
  {
   "cell_type": "markdown",
   "metadata": {},
   "source": [
    "### findFirstIn与findFirstMatchIn\n",
    "方法findFirstIn可以匹配到第一个符合正则表达式规则的字符串，没有匹配到任何结果的情况下返回None。\n",
    "\n",
    "```scala\n",
    "  def findFirstIn(source: CharSequence): Option[String] = {\n",
    "    val m = pattern.matcher(source)\n",
    "    if (m.find) Some(m.group) else None\n",
    "  }\n",
    "\n",
    "  def findFirstMatchIn(source: CharSequence): Option[Match] = {\n",
    "    val m = pattern.matcher(source)\n",
    "    if (m.find) Some(new Match(source, m, groupNames)) else None\n",
    "  }\n",
    "```"
   ]
  },
  {
   "cell_type": "markdown",
   "metadata": {},
   "source": [
    "先看看官方代码的事例："
   ]
  },
  {
   "cell_type": "code",
   "execution_count": 45,
   "metadata": {},
   "outputs": [
    {
     "name": "stdout",
     "output_type": "stream",
     "text": [
      "A\n"
     ]
    }
   ],
   "source": [
    "\"\"\"\\w+\"\"\".r findFirstIn \"A simple example.\" foreach println // prints \"A\""
   ]
  },
  {
   "cell_type": "code",
   "execution_count": 46,
   "metadata": {},
   "outputs": [
    {
     "data": {
      "text/plain": [
       "\u001b[36mres45\u001b[39m: \u001b[32mOption\u001b[39m[\u001b[32mInt\u001b[39m] = \u001b[33mSome\u001b[39m(\u001b[32m2\u001b[39m)"
      ]
     },
     "execution_count": 46,
     "metadata": {},
     "output_type": "execute_result"
    }
   ],
   "source": [
    "(\"\"\"[a-z]\"\"\".r findFirstMatchIn \"A simple example.\") map (_.start) "
   ]
  },
  {
   "cell_type": "markdown",
   "metadata": {},
   "source": [
    "自己测试一下："
   ]
  },
  {
   "cell_type": "code",
   "execution_count": 25,
   "metadata": {},
   "outputs": [
    {
     "data": {
      "text/plain": [
       "\u001b[36mstr\u001b[39m: \u001b[32mString\u001b[39m = \u001b[32m\"aaa1122ff3344gg5566\"\u001b[39m\n",
       "\u001b[36mnumPattern\u001b[39m: \u001b[32mutil\u001b[39m.\u001b[32mmatching\u001b[39m.\u001b[32mRegex\u001b[39m = [0-9]+"
      ]
     },
     "execution_count": 25,
     "metadata": {},
     "output_type": "execute_result"
    }
   ],
   "source": [
    "val str = \"aaa1122ff3344gg5566\"\n",
    "val numPattern = \"[0-9]+\".r"
   ]
  },
  {
   "cell_type": "code",
   "execution_count": 34,
   "metadata": {},
   "outputs": [
    {
     "data": {
      "text/plain": [
       "\u001b[36mmatchOption\u001b[39m: \u001b[32mOption\u001b[39m[\u001b[32mString\u001b[39m] = \u001b[33mSome\u001b[39m(\u001b[32m\"1122\"\u001b[39m)"
      ]
     },
     "execution_count": 34,
     "metadata": {},
     "output_type": "execute_result"
    }
   ],
   "source": [
    "val matchOption = numPattern.findFirstIn(str)"
   ]
  },
  {
   "cell_type": "code",
   "execution_count": 36,
   "metadata": {},
   "outputs": [
    {
     "data": {
      "text/plain": [
       "\u001b[36mres35\u001b[39m: \u001b[32mString\u001b[39m = \u001b[32m\"1122\"\u001b[39m"
      ]
     },
     "execution_count": 36,
     "metadata": {},
     "output_type": "execute_result"
    }
   ],
   "source": [
    "//此函数不能带参数\n",
    "matchOption.get"
   ]
  },
  {
   "cell_type": "code",
   "execution_count": 38,
   "metadata": {},
   "outputs": [
    {
     "data": {
      "text/plain": [
       "\u001b[36mmatchOption\u001b[39m: \u001b[32mOption\u001b[39m[\u001b[32mutil\u001b[39m.\u001b[32mmatching\u001b[39m.\u001b[32mRegex\u001b[39m.\u001b[32mMatch\u001b[39m] = \u001b[33mSome\u001b[39m(1122)"
      ]
     },
     "execution_count": 38,
     "metadata": {},
     "output_type": "execute_result"
    }
   ],
   "source": [
    "val matchOption = numPattern.findFirstMatchIn(str)"
   ]
  },
  {
   "cell_type": "code",
   "execution_count": 39,
   "metadata": {},
   "outputs": [
    {
     "data": {
      "text/plain": [
       "\u001b[36mmatchRst\u001b[39m: \u001b[32mutil\u001b[39m.\u001b[32mmatching\u001b[39m.\u001b[32mRegex\u001b[39m.\u001b[32mMatch\u001b[39m = 1122"
      ]
     },
     "execution_count": 39,
     "metadata": {},
     "output_type": "execute_result"
    }
   ],
   "source": [
    "val matchRst = matchOption.get"
   ]
  },
  {
   "cell_type": "code",
   "execution_count": 40,
   "metadata": {},
   "outputs": [
    {
     "data": {
      "text/plain": [
       "\u001b[36mres39\u001b[39m: \u001b[32mString\u001b[39m = \u001b[32m\"1122\"\u001b[39m"
      ]
     },
     "execution_count": 40,
     "metadata": {},
     "output_type": "execute_result"
    }
   ],
   "source": [
    "matchRst.matched"
   ]
  },
  {
   "cell_type": "code",
   "execution_count": 41,
   "metadata": {},
   "outputs": [
    {
     "data": {
      "text/plain": [
       "\u001b[36mres40\u001b[39m: \u001b[32mString\u001b[39m = \u001b[32m\"1122\"\u001b[39m"
      ]
     },
     "execution_count": 41,
     "metadata": {},
     "output_type": "execute_result"
    }
   ],
   "source": [
    "matchRst.group(0)"
   ]
  },
  {
   "cell_type": "code",
   "execution_count": 43,
   "metadata": {},
   "outputs": [
    {
     "data": {
      "text/plain": [
       "\u001b[36mres42\u001b[39m: \u001b[32mInt\u001b[39m = \u001b[32m7\u001b[39m"
      ]
     },
     "execution_count": 43,
     "metadata": {},
     "output_type": "execute_result"
    }
   ],
   "source": [
    "matchRst.end"
   ]
  },
  {
   "cell_type": "markdown",
   "metadata": {},
   "source": [
    "### findAllIn与findAllMatchIn\n",
    "方法findAllIn可以匹配到所有符合正则表达式规则的字符串，返回的结果是一个Iterator。你可以把它转化为一个Array来使用。如果没有匹配到任何符合规则的字符换那么，它将返回一个空Iterator。\n",
    "```scala\n",
    "  def findAllIn(source: CharSequence) = new Regex.MatchIterator(source, this, groupNames)\n",
    "\n",
    "  def findAllMatchIn(source: CharSequence): Iterator[Match]\n",
    "```"
   ]
  },
  {
   "cell_type": "markdown",
   "metadata": {},
   "source": [
    "先看看官方代码的事例："
   ]
  },
  {
   "cell_type": "code",
   "execution_count": 47,
   "metadata": {},
   "outputs": [
    {
     "data": {
      "text/plain": [
       "\u001b[36mhat\u001b[39m: \u001b[32mutil\u001b[39m.\u001b[32mmatching\u001b[39m.\u001b[32mRegex\u001b[39m = hat[^a]+\n",
       "\u001b[36mhathaway\u001b[39m: \u001b[32mString\u001b[39m = \u001b[32m\"hathatthattthatttt\"\u001b[39m\n",
       "\u001b[36mhats\u001b[39m: \u001b[32mList\u001b[39m[\u001b[32mString\u001b[39m] = \u001b[33mList\u001b[39m(\u001b[32m\"hath\"\u001b[39m, \u001b[32m\"hattth\"\u001b[39m)\n",
       "\u001b[36mpos\u001b[39m: \u001b[32mList\u001b[39m[\u001b[32mInt\u001b[39m] = \u001b[33mList\u001b[39m(\u001b[32m0\u001b[39m, \u001b[32m7\u001b[39m)"
      ]
     },
     "execution_count": 47,
     "metadata": {},
     "output_type": "execute_result"
    }
   ],
   "source": [
    "val hat  = \"hat[^a]+\".r\n",
    "val hathaway = \"hathatthattthatttt\"\n",
    "val hats = (hat findAllIn hathaway).toList                     // List(hath, hattth)\n",
    "val pos  = (hat findAllMatchIn hathaway map (_.start)).toList  // List(0, 7)"
   ]
  },
  {
   "cell_type": "code",
   "execution_count": 48,
   "metadata": {},
   "outputs": [
    {
     "data": {
      "text/plain": [
       "\u001b[36mmadhatter\u001b[39m: \u001b[32mutil\u001b[39m.\u001b[32mmatching\u001b[39m.\u001b[32mRegex\u001b[39m = (h)(?=(at[^a]+))\n",
       "\u001b[36mmadhats\u001b[39m: \u001b[32mList\u001b[39m[\u001b[32mString\u001b[39m] = \u001b[33mList\u001b[39m(\u001b[32m\"hath\"\u001b[39m, \u001b[32m\"hatth\"\u001b[39m, \u001b[32m\"hattth\"\u001b[39m, \u001b[32m\"hatttt\"\u001b[39m)"
      ]
     },
     "execution_count": 48,
     "metadata": {},
     "output_type": "execute_result"
    }
   ],
   "source": [
    "val madhatter = \"(h)(?=(at[^a]+))\".r\n",
    "val madhats   = (madhatter findAllMatchIn hathaway map {\n",
    "    case madhatter(x,y) => s\"$x$y\"\n",
    "}).toList     // List(hath, hatth, hattth, hatttt)"
   ]
  },
  {
   "cell_type": "code",
   "execution_count": 49,
   "metadata": {},
   "outputs": [
    {
     "data": {
      "text/plain": [
       "\u001b[36mres48\u001b[39m: \u001b[32mIterator\u001b[39m[\u001b[32mString\u001b[39m] = non-empty iterator"
      ]
     },
     "execution_count": 49,
     "metadata": {},
     "output_type": "execute_result"
    }
   ],
   "source": [
    "for (words <- \"\"\"\\w+\"\"\".r findAllIn \"A simple example.\") yield words"
   ]
  },
  {
   "cell_type": "code",
   "execution_count": 51,
   "metadata": {},
   "outputs": [
    {
     "data": {
      "text/plain": [
       "\u001b[36mres50\u001b[39m: \u001b[32mList\u001b[39m[\u001b[32mString\u001b[39m] = \u001b[33mList\u001b[39m(\u001b[32m\"A\"\u001b[39m, \u001b[32m\"simple\"\u001b[39m, \u001b[32m\"example\"\u001b[39m)"
      ]
     },
     "execution_count": 51,
     "metadata": {},
     "output_type": "execute_result"
    }
   ],
   "source": [
    "(for (words <- \"\"\"\\w+\"\"\".r findAllIn \"A simple example.\") yield words) toList"
   ]
  },
  {
   "cell_type": "code",
   "execution_count": 52,
   "metadata": {},
   "outputs": [
    {
     "data": {
      "text/plain": [
       "\u001b[36mres51\u001b[39m: \u001b[32mIterator\u001b[39m[\u001b[32mInt\u001b[39m] = non-empty iterator"
      ]
     },
     "execution_count": 52,
     "metadata": {},
     "output_type": "execute_result"
    }
   ],
   "source": [
    "for (words <- \"\"\"\\w+\"\"\".r findAllMatchIn \"A simple example.\") yield words.start"
   ]
  },
  {
   "cell_type": "code",
   "execution_count": 54,
   "metadata": {},
   "outputs": [
    {
     "data": {
      "text/plain": [
       "\u001b[36mres53\u001b[39m: \u001b[32mList\u001b[39m[\u001b[32mInt\u001b[39m] = \u001b[33mList\u001b[39m(\u001b[32m0\u001b[39m, \u001b[32m2\u001b[39m, \u001b[32m9\u001b[39m)"
      ]
     },
     "execution_count": 54,
     "metadata": {},
     "output_type": "execute_result"
    }
   ],
   "source": [
    "(for (words <- \"\"\"\\w+\"\"\".r findAllMatchIn \"A simple example.\") yield words.start).toList"
   ]
  },
  {
   "cell_type": "markdown",
   "metadata": {},
   "source": [
    "自己测试一下："
   ]
  },
  {
   "cell_type": "code",
   "execution_count": 55,
   "metadata": {},
   "outputs": [
    {
     "data": {
      "text/plain": [
       "\u001b[36mstr\u001b[39m: \u001b[32mString\u001b[39m = \u001b[32m\"aaa1122ff3344gg5566\"\u001b[39m\n",
       "\u001b[36mnumPattern\u001b[39m: \u001b[32mutil\u001b[39m.\u001b[32mmatching\u001b[39m.\u001b[32mRegex\u001b[39m = [0-9]+"
      ]
     },
     "execution_count": 55,
     "metadata": {},
     "output_type": "execute_result"
    }
   ],
   "source": [
    "val str = \"aaa1122ff3344gg5566\"\n",
    "val numPattern = \"[0-9]+\".r"
   ]
  },
  {
   "cell_type": "code",
   "execution_count": 57,
   "metadata": {},
   "outputs": [
    {
     "data": {
      "text/plain": [
       "\u001b[36mres56\u001b[39m: \u001b[32mList\u001b[39m[\u001b[32mString\u001b[39m] = \u001b[33mList\u001b[39m(\u001b[32m\"1122\"\u001b[39m, \u001b[32m\"3344\"\u001b[39m, \u001b[32m\"5566\"\u001b[39m)"
      ]
     },
     "execution_count": 57,
     "metadata": {},
     "output_type": "execute_result"
    }
   ],
   "source": [
    "numPattern.findAllIn(str).toList"
   ]
  },
  {
   "cell_type": "code",
   "execution_count": 58,
   "metadata": {},
   "outputs": [
    {
     "data": {
      "text/plain": [
       "\u001b[36mres57\u001b[39m: \u001b[32mList\u001b[39m[\u001b[32mutil\u001b[39m.\u001b[32mmatching\u001b[39m.\u001b[32mRegex\u001b[39m.\u001b[32mMatch\u001b[39m] = \u001b[33mList\u001b[39m(1122, 3344, 5566)"
      ]
     },
     "execution_count": 58,
     "metadata": {},
     "output_type": "execute_result"
    }
   ],
   "source": [
    "numPattern.findAllMatchIn(str).toList"
   ]
  },
  {
   "cell_type": "code",
   "execution_count": 60,
   "metadata": {},
   "outputs": [
    {
     "data": {
      "text/plain": [
       "\u001b[36mres59\u001b[39m: \u001b[32mList\u001b[39m[\u001b[32mString\u001b[39m] = \u001b[33mList\u001b[39m(\u001b[32m\"1122\"\u001b[39m, \u001b[32m\"3344\"\u001b[39m, \u001b[32m\"5566\"\u001b[39m)"
      ]
     },
     "execution_count": 60,
     "metadata": {},
     "output_type": "execute_result"
    }
   ],
   "source": [
    "numPattern.findAllMatchIn(str).map(_.matched).toList"
   ]
  },
  {
   "cell_type": "markdown",
   "metadata": {},
   "source": [
    "### findPrefixOf与findPrefixMatchOf\n",
    "和findFirstIn不同，此方法从字符串的开头开始匹配，和python re的match方法类似\n",
    "```scala\n",
    "  def findPrefixOf(source: CharSequence): Option[String] = {\n",
    "    val m = pattern.matcher(source)\n",
    "    if (m.lookingAt) Some(m.group) else None\n",
    "  }\n",
    "\n",
    "  def findPrefixMatchOf(source: CharSequence): Option[Match] = {\n",
    "    val m = pattern.matcher(source)\n",
    "    if (m.lookingAt) Some(new Match(source, m, groupNames)) else None\n",
    "  }\n",
    "```"
   ]
  },
  {
   "cell_type": "code",
   "execution_count": 61,
   "metadata": {},
   "outputs": [
    {
     "data": {
      "text/plain": [
       "\u001b[36mres60\u001b[39m: \u001b[32mOption\u001b[39m[\u001b[32mString\u001b[39m] = None"
      ]
     },
     "execution_count": 61,
     "metadata": {},
     "output_type": "execute_result"
    }
   ],
   "source": [
    "// returns None, since the text does not begin with a lowercase letter\n",
    "\"\"\"\\p{Lower}\"\"\".r findPrefixOf \"A simple example.\""
   ]
  },
  {
   "cell_type": "code",
   "execution_count": 62,
   "metadata": {},
   "outputs": [
    {
     "data": {
      "text/plain": [
       "\u001b[36mres61\u001b[39m: \u001b[32mOption\u001b[39m[\u001b[32mCharSequence\u001b[39m] = \u001b[33mSome\u001b[39m( simple example.)"
      ]
     },
     "execution_count": 62,
     "metadata": {},
     "output_type": "execute_result"
    }
   ],
   "source": [
    "// returns Some(\" simple example.\")\n",
    "\"\"\"\\w+\"\"\".r findPrefixMatchOf \"A simple example.\" map (_.after) "
   ]
  },
  {
   "cell_type": "code",
   "execution_count": 63,
   "metadata": {},
   "outputs": [
    {
     "data": {
      "text/plain": [
       "\u001b[36mres62\u001b[39m: \u001b[32mOption\u001b[39m[\u001b[32mutil\u001b[39m.\u001b[32mmatching\u001b[39m.\u001b[32mRegex\u001b[39m.\u001b[32mMatch\u001b[39m] = \u001b[33mSome\u001b[39m(A)"
      ]
     },
     "execution_count": 63,
     "metadata": {},
     "output_type": "execute_result"
    }
   ],
   "source": [
    "\"\"\"\\w+\"\"\".r findPrefixMatchOf \"A simple example.\""
   ]
  },
  {
   "cell_type": "markdown",
   "metadata": {},
   "source": [
    "### replaceFirstIn、replaceSomeIn、replaceAllIn\n",
    "用于替换字符串\n",
    "```scala\n",
    "  def replaceAllIn(target: CharSequence, replacement: String): String\n",
    "\n",
    "  def replaceAllIn(target: CharSequence, replacer: Match => String): String\n",
    "\n",
    "  def replaceSomeIn(target: CharSequence, replacer: Match => Option[String]): String\n",
    "\n",
    "  def replaceFirstIn(target: CharSequence, replacement: String): String\n",
    "```"
   ]
  },
  {
   "cell_type": "markdown",
   "metadata": {},
   "source": [
    "我们可以调用字符串的replaceAll方法来进行字符换替换，这个方法接收两个参数，第一个是正则表达，第二个是要被替换成的字符串。"
   ]
  },
  {
   "cell_type": "code",
   "execution_count": 64,
   "metadata": {},
   "outputs": [
    {
     "data": {
      "text/plain": [
       "\u001b[36mres63\u001b[39m: \u001b[32mString\u001b[39m = \u001b[32m\"xxx Main Street\"\u001b[39m"
      ]
     },
     "execution_count": 64,
     "metadata": {},
     "output_type": "execute_result"
    }
   ],
   "source": [
    "\"123 Main Street\".replaceAll(\"[0-9]\", \"x\")"
   ]
  },
  {
   "cell_type": "markdown",
   "metadata": {},
   "source": [
    "还有一种方式是，提前编译好一个正则表达式，然后调用正则表达式的replaceAllIn方法来进行替换。"
   ]
  },
  {
   "cell_type": "code",
   "execution_count": 65,
   "metadata": {},
   "outputs": [
    {
     "data": {
      "text/plain": [
       "\u001b[36mres64\u001b[39m: \u001b[32mString\u001b[39m = \u001b[32m\"xxx Main Street\"\u001b[39m"
      ]
     },
     "execution_count": 65,
     "metadata": {},
     "output_type": "execute_result"
    }
   ],
   "source": [
    "\"[0-9]\".r.replaceAllIn(\"123 Main Street\", \"x\")"
   ]
  },
  {
   "cell_type": "markdown",
   "metadata": {},
   "source": [
    "如果你只想替换第一次出现的位置的字符换，而不是所有匹配的位置，那么你可以使用字符串的replaceFirst或者正则表达式的replaceFirstIn方法。"
   ]
  },
  {
   "cell_type": "code",
   "execution_count": 66,
   "metadata": {},
   "outputs": [
    {
     "data": {
      "text/plain": [
       "\u001b[36mres65\u001b[39m: \u001b[32mString\u001b[39m = \u001b[32m\"x23\"\u001b[39m"
      ]
     },
     "execution_count": 66,
     "metadata": {},
     "output_type": "execute_result"
    }
   ],
   "source": [
    "\"123\".replaceFirst(\"[0-9]\", \"x\")"
   ]
  },
  {
   "cell_type": "code",
   "execution_count": 67,
   "metadata": {},
   "outputs": [
    {
     "data": {
      "text/plain": [
       "\u001b[36mres66\u001b[39m: \u001b[32mString\u001b[39m = \u001b[32m\"x23\"\u001b[39m"
      ]
     },
     "execution_count": 67,
     "metadata": {},
     "output_type": "execute_result"
    }
   ],
   "source": [
    "\"[0-9]\".r.replaceFirstIn(\"123\",\"x\")"
   ]
  },
  {
   "cell_type": "markdown",
   "metadata": {},
   "source": [
    "来看看官方代码更为灵活的替换："
   ]
  },
  {
   "cell_type": "code",
   "execution_count": 68,
   "metadata": {},
   "outputs": [
    {
     "data": {
      "text/plain": [
       "\u001b[32mimport \u001b[39m\u001b[36mutil.matching.Regex.{Match,quoteReplacement}\n",
       "\u001b[39m\n",
       "\u001b[36mvars\u001b[39m: \u001b[32mMap\u001b[39m[\u001b[32mString\u001b[39m, \u001b[32mString\u001b[39m] = \u001b[33mMap\u001b[39m(\n",
       "  \u001b[32m\"x\"\u001b[39m -> \u001b[32m\"a var\"\u001b[39m,\n",
       "  \u001b[32m\"y\"\u001b[39m -> \u001b[32m\"\"\"\n",
       "some $ and \\ signs\n",
       "  \"\"\"\u001b[39m\n",
       ")\n",
       "\u001b[36mtext\u001b[39m: \u001b[32mString\u001b[39m = \u001b[32m\"A text with variables %x, %y and %z.\"\u001b[39m\n",
       "\u001b[36mvarPattern\u001b[39m: \u001b[32mutil\u001b[39m.\u001b[32mmatching\u001b[39m.\u001b[32mRegex\u001b[39m = %(\\w+)\n",
       "\u001b[36mmapper\u001b[39m: \u001b[32mutil\u001b[39m.\u001b[32mmatching\u001b[39m.\u001b[32mRegex\u001b[39m.\u001b[32mMatch\u001b[39m => \u001b[32mOption\u001b[39m[\u001b[32mString\u001b[39m] = <function1>\n",
       "\u001b[36mrepl\u001b[39m: \u001b[32mString\u001b[39m = \u001b[32m\"\"\"\n",
       "A text with variables a var, some $ and \\ signs and %z.\n",
       "\"\"\"\u001b[39m"
      ]
     },
     "execution_count": 68,
     "metadata": {},
     "output_type": "execute_result"
    }
   ],
   "source": [
    "import util.matching.Regex.{Match,quoteReplacement}\n",
    "val vars = Map(\"x\" -> \"a var\", \"y\" -> \"\"\"some $ and \\ signs\"\"\")\n",
    "val text = \"A text with variables %x, %y and %z.\"\n",
    "val varPattern = \"\"\"%(\\w+)\"\"\".r\n",
    "val mapper = (m: Match) => vars get (m group 1) map (quoteReplacement(_))\n",
    "val repl = varPattern replaceSomeIn (text, mapper)"
   ]
  },
  {
   "cell_type": "code",
   "execution_count": 69,
   "metadata": {},
   "outputs": [
    {
     "data": {
      "text/plain": [
       "\u001b[36mres68\u001b[39m: \u001b[32mOption\u001b[39m[\u001b[32mString\u001b[39m] = \u001b[33mSome\u001b[39m(\u001b[32m\"a var\"\u001b[39m)"
      ]
     },
     "execution_count": 69,
     "metadata": {},
     "output_type": "execute_result"
    }
   ],
   "source": [
    "vars get (\"x\") map (quoteReplacement(_))"
   ]
  },
  {
   "cell_type": "code",
   "execution_count": 70,
   "metadata": {},
   "outputs": [
    {
     "data": {
      "text/plain": [
       "\u001b[36mres69\u001b[39m: \u001b[32mOption\u001b[39m[\u001b[32mString\u001b[39m] = \u001b[33mSome\u001b[39m(\u001b[32m\"a var\"\u001b[39m)"
      ]
     },
     "execution_count": 70,
     "metadata": {},
     "output_type": "execute_result"
    }
   ],
   "source": [
    "vars get (\"x\")"
   ]
  },
  {
   "cell_type": "code",
   "execution_count": 71,
   "metadata": {},
   "outputs": [
    {
     "data": {
      "text/plain": [
       "\u001b[36mmapper\u001b[39m: \u001b[32mMatch\u001b[39m => \u001b[32mOption\u001b[39m[\u001b[32mString\u001b[39m] = <function1>\n",
       "\u001b[36mrepl\u001b[39m: \u001b[32mString\u001b[39m = \u001b[32m\"\"\"\n",
       "A text with variables a var, some $ and \\ signs and %z.\n",
       "\"\"\"\u001b[39m"
      ]
     },
     "execution_count": 71,
     "metadata": {},
     "output_type": "execute_result"
    }
   ],
   "source": [
    "val mapper = (m: Match) => vars get (m group 1) map (quoteReplacement(_))\n",
    "val repl = varPattern replaceSomeIn (text, mapper)"
   ]
  },
  {
   "cell_type": "code",
   "execution_count": 72,
   "metadata": {},
   "outputs": [
    {
     "data": {
      "text/plain": [
       "\u001b[32mimport \u001b[39m\u001b[36mscala.util.matching.Regex\n",
       "\u001b[39m\n",
       "\u001b[36mdatePattern\u001b[39m: \u001b[32mutil\u001b[39m.\u001b[32mmatching\u001b[39m.\u001b[32mRegex\u001b[39m = (\\d\\d\\d\\d)-(\\d\\d)-(\\d\\d)\n",
       "\u001b[36mtext\u001b[39m: \u001b[32mString\u001b[39m = \u001b[32m\"From 2011-07-15 to 2011-07-17\"\u001b[39m\n",
       "\u001b[36mrepl\u001b[39m: \u001b[32mString\u001b[39m = \u001b[32m\"From 07/15 to 07/17\"\u001b[39m"
      ]
     },
     "execution_count": 72,
     "metadata": {},
     "output_type": "execute_result"
    }
   ],
   "source": [
    "import scala.util.matching.Regex\n",
    "val datePattern = new Regex(\"\"\"(\\d\\d\\d\\d)-(\\d\\d)-(\\d\\d)\"\"\", \"year\", \"month\", \"day\")\n",
    "val text = \"From 2011-07-15 to 2011-07-17\"\n",
    "val repl = datePattern replaceAllIn (text, m => s\"${m group \"month\"}/${m group \"day\"}\")"
   ]
  },
  {
   "cell_type": "markdown",
   "metadata": {},
   "source": [
    "### Regex常用方法源码"
   ]
  },
  {
   "cell_type": "markdown",
   "metadata": {},
   "source": [
    "#### findFirstIn与findFirstMatchIn\n",
    "方法findFirstIn可以匹配到第一个符合正则表达式规则的字符串，没有匹配到任何结果的情况下返回None。\n",
    "\n",
    "```scala\n",
    "  /** Return an optional first matching string of this `Regex` in the given character sequence,\n",
    "   *  or None if there is no match.\n",
    "   *\n",
    "   *  @param source The text to match against.\n",
    "   *  @return       An [[scala.Option]] of the first matching string in the text.\n",
    "   *  @example      {{{\"\"\"\\w+\"\"\".r findFirstIn \"A simple example.\" foreach println // prints \"A\"}}}\n",
    "   */\n",
    "  def findFirstIn(source: CharSequence): Option[String] = {\n",
    "    val m = pattern.matcher(source)\n",
    "    if (m.find) Some(m.group) else None\n",
    "  }\n",
    "\n",
    "  /** Return an optional first match of this `Regex` in the given character sequence,\n",
    "   *  or None if it does not exist.\n",
    "   *\n",
    "   *  If the match is successful, the [[scala.util.matching.Regex.Match]] can be queried for\n",
    "   *  more data.\n",
    "   *\n",
    "   *  @param source The text to match against.\n",
    "   *  @return       A [[scala.Option]] of [[scala.util.matching.Regex.Match]] of the first matching string in the text.\n",
    "   *  @example      {{{(\"\"\"[a-z]\"\"\".r findFirstMatchIn \"A simple example.\") map (_.start) // returns Some(2), the index of the first match in the text}}}\n",
    "   */\n",
    "  def findFirstMatchIn(source: CharSequence): Option[Match] = {\n",
    "    val m = pattern.matcher(source)\n",
    "    if (m.find) Some(new Match(source, m, groupNames)) else None\n",
    "  }\n",
    "```"
   ]
  },
  {
   "cell_type": "markdown",
   "metadata": {},
   "source": [
    "#### findAllIn与findAllMatchIn\n",
    "方法findAllIn可以匹配到所有符合正则表达式规则的字符串，返回的结果是一个Iterator。你可以把它转化为一个Array来使用。如果没有匹配到任何符合规则的字符换那么，它将返回一个空Iterator。\n",
    "```scala\n",
    "  /** Return all non-overlapping matches of this `Regex` in the given character \n",
    "   *  sequence as a [[scala.util.matching.Regex.MatchIterator]],\n",
    "   *  which is a special [[scala.collection.Iterator]] that returns the\n",
    "   *  matched strings but can also be queried for more data about the last match,\n",
    "   *  such as capturing groups and start position.\n",
    "   * \n",
    "   *  A `MatchIterator` can also be converted into an iterator\n",
    "   *  that returns objects of type [[scala.util.matching.Regex.Match]],\n",
    "   *  such as is normally returned by `findAllMatchIn`.\n",
    "   * \n",
    "   *  Where potential matches overlap, the first possible match is returned,\n",
    "   *  followed by the next match that follows the input consumed by the\n",
    "   *  first match:\n",
    "   *\n",
    "   *  {{{\n",
    "   *  val hat  = \"hat[^a]+\".r\n",
    "   *  val hathaway = \"hathatthattthatttt\"\n",
    "   *  val hats = (hat findAllIn hathaway).toList                     // List(hath, hattth)\n",
    "   *  val pos  = (hat findAllMatchIn hathaway map (_.start)).toList  // List(0, 7)\n",
    "   *  }}}\n",
    "   *\n",
    "   *  To return overlapping matches, it is possible to formulate a regular expression\n",
    "   *  with lookahead (`?=`) that does not consume the overlapping region.\n",
    "   *\n",
    "   *  {{{\n",
    "   *  val madhatter = \"(h)(?=(at[^a]+))\".r\n",
    "   *  val madhats   = (madhatter findAllMatchIn hathaway map {\n",
    "   *    case madhatter(x,y) => s\"$x$y\"\n",
    "   *  }).toList                                       // List(hath, hatth, hattth, hatttt)\n",
    "   *  }}}\n",
    "   *\n",
    "   *  Attempting to retrieve match information before performing the first match\n",
    "   *  or after exhausting the iterator results in [[java.lang.IllegalStateException]].\n",
    "   *  See [[scala.util.matching.Regex.MatchIterator]] for details.\n",
    "   *\n",
    "   *  @param source The text to match against.\n",
    "   *  @return       A [[scala.util.matching.Regex.MatchIterator]] of matched substrings.\n",
    "   *  @example      {{{for (words <- \"\"\"\\w+\"\"\".r findAllIn \"A simple example.\") yield words}}}\n",
    "   */\n",
    "  def findAllIn(source: CharSequence) = new Regex.MatchIterator(source, this, groupNames)\n",
    "\n",
    "  /** Return all non-overlapping matches of this regexp in given character sequence as a\n",
    "   *  [[scala.collection.Iterator]] of [[scala.util.matching.Regex.Match]].\n",
    "   *\n",
    "   *  @param source The text to match against.\n",
    "   *  @return       A [[scala.collection.Iterator]] of [[scala.util.matching.Regex.Match]] for all matches.\n",
    "   *  @example      {{{for (words <- \"\"\"\\w+\"\"\".r findAllMatchIn \"A simple example.\") yield words.start}}}\n",
    "   */\n",
    "  def findAllMatchIn(source: CharSequence): Iterator[Match] = {\n",
    "    val matchIterator = findAllIn(source)\n",
    "    new Iterator[Match] {\n",
    "      def hasNext = matchIterator.hasNext\n",
    "      def next: Match = {\n",
    "        matchIterator.next()\n",
    "        new Match(matchIterator.source, matchIterator.matcher, matchIterator.groupNames).force\n",
    "      }\n",
    "    }\n",
    "  }\n",
    "```"
   ]
  },
  {
   "cell_type": "markdown",
   "metadata": {},
   "source": [
    "#### findPrefixOf与findPrefixMatchOf\n",
    "和findFirstIn不同，此方法从字符串的开头开始匹配，和python re的match方法类似\n",
    "```scala\n",
    "  /** Return an optional match of this `Regex` at the beginning of the\n",
    "   *  given character sequence, or None if it matches no prefix\n",
    "   *  of the character sequence.\n",
    "   *\n",
    "   *  Unlike `findFirstIn`, this method will only return a match at\n",
    "   *  the beginning of the input.\n",
    "   *\n",
    "   *  @param source The text to match against.\n",
    "   *  @return       A [[scala.Option]] of the matched prefix.\n",
    "   *  @example      {{{\"\"\"\\p{Lower}\"\"\".r findPrefixOf \"A simple example.\" // returns None, since the text does not begin with a lowercase letter}}}\n",
    "   */\n",
    "  def findPrefixOf(source: CharSequence): Option[String] = {\n",
    "    val m = pattern.matcher(source)\n",
    "    if (m.lookingAt) Some(m.group) else None\n",
    "  }\n",
    "\n",
    "  /** Return an optional match of this `Regex` at the beginning of the\n",
    "   *  given character sequence, or None if it matches no prefix\n",
    "   *  of the character sequence.\n",
    "   *\n",
    "   *  Unlike `findFirstMatchIn`, this method will only return a match at\n",
    "   *  the beginning of the input.\n",
    "   *\n",
    "   *  @param source The text to match against.\n",
    "   *  @return       A [[scala.Option]] of the [[scala.util.matching.Regex.Match]] of the matched string.\n",
    "   *  @example      {{{\"\"\"\\w+\"\"\".r findPrefixMatchOf \"A simple example.\" map (_.after) // returns Some(\" simple example.\")}}}\n",
    "   */\n",
    "  def findPrefixMatchOf(source: CharSequence): Option[Match] = {\n",
    "    val m = pattern.matcher(source)\n",
    "    if (m.lookingAt) Some(new Match(source, m, groupNames)) else None\n",
    "  }\n",
    "```"
   ]
  },
  {
   "cell_type": "markdown",
   "metadata": {},
   "source": [
    "#### replaceFirstIn、replaceSomeIn、replaceAllIn\n",
    "用于替换字符串\n",
    "```scala\n",
    "  /** Replaces all matches by a string.\n",
    "   *\n",
    "   *  $replacementString\n",
    "   *\n",
    "   *  @param target      The string to match\n",
    "   *  @param replacement The string that will replace each match\n",
    "   *  @return            The resulting string\n",
    "   *  @example           {{{\"\"\"\\d+\"\"\".r replaceAllIn (\"July 15\", \"<NUMBER>\") // returns \"July <NUMBER>\"}}}\n",
    "   */\n",
    "  def replaceAllIn(target: CharSequence, replacement: String): String = {\n",
    "    val m = pattern.matcher(target)\n",
    "    m.replaceAll(replacement)\n",
    "  }\n",
    "\n",
    "  /**\n",
    "   * Replaces all matches using a replacer function. The replacer function takes a\n",
    "   * [[scala.util.matching.Regex.Match]] so that extra information can be obtained\n",
    "   * from the match. For example:\n",
    "   *\n",
    "   * {{{\n",
    "   * import scala.util.matching.Regex\n",
    "   * val datePattern = new Regex(\"\"\"(\\d\\d\\d\\d)-(\\d\\d)-(\\d\\d)\"\"\", \"year\", \"month\", \"day\")\n",
    "   * val text = \"From 2011-07-15 to 2011-07-17\"\n",
    "   * val repl = datePattern replaceAllIn (text, m => s\"${m group \"month\"}/${m group \"day\"}\")\n",
    "   * }}}\n",
    "   *\n",
    "   * $replacementString\n",
    "   *\n",
    "   * @param target      The string to match.\n",
    "   * @param replacer    The function which maps a match to another string.\n",
    "   * @return            The target string after replacements.\n",
    "   */\n",
    "  def replaceAllIn(target: CharSequence, replacer: Match => String): String = {\n",
    "    val it = new Regex.MatchIterator(target, this, groupNames).replacementData\n",
    "    it foreach (md => it replace replacer(md))\n",
    "    it.replaced\n",
    "  }\n",
    "\n",
    "  /**\n",
    "   * Replaces some of the matches using a replacer function that returns an [[scala.Option]].\n",
    "   * The replacer function takes a [[scala.util.matching.Regex.Match]] so that extra\n",
    "   * information can be btained from the match. For example:\n",
    "   *\n",
    "   * {{{\n",
    "   * import scala.util.matching.Regex._\n",
    "   *\n",
    "   * val vars = Map(\"x\" -> \"a var\", \"y\" -> \"\"\"some $ and \\ signs\"\"\")\n",
    "   * val text = \"A text with variables %x, %y and %z.\"\n",
    "   * val varPattern = \"\"\"%(\\w+)\"\"\".r\n",
    "   * val mapper = (m: Match) => vars get (m group 1) map (quoteReplacement(_))\n",
    "   * val repl = varPattern replaceSomeIn (text, mapper)\n",
    "   * }}}\n",
    "   *\n",
    "   * $replacementString\n",
    "   *\n",
    "   * @param target      The string to match.\n",
    "   * @param replacer    The function which optionally maps a match to another string.\n",
    "   * @return            The target string after replacements.\n",
    "   */\n",
    "  def replaceSomeIn(target: CharSequence, replacer: Match => Option[String]): String = {\n",
    "    val it = new Regex.MatchIterator(target, this, groupNames).replacementData\n",
    "    for (matchdata <- it ; replacement <- replacer(matchdata))\n",
    "      it replace replacement\n",
    "\n",
    "    it.replaced\n",
    "  }\n",
    "\n",
    "  /** Replaces the first match by a string.\n",
    "   *\n",
    "   *  $replacementString\n",
    "   *\n",
    "   *  @param target      The string to match\n",
    "   *  @param replacement The string that will replace the match\n",
    "   *  @return            The resulting string\n",
    "   */\n",
    "  def replaceFirstIn(target: CharSequence, replacement: String): String = {\n",
    "    val m = pattern.matcher(target)\n",
    "    m.replaceFirst(replacement)\n",
    "  }\n",
    "```"
   ]
  },
  {
   "cell_type": "code",
   "execution_count": null,
   "metadata": {},
   "outputs": [],
   "source": []
  }
 ],
 "metadata": {
  "kernelspec": {
   "display_name": "Scala 2.11.11",
   "language": "scala",
   "name": "scala"
  },
  "language_info": {
   "codemirror_mode": "text/x-scala",
   "file_extension": ".scala",
   "mimetype": "text/x-scala",
   "name": "scala211",
   "nbconvert_exporter": "script",
   "pygments_lexer": "scala",
   "version": "2.11.11"
  },
  "toc": {
   "base_numbering": 1,
   "nav_menu": {},
   "number_sections": true,
   "sideBar": true,
   "skip_h1_title": false,
   "title_cell": "Table of Contents",
   "title_sidebar": "Contents",
   "toc_cell": false,
   "toc_position": {},
   "toc_section_display": true,
   "toc_window_display": true
  }
 },
 "nbformat": 4,
 "nbformat_minor": 2
}
