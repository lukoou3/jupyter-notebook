{
 "cells": [
  {
   "cell_type": "markdown",
   "metadata": {},
   "source": [
    "Scala 作为一门函数式编程语言，下划线这个符号在不同的场景下具有不同的含义，绕晕了不少初学者。下划线这个特殊符号无形中增加Scala的入门难度，下面来总结下 Scala 中下划线的用法。"
   ]
  },
  {
   "cell_type": "markdown",
   "metadata": {},
   "source": [
    "## 用于替换Java的等价语法\n",
    "由于大部分的Java关键字在Scala中拥有了新的含义，所以一些基本的语法在Scala中稍有变化。"
   ]
  },
  {
   "cell_type": "markdown",
   "metadata": {},
   "source": [
    "### 导入通配符\n",
    "*在Scala中是合法的方法名，所以导入包时要使用_代替。\n",
    "\n",
    "```scala\n",
    "//Java\n",
    "import java.util.*;\n",
    "\n",
    "//Scala\n",
    "import java.util._\n",
    "```"
   ]
  },
  {
   "cell_type": "markdown",
   "metadata": {},
   "source": [
    "### 可变变量默认值\n",
    "**只适用于var声明的变量。**\n",
    "\n",
    "Java中类成员可以不赋初始值，编译器会自动帮你设置一个合适的初始值：\n",
    "```java\n",
    "class Foo{\n",
    "     //String类型的默认值为null\n",
    "     private String s;\n",
    "}\n",
    "```\n",
    "而在Scala中必须要显式指定，如果你比较懒，可以用_让编译器自动帮你设置初始值：\n",
    "```scala\n",
    "class Foo{\n",
    "    //String类型的默认值为null\n",
    "    var s: String = _\n",
    "}\n",
    "```\n",
    "\n",
    "该语法不但适用于类成员，也适用于局部变量。\n",
    "```scala\n",
    "//String类型的默认值为null\n",
    "var s: String = _\n",
    "```"
   ]
  },
  {
   "cell_type": "markdown",
   "metadata": {},
   "source": [
    "### 解包传入可变参数\n",
    "Java声明可变参数如下：\n",
    "```java\n",
    "public static void printArgs(String ... args){\n",
    "    for(String arg: args){\n",
    "        System.out.println(arg);\n",
    "    }\n",
    "}\n",
    "```\n",
    "调用方法如下：\n",
    "```java\n",
    "//传入两个参数\n",
    "printArgs(\"a\", \"b\");\n",
    "//也可以传入一个数组\n",
    "printArgs(new String[]{\"a\", \"b\"});\n",
    "```\n",
    "\n",
    "在Java中可以直接将数组传给printArgs方法，但是在Scala中，你必须要明确的告诉编译器，你是想将集合作为一个独立的参数传进去，还是想将集合的元素传进去。如果是后者则要借助下划线组合`:_*`：\n",
    "```scala\n",
    "def printArgs(args:String*) = for(arg <- args) println(arg)\n",
    "\n",
    "//传入两个参数\n",
    "printArgs(\"a\", \"b\");\n",
    "//解包\n",
    "printArgs(List(\"a\", \"b\"):_*)\n",
    "```"
   ]
  },
  {
   "cell_type": "markdown",
   "metadata": {},
   "source": [
    "### 类型通配符\n",
    "Java的泛型系统有一个通配符类型，例如`List<?>`，任意的`List<T>`类型都是`List<?>`的子类型，如果我们想编写一个可以打印所有List类型元素的方法，可以如下声明：\n",
    "```java\n",
    "public static void printList(List<?> list){\n",
    "    for(Object elem: list){\n",
    "        System.out.println(elem);\n",
    "    }\n",
    "}\n",
    "```\n",
    "\n",
    "对应的Scala版本为：\n",
    "```scala\n",
    "def printList(list: List[_]): Unit ={\n",
    "   list.foreach(elem => println(elem + \" \"))\n",
    "}\n",
    "```"
   ]
  },
  {
   "cell_type": "markdown",
   "metadata": {},
   "source": [
    "## 模式匹配\n",
    "模式匹配的正常使用和利用模式匹配赋值都可以使用_。\n",
    "\n",
    "### 一般匹配\n",
    "```scala\n",
    "x match {\n",
    "    case 1 => \"one\"\n",
    "    case 2 => \"two\"\n",
    "    case _ => \"anything other than one and two\"\n",
    "}\n",
    "```"
   ]
  },
  {
   "cell_type": "markdown",
   "metadata": {},
   "source": [
    "### 匹配集合元素\n",
    "```scala\n",
    "expr match {\n",
    "  case List(1,_,_) => \" a list with three element and the first element is 1\"\n",
    "  case List(_*)  => \" a list with zero or more elements \"\n",
    "  case Map[_,_] => \" matches a map with any key type and any value type \"\n",
    "  case _ =>\n",
    "}\n",
    "\n",
    "//匹配以0开头，长度为三的列表\n",
    "expr match {\n",
    "  case List(0, _, _) => println(\"found it\")\n",
    "  case _ =>\n",
    "}\n",
    "\n",
    "//匹配以0开头，长度任意的列表\n",
    "expr match {\n",
    "  case List(0, _*) => println(\"found it\")\n",
    "  case _ =>\n",
    "}\n",
    "\n",
    "//匹配元组元素\n",
    "expr match {\n",
    "  case (0, _) => println(\"found it\")\n",
    "  case _ =>\n",
    "}\n",
    "\n",
    "//将首元素赋值给head变量\n",
    "val List(head, _*) = List(\"a\")\n",
    "```"
   ]
  },
  {
   "cell_type": "markdown",
   "metadata": {},
   "source": [
    "## Scala特有语法\n",
    "### 访问Tuple元素\n",
    "```scala\n",
    "val t = (1, 2, 3)\n",
    "println(t._1, t._2, t._3)\n",
    "```"
   ]
  },
  {
   "cell_type": "markdown",
   "metadata": {},
   "source": [
    "### 临时参数\n",
    "```scala\n",
    "List(1, 2, 3) foreach { _ => println(\"Hi\") }    //List(1, 2, 3) foreach { t => println(\"Hi\") }\n",
    "```"
   ]
  },
  {
   "cell_type": "markdown",
   "metadata": {},
   "source": [
    "### 通配模式\n",
    "```scala\n",
    "Some(5) match { case Some(_) => println(\"Yes\") }\n",
    "\n",
    "match {\n",
    "     case List(1,_,_) => \" a list with three element and the first element is 1\"\n",
    "     case List(_*)  => \" a list with zero or more elements \"\n",
    "     case Map[_,_] => \" matches a map with any key type and any value type \"\n",
    "     case _ =>\n",
    " }\n",
    "\n",
    "val (a, _) = (1, 2)\n",
    "for (_ <- 1 to 10)\n",
    "```"
   ]
  },
  {
   "cell_type": "markdown",
   "metadata": {},
   "source": [
    "### 通配导入\n",
    "```scala\n",
    "// Imports all the classes in the package matching\n",
    "import scala.util.matching._\n",
    "\n",
    "// Imports all the members of the object Fun (static import in Java).\n",
    "import com.test.Fun._\n",
    "```"
   ]
  },
  {
   "cell_type": "markdown",
   "metadata": {},
   "source": [
    "### 隐藏导入\n",
    "```scala\n",
    "// Imports all the members of the object Fun but renames Foo to Bar\n",
    "//导入所有，Foo重命名为Bar\n",
    "import com.test.Fun.{ Foo => Bar , _ }\n",
    "\n",
    "// Imports all the members except Foo. To exclude a member rename it to _\n",
    "//导入所有，忽略Foo\n",
    "import com.test.Fun.{ Foo => _ , _ }\n",
    "```"
   ]
  },
  {
   "cell_type": "markdown",
   "metadata": {},
   "source": [
    "### 简写函数\n",
    "如果函数的参数在函数体内只出现一次，则可以使用下划线代替：\n",
    "```scala\n",
    "val nums = List(1,2,3,4,5,6,7,8,9,10)\n",
    "\n",
    "nums map (_ + 2)\n",
    "nums sortWith(_>_)\n",
    "nums filter (_ % 2 == 0)\n",
    "nums reduceLeft(_+_)\n",
    "nums reduce (_ + _)\n",
    "nums reduceLeft(_ max _)\n",
    "nums.exists(_ > 5)\n",
    "nums.takeWhile(_ < 8)\n",
    "```\n",
    "\n",
    "还有下面形式的函数定义：\n",
    "```scala\n",
    "val f1 = (_: Int) + (_: Int)\n",
    "//等价于\n",
    "val f2 = (x: Int, y: Int) => x + y\n",
    "\n",
    "( (_: Int) + (_: Int) )(2,3)\n",
    "```"
   ]
  },
  {
   "cell_type": "markdown",
   "metadata": {},
   "source": [
    "### 定义部分应用函数（partially applied function）\n",
    "我们可以为某个函数只提供部分参数进行调用，返回的结果是一个新的函数，即部分应用函数。因为只提供了部分参数，所以部分应用函数也因此而得名。\n",
    "```scala\n",
    "def sum(a: Int, b: Int, c: Int) = a + b + c\n",
    "val b = sum(1, _: Int, 3)\n",
    "b: Int => Int = <function1>\n",
    "b(2) //6\n",
    "```\n",
    "\n",
    "错误的语法：\n",
    "```scala\n",
    "val b = sum(1, _, 3)\n",
    "```\n",
    "原因是，函数可能会有重载。"
   ]
  },
  {
   "cell_type": "markdown",
   "metadata": {},
   "source": [
    "### 将方法转换成函数\n",
    "Scala中方法和函数是两个不同的概念，方法无法作为参数进行传递(似乎是可以当做参数传递的)，也无法赋值给变量，但是函数是可以的。在Scala中，利用下划线可以将方法转换成函数：\n",
    "```scala\n",
    "//定义的是函数\n",
    "val f = (x: Int, y: Int) => x + y\n",
    "f: (Int, Int) => Int = <function2>\n",
    "\n",
    "//函数可以直接赋值\n",
    "val f1 = f\n",
    "f1: (Int, Int) => Int = <function2>\n",
    "\n",
    "//函数加了下划线反而变成了一个无参的高阶函数\n",
    "val f1 = f _\n",
    "f1: () => (Int, Int) => Int = <function0>\n",
    "\n",
    "//定义的是方法（REPL中有默认的全局对象）\n",
    "def ff(x: Int, y: Int) = x + y\n",
    "defined function ff\n",
    "\n",
    "//方法直接赋值就报错\n",
    "val f1 = ff\n",
    "You can make this conversion explicit by writing `ff _` or `ff(_,_)` instead of `ff`.\n",
    "\n",
    "//方法加了下划线转换成函数\n",
    "val f1 = ff _\n",
    "f1: (Int, Int) => Int = <function2>\n",
    "```"
   ]
  }
 ],
 "metadata": {
  "kernelspec": {
   "display_name": "Scala 2.11.11",
   "language": "scala",
   "name": "scala"
  },
  "language_info": {
   "codemirror_mode": "text/x-scala",
   "file_extension": ".scala",
   "mimetype": "text/x-scala",
   "name": "scala211",
   "nbconvert_exporter": "script",
   "pygments_lexer": "scala",
   "version": "2.11.11"
  },
  "toc": {
   "base_numbering": 1,
   "nav_menu": {},
   "number_sections": true,
   "sideBar": true,
   "skip_h1_title": false,
   "title_cell": "Table of Contents",
   "title_sidebar": "Contents",
   "toc_cell": false,
   "toc_position": {},
   "toc_section_display": true,
   "toc_window_display": true
  }
 },
 "nbformat": 4,
 "nbformat_minor": 2
}
