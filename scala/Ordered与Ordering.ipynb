{
 "cells": [
  {
   "cell_type": "markdown",
   "metadata": {},
   "source": [
    "## Scala比较器：Ordered与Ordering\n",
    "在项目中，我们常常会遇到排序（或比较）需求，比如：对一个Person类\n",
    "```scala\n",
    "case class Person(name: String, age: Int) {\n",
    "  override def toString = {\n",
    "    \"name: \" + name + \", age: \" + age\n",
    "  }\n",
    "}\n",
    "```\n",
    "按name值逆词典序、age值升序做排序；在Scala中应如何实现呢？"
   ]
  },
  {
   "cell_type": "markdown",
   "metadata": {},
   "source": [
    "### 两个特质\n",
    "Scala提供两个特质（trait）Ordered与Ordering用于比较。其中，Ordered混入（mix）Java的Comparable接口，而Ordering则混入Comparator接口。众所周知，在Java中\n",
    "\n",
    "* 实现Comparable接口的类，其对象具有了可比较性；\n",
    "* 实现comparator接口的类，则提供一个外部比较器，用于比较两个对象。\n",
    "\n",
    "Ordered与Ordering的区别与之相类似：\n",
    "\n",
    "* Ordered特质定义了相同类型间的比较方式，但这种内部比较方式是单一的；\n",
    "* Ordered则是提供比较器模板，可以自定义多种比较方式。\n",
    "\n",
    "以下源码分析基于Scala 2.11。"
   ]
  },
  {
   "cell_type": "markdown",
   "metadata": {},
   "source": [
    "#### Ordered\n",
    "Ordered特质更像是rich版的Comparable接口，除了compare方法外，更丰富了比较操作（<, >, <=, >=）;\n",
    "\n",
    "\n",
    "此外，Ordered对象提供了从T到Ordered[T]的隐式转换（隐式参数为Ordering[T]）;\n",
    "\n",
    "```scala\n",
    "package scala\n",
    "package math\n",
    "\n",
    "import scala.language.implicitConversions\n",
    "\n",
    "/** A trait for data that have a single, natural ordering.  See\n",
    " *  [[scala.math.Ordering]] before using this trait for\n",
    " *  more information about whether to use [[scala.math.Ordering]] instead.\n",
    " *\n",
    " *  Classes that implement this trait can be sorted with\n",
    " *  [[scala.util.Sorting]] and can be compared with standard comparison operators\n",
    " *  (e.g. > and <).\n",
    " *\n",
    " *  Ordered should be used for data with a single, natural ordering (like\n",
    " *  integers) while Ordering allows for multiple ordering implementations.\n",
    " *  An Ordering instance will be implicitly created if necessary.\n",
    " *\n",
    " *  [[scala.math.Ordering]] is an alternative to this trait that allows multiple orderings to be\n",
    " *  defined for the same type.\n",
    " *\n",
    " *  [[scala.math.PartiallyOrdered]] is an alternative to this trait for partially ordered data.\n",
    " *\n",
    " *  For example, create a simple class that implements `Ordered` and then sort it with [[scala.util.Sorting]]:\n",
    " *  {{{\n",
    " *  case class OrderedClass(n:Int) extends Ordered[OrderedClass] {\n",
    " *  \tdef compare(that: OrderedClass) =  this.n - that.n\n",
    " *  }\n",
    " *\n",
    " *  val x = Array(OrderedClass(1), OrderedClass(5), OrderedClass(3))\n",
    " *  scala.util.Sorting.quickSort(x)\n",
    " *  x\n",
    " *  }}}\n",
    " *\n",
    " *  It is important that the `equals` method for an instance of `Ordered[A]` be consistent with the\n",
    " *  compare method. However, due to limitations inherent in the type erasure semantics, there is no\n",
    " *  reasonable way to provide a default implementation of equality for instances of `Ordered[A]`.\n",
    " *  Therefore, if you need to be able to use equality on an instance of `Ordered[A]` you must\n",
    " *  provide it yourself either when inheriting or instantiating.\n",
    " *\n",
    " *  It is important that the `hashCode` method for an instance of `Ordered[A]` be consistent with\n",
    " *  the `compare` method. However, it is not possible to provide a sensible default implementation.\n",
    " *  Therefore, if you need to be able compute the hash of an instance of `Ordered[A]` you must\n",
    " *  provide it yourself either when inheriting or instantiating.\n",
    " *\n",
    " *  @see [[scala.math.Ordering]], [[scala.math.PartiallyOrdered]]\n",
    " *  @author  Martin Odersky\n",
    " *  @version 1.1, 2006-07-24\n",
    " */\n",
    "trait Ordered[A] extends Any with java.lang.Comparable[A] {\n",
    "\n",
    "  /** Result of comparing `this` with operand `that`.\n",
    "   *\n",
    "   * Implement this method to determine how instances of A will be sorted.\n",
    "   *\n",
    "   * Returns `x` where:\n",
    "   *\n",
    "   *   - `x < 0` when `this < that`\n",
    "   *\n",
    "   *   - `x == 0` when `this == that`\n",
    "   *\n",
    "   *   - `x > 0` when  `this > that`\n",
    "   *\n",
    "   */\n",
    "  def compare(that: A): Int\n",
    "\n",
    "  /** Returns true if `this` is less than `that`\n",
    "    */\n",
    "  def <  (that: A): Boolean = (this compare that) <  0\n",
    "\n",
    "  /** Returns true if `this` is greater than `that`.\n",
    "    */\n",
    "  def >  (that: A): Boolean = (this compare that) >  0\n",
    "\n",
    "  /** Returns true if `this` is less than or equal to `that`.\n",
    "    */\n",
    "  def <= (that: A): Boolean = (this compare that) <= 0\n",
    "\n",
    "  /** Returns true if `this` is greater than or equal to `that`.\n",
    "    */\n",
    "  def >= (that: A): Boolean = (this compare that) >= 0\n",
    "\n",
    "  /** Result of comparing `this` with operand `that`.\n",
    "    */\n",
    "  def compareTo(that: A): Int = compare(that)\n",
    "}\n",
    "\n",
    "object Ordered {\n",
    "  /** Lens from `Ordering[T]` to `Ordered[T]` */\n",
    "  implicit def orderingToOrdered[T](x: T)(implicit ord: Ordering[T]): Ordered[T] =\n",
    "    new Ordered[T] { def compare(that: T): Int = ord.compare(x, that) }\n",
    "}\n",
    "\n",
    "```"
   ]
  },
  {
   "cell_type": "markdown",
   "metadata": {},
   "source": [
    "#### Ordering\n",
    "Ordering，内置函数Ordering.by与Ordering.on进行自定义排序：\n",
    "Ordering源代码比较多，里面定义了好多关于隐式转换的代码，不一一列举了\n",
    "```scala\n",
    "package scala\n",
    "package math\n",
    "\n",
    "import java.util.Comparator\n",
    "import scala.language.{implicitConversions, higherKinds}\n",
    "\n",
    "/** Ordering is a trait whose instances each represent a strategy for sorting\n",
    "\t* instances of a type.\n",
    "\t*\n",
    "\t* Ordering's companion object defines many implicit objects to deal with\n",
    "\t* subtypes of AnyVal (e.g. Int, Double), String, and others.\n",
    "\t*\n",
    "\t* To sort instances by one or more member variables, you can take advantage\n",
    "\t* of these built-in orderings using Ordering.by and Ordering.on:\n",
    "\t*\n",
    "\t* {{{\n",
    "\t* import scala.util.Sorting\n",
    "\t* val pairs = Array((\"a\", 5, 2), (\"c\", 3, 1), (\"b\", 1, 3))\n",
    "\t*\n",
    "\t* // sort by 2nd element\n",
    "\t* Sorting.quickSort(pairs)(Ordering.by[(String, Int, Int), Int](_._2))\n",
    "\t*\n",
    "\t* // sort by the 3rd element, then 1st\n",
    "\t* Sorting.quickSort(pairs)(Ordering[(Int, String)].on(x => (x._3, x._1)))\n",
    "\t* }}}\n",
    "\t*\n",
    "\t* An Ordering[T] is implemented by specifying compare(a:T, b:T), which\n",
    "\t* decides how to order two instances a and b. Instances of Ordering[T] can be\n",
    "\t* used by things like scala.util.Sorting to sort collections like Array[T].\n",
    "\t*\n",
    "\t* For example:\n",
    "\t*\n",
    "\t* {{{\n",
    "\t* import scala.util.Sorting\n",
    "\t*\n",
    "\t* case class Person(name:String, age:Int)\n",
    "\t* val people = Array(Person(\"bob\", 30), Person(\"ann\", 32), Person(\"carl\", 19))\n",
    "\t*\n",
    "\t* // sort by age\n",
    "\t* object AgeOrdering extends Ordering[Person] {\n",
    "\t*   def compare(a:Person, b:Person) = a.age compare b.age\n",
    "\t* }\n",
    "\t* Sorting.quickSort(people)(AgeOrdering)\n",
    "\t* }}}\n",
    "\t*\n",
    "\t* This trait and scala.math.Ordered both provide this same functionality, but\n",
    "\t* in different ways. A type T can be given a single way to order itself by\n",
    "\t* extending Ordered. Using Ordering, this same type may be sorted in many\n",
    "\t* other ways. Ordered and Ordering both provide implicits allowing them to be\n",
    "\t* used interchangeably.\n",
    "\t*\n",
    "\t* You can import scala.math.Ordering.Implicits to gain access to other\n",
    "\t* implicit orderings.\n",
    "\t*\n",
    "\t* @author Geoffrey Washburn\n",
    "\t* @version 0.9.5, 2008-04-15\n",
    "\t* @since 2.7\n",
    "\t* @see [[scala.math.Ordered]], [[scala.util.Sorting]]\n",
    "\t*/\n",
    "@annotation.implicitNotFound(msg = \"No implicit Ordering defined for ${T}.\")\n",
    "trait Ordering[T] extends Comparator[T] with PartialOrdering[T] with Serializable {\n",
    "\touter =>\n",
    "\n",
    "\t/** Returns whether a comparison between `x` and `y` is defined, and if so\n",
    "\t\t* the result of `compare(x, y)`.\n",
    "\t\t*/\n",
    "\tdef tryCompare(x: T, y: T) = Some(compare(x, y))\n",
    "\n",
    "\t/** Returns an integer whose sign communicates how x compares to y.\n",
    "\t\t*\n",
    "\t\t* The result sign has the following meaning:\n",
    "\t\t*\n",
    "\t\t*  - negative if x < y\n",
    "\t\t*  - positive if x > y\n",
    "\t\t*  - zero otherwise (if x == y)\n",
    "\t\t*/\n",
    "\tdef compare(x: T, y: T): Int\n",
    "\n",
    "\t/** Return true if `x` <= `y` in the ordering. */\n",
    "\toverride def lteq(x: T, y: T): Boolean = compare(x, y) <= 0\n",
    "\n",
    "\t/** Return true if `x` >= `y` in the ordering. */\n",
    "\toverride def gteq(x: T, y: T): Boolean = compare(x, y) >= 0\n",
    "\n",
    "\t/** Return true if `x` < `y` in the ordering. */\n",
    "\toverride def lt(x: T, y: T): Boolean = compare(x, y) < 0\n",
    "\n",
    "\t/** Return true if `x` > `y` in the ordering. */\n",
    "\toverride def gt(x: T, y: T): Boolean = compare(x, y) > 0\n",
    "\n",
    "\t/** Return true if `x` == `y` in the ordering. */\n",
    "\toverride def equiv(x: T, y: T): Boolean = compare(x, y) == 0\n",
    "\n",
    "\t/** Return `x` if `x` >= `y`, otherwise `y`. */\n",
    "\tdef max(x: T, y: T): T = if (gteq(x, y)) x else y\n",
    "\n",
    "\t/** Return `x` if `x` <= `y`, otherwise `y`. */\n",
    "\tdef min(x: T, y: T): T = if (lteq(x, y)) x else y\n",
    "\n",
    "\t/** Return the opposite ordering of this one. */\n",
    "\toverride def reverse: Ordering[T] = new Ordering[T] {\n",
    "\t\toverride def reverse = outer\n",
    "\n",
    "\t\tdef compare(x: T, y: T) = outer.compare(y, x)\n",
    "\t}\n",
    "\n",
    "\t/** Given f, a function from U into T, creates an Ordering[U] whose compare\n",
    "\t\t* function is equivalent to:\n",
    "\t\t*\n",
    "\t\t* {{{\n",
    "\t\t* def compare(x:U, y:U) = Ordering[T].compare(f(x), f(y))\n",
    "\t\t* }}}\n",
    "\t\t*/\n",
    "\tdef on[U](f: U => T): Ordering[U] = new Ordering[U] {\n",
    "\t\tdef compare(x: U, y: U) = outer.compare(f(x), f(y))\n",
    "\t}\n",
    "}\n",
    "\n",
    "object Ordering extends LowPriorityOrderingImplicits {\n",
    "\tdef apply[T](implicit ord: Ordering[T]) = ord\n",
    "\n",
    "\tdef by[T, S](f: T => S)(implicit ord: Ordering[S]): Ordering[T] =\n",
    "\t\tfromLessThan((x, y) => ord.lt(f(x), f(y)))\n",
    "}\n",
    "```"
   ]
  },
  {
   "cell_type": "markdown",
   "metadata": {},
   "source": [
    "#### 官方源代码中例子运行"
   ]
  },
  {
   "cell_type": "code",
   "execution_count": 1,
   "metadata": {},
   "outputs": [
    {
     "name": "stdout",
     "output_type": "stream",
     "text": [
      "(b,1,1) | (a,3,1) | (a,5,2)\n",
      "(a,3,1) | (b,1,1) | (a,5,2)\n",
      "scala.math.Ordering$$anon$11@2df5b868\n",
      "Person(carl,19) | Person(bob,30) | Person(ann,32)\n",
      "********************\n",
      "OrderedClass(1) | OrderedClass(3) | OrderedClass(5)\n"
     ]
    },
    {
     "data": {
      "text/plain": [
       "\u001b[32mimport \u001b[39m\u001b[36mscala.util.Sorting\n",
       "\u001b[39m\n",
       "\u001b[36mpairs\u001b[39m: \u001b[32mArray\u001b[39m[(\u001b[32mString\u001b[39m, \u001b[32mInt\u001b[39m, \u001b[32mInt\u001b[39m)] = \u001b[33mArray\u001b[39m((\u001b[32m\"a\"\u001b[39m, \u001b[32m3\u001b[39m, \u001b[32m1\u001b[39m), (\u001b[32m\"b\"\u001b[39m, \u001b[32m1\u001b[39m, \u001b[32m1\u001b[39m), (\u001b[32m\"a\"\u001b[39m, \u001b[32m5\u001b[39m, \u001b[32m2\u001b[39m))\n",
       "\u001b[36mor\u001b[39m: \u001b[32mOrdering\u001b[39m[(\u001b[32mInt\u001b[39m, \u001b[32mString\u001b[39m)] = scala.math.Ordering$$anon$11@2df5b868\n",
       "defined \u001b[32mclass\u001b[39m \u001b[36mPerson\u001b[39m\n",
       "\u001b[36mpeople\u001b[39m: \u001b[32mArray\u001b[39m[\u001b[32mPerson\u001b[39m] = \u001b[33mArray\u001b[39m(\u001b[33mPerson\u001b[39m(\u001b[32m\"carl\"\u001b[39m, \u001b[32m19\u001b[39m), \u001b[33mPerson\u001b[39m(\u001b[32m\"bob\"\u001b[39m, \u001b[32m30\u001b[39m), \u001b[33mPerson\u001b[39m(\u001b[32m\"ann\"\u001b[39m, \u001b[32m32\u001b[39m))\n",
       "defined \u001b[32mobject\u001b[39m \u001b[36mAgeOrdering\u001b[39m\n",
       "defined \u001b[32mclass\u001b[39m \u001b[36mOrderedClass\u001b[39m\n",
       "\u001b[36mx\u001b[39m: \u001b[32mArray\u001b[39m[\u001b[32mOrderedClass\u001b[39m] = \u001b[33mArray\u001b[39m(\u001b[33mOrderedClass\u001b[39m(\u001b[32m1\u001b[39m), \u001b[33mOrderedClass\u001b[39m(\u001b[32m3\u001b[39m), \u001b[33mOrderedClass\u001b[39m(\u001b[32m5\u001b[39m))"
      ]
     },
     "execution_count": 1,
     "metadata": {},
     "output_type": "execute_result"
    }
   ],
   "source": [
    "import scala.util.Sorting\n",
    "val pairs = Array((\"a\", 5, 2), (\"a\", 3, 1), (\"b\", 1, 1))\n",
    "\n",
    "// sort by 2nd element\n",
    "Sorting.quickSort(pairs)(Ordering.by[(String, Int, Int), Int](_._2))\n",
    "println(pairs.mkString(\" | \"))\n",
    "\n",
    "// sort by the 3rd element, then 1st\n",
    "Sorting.quickSort(pairs)(Ordering[(Int, String)].on(x => (x._3, x._1)))\n",
    "println(pairs.mkString(\" | \"))\n",
    "\n",
    "//def apply[T](implicit ord: Ordering[T]) = ord\n",
    "//调用的是伴生对象的apply方法\n",
    "val or = Ordering[(Int, String)]\n",
    "println(or)\n",
    "\n",
    "case class Person(name: String, age: Int)\n",
    "val people = Array(Person(\"bob\", 30), Person(\"ann\", 32), Person(\"carl\", 19))\n",
    "\n",
    "// sort by age\n",
    "object AgeOrdering extends Ordering[Person] {\n",
    "\tdef compare(a: Person, b: Person) = a.age compare b.age\n",
    "}\n",
    "Sorting.quickSort(people)(AgeOrdering)\n",
    "println(people.mkString(\" | \"))\n",
    "\n",
    "println(\"*\" * 20)\n",
    "\n",
    "case class OrderedClass(n: Int) extends Ordered[OrderedClass] {\n",
    "\tdef compare(that: OrderedClass) = this.n - that.n\n",
    "}\n",
    "\n",
    "val x = Array(OrderedClass(1), OrderedClass(5), OrderedClass(3))\n",
    "scala.util.Sorting.quickSort(x)\n",
    "println(x.mkString(\" | \"))"
   ]
  },
  {
   "cell_type": "markdown",
   "metadata": {},
   "source": [
    "### 实战"
   ]
  },
  {
   "cell_type": "code",
   "execution_count": 6,
   "metadata": {},
   "outputs": [
    {
     "data": {
      "text/plain": [
       "defined \u001b[32mclass\u001b[39m \u001b[36mPerson\u001b[39m"
      ]
     },
     "execution_count": 6,
     "metadata": {},
     "output_type": "execute_result"
    }
   ],
   "source": [
    "case class Person(name: String, age: Int) {\n",
    "  override def toString = {\n",
    "    \"name: \" + name + \", age: \" + age\n",
    "  }\n",
    "}"
   ]
  },
  {
   "cell_type": "markdown",
   "metadata": {},
   "source": [
    "#### 比较\n",
    "对于Person类，如何做让其对象具有可比较性呢？我们可使用Ordered对象的函数orderingToOrdered做隐式转换，但还需要组织一个Ordering[Person]的隐式参数"
   ]
  },
  {
   "cell_type": "code",
   "execution_count": 4,
   "metadata": {},
   "outputs": [
    {
     "data": {
      "text/plain": [
       "defined \u001b[32mobject\u001b[39m \u001b[36mPersonOrdering\u001b[39m\n",
       "\u001b[36mp1\u001b[39m: \u001b[32mPerson\u001b[39m = \u001b[33mPerson\u001b[39m(\u001b[32m\"rain\"\u001b[39m, \u001b[32m13\u001b[39m)\n",
       "\u001b[36mp2\u001b[39m: \u001b[32mPerson\u001b[39m = \u001b[33mPerson\u001b[39m(\u001b[32m\"rain\"\u001b[39m, \u001b[32m14\u001b[39m)\n",
       "\u001b[32mimport \u001b[39m\u001b[36mOrdered._\n",
       "\u001b[39m\n",
       "\u001b[36mres3_4\u001b[39m: \u001b[32mBoolean\u001b[39m = \u001b[32mtrue\u001b[39m"
      ]
     },
     "execution_count": 4,
     "metadata": {},
     "output_type": "execute_result"
    }
   ],
   "source": [
    "implicit object PersonOrdering extends Ordering[Person] {\n",
    "  override def compare(p1: Person, p2: Person): Int = {\n",
    "    p1.name == p2.name match {\n",
    "      case false => -p1.name.compareTo(p2.name)\n",
    "      case _ => p1.age - p2.age\n",
    "    }\n",
    "  }\n",
    "}\n",
    " \n",
    "val p1 = new Person(\"rain\", 13)\n",
    "val p2 = new Person(\"rain\", 14)\n",
    "import Ordered._\n",
    "p1 < p2 // True"
   ]
  },
  {
   "cell_type": "markdown",
   "metadata": {},
   "source": [
    "#### Collection Sort\n",
    "在实际项目中，我们常常需要对集合进行排序。回到开篇的问题——如何对Person类的集合做指定排序呢？下面用List集合作为demo，探讨在scala集合排序。首先，我们来看看List的sort函数：\n",
    "```scala\n",
    "// scala.collection.SeqLike\n",
    " \n",
    "def sortWith(lt: (A, A) => Boolean): Repr = sorted(Ordering fromLessThan lt)\n",
    " \n",
    "def sortBy[B](f: A => B)(implicit ord: Ordering[B]): Repr = sorted(ord on f)\n",
    " \n",
    "def sorted[B >: A](implicit ord: Ordering[B]): Repr = {\n",
    "...\n",
    "}\n",
    "```"
   ]
  },
  {
   "cell_type": "markdown",
   "metadata": {},
   "source": [
    "若调用sorted函数做排序，则需要指定Ordering隐式参数："
   ]
  },
  {
   "cell_type": "code",
   "execution_count": 7,
   "metadata": {},
   "outputs": [
    {
     "data": {
      "text/plain": [
       "\u001b[36mp1\u001b[39m: \u001b[32mPerson\u001b[39m = name: rain, age: 24\n",
       "\u001b[36mp2\u001b[39m: \u001b[32mPerson\u001b[39m = name: rain, age: 22\n",
       "\u001b[36mp3\u001b[39m: \u001b[32mPerson\u001b[39m = name: Lily, age: 15\n",
       "\u001b[36mlist\u001b[39m: \u001b[32mList\u001b[39m[\u001b[32mPerson\u001b[39m] = \u001b[33mList\u001b[39m(name: rain, age: 24, name: rain, age: 22, name: Lily, age: 15)\n",
       "defined \u001b[32mobject\u001b[39m \u001b[36mPersonOrdering\u001b[39m\n",
       "\u001b[36mres6_5\u001b[39m: \u001b[32mList\u001b[39m[\u001b[32mPerson\u001b[39m] = \u001b[33mList\u001b[39m(name: rain, age: 22, name: rain, age: 24, name: Lily, age: 15)"
      ]
     },
     "execution_count": 7,
     "metadata": {},
     "output_type": "execute_result"
    }
   ],
   "source": [
    "val p1 = new Person(\"rain\", 24)\n",
    "val p2 = new Person(\"rain\", 22)\n",
    "val p3 = new Person(\"Lily\", 15)\n",
    "val list = List(p1, p2, p3)\n",
    " \n",
    "implicit object PersonOrdering extends Ordering[Person] {\n",
    "  override def compare(p1: Person, p2: Person): Int = {\n",
    "    p1.name == p2.name match {\n",
    "      case false => -p1.name.compareTo(p2.name)\n",
    "      case _ => p1.age - p2.age\n",
    "    }\n",
    "  }\n",
    "}\n",
    "\n",
    "list.sorted // res3: List[Person] = List(name: rain, age: 22, name: rain, age: 24, name: Lily, age: 15)"
   ]
  },
  {
   "cell_type": "markdown",
   "metadata": {},
   "source": [
    "若使用sortBy，也需要指定Ordering隐式参数(和sorted的区别是调用的是转换后对象的Ordering)："
   ]
  },
  {
   "cell_type": "code",
   "execution_count": 8,
   "metadata": {},
   "outputs": [
    {
     "data": {
      "text/plain": [
       "\u001b[36mres7\u001b[39m: \u001b[32mList\u001b[39m[\u001b[32mPerson\u001b[39m] = \u001b[33mList\u001b[39m(name: rain, age: 22, name: rain, age: 24, name: Lily, age: 15)"
      ]
     },
     "execution_count": 8,
     "metadata": {},
     "output_type": "execute_result"
    }
   ],
   "source": [
    "list.sortBy[Person](t => t)"
   ]
  },
  {
   "cell_type": "code",
   "execution_count": 9,
   "metadata": {},
   "outputs": [
    {
     "data": {
      "text/plain": [
       "\u001b[36mres8\u001b[39m: \u001b[32mList\u001b[39m[\u001b[32mPerson\u001b[39m] = \u001b[33mList\u001b[39m(name: rain, age: 22, name: rain, age: 24, name: Lily, age: 15)"
      ]
     },
     "execution_count": 9,
     "metadata": {},
     "output_type": "execute_result"
    }
   ],
   "source": [
    "list.sortBy(t => t)"
   ]
  },
  {
   "cell_type": "code",
   "execution_count": 10,
   "metadata": {},
   "outputs": [
    {
     "data": {
      "text/plain": [
       "\u001b[36mres9\u001b[39m: \u001b[32mList\u001b[39m[\u001b[32mPerson\u001b[39m] = \u001b[33mList\u001b[39m(name: Lily, age: 15, name: rain, age: 24, name: rain, age: 22)"
      ]
     },
     "execution_count": 10,
     "metadata": {},
     "output_type": "execute_result"
    }
   ],
   "source": [
    "list.sortBy(t => t.name)"
   ]
  },
  {
   "cell_type": "markdown",
   "metadata": {},
   "source": [
    "若使用sortWith，则需要定义返回值为Boolean的比较函数："
   ]
  },
  {
   "cell_type": "code",
   "execution_count": 11,
   "metadata": {},
   "outputs": [
    {
     "data": {
      "text/plain": [
       "\u001b[36mres10\u001b[39m: \u001b[32mList\u001b[39m[\u001b[32mPerson\u001b[39m] = \u001b[33mList\u001b[39m(name: rain, age: 22, name: rain, age: 24, name: Lily, age: 15)"
      ]
     },
     "execution_count": 11,
     "metadata": {},
     "output_type": "execute_result"
    }
   ],
   "source": [
    "list.sortWith { (p1: Person, p2: Person) =>\n",
    "   p1.name == p2.name match {\n",
    "     case false => -p1.name.compareTo(p2.name) < 0\n",
    "     case _ => p1.age - p2.age < 0\n",
    "   }\n",
    "}\n",
    "// res4: List[Person] = List(name: rain, age: 22, name: rain, age: 24, name: Lily, age: 15)"
   ]
  },
  {
   "cell_type": "markdown",
   "metadata": {},
   "source": [
    "#### 上界中Ordered的使用"
   ]
  },
  {
   "cell_type": "code",
   "execution_count": 12,
   "metadata": {},
   "outputs": [
    {
     "data": {
      "text/plain": [
       "defined \u001b[32mclass\u001b[39m \u001b[36mComparableGeneralObject\u001b[39m\n",
       "defined \u001b[32mclass\u001b[39m \u001b[36mTeacherOrdered\u001b[39m"
      ]
     },
     "execution_count": 12,
     "metadata": {},
     "output_type": "execute_result"
    }
   ],
   "source": [
    "/**\n",
    "\t*  <:                   　#表示的是Scala泛型中的上界，相当于Java泛型中的\"<T extends Comparable>\"\n",
    "\t* TT<: Ordered[T]          #表示T实现Ordered接口\n",
    "\t*/\n",
    "class ComparableGeneralObject[T<: Ordered[T]](a:T,b:T){\n",
    "\t/**\n",
    "\t\t* @return     : 返回比较大的数值\n",
    "\t\t*/\n",
    "\tdef bigger = {\n",
    "\t\tif (a > b){\n",
    "\t\t\ta\n",
    "\t\t}else{\n",
    "\t\t\tb\n",
    "\t\t}\n",
    "\t}\n",
    "}\n",
    "\n",
    "/**\n",
    "\t* 改类需要实现Ordered特质\n",
    "\t*/\n",
    "class TeacherOrdered(val name:String,val age:Int) extends Ordered[TeacherOrdered] {\n",
    "\t/**\n",
    "\t\t* 重写比较的方法，比较方法按照年龄来比较\n",
    "\t\t*/\n",
    "\toverride def compare(that: TeacherOrdered): Int = {\n",
    "\t\tthis.age - that.age\n",
    "\t}\n",
    "\t/**\n",
    "\t\t* 重写toString方法\n",
    "\t\t*/\n",
    "\toverride def toString: String = {\n",
    "\t\tthis.name + \"\t\" + this.age\n",
    "\t}\n",
    "}"
   ]
  },
  {
   "cell_type": "code",
   "execution_count": 13,
   "metadata": {},
   "outputs": [
    {
     "data": {
      "text/plain": [
       "\u001b[36mt1\u001b[39m: \u001b[32mTeacherOrdered\u001b[39m = 丹尼斯·里奇\t70\n",
       "\u001b[36mt2\u001b[39m: \u001b[32mTeacherOrdered\u001b[39m = Linus Benedict Torvalds\t49"
      ]
     },
     "execution_count": 13,
     "metadata": {},
     "output_type": "execute_result"
    }
   ],
   "source": [
    "val t1 = new TeacherOrdered(\"丹尼斯·里奇\", 70)\n",
    "val t2 = new TeacherOrdered(\"Linus Benedict Torvalds\", 49)"
   ]
  },
  {
   "cell_type": "code",
   "execution_count": 14,
   "metadata": {},
   "outputs": [
    {
     "data": {
      "text/plain": [
       "\u001b[36mres13\u001b[39m: \u001b[32mTeacherOrdered\u001b[39m = 丹尼斯·里奇\t70"
      ]
     },
     "execution_count": 14,
     "metadata": {},
     "output_type": "execute_result"
    }
   ],
   "source": [
    "new ComparableGeneralObject(t1,t2).bigger"
   ]
  },
  {
   "cell_type": "markdown",
   "metadata": {},
   "source": [
    "#### 上下文界定中的Ordering"
   ]
  },
  {
   "cell_type": "code",
   "execution_count": 15,
   "metadata": {},
   "outputs": [
    {
     "data": {
      "text/plain": [
       "defined \u001b[32mclass\u001b[39m \u001b[36mCompareComm4\u001b[39m\n",
       "defined \u001b[32mclass\u001b[39m \u001b[36mCompareComm5\u001b[39m\n",
       "defined \u001b[32mclass\u001b[39m \u001b[36mCompareComm6\u001b[39m"
      ]
     },
     "execution_count": 15,
     "metadata": {},
     "output_type": "execute_result"
    }
   ],
   "source": [
    "//方式1\n",
    "//说明：\n",
    "//1. [T: Ordering] 泛型\n",
    "//2. obj1: T, obj2: T 接受T类型的对象\n",
    "//3. implicit comparetor: Ordering[T] 是一个隐式参数\n",
    "class CompareComm4[T: Ordering](obj1: T, obj2: T)(implicit comparetor: Ordering[T]) {\n",
    "  def geatter = if (comparetor.compare(obj1, obj2) > 0) obj1 else obj2\n",
    "}\n",
    "\n",
    "//方式2\n",
    "//方式2,将隐式参数放到方法内\n",
    "class CompareComm5[T: Ordering](o1: T, o2: T) {\n",
    "  def geatter = {\n",
    "    def f1(implicit cmptor: Ordering[T]) = cmptor.compare(o1, o2) //返回一个数字\n",
    "    //如果f1返回的值>0,就返回o1,否则返回o2\n",
    "    if (f1 > 0) o1 else o2\n",
    "  }\n",
    "  def lowwer = {\n",
    "    def f1(implicit cmptor: Ordering[T]) = cmptor.compare(o1, o2) //返回一个数字\n",
    "    //如果f1返回的值>0,就返回o1,否则返回o2\n",
    "    if (f1 > 0) o2 else o1\n",
    "  }\n",
    "}\n",
    "\n",
    "//方式3\n",
    "//方式3,使用implicitly语法糖，最简单(推荐使用)\n",
    "class CompareComm6[T: Ordering](o1: T, o2: T) {\n",
    "  def geatter = {\n",
    "    //这句话就是会发生隐式转换，获取到隐式值 personComparetor\n",
    "    //底层仍然使用编译器来完成绑定(赋值的)工作\n",
    "    val comparetor = implicitly[Ordering[T]]\n",
    "    println(\"comparetor hashcode=\" + comparetor.hashCode())\n",
    "    if (comparetor.compare(o1, o2) > 0) o1 else o2\n",
    "  }\n",
    "}"
   ]
  },
  {
   "cell_type": "code",
   "execution_count": 16,
   "metadata": {},
   "outputs": [
    {
     "data": {
      "text/plain": [
       "defined \u001b[32mclass\u001b[39m \u001b[36mPerson4\u001b[39m"
      ]
     },
     "execution_count": 16,
     "metadata": {},
     "output_type": "execute_result"
    }
   ],
   "source": [
    "//一个普通的Person类\n",
    "class Person4(val name: String, val age: Int) {\n",
    "\n",
    "  //重写toStirng\n",
    "  override def toString = this.name + \"\\t\" + this.age\n",
    "}"
   ]
  },
  {
   "cell_type": "code",
   "execution_count": 17,
   "metadata": {},
   "outputs": [
    {
     "data": {
      "text/plain": [
       "\u001b[36mpersonComparetor\u001b[39m: \u001b[32mObject\u001b[39m with \u001b[32mOrdering\u001b[39m[\u001b[32mPerson4\u001b[39m] = $sess.cmd16Wrapper$Helper$$anon$1@7b464deb"
      ]
     },
     "execution_count": 17,
     "metadata": {},
     "output_type": "execute_result"
    }
   ],
   "source": [
    "//这里我定义一个隐式值  Ordering[Person]类型\n",
    "implicit val personComparetor = new Ordering[Person4] {\n",
    "  override def compare(p1: Person4, p2: Person4): Int =\n",
    "    p1.age - p2.age\n",
    "}"
   ]
  },
  {
   "cell_type": "code",
   "execution_count": 22,
   "metadata": {},
   "outputs": [
    {
     "name": "stdout",
     "output_type": "stream",
     "text": [
      "smith\t35\n",
      "smith\t35\n",
      "comparetor hashcode=2068205035\n",
      "smith\t35\n"
     ]
    },
    {
     "data": {
      "text/plain": [
       "\u001b[36mp1\u001b[39m: \u001b[32mPerson4\u001b[39m = mary\t30\n",
       "\u001b[36mp2\u001b[39m: \u001b[32mPerson4\u001b[39m = smith\t35\n",
       "\u001b[36mcompareComm4\u001b[39m: \u001b[32mCompareComm4\u001b[39m[\u001b[32mPerson4\u001b[39m] = $sess.cmd14Wrapper$Helper$CompareComm4@4670d403\n",
       "\u001b[36mcompareComm5\u001b[39m: \u001b[32mCompareComm5\u001b[39m[\u001b[32mPerson4\u001b[39m] = $sess.cmd14Wrapper$Helper$CompareComm5@5157f32d\n",
       "\u001b[36mcompareComm6\u001b[39m: \u001b[32mCompareComm6\u001b[39m[\u001b[32mPerson4\u001b[39m] = $sess.cmd14Wrapper$Helper$CompareComm6@7cc8cfd"
      ]
     },
     "execution_count": 22,
     "metadata": {},
     "output_type": "execute_result"
    }
   ],
   "source": [
    "val p1 = new Person4(\"mary\", 30)\n",
    "val p2 = new Person4(\"smith\", 35)\n",
    "val compareComm4 = new CompareComm4(p1, p2)\n",
    "println(compareComm4.geatter) // \"smith\", 35\n",
    "\n",
    "val compareComm5 = new CompareComm5(p1, p2)\n",
    "println(compareComm5.geatter) // \"smith\", 35\n",
    "\n",
    "val compareComm6 = new CompareComm6(p1, p2)\n",
    "println(compareComm6.geatter) // \"smith\", 35"
   ]
  },
  {
   "cell_type": "markdown",
   "metadata": {},
   "source": [
    "#### 基于元组多字段自定义排序  "
   ]
  },
  {
   "cell_type": "code",
   "execution_count": 24,
   "metadata": {},
   "outputs": [
    {
     "data": {
      "text/plain": [
       "\u001b[36mpairs\u001b[39m: \u001b[32mArray\u001b[39m[(\u001b[32mString\u001b[39m, \u001b[32mInt\u001b[39m, \u001b[32mInt\u001b[39m)] = \u001b[33mArray\u001b[39m((\u001b[32m\"a\"\u001b[39m, \u001b[32m5\u001b[39m, \u001b[32m2\u001b[39m), (\u001b[32m\"a\"\u001b[39m, \u001b[32m3\u001b[39m, \u001b[32m1\u001b[39m), (\u001b[32m\"b\"\u001b[39m, \u001b[32m1\u001b[39m, \u001b[32m1\u001b[39m))"
      ]
     },
     "execution_count": 24,
     "metadata": {},
     "output_type": "execute_result"
    }
   ],
   "source": [
    "val pairs = Array((\"a\", 5, 2), (\"a\", 3, 1), (\"b\", 1, 1)) "
   ]
  },
  {
   "cell_type": "code",
   "execution_count": 25,
   "metadata": {},
   "outputs": [
    {
     "data": {
      "text/plain": [
       "\u001b[36mres24\u001b[39m: \u001b[32mArray\u001b[39m[(\u001b[32mString\u001b[39m, \u001b[32mInt\u001b[39m, \u001b[32mInt\u001b[39m)] = \u001b[33mArray\u001b[39m((\u001b[32m\"b\"\u001b[39m, \u001b[32m1\u001b[39m, \u001b[32m1\u001b[39m), (\u001b[32m\"a\"\u001b[39m, \u001b[32m3\u001b[39m, \u001b[32m1\u001b[39m), (\u001b[32m\"a\"\u001b[39m, \u001b[32m5\u001b[39m, \u001b[32m2\u001b[39m))"
      ]
     },
     "execution_count": 25,
     "metadata": {},
     "output_type": "execute_result"
    }
   ],
   "source": [
    "//按第三个字段升序，第一个字段降序，注意，排序的字段必须和后面的tuple对应  \n",
    "pairs.sortBy(r => (r._3, r._1))( Ordering.Tuple2(Ordering.Int, Ordering.String.reverse) )"
   ]
  },
  {
   "cell_type": "code",
   "execution_count": 26,
   "metadata": {},
   "outputs": [
    {
     "data": {
      "text/plain": [
       "\u001b[36mres25\u001b[39m: \u001b[32mArray\u001b[39m[(\u001b[32mString\u001b[39m, \u001b[32mInt\u001b[39m, \u001b[32mInt\u001b[39m)] = \u001b[33mArray\u001b[39m((\u001b[32m\"a\"\u001b[39m, \u001b[32m5\u001b[39m, \u001b[32m2\u001b[39m), (\u001b[32m\"a\"\u001b[39m, \u001b[32m3\u001b[39m, \u001b[32m1\u001b[39m), (\u001b[32m\"b\"\u001b[39m, \u001b[32m1\u001b[39m, \u001b[32m1\u001b[39m))"
      ]
     },
     "execution_count": 26,
     "metadata": {},
     "output_type": "execute_result"
    }
   ],
   "source": [
    "//sortBy返回排序后的集合。原集合未改变\n",
    "pairs"
   ]
  },
  {
   "cell_type": "code",
   "execution_count": 27,
   "metadata": {},
   "outputs": [
    {
     "data": {
      "text/plain": [
       "\u001b[36mres26\u001b[39m: \u001b[32mArray\u001b[39m[(\u001b[32mString\u001b[39m, \u001b[32mInt\u001b[39m, \u001b[32mInt\u001b[39m)] = \u001b[33mArray\u001b[39m((\u001b[32m\"a\"\u001b[39m, \u001b[32m5\u001b[39m, \u001b[32m2\u001b[39m), (\u001b[32m\"b\"\u001b[39m, \u001b[32m1\u001b[39m, \u001b[32m1\u001b[39m), (\u001b[32m\"a\"\u001b[39m, \u001b[32m3\u001b[39m, \u001b[32m1\u001b[39m))"
      ]
     },
     "execution_count": 27,
     "metadata": {},
     "output_type": "execute_result"
    }
   ],
   "source": [
    "//按第三个字段降序，第一个字段降序，注意，排序的字段必须和后面的tuple对应  \n",
    "pairs.sortBy(r => (r._3, r._1))( Ordering.Tuple2(Ordering.Int.reverse, Ordering.String.reverse) )"
   ]
  }
 ],
 "metadata": {
  "kernelspec": {
   "display_name": "Scala 2.11.11",
   "language": "scala",
   "name": "scala"
  },
  "language_info": {
   "codemirror_mode": "text/x-scala",
   "file_extension": ".scala",
   "mimetype": "text/x-scala",
   "name": "scala211",
   "nbconvert_exporter": "script",
   "pygments_lexer": "scala",
   "version": "2.11.11"
  },
  "toc": {
   "base_numbering": 1,
   "nav_menu": {},
   "number_sections": true,
   "sideBar": true,
   "skip_h1_title": false,
   "title_cell": "Table of Contents",
   "title_sidebar": "Contents",
   "toc_cell": false,
   "toc_position": {},
   "toc_section_display": true,
   "toc_window_display": true
  }
 },
 "nbformat": 4,
 "nbformat_minor": 2
}
