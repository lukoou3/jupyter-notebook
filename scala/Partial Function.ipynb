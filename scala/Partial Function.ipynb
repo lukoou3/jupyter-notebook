{
 "cells": [
  {
   "cell_type": "markdown",
   "metadata": {},
   "source": [
    "## 偏函数Partial Function\n",
    "### 从使用case语句构造匿名函数谈起\n",
    "在Scala里，我们可以使用case语句来创建一个匿名函数（函数字面量），这有别于一般的匿名函数创建方法。来看个例子："
   ]
  },
  {
   "cell_type": "code",
   "execution_count": 1,
   "metadata": {},
   "outputs": [
    {
     "data": {
      "text/plain": [
       "\u001b[36mres0\u001b[39m: \u001b[32mList\u001b[39m[\u001b[32mInt\u001b[39m] = \u001b[33mList\u001b[39m(\u001b[32m2\u001b[39m, \u001b[32m3\u001b[39m, \u001b[32m4\u001b[39m)"
      ]
     },
     "execution_count": 1,
     "metadata": {},
     "output_type": "execute_result"
    }
   ],
   "source": [
    "List(1,2,3) map {case i:Int => i+1}"
   ]
  },
  {
   "cell_type": "markdown",
   "metadata": {},
   "source": [
    "这很有趣，`case i:Int=>i+1`构建的匿名函数等同于`(i:Int)=>i+1`，也就是下面这个样子："
   ]
  },
  {
   "cell_type": "code",
   "execution_count": 2,
   "metadata": {},
   "outputs": [
    {
     "data": {
      "text/plain": [
       "\u001b[36mres1\u001b[39m: \u001b[32mList\u001b[39m[\u001b[32mInt\u001b[39m] = \u001b[33mList\u001b[39m(\u001b[32m2\u001b[39m, \u001b[32m3\u001b[39m, \u001b[32m4\u001b[39m)"
      ]
     },
     "execution_count": 2,
     "metadata": {},
     "output_type": "execute_result"
    }
   ],
   "source": [
    "List(1,2,3) map {(i:Int) => i+1}"
   ]
  },
  {
   "cell_type": "markdown",
   "metadata": {},
   "source": [
    "《Scala In Programming》一书对独立的case语句作为匿名函数（函数字面量）有权威的解释：\n",
    "\n",
    "Essentially, a case sequence is a function literal, only more general. Instead of having a single entry point and list of parameters, a case sequence has multiple entry points, each with their own list of parameters. Each case is an entry point to the function, and the parameters are specified with the pattern. \n",
    "\n",
    "一个case语句就是一个独立的匿名函数，如果有一组case语句的话，从效果上看，构建出的这个匿名函数会有多种不同的参数列表，每一个case对应一种参数列表，参数是case后面的变量声明，其值是通过模式匹配赋予的。"
   ]
  },
  {
   "cell_type": "markdown",
   "metadata": {},
   "source": [
    "### 使用case语句构造匿名函数的“额外”好处\n",
    "使用case语句构造匿名函数是有“额外”好处的，这个“好处”在下面这个例子中得到了充分的体现："
   ]
  },
  {
   "cell_type": "code",
   "execution_count": 3,
   "metadata": {},
   "outputs": [
    {
     "data": {
      "text/plain": [
       "\u001b[36mres2\u001b[39m: \u001b[32mList\u001b[39m[\u001b[32mInt\u001b[39m] = \u001b[33mList\u001b[39m(\u001b[32m2\u001b[39m, \u001b[32m4\u001b[39m, \u001b[32m6\u001b[39m)"
      ]
     },
     "execution_count": 3,
     "metadata": {},
     "output_type": "execute_result"
    }
   ],
   "source": [
    "//List(1, 3, 5, \"seven\") map { case i: Int => i + 1 } // won't work\n",
    "// scala.MatchError: seven (of class java.lang.String)\n",
    "\n",
    "List(1, 3, 5, \"seven\") collect { case i: Int => i + 1 }"
   ]
  },
  {
   "cell_type": "markdown",
   "metadata": {},
   "source": [
    "在这个例子中：传递给map的case语句构建的是一个普通的匿名函数，在把这个函数适用于”seven”元素时发生了类型匹配错误。而对于collect,它声明接受的是一个偏函数：PartialFunction，传递的case语句能良好的工作说明这个case语句被编译器自动编译成了一个PartialFunction！这就是case语句“额外”的好处：**case语句（组合）除了可以被编译为匿名函数（类型是FunctionX，在Scala里，所有的函数字面量都是一个对象，这个对象的类型是FunctionX），还可以非常方便的编译为一个偏函数PartialFunction！（注意：PartialFunction同时是Function1的子类）编译器会根据调用处的函数类型声明自动帮我们判定如何编译这个case语句（组合）。**\n",
    "\n",
    "上面我们直接抛出了偏函数的概念，这会让人头晕，我们可以只从collect这个示例的效果上去理解偏函数：它只对会作用于指定类型的参数或指定范围值的参数实施计算，超出它的界定范围之外的参数类型和值它会忽略（未必会忽略，这取决于你打算怎样处理）。就像上面例子中一样，`case i: Int => i + 1`只声明了对Int参数的处理，在遇到”seven”元素时，不在偏函数的适用范围内，所以这个元素被忽略了。"
   ]
  },
  {
   "cell_type": "markdown",
   "metadata": {},
   "source": [
    "### 正式认识偏函数Partial Function\n",
    "如同在一开始的例子中那样，我们手动实现了一个与`case i:Int=>i+1`等价的那个匿名函数`(i:Int)=>i+1`,那么在上面的collect方法中使用到的`case i: Int => i + 1`它的等价函数是什么呢？显然，不可能是`(i:Int)=>i+1`了，因为我们已经解释了，collect接受的参数类型是`PartialFunction[Any,Int]`,而不是`(Int)=>Int`。 那个case语句对应的偏函数具体是什么样的呢？来看："
   ]
  },
  {
   "cell_type": "code",
   "execution_count": 4,
   "metadata": {},
   "outputs": [
    {
     "data": {
      "text/plain": [
       "\u001b[36minc\u001b[39m: \u001b[32mAnyRef\u001b[39m with \u001b[32mPartialFunction\u001b[39m[\u001b[32mAny\u001b[39m, \u001b[32mInt\u001b[39m] = <function1>"
      ]
     },
     "execution_count": 4,
     "metadata": {},
     "output_type": "execute_result"
    }
   ],
   "source": [
    "val inc = new PartialFunction[Any, Int] {\n",
    "    def apply(any: Any) = any.asInstanceOf[Int]+1\n",
    "    def isDefinedAt(any: Any) = any.isInstanceOf[Int]\n",
    "}"
   ]
  },
  {
   "cell_type": "code",
   "execution_count": 5,
   "metadata": {},
   "outputs": [
    {
     "data": {
      "text/plain": [
       "\u001b[36mres4\u001b[39m: \u001b[32mList\u001b[39m[\u001b[32mInt\u001b[39m] = \u001b[33mList\u001b[39m(\u001b[32m2\u001b[39m, \u001b[32m4\u001b[39m, \u001b[32m6\u001b[39m)"
      ]
     },
     "execution_count": 5,
     "metadata": {},
     "output_type": "execute_result"
    }
   ],
   "source": [
    "List(1, 3, 5, \"seven\") collect inc"
   ]
  },
  {
   "cell_type": "markdown",
   "metadata": {},
   "source": [
    "PartialFunction特质规定了两个要实现的方法：apply和isDefinedAt，isDefinedAt用来告知调用方这个偏函数接受参数的范围，可以是类型也可以是值，在我们这个例子中我们要求这个inc函数只处理Int型的数据。apply方法用来描述对已接受的值如何处理，在我们这个例子中，我们只是简单的把值+1，注意，非Int型的值已被isDefinedAt方法过滤掉了，所以不用担心类型转换的问题。\n",
    "\n",
    "上面这个例子写起来真得非常笨拙，和前面的case语句方式比起来真是差太多了。这个例子从反面展示了：通过case语句组合去是实现一个偏函数是多么简洁。实际上case语句组合与偏函数的用意是高度贴合的，所以使用case语句组合是最简单明智的选择，同样是上面的inc函数，换成case去写如下："
   ]
  },
  {
   "cell_type": "code",
   "execution_count": 6,
   "metadata": {},
   "outputs": [
    {
     "data": {
      "text/plain": [
       "defined \u001b[32mfunction\u001b[39m \u001b[36minc\u001b[39m\n",
       "\u001b[36mres5_1\u001b[39m: \u001b[32mList\u001b[39m[\u001b[32mInt\u001b[39m] = \u001b[33mList\u001b[39m(\u001b[32m2\u001b[39m, \u001b[32m4\u001b[39m, \u001b[32m6\u001b[39m)"
      ]
     },
     "execution_count": 6,
     "metadata": {},
     "output_type": "execute_result"
    }
   ],
   "source": [
    "def inc: PartialFunction[Any, Int] = { case i: Int => i + 1 }\n",
    "\n",
    "List(1, 3, 5, \"seven\") collect inc"
   ]
  },
  {
   "cell_type": "code",
   "execution_count": 7,
   "metadata": {},
   "outputs": [
    {
     "data": {
      "text/plain": [
       "\u001b[36mres6\u001b[39m: \u001b[32mList\u001b[39m[\u001b[32mInt\u001b[39m] = \u001b[33mList\u001b[39m(\u001b[32m2\u001b[39m, \u001b[32m4\u001b[39m, \u001b[32m6\u001b[39m)"
      ]
     },
     "execution_count": 7,
     "metadata": {},
     "output_type": "execute_result"
    }
   ],
   "source": [
    "//还是这样写常见\n",
    "List(1, 3, 5, \"seven\") collect { case i: Int => i + 1 }"
   ]
  },
  {
   "cell_type": "markdown",
   "metadata": {},
   "source": [
    "### Case语句是如何被编译成偏函数的\n",
    "关于这个问题在《Programming In Scala》中有较为详细的解释。对于这样一个使用case写在的偏函数：\n",
    "```scala\n",
    "val second: PartialFunction[List[Int],Int] = {\n",
    "    case x :: y :: _ => y\n",
    "}\n",
    "```\n",
    "\n",
    "In fact, such an expression gets ranslated by the Scala compiler to a partial function by translating the patterns twice—once for the implementation of the real function, and once to test whether the function is defined or not. For instance, the function literal `{ case x :: y :: _ => y }`above gets translated to the following partialfunction value:\n",
    "```scala\n",
    "new PartialFunction[List[Int], Int] {\n",
    "    def apply(xs: List[Int]) = xs match {\n",
    "        case x :: y :: _ => y\n",
    "    }\n",
    "    def isDefinedAt(xs: List[Int]) = xs match {\n",
    "        case x :: y :: _ => true\n",
    "        case _ => false\n",
    "    }\n",
    "}\n",
    "```"
   ]
  },
  {
   "cell_type": "markdown",
   "metadata": {},
   "source": [
    "### 为什么偏函数需要抽象成一个专门的Trait\n",
    "首先，在Scala里，一切皆对象，函数字面量（匿名函数）也不例外！这也是为什么我们可以把函数字面量赋给一个变量的原因, 是对象就有对应的类型，那么一个函数字面量的真实类型是什么呢？看下面这个例子：\n",
    "```scala\n",
    "scala> var inc = (x: Int) => x + 1\n",
    "inc: Int => Int = <function1>\n",
    "\n",
    "scala> inc.isInstanceOf[Function1[Int,Int]]\n",
    "res0: Boolean = true\n",
    "```\n",
    "\n",
    "在Scala的scala包里，有一系列Function trait，它们实际上就是函数字面量作为“对象”存在时对应的类型。Function类型有多个版本，Function0表示无参数函数，Function1表示只有一个参数的函数，以此类推。至此我们解释的是一个普遍性问题：是函数就是对象，是对象就有类型。那么，接下来我们看一下偏函数又应该是什么样的一种“类型”？\n",
    "\n",
    "从语义上讲，偏函数区别于普通函数的唯一特征就是：偏函数会自主地告诉调用方它的处理参数的范围，范围既可是值也可以是类型。针对这样的场景，我们需要给函数安插一种明确的“标识”，告诉编译器：这个函数具有这种特征。所以特质PartialFunction就被创建出来用于“标记”这类函数的，这个特质最主要的方法就是isDefinedAt！同时你也记得PartialFunction还是Function1的子类，所以它也要有apply方法，这是非常自然的，偏函数本身首先是一个函数嘛。\n",
    "\n",
    "从另一个角度思考，偏函数的逻辑是可以通过普通函数去实现的，只是偏函数是更为优雅的一种方式，同时**偏函数特质PartialFunction的存在对调用方和实现方都是一种语义更加丰富的约定，比如collect方法声明使用一个偏函数就暗含着它不太可能对每一个元素进行操作，它的返回结果仅仅是针对偏函数“感兴趣”的元素计算出来的。**"
   ]
  },
  {
   "cell_type": "markdown",
   "metadata": {},
   "source": [
    "### 为什么偏函数只能有一个参数？\n",
    "为什么只有针对单一参数的偏函数，而不是像Function特质那样，拥有多个版本的PartialFunction呢？在刚刚接触偏函数时，这也让我感到费解，但看透了偏函数的实质之后就会觉得很合理了。我们说所谓的偏函数本质上是由多个case语句组成的针对每一种可能的参数分别进行处理的一种“结构较为特殊”的函数，那特殊在什么地方呢？对，就是case语句，前面我们提到，case语句声明的变量就是偏函数的参数，既然case语句只能声明一个变量，那么偏函数受限于此，也只能有一个参数！说到底，类型PartialFunction无非是为由一组case语句描述的函数字面量提供一个类型描述而已，case语句只接受一个参数，则偏函数的类型声明自然就只有一个参数。\n",
    "\n",
    "但是，上这并不会对编程造成什么阻碍，如果你想给一个偏函数传递多个参数，完全可以把这些参数封装成一个Tuple传递过去！"
   ]
  },
  {
   "cell_type": "markdown",
   "metadata": {},
   "source": [
    "## 偏函数\n",
    "摘抄自《scala程序设计（第2版）》————2.4偏函数\n",
    "\n",
    "我 们 来 讨 论 偏 函 数( PartialFunction) 的 性 质。 偏 函 数 之 所 以“偏”,原因在于它们并不处理所有可能的输入,而只处理那些能与至少一个 case 语句匹配的输入。\n",
    "\n",
    "在偏函数中只能使用 case 语句,而整个函数必须用花括号包围。这与普通的函数字面量不同,普通函数字面量可以用花括号,也可以用圆括号包围。\n",
    "\n",
    "如果偏函数被调用,而函数的输入却与所有语句都不匹配,系统就会抛出一个 MatchError 运行时错误。\n",
    "\n",
    "我们可以用 isDefineAt 方法测试特定输入是否与偏函数匹配,这样偏函数就可以避免抛出MatchError 错误了。\n",
    "\n",
    "偏函数可以如此“链式”连接: pf1 orElse pf2 orElse pf3... 。如果 pf1 不匹配,就会尝试 pf2 ,接着是 pf3 ,以此类推。如果以上偏函数都不匹配,才会抛出 MatchError 。\n",
    "\n",
    "以下实例可以展示上述规则:\n",
    "```scala\n",
    "// src/main/scala/progscala2/typelessdomore/partial-functions.sc\n",
    "\n",
    "val pf1: PartialFunction[Any,String] = { case s:String => \"YES\" }    // ➊\n",
    "val pf2: PartialFunction[Any,String] = { case d:Double => \"YES\" }    // ➋\n",
    "\n",
    "val pf = pf1 orElse pf2                                              // ➌\n",
    "\n",
    "def tryPF(x: Any, f: PartialFunction[Any,String]): String =          // ➍ \n",
    "  try { f(x).toString } catch { case _: MatchError => \"ERROR!\" }\n",
    "\n",
    "def d(x: Any, f: PartialFunction[Any,String]) =                      // ➎\n",
    "  f.isDefinedAt(x).toString\n",
    "\n",
    "println(\"      |   pf1 - String  |   pf2 - Double  |    pf - All\")   // ➏\n",
    "println(\"x     | def?  |  pf1(x) | def?  |  pf2(x) | def?  |  pf(x)\")\n",
    "println(\"++++++++++++++++++++++++++++++++++++++++++++++++++++++++++\")\n",
    "List(\"str\", 3.14, 10) foreach { x =>\n",
    "  printf(\"%-5s | %-5s | %-6s  | %-5s | %-6s  | %-5s | %-6s\\n\", x.toString, \n",
    "    d(x,pf1), tryPF(x,pf1), d(x,pf2), tryPF(x,pf2), d(x,pf), tryPF(x,pf))\n",
    "}\n",
    "```\n",
    "➊ 只匹配字符串的偏函数。  \n",
    "➋ 只匹配 Double 数字的偏函数。  \n",
    "➌ 将这两个函数结合,得到一个新的偏函数:既能匹配字符串,又能匹配 Double 数字。  \n",
    "➍ 辅助函数:用于 try 一个偏函数,然后将可能产生的 MatchError 异常捕捉到。无论是否捕获异常,函数均返回一个字符串。  \n",
    "➎ 辅助函数:使用了 isDefineAt ,返回值为字符串。  \n",
    "➏ 使用了多个偏函数的链式组合,并将结果以表格的形式打印出来。  \n",
    "\n",
    "其他代码对这 3 个偏函数输入不同的值,先调用 isDefineAt (结果显示在输出表中的 def?这一列),然后再尝试调用偏函数本身。输出为:\n",
    "```\n",
    "      |   pf1 - String  |   pf2 - Double  |    pf - All\n",
    "x     | def?  |  pf1(x) | def?  |  pf2(x) | def?  |  pf(x)\n",
    "++++++++++++++++++++++++++++++++++++++++++++++++++++++++++\n",
    "str   | true  | YES     | false | ERROR!  | true  | YES   \n",
    "3.14  | false | ERROR!  | true  | YES     | true  | YES   \n",
    "10    | false | ERROR!  | false | ERROR!  | false | ERROR!\n",
    "```\n",
    "\n",
    "未输入字符串时, pf1 将会失败;未输入 Double 数字时, pf2 会失败;如果给出整数,这两个函数均失败。组合后的函数 pf 对于字符串或者 Double 数字的输入均成功,但输入整数时仍将失败。"
   ]
  },
  {
   "cell_type": "markdown",
   "metadata": {},
   "source": [
    "## 应该广泛使用case语句简化函数字面量的实现\n",
    "这篇文章很短，但足以单独作为一篇文章存在，因为这里介绍的这个Scala编程技巧非常的实用和高效。\n",
    "\n",
    "在Scala里我们需要大量地编写一些函数字面量作为参数传递给高阶函数，而很多时候，被要求提供的函数字面量的参数是一些复合类型，比如tuple，在函数字面量的实现体中，往往第一步就是通过模式匹配从复合类型中提取出嵌套的变量进行计算，例如下面计算元组两元素平方差的例子："
   ]
  },
  {
   "cell_type": "code",
   "execution_count": 8,
   "metadata": {},
   "outputs": [
    {
     "data": {
      "text/plain": [
       "\u001b[36mlist\u001b[39m: \u001b[32mSeq\u001b[39m[(\u001b[32mInt\u001b[39m, \u001b[32mInt\u001b[39m)] = \u001b[33mList\u001b[39m((\u001b[32m1\u001b[39m, \u001b[32m2\u001b[39m), (\u001b[32m3\u001b[39m, \u001b[32m4\u001b[39m))"
      ]
     },
     "execution_count": 8,
     "metadata": {},
     "output_type": "execute_result"
    }
   ],
   "source": [
    "val list = Seq((1,2),(3,4))"
   ]
  },
  {
   "cell_type": "code",
   "execution_count": 9,
   "metadata": {},
   "outputs": [
    {
     "data": {
      "text/plain": [
       "\u001b[36mres8\u001b[39m: \u001b[32mSeq\u001b[39m[\u001b[32mInt\u001b[39m] = \u001b[33mList\u001b[39m(\u001b[32m3\u001b[39m, \u001b[32m7\u001b[39m)"
      ]
     },
     "execution_count": 9,
     "metadata": {},
     "output_type": "execute_result"
    }
   ],
   "source": [
    "list.map{ tuple =>\n",
    "    val (num1, num2) = tuple\n",
    "    (num2 + num1) * (num2 - num1)\n",
    "}"
   ]
  },
  {
   "cell_type": "markdown",
   "metadata": {},
   "source": [
    "在这个例子中我们使用的是常规的函数字面量的实现方式，而实际上我们应该广泛地使用case语句去定义函数字面量，因为它确实有很多“额外”的好处，因为**使用case定义函数字面量可以将参数列表声明与嵌套变量的提取合二为一，简化函数的实现**！，上面的例子如果使用case语句实现将会是这样的："
   ]
  },
  {
   "cell_type": "code",
   "execution_count": 10,
   "metadata": {},
   "outputs": [
    {
     "data": {
      "text/plain": [
       "\u001b[36mres9\u001b[39m: \u001b[32mSeq\u001b[39m[\u001b[32mInt\u001b[39m] = \u001b[33mList\u001b[39m(\u001b[32m3\u001b[39m, \u001b[32m7\u001b[39m)"
      ]
     },
     "execution_count": 10,
     "metadata": {},
     "output_type": "execute_result"
    }
   ],
   "source": [
    "list.map{\n",
    "    case (num1, num2) =>\n",
    "    (num2 + num1) * (num2 - num1)\n",
    "}"
   ]
  },
  {
   "cell_type": "markdown",
   "metadata": {},
   "source": [
    "不但需要单个参数的单个参数可以用偏函数，多个参数也可以用偏函数，把所有的参数当成一个元组就行，这可能是编译器提我们做好的，反正是可以用的，很方便。"
   ]
  },
  {
   "cell_type": "code",
   "execution_count": 11,
   "metadata": {},
   "outputs": [
    {
     "data": {
      "text/plain": [
       "defined \u001b[32mfunction\u001b[39m \u001b[36mtest\u001b[39m\n",
       "\u001b[36mres10_1\u001b[39m: \u001b[32mInt\u001b[39m = \u001b[32m5\u001b[39m"
      ]
     },
     "execution_count": 11,
     "metadata": {},
     "output_type": "execute_result"
    }
   ],
   "source": [
    "//测试多个参数的情况\n",
    "def test(x:Int, y:Int)( f:(Int, Int) => Int ):Int =  f(x,y)\n",
    "test(2, 3){case (x,y) => x + y}"
   ]
  },
  {
   "cell_type": "code",
   "execution_count": 12,
   "metadata": {},
   "outputs": [
    {
     "data": {
      "text/plain": [
       "defined \u001b[32mfunction\u001b[39m \u001b[36mtest2\u001b[39m\n",
       "\u001b[36mres11_1\u001b[39m: (\u001b[32mInt\u001b[39m, \u001b[32mInt\u001b[39m) = (\u001b[32m4\u001b[39m, \u001b[32m6\u001b[39m)"
      ]
     },
     "execution_count": 12,
     "metadata": {},
     "output_type": "execute_result"
    }
   ],
   "source": [
    "//参数更复杂的情况\n",
    "def test2(x:(Int, Int), y:(Int, Int))( f:((Int, Int), (Int, Int)) => (Int, Int) ):(Int, Int) =  f(x,y)\n",
    "test2((1, 2), (3, 4)){case ((x1,y1), (x2,y2)) => (x1+x2,y1+y2)}"
   ]
  },
  {
   "cell_type": "code",
   "execution_count": 13,
   "metadata": {},
   "outputs": [
    {
     "data": {
      "text/plain": [
       "defined \u001b[32mfunction\u001b[39m \u001b[36mtest3\u001b[39m\n",
       "\u001b[36mres12_1\u001b[39m: \u001b[32mInt\u001b[39m = \u001b[32m5\u001b[39m"
      ]
     },
     "execution_count": 13,
     "metadata": {},
     "output_type": "execute_result"
    }
   ],
   "source": [
    "//函数参数不是一个独立的参数列表的情况\n",
    "def test3(x:Int, y:Int, f:(Int, Int) => Int ):Int =  f(x,y)\n",
    "test3(2, 3, {case (x,y) => x + y})"
   ]
  },
  {
   "cell_type": "code",
   "execution_count": 14,
   "metadata": {},
   "outputs": [
    {
     "data": {
      "text/plain": [
       "defined \u001b[32mfunction\u001b[39m \u001b[36mtest4\u001b[39m\n",
       "\u001b[36mres13_1\u001b[39m: (\u001b[32mInt\u001b[39m, \u001b[32mInt\u001b[39m) = (\u001b[32m4\u001b[39m, \u001b[32m6\u001b[39m)"
      ]
     },
     "execution_count": 14,
     "metadata": {},
     "output_type": "execute_result"
    }
   ],
   "source": [
    "//函数参数不是一个独立的参数列表的情况\n",
    "def test4(x:(Int, Int), y:(Int, Int), f:((Int, Int), (Int, Int)) => (Int, Int) ):(Int, Int) =  f(x,y)\n",
    "test4((1, 2), (3, 4), {case ((x1,y1), (x2,y2)) => (x1+x2,y1+y2)})"
   ]
  }
 ],
 "metadata": {
  "kernelspec": {
   "display_name": "Scala 2.11.11",
   "language": "scala",
   "name": "scala"
  },
  "language_info": {
   "codemirror_mode": "text/x-scala",
   "file_extension": ".scala",
   "mimetype": "text/x-scala",
   "name": "scala211",
   "nbconvert_exporter": "script",
   "pygments_lexer": "scala",
   "version": "2.11.11"
  },
  "toc": {
   "base_numbering": 1,
   "nav_menu": {},
   "number_sections": true,
   "sideBar": true,
   "skip_h1_title": false,
   "title_cell": "Table of Contents",
   "title_sidebar": "Contents",
   "toc_cell": false,
   "toc_position": {},
   "toc_section_display": true,
   "toc_window_display": true
  }
 },
 "nbformat": 4,
 "nbformat_minor": 2
}
